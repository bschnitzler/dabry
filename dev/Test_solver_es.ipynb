{
 "cells": [
  {
   "cell_type": "code",
   "execution_count": 1,
   "id": "f55ca914",
   "metadata": {},
   "outputs": [],
   "source": [
    "from dabry.solver_es import SolverES\n",
    "from dabry.ddf_manager import DDFmanager\n",
    "from dabry.problem import IndexedProblem\n",
    "from dabry.misc import Chrono"
   ]
  },
  {
   "cell_type": "code",
   "execution_count": 2,
   "id": "73cf3c81",
   "metadata": {},
   "outputs": [],
   "source": [
    "pb = IndexedProblem('sanjuan-dublin-ortho-tv')"
   ]
  },
  {
   "cell_type": "code",
   "execution_count": 3,
   "id": "051fefcc",
   "metadata": {},
   "outputs": [
    {
     "name": "stdout",
     "output_type": "stream",
     "text": [
      "[*] test\n",
      "[*] Shooting\n",
      "[*] Done (1.63s)\n",
      "[*] Done (1.66s)\n"
     ]
    }
   ],
   "source": [
    "solver = SolverES(pb)\n",
    "chrono = Chrono()\n",
    "chrono.start('test')\n",
    "traj = solver.solve(70*3600)\n",
    "chrono.stop()\n",
    "\n",
    "ddf = DDFmanager()\n",
    "ddf.setup()\n",
    "ddf.set_case('test_solver_es')\n",
    "ddf.clean_output_dir()\n",
    "ddf.dump_wind(pb.model.wind, nx=51, ny=51, nt=20, bl=pb.bl, tr=pb.tr)\n",
    "ddf.dump_trajs([traj])\n",
    "ddf.log(pb)"
   ]
  }
 ],
 "metadata": {
  "kernelspec": {
   "display_name": "Python 3 (ipykernel)",
   "language": "python",
   "name": "python3"
  },
  "language_info": {
   "codemirror_mode": {
    "name": "ipython",
    "version": 3
   },
   "file_extension": ".py",
   "mimetype": "text/x-python",
   "name": "python",
   "nbconvert_exporter": "python",
   "pygments_lexer": "ipython3",
   "version": "3.9.7"
  }
 },
 "nbformat": 4,
 "nbformat_minor": 5
}
