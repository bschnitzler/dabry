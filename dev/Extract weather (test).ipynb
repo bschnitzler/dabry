{
 "cells": [
  {
   "cell_type": "code",
   "execution_count": 1,
   "id": "8c3bc2f8",
   "metadata": {},
   "outputs": [],
   "source": [
    "import cdsapi"
   ]
  },
  {
   "cell_type": "code",
   "execution_count": 3,
   "id": "e8cfec67",
   "metadata": {},
   "outputs": [
    {
     "name": "stderr",
     "output_type": "stream",
     "text": [
      "2023-07-13 10:21:08,594 INFO Welcome to the CDS\n",
      "2023-07-13 10:21:08,597 INFO Sending request to https://cds.climate.copernicus.eu/api/v2/resources/reanalysis-era5-complete\n",
      "2023-07-13 10:21:08,730 INFO Request is queued\n",
      "2023-07-13 11:53:37,892 INFO Request is failed\n",
      "2023-07-13 11:53:37,931 ERROR Message: the request you have submitted is not valid\n",
      "2023-07-13 11:53:37,932 ERROR Reason:  Expected 16, got 0.; Request failed; Some errors reported (last error -1)\n",
      "2023-07-13 11:53:37,934 ERROR   Traceback (most recent call last):\n",
      "2023-07-13 11:53:37,936 ERROR     File \"/opt/cdstoolbox/cdscompute/cdscompute/cdshandlers/services/handler.py\", line 59, in handle_request\n",
      "2023-07-13 11:53:37,937 ERROR       result = cached(context.method, proc, context, context.args, context.kwargs)\n",
      "2023-07-13 11:53:37,938 ERROR     File \"/opt/cdstoolbox/cdscompute/cdscompute/caching.py\", line 108, in cached\n",
      "2023-07-13 11:53:37,938 ERROR       result = proc(context, *context.args, **context.kwargs)\n",
      "2023-07-13 11:53:37,939 ERROR     File \"/opt/cdstoolbox/cdscompute/cdscompute/services.py\", line 124, in __call__\n",
      "2023-07-13 11:53:37,939 ERROR       return p(*args, **kwargs)\n",
      "2023-07-13 11:53:37,940 ERROR     File \"/opt/cdstoolbox/cdscompute/cdscompute/services.py\", line 60, in __call__\n",
      "2023-07-13 11:53:37,940 ERROR       return self.proc(context, *args, **kwargs)\n",
      "2023-07-13 11:53:37,941 ERROR     File \"/home/cds/cdsservices/services/mars/mars.py\", line 53, in external\n",
      "2023-07-13 11:53:37,942 ERROR       return mars(context, request, **kwargs)\n",
      "2023-07-13 11:53:37,944 ERROR     File \"/home/cds/cdsservices/services/mars/mars.py\", line 20, in mars\n",
      "2023-07-13 11:53:37,945 ERROR       execute_mars(context, requests, info)\n",
      "2023-07-13 11:53:37,945 ERROR     File \"/home/cds/cdsservices/services/mars/execute_mars.py\", line 20, in execute_mars\n",
      "2023-07-13 11:53:37,946 ERROR       exception=MarsException)\n",
      "2023-07-13 11:53:37,946 ERROR     File \"/opt/cdstoolbox/cdscompute/cdscompute/context.py\", line 209, in run_command\n",
      "2023-07-13 11:53:37,947 ERROR       raise exception(call, proc.returncode, output)\n",
      "2023-07-13 11:53:37,948 ERROR   home.cds.cdsservices.services.mars.__init__.py.exceptions.MarsException: Expected 16, got 0.; Request failed; Some errors reported (last error -1)\n"
     ]
    },
    {
     "ename": "Exception",
     "evalue": "the request you have submitted is not valid. Expected 16, got 0.; Request failed; Some errors reported (last error -1).",
     "output_type": "error",
     "traceback": [
      "\u001b[0;31m---------------------------------------------------------------------------\u001b[0m",
      "\u001b[0;31mException\u001b[0m                                 Traceback (most recent call last)",
      "Cell \u001b[0;32mIn[3], line 2\u001b[0m\n\u001b[1;32m      1\u001b[0m c \u001b[38;5;241m=\u001b[39m cdsapi\u001b[38;5;241m.\u001b[39mClient()\n\u001b[0;32m----> 2\u001b[0m \u001b[43mc\u001b[49m\u001b[38;5;241;43m.\u001b[39;49m\u001b[43mretrieve\u001b[49m\u001b[43m(\u001b[49m\u001b[38;5;124;43m'\u001b[39;49m\u001b[38;5;124;43mreanalysis-era5-complete\u001b[39;49m\u001b[38;5;124;43m'\u001b[39;49m\u001b[43m,\u001b[49m\u001b[43m \u001b[49m\u001b[43m{\u001b[49m\u001b[43m \u001b[49m\u001b[38;5;66;43;03m# Requests follow MARS syntax\u001b[39;49;00m\n\u001b[1;32m      3\u001b[0m \u001b[43m                                        \u001b[49m\u001b[38;5;66;43;03m# Keywords 'expver' and 'class' can be dropped. They are obsolete\u001b[39;49;00m\n\u001b[1;32m      4\u001b[0m \u001b[43m                                        \u001b[49m\u001b[38;5;66;43;03m# since their values are imposed by 'reanalysis-era5-complete'\u001b[39;49;00m\n\u001b[1;32m      5\u001b[0m \u001b[43m   \u001b[49m\u001b[38;5;124;43m'\u001b[39;49m\u001b[38;5;124;43mdate\u001b[39;49m\u001b[38;5;124;43m'\u001b[39;49m\u001b[43m    \u001b[49m\u001b[43m:\u001b[49m\u001b[43m \u001b[49m\u001b[38;5;124;43m'\u001b[39;49m\u001b[38;5;124;43m2013-01-01\u001b[39;49m\u001b[38;5;124;43m'\u001b[39;49m\u001b[43m,\u001b[49m\u001b[43m            \u001b[49m\u001b[38;5;66;43;03m# The hyphens can be omitted\u001b[39;49;00m\n\u001b[1;32m      6\u001b[0m \u001b[43m   \u001b[49m\u001b[38;5;124;43m'\u001b[39;49m\u001b[38;5;124;43mlevelist\u001b[39;49m\u001b[38;5;124;43m'\u001b[39;49m\u001b[43m:\u001b[49m\u001b[43m \u001b[49m\u001b[38;5;124;43m'\u001b[39;49m\u001b[38;5;124;43m136/137\u001b[39;49m\u001b[38;5;124;43m'\u001b[39;49m\u001b[43m,\u001b[49m\u001b[43m          \u001b[49m\u001b[38;5;66;43;03m# 1 is top level, 137 the lowest model level in ERA5. Use '/' to separate values.\u001b[39;49;00m\n\u001b[1;32m      7\u001b[0m \u001b[43m   \u001b[49m\u001b[38;5;124;43m'\u001b[39;49m\u001b[38;5;124;43mlevtype\u001b[39;49m\u001b[38;5;124;43m'\u001b[39;49m\u001b[43m \u001b[49m\u001b[43m:\u001b[49m\u001b[43m \u001b[49m\u001b[38;5;124;43m'\u001b[39;49m\u001b[38;5;124;43mml\u001b[39;49m\u001b[38;5;124;43m'\u001b[39;49m\u001b[43m,\u001b[49m\n\u001b[1;32m      8\u001b[0m \u001b[43m   \u001b[49m\u001b[38;5;124;43m'\u001b[39;49m\u001b[38;5;124;43mparam\u001b[39;49m\u001b[38;5;124;43m'\u001b[39;49m\u001b[43m   \u001b[49m\u001b[43m:\u001b[49m\u001b[43m \u001b[49m\u001b[38;5;124;43m'\u001b[39;49m\u001b[38;5;124;43m228023\u001b[39;49m\u001b[38;5;124;43m'\u001b[39;49m\u001b[43m,\u001b[49m\u001b[43m                   \u001b[49m\u001b[38;5;66;43;03m# Full information at https://apps.ecmwf.int/codes/grib/param-db/\u001b[39;49;00m\n\u001b[1;32m      9\u001b[0m \u001b[43m                                        \u001b[49m\u001b[38;5;66;43;03m# The native representation for temperature is spherical harmonics\u001b[39;49;00m\n\u001b[1;32m     10\u001b[0m \u001b[43m   \u001b[49m\u001b[38;5;124;43m'\u001b[39;49m\u001b[38;5;124;43mstream\u001b[39;49m\u001b[38;5;124;43m'\u001b[39;49m\u001b[43m  \u001b[49m\u001b[43m:\u001b[49m\u001b[43m \u001b[49m\u001b[38;5;124;43m'\u001b[39;49m\u001b[38;5;124;43moper\u001b[39;49m\u001b[38;5;124;43m'\u001b[39;49m\u001b[43m,\u001b[49m\u001b[43m                  \u001b[49m\u001b[38;5;66;43;03m# Denotes ERA5. Ensemble members are selected by 'enda'\u001b[39;49;00m\n\u001b[1;32m     11\u001b[0m \u001b[43m   \u001b[49m\u001b[38;5;124;43m'\u001b[39;49m\u001b[38;5;124;43mtime\u001b[39;49m\u001b[38;5;124;43m'\u001b[39;49m\u001b[43m    \u001b[49m\u001b[43m:\u001b[49m\u001b[43m \u001b[49m\u001b[38;5;124;43m'\u001b[39;49m\u001b[38;5;124;43m00/to/23/by/3\u001b[39;49m\u001b[38;5;124;43m'\u001b[39;49m\u001b[43m,\u001b[49m\u001b[43m         \u001b[49m\u001b[38;5;66;43;03m# You can drop :00:00 and use MARS short-hand notation, instead of '00/06/12/18'\u001b[39;49;00m\n\u001b[1;32m     12\u001b[0m \u001b[43m   \u001b[49m\u001b[38;5;124;43m'\u001b[39;49m\u001b[38;5;124;43mtype\u001b[39;49m\u001b[38;5;124;43m'\u001b[39;49m\u001b[43m    \u001b[49m\u001b[43m:\u001b[49m\u001b[43m \u001b[49m\u001b[38;5;124;43m'\u001b[39;49m\u001b[38;5;124;43man\u001b[39;49m\u001b[38;5;124;43m'\u001b[39;49m\u001b[43m,\u001b[49m\n\u001b[1;32m     13\u001b[0m \u001b[43m   \u001b[49m\u001b[38;5;124;43m'\u001b[39;49m\u001b[38;5;124;43marea\u001b[39;49m\u001b[38;5;124;43m'\u001b[39;49m\u001b[43m    \u001b[49m\u001b[43m:\u001b[49m\u001b[43m \u001b[49m\u001b[38;5;124;43m'\u001b[39;49m\u001b[38;5;124;43m20/-45/-15/-10\u001b[39;49m\u001b[38;5;124;43m'\u001b[39;49m\u001b[43m,\u001b[49m\u001b[43m          \u001b[49m\u001b[38;5;66;43;03m# North, West, South, East. Default: global\u001b[39;49;00m\n\u001b[1;32m     14\u001b[0m \u001b[43m   \u001b[49m\u001b[38;5;124;43m'\u001b[39;49m\u001b[38;5;124;43mgrid\u001b[39;49m\u001b[38;5;124;43m'\u001b[39;49m\u001b[43m    \u001b[49m\u001b[43m:\u001b[49m\u001b[43m \u001b[49m\u001b[38;5;124;43m'\u001b[39;49m\u001b[38;5;124;43m0.5/0.5\u001b[39;49m\u001b[38;5;124;43m'\u001b[39;49m\u001b[43m,\u001b[49m\u001b[43m               \u001b[49m\u001b[38;5;66;43;03m# Latitude/longitude. Default: spherical harmonics or reduced Gaussian grid\u001b[39;49;00m\n\u001b[1;32m     15\u001b[0m \u001b[43m   \u001b[49m\u001b[38;5;124;43m'\u001b[39;49m\u001b[38;5;124;43mformat\u001b[39;49m\u001b[38;5;124;43m'\u001b[39;49m\u001b[43m  \u001b[49m\u001b[43m:\u001b[49m\u001b[43m \u001b[49m\u001b[38;5;124;43m'\u001b[39;49m\u001b[38;5;124;43mgrib\u001b[39;49m\u001b[38;5;124;43m'\u001b[39;49m\u001b[43m,\u001b[49m\u001b[43m                \u001b[49m\u001b[38;5;66;43;03m# Output needs to be regular lat-lon, so only works in combination with 'grid'!\u001b[39;49;00m\n\u001b[1;32m     16\u001b[0m \u001b[43m}\u001b[49m\u001b[43m,\u001b[49m\u001b[43m \u001b[49m\u001b[38;5;124;43m'\u001b[39;49m\u001b[38;5;124;43m/home/bastien/Documents/weather.grb2\u001b[39;49m\u001b[38;5;124;43m'\u001b[39;49m\u001b[43m)\u001b[49m     \u001b[38;5;66;03m# Output file. Adapt as you wish.\u001b[39;00m\n",
      "File \u001b[0;32m~/Documents/work/dabry/env/lib/python3.9/site-packages/cdsapi/api.py:348\u001b[0m, in \u001b[0;36mClient.retrieve\u001b[0;34m(self, name, request, target)\u001b[0m\n\u001b[1;32m    347\u001b[0m \u001b[38;5;28;01mdef\u001b[39;00m \u001b[38;5;21mretrieve\u001b[39m(\u001b[38;5;28mself\u001b[39m, name, request, target\u001b[38;5;241m=\u001b[39m\u001b[38;5;28;01mNone\u001b[39;00m):\n\u001b[0;32m--> 348\u001b[0m     result \u001b[38;5;241m=\u001b[39m \u001b[38;5;28;43mself\u001b[39;49m\u001b[38;5;241;43m.\u001b[39;49m\u001b[43m_api\u001b[49m\u001b[43m(\u001b[49m\u001b[38;5;124;43m\"\u001b[39;49m\u001b[38;5;132;43;01m%s\u001b[39;49;00m\u001b[38;5;124;43m/resources/\u001b[39;49m\u001b[38;5;132;43;01m%s\u001b[39;49;00m\u001b[38;5;124;43m\"\u001b[39;49m\u001b[43m \u001b[49m\u001b[38;5;241;43m%\u001b[39;49m\u001b[43m \u001b[49m\u001b[43m(\u001b[49m\u001b[38;5;28;43mself\u001b[39;49m\u001b[38;5;241;43m.\u001b[39;49m\u001b[43murl\u001b[49m\u001b[43m,\u001b[49m\u001b[43m \u001b[49m\u001b[43mname\u001b[49m\u001b[43m)\u001b[49m\u001b[43m,\u001b[49m\u001b[43m \u001b[49m\u001b[43mrequest\u001b[49m\u001b[43m,\u001b[49m\u001b[43m \u001b[49m\u001b[38;5;124;43m\"\u001b[39;49m\u001b[38;5;124;43mPOST\u001b[39;49m\u001b[38;5;124;43m\"\u001b[39;49m\u001b[43m)\u001b[49m\n\u001b[1;32m    349\u001b[0m     \u001b[38;5;28;01mif\u001b[39;00m target \u001b[38;5;129;01mis\u001b[39;00m \u001b[38;5;129;01mnot\u001b[39;00m \u001b[38;5;28;01mNone\u001b[39;00m:\n\u001b[1;32m    350\u001b[0m         result\u001b[38;5;241m.\u001b[39mdownload(target)\n",
      "File \u001b[0;32m~/Documents/work/dabry/env/lib/python3.9/site-packages/cdsapi/api.py:506\u001b[0m, in \u001b[0;36mClient._api\u001b[0;34m(self, url, request, method)\u001b[0m\n\u001b[1;32m    504\u001b[0m             \u001b[38;5;28;01mbreak\u001b[39;00m\n\u001b[1;32m    505\u001b[0m         \u001b[38;5;28mself\u001b[39m\u001b[38;5;241m.\u001b[39merror(\u001b[38;5;124m\"\u001b[39m\u001b[38;5;124m  \u001b[39m\u001b[38;5;132;01m%s\u001b[39;00m\u001b[38;5;124m\"\u001b[39m, n)\n\u001b[0;32m--> 506\u001b[0m     \u001b[38;5;28;01mraise\u001b[39;00m \u001b[38;5;167;01mException\u001b[39;00m(\n\u001b[1;32m    507\u001b[0m         \u001b[38;5;124m\"\u001b[39m\u001b[38;5;132;01m%s\u001b[39;00m\u001b[38;5;124m. \u001b[39m\u001b[38;5;132;01m%s\u001b[39;00m\u001b[38;5;124m.\u001b[39m\u001b[38;5;124m\"\u001b[39m\n\u001b[1;32m    508\u001b[0m         \u001b[38;5;241m%\u001b[39m (reply[\u001b[38;5;124m\"\u001b[39m\u001b[38;5;124merror\u001b[39m\u001b[38;5;124m\"\u001b[39m]\u001b[38;5;241m.\u001b[39mget(\u001b[38;5;124m\"\u001b[39m\u001b[38;5;124mmessage\u001b[39m\u001b[38;5;124m\"\u001b[39m), reply[\u001b[38;5;124m\"\u001b[39m\u001b[38;5;124merror\u001b[39m\u001b[38;5;124m\"\u001b[39m]\u001b[38;5;241m.\u001b[39mget(\u001b[38;5;124m\"\u001b[39m\u001b[38;5;124mreason\u001b[39m\u001b[38;5;124m\"\u001b[39m))\n\u001b[1;32m    509\u001b[0m     )\n\u001b[1;32m    511\u001b[0m \u001b[38;5;28;01mraise\u001b[39;00m \u001b[38;5;167;01mException\u001b[39;00m(\u001b[38;5;124m\"\u001b[39m\u001b[38;5;124mUnknown API state [\u001b[39m\u001b[38;5;132;01m%s\u001b[39;00m\u001b[38;5;124m]\u001b[39m\u001b[38;5;124m\"\u001b[39m \u001b[38;5;241m%\u001b[39m (reply[\u001b[38;5;124m\"\u001b[39m\u001b[38;5;124mstate\u001b[39m\u001b[38;5;124m\"\u001b[39m],))\n",
      "\u001b[0;31mException\u001b[0m: the request you have submitted is not valid. Expected 16, got 0.; Request failed; Some errors reported (last error -1)."
     ]
    }
   ],
   "source": [
    "c = cdsapi.Client()\n",
    "c.retrieve('reanalysis-era5-complete', { # Requests follow MARS syntax\n",
    "                                        # Keywords 'expver' and 'class' can be dropped. They are obsolete\n",
    "                                        # since their values are imposed by 'reanalysis-era5-complete'\n",
    "   'date'    : '2013-01-01',            # The hyphens can be omitted\n",
    "   'levelist': '136/137',          # 1 is top level, 137 the lowest model level in ERA5. Use '/' to separate values.\n",
    "   'levtype' : 'ml',\n",
    "   'param'   : '228023',                   # Full information at https://apps.ecmwf.int/codes/grib/param-db/\n",
    "                                        # The native representation for temperature is spherical harmonics\n",
    "   'stream'  : 'oper',                  # Denotes ERA5. Ensemble members are selected by 'enda'\n",
    "   'time'    : '00/to/23/by/3',         # You can drop :00:00 and use MARS short-hand notation, instead of '00/06/12/18'\n",
    "   'type'    : 'an',\n",
    "   'area'    : '20/-45/-15/-10',          # North, West, South, East. Default: global\n",
    "   'grid'    : '0.5/0.5',               # Latitude/longitude. Default: spherical harmonics or reduced Gaussian grid\n",
    "   'format'  : 'grib',                # Output needs to be regular lat-lon, so only works in combination with 'grid'!\n",
    "}, '/home/bastien/Documents/weather.grb2')     # Output file. Adapt as you wish."
   ]
  },
  {
   "cell_type": "code",
   "execution_count": null,
   "id": "2d974fef",
   "metadata": {},
   "outputs": [
    {
     "name": "stderr",
     "output_type": "stream",
     "text": [
      "2023-07-12 18:05:40,718 INFO Welcome to the CDS\n",
      "2023-07-12 18:05:40,719 INFO Sending request to https://cds.climate.copernicus.eu/api/v2/resources/reanalysis-era5-complete\n",
      "2023-07-12 18:05:40,804 INFO Request is queued\n"
     ]
    }
   ],
   "source": [
    "#!/usr/bin/env python\n",
    "import cdsapi\n",
    "\n",
    "c = cdsapi.Client()\n",
    "\n",
    "c.retrieve(\"reanalysis-era5-complete\", {\n",
    "    \"class\": \"ea\",\n",
    "    \"dataset\": \"era5\",\n",
    "    \"date\": \"2021-04-01\",\n",
    "    \"expver\": \"1\",\n",
    "    \"levtype\": \"sfc\",\n",
    "    \"param\": \"164.128\",\n",
    "    \"stream\": \"oper\",\n",
    "    \"time\": \"15:00:00\",\n",
    "    \"type\": \"an\"\n",
    "}, \"output\")"
   ]
  }
 ],
 "metadata": {
  "kernelspec": {
   "display_name": "Python 3 (ipykernel)",
   "language": "python",
   "name": "python3"
  },
  "language_info": {
   "codemirror_mode": {
    "name": "ipython",
    "version": 3
   },
   "file_extension": ".py",
   "mimetype": "text/x-python",
   "name": "python",
   "nbconvert_exporter": "python",
   "pygments_lexer": "ipython3",
   "version": "3.9.7"
  }
 },
 "nbformat": 4,
 "nbformat_minor": 5
}
