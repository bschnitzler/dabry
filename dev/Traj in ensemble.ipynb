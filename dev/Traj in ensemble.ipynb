{
 "cells": [
  {
   "cell_type": "code",
   "execution_count": 1,
   "id": "674a0346",
   "metadata": {},
   "outputs": [],
   "source": [
    "from dabry.problem import NavigationProblem\n",
    "from dabry.wind import DiscreteWind\n",
    "from dabry.model import ZermeloGeneralModel\n",
    "from dabry.misc import Utils\n",
    "from dabry.ddf_manager import DDFmanager\n",
    "from dabry.solver_ef import SolverEF\n",
    "from dabry.solver_es import SolverES\n",
    "import numpy as np\n",
    "from tqdm.notebook import tqdm"
   ]
  },
  {
   "cell_type": "code",
   "execution_count": 2,
   "id": "7b79ac99",
   "metadata": {
    "scrolled": true
   },
   "outputs": [
    {
     "data": {
      "application/vnd.jupyter.widget-view+json": {
       "model_id": "ad568319e6684826800e00b73f63470e",
       "version_major": 2,
       "version_minor": 0
      },
      "text/plain": [
       "  0%|          | 0/51 [00:00<?, ?it/s]"
      ]
     },
     "metadata": {},
     "output_type": "display_data"
    },
    {
     "name": "stdout",
     "output_type": "stream",
     "text": [
      "No solution found\n",
      "No solution found\n",
      "No solution found\n"
     ]
    }
   ],
   "source": [
    "i_member = 0\n",
    "nm = 51\n",
    "\n",
    "x_init = Utils.DEG_TO_RAD * np.array((50, -40))\n",
    "x_target = Utils.DEG_TO_RAD * np.array((0, -48))\n",
    "\n",
    "bl = Utils.DEG_TO_RAD * np.array((-10, -60))\n",
    "tr = Utils.DEG_TO_RAD * np.array((60, -25))\n",
    "\n",
    "with tqdm(total=nm) as pbar:\n",
    "    for i_member in range(nm):\n",
    "        wind = DiscreteWind()\n",
    "        wind.load(f'../output/wind_scenarii3_{i_member}/_wind.h5')\n",
    "        model = ZermeloGeneralModel(23, coords='gcs')\n",
    "        model.update_wind(wind)\n",
    "\n",
    "        pb = NavigationProblem(model, x_init, x_target, 'gcs', bl=bl, tr=tr)\n",
    "\n",
    "        ddf = DDFmanager(cache_wind=False)\n",
    "        ddf.setup()\n",
    "        ddf.set_case(f'wind_scenarii3_{i_member}')\n",
    "        ddf.clean_output_dir()\n",
    "        ddf.dump_wind(pb.model.wind)\n",
    "        \n",
    "        \n",
    "\n",
    "        #solver = SolverEF(pb, max_time=20*3600, max_steps=500)\n",
    "        #res = solver.solve()\n",
    "\n",
    "        #ddf.dump_trajs([res.traj])\n",
    "        #ddf.dump_trajs(solver.get_trajs())\n",
    "        solver = SolverES(pb, rel_tgt_thr=0.02)\n",
    "        traj = solver.solve(110*3600, quiet=True, dtheta=(50, 'deg'), N_disc=400)\n",
    "        ddf.dump_trajs([traj])\n",
    "        ddf.log(pb)\n",
    "        pbar.update(1)"
   ]
  },
  {
   "cell_type": "code",
   "execution_count": 3,
   "id": "eb8d78e9",
   "metadata": {},
   "outputs": [
    {
     "data": {
      "text/plain": [
       "'../output/wind_scenarii3_all/wind.h5'"
      ]
     },
     "execution_count": 3,
     "metadata": {},
     "output_type": "execute_result"
    }
   ],
   "source": [
    "import shutil\n",
    "import os\n",
    "dir_all = f'../output/wind_scenarii3_all'\n",
    "if os.path.exists(dir_all):\n",
    "    shutil.rmtree(dir_all)\n",
    "os.mkdir(dir_all)\n",
    "for i_member in range(51):\n",
    "    try:\n",
    "        shutil.copy(f'../output/wind_scenarii3_{i_member}/trajectories.h5',\n",
    "                   f'../output/wind_scenarii3_all/trajectories_{i_member}.h5')\n",
    "    except FileNotFoundError:\n",
    "        pass\n",
    "shutil.copy('../output/wind_scenarii3_0/params.json', '../output/wind_scenarii3_all/params.json')\n",
    "shutil.copy('../output/wind_scenarii3_0/wind.h5', '../output/wind_scenarii3_all/wind.h5')"
   ]
  },
  {
   "cell_type": "code",
   "execution_count": 15,
   "id": "79784135",
   "metadata": {},
   "outputs": [],
   "source": [
    "wind = DiscreteWind()\n",
    "wind.load(f'../output/wind_scenarii_all/wind.h5')\n",
    "model = ZermeloGeneralModel(23, coords='gcs')\n",
    "model.update_wind(wind)\n",
    "\n",
    "x_init = Utils.DEG_TO_RAD * np.array((-55, 40))\n",
    "x_target = Utils.DEG_TO_RAD * np.array((-10, 40))\n",
    "\n",
    "bl = Utils.DEG_TO_RAD * np.array((-60, 33))\n",
    "tr = Utils.DEG_TO_RAD * np.array((-5, 55))\n",
    "\n",
    "pb = NavigationProblem(model, x_init, x_target, 'gcs', bl=bl, tr=tr)\n",
    "\n",
    "ddf = DDFmanager(cache_wind=True)\n",
    "ddf.setup()\n",
    "ddf.set_case(f'wind_scenarii_all')\n",
    "\n",
    "from dabry.feedback import HTargetFB\n",
    "from dabry.stoppingcond import DistanceSC\n",
    "pb.load_feedback(HTargetFB(x_target, 'gcs'))\n",
    "sc = DistanceSC(lambda x: (x - x_target) @ (x - x_target), (x_init - x_target) @ (x_init - x_target) / 500)\n",
    "pb.integrate_trajectory(x_init, sc, t_init=pb.model.wind.t_start, int_step=3600/100)\n",
    "ddf.dump_trajs(pb.trajs, filename='trajectories_heuristic.h5')\n",
    "ddf.log(pb)"
   ]
  },
  {
   "cell_type": "markdown",
   "id": "9aef1e8c",
   "metadata": {},
   "source": [
    "## Deviation wind"
   ]
  },
  {
   "cell_type": "code",
   "execution_count": 13,
   "id": "7b61d306",
   "metadata": {},
   "outputs": [
    {
     "data": {
      "application/vnd.jupyter.widget-view+json": {
       "model_id": "4a4766204c1d40c29d8f82533e642b9f",
       "version_major": 2,
       "version_minor": 0
      },
      "text/plain": [
       "  0%|          | 0/456750 [00:00<?, ?it/s]"
      ]
     },
     "metadata": {},
     "output_type": "display_data"
    }
   ],
   "source": [
    "winds = [DiscreteWind() for i_member in range(51)]\n",
    "for i in range(51):\n",
    "    winds[i].load(f'../output/wind_scenarii3_{i}/wind.h5')\n",
    "dev_wind = DiscreteWind()\n",
    "dev_wind.load(f'../output/wind_scenarii3_0/wind.h5')\n",
    "with tqdm(total=dev_wind.nx*dev_wind.ny*dev_wind.nt) as pbar:\n",
    "    for i in range(dev_wind.nx):\n",
    "        for j in range(dev_wind.ny):\n",
    "            for k in range(dev_wind.nt):\n",
    "                mean_u = sum([wind.uv[k, i, j, 0] for wind in winds])/51\n",
    "                mean_v = sum([wind.uv[k, i, j, 1] for wind in winds])/51\n",
    "                dev_wind.uv[k, i, j, 0] = np.sqrt(sum([(wind.uv[k, i, j, 0] - mean_u)**2 for wind in winds])/51)\n",
    "                dev_wind.uv[k, i, j, 1] = np.sqrt(sum([(wind.uv[k, i, j, 1] - mean_v)**2 for wind in winds])/51)\n",
    "                pbar.update(1)\n",
    "ddf = DDFmanager()\n",
    "ddf.setup()\n",
    "ddf.set_case(f'wind_scenarii3_dev')\n",
    "ddf.clean_output_dir()\n",
    "ddf.dump_wind(dev_wind)"
   ]
  }
 ],
 "metadata": {
  "kernelspec": {
   "display_name": "Python 3 (ipykernel)",
   "language": "python",
   "name": "python3"
  },
  "language_info": {
   "codemirror_mode": {
    "name": "ipython",
    "version": 3
   },
   "file_extension": ".py",
   "mimetype": "text/x-python",
   "name": "python",
   "nbconvert_exporter": "python",
   "pygments_lexer": "ipython3",
   "version": "3.9.7"
  }
 },
 "nbformat": 4,
 "nbformat_minor": 5
}
