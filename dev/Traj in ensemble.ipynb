{
 "cells": [
  {
   "cell_type": "code",
   "execution_count": 1,
   "id": "674a0346",
   "metadata": {},
   "outputs": [],
   "source": [
    "from dabry.problem import NavigationProblem\n",
    "from dabry.wind import DiscreteWind\n",
    "from dabry.model import ZermeloGeneralModel\n",
    "from dabry.misc import Utils, Chrono\n",
    "from dabry.ddf_manager import DDFmanager\n",
    "from dabry.solver_ef import SolverEF\n",
    "from dabry.solver_es import SolverES\n",
    "import numpy as np\n",
    "from tqdm.notebook import tqdm"
   ]
  },
  {
   "cell_type": "code",
   "execution_count": 23,
   "id": "7b79ac99",
   "metadata": {
    "scrolled": true
   },
   "outputs": [
    {
     "data": {
      "application/vnd.jupyter.widget-view+json": {
       "model_id": "79021de508c44f79bb62b758e2aa7190",
       "version_major": 2,
       "version_minor": 0
      },
      "text/plain": [
       "  0%|          | 0/10 [00:00<?, ?it/s]"
      ]
     },
     "metadata": {},
     "output_type": "display_data"
    },
    {
     "name": "stdout",
     "output_type": "stream",
     "text": [
      "Problem | TIMEOPT | 15.00 m/s | 2.79e+06 m | scale 51h35m | orthodromic DNR\n",
      "Steps :    155/200, Extremals :    970, Active :  332, Dist :   2 Stopped quick solve\n",
      "Target reached in 93h1m | +80% no wind | cpu time 20.42s\n",
      "Problem | TIMEOPT | 15.00 m/s | 2.79e+06 m | scale 51h35m | orthodromic DNR\n",
      "Steps :    161/200, Extremals :   1021, Active :  331, Dist :   1 Stopped quick solve\n",
      "Target reached in 96h38m | +87% no wind | cpu time 22.77s\n",
      "Problem | TIMEOPT | 15.00 m/s | 2.79e+06 m | scale 51h35m | orthodromic DNR\n",
      "Steps :    143/200, Extremals :    755, Active :  226, Dist :   2 Stopped quick solve\n",
      "Target reached in 85h46m | +66% no wind | cpu time 17.41s\n",
      "Problem | TIMEOPT | 15.00 m/s | 2.79e+06 m | scale 51h35m | orthodromic DNR\n",
      "Steps :     10/200, Extremals :     54, Active :   54, Dist :  79 "
     ]
    },
    {
     "name": "stderr",
     "output_type": "stream",
     "text": [
      "WARNING:root:Singular matrix. Likely caused by all points lying in an N-1 space.\n"
     ]
    },
    {
     "name": "stdout",
     "output_type": "stream",
     "text": [
      "Steps :    146/200, Extremals :    880, Active :  324, Dist :   2 Stopped quick solve\n",
      "Target reached in 87h35m | +69% no wind | cpu time 18.23s\n",
      "Problem | TIMEOPT | 15.00 m/s | 2.79e+06 m | scale 51h35m | orthodromic DNR\n",
      "Steps :     20/200, Extremals :    113, Active :  113, Dist :  57 "
     ]
    },
    {
     "name": "stderr",
     "output_type": "stream",
     "text": [
      "WARNING:root:Singular matrix. Likely caused by all points lying in an N-1 space.\n"
     ]
    },
    {
     "name": "stdout",
     "output_type": "stream",
     "text": [
      "Steps :    147/200, Extremals :    859, Active :  338, Dist :   1 Stopped quick solve\n",
      "Target reached in 88h11m | +70% no wind | cpu time 17.05s\n",
      "Problem | TIMEOPT | 15.00 m/s | 2.79e+06 m | scale 51h35m | orthodromic DNR\n",
      "Steps :    150/200, Extremals :   1275, Active :  588, Dist :   2 Stopped quick solve\n",
      "Target reached in 90h0m | +74% no wind | cpu time 23.26s\n",
      "Problem | TIMEOPT | 15.00 m/s | 2.79e+06 m | scale 51h35m | orthodromic DNR\n",
      "Steps :     10/200, Extremals :     53, Active :   53, Dist :  79 "
     ]
    },
    {
     "name": "stderr",
     "output_type": "stream",
     "text": [
      "WARNING:root:Singular matrix. Likely caused by all points lying in an N-1 space.\n"
     ]
    },
    {
     "name": "stdout",
     "output_type": "stream",
     "text": [
      "Steps :     20/200, Extremals :    111, Active :  111, Dist :  58 "
     ]
    },
    {
     "name": "stderr",
     "output_type": "stream",
     "text": [
      "WARNING:root:Singular matrix. Likely caused by all points lying in an N-1 space.\n"
     ]
    },
    {
     "name": "stdout",
     "output_type": "stream",
     "text": [
      "Steps :    141/200, Extremals :    735, Active :  264, Dist :   1 Stopped quick solve\n",
      "Target reached in 84h33m | +63% no wind | cpu time 16.46s\n",
      "Problem | TIMEOPT | 15.00 m/s | 2.79e+06 m | scale 51h35m | orthodromic DNR\n",
      "Steps :     10/200, Extremals :     55, Active :   55, Dist :  79 "
     ]
    },
    {
     "name": "stderr",
     "output_type": "stream",
     "text": [
      "WARNING:root:Singular matrix. Likely caused by all points lying in an N-1 space.\n"
     ]
    },
    {
     "name": "stdout",
     "output_type": "stream",
     "text": [
      "Steps :    149/200, Extremals :    973, Active :  367, Dist :   2 Stopped quick solve\n",
      "Target reached in 89h23m | +73% no wind | cpu time 20.23s\n",
      "Problem | TIMEOPT | 15.00 m/s | 2.79e+06 m | scale 51h35m | orthodromic DNR\n",
      "Steps :    139/200, Extremals :    881, Active :  305, Dist :   2 Stopped quick solve\n",
      "Target reached in 83h21m | +61% no wind | cpu time 17.29s\n",
      "Problem | TIMEOPT | 15.00 m/s | 2.79e+06 m | scale 51h35m | orthodromic DNR\n",
      "Steps :     40/200, Extremals :    248, Active :  233, Dist :  40 "
     ]
    },
    {
     "name": "stderr",
     "output_type": "stream",
     "text": [
      "WARNING:root:Singular matrix. Likely caused by all points lying in an N-1 space.\n"
     ]
    },
    {
     "name": "stdout",
     "output_type": "stream",
     "text": [
      "Steps :    151/200, Extremals :   1392, Active :  660, Dist :   1 Stopped quick solve\n",
      "Target reached in 90h36m | +75% no wind | cpu time 28.48s\n"
     ]
    }
   ],
   "source": [
    "i_member = 0\n",
    "#nm = 51\n",
    "nm = 10\n",
    "\n",
    "#x_init = Utils.DEG_TO_RAD * np.array((50, -40))\n",
    "#x_target = Utils.DEG_TO_RAD * np.array((0, -48))\n",
    "\n",
    "x_init = Utils.DEG_TO_RAD * np.array((40, -30))\n",
    "x_target = Utils.DEG_TO_RAD * np.array((20, -50))\n",
    "\n",
    "bl = Utils.DEG_TO_RAD * np.array((-10, -60))\n",
    "tr = Utils.DEG_TO_RAD * np.array((60, -25))\n",
    "\n",
    "with tqdm(total=nm) as pbar:\n",
    "    for i_member in range(nm):\n",
    "        wind = DiscreteWind()\n",
    "        wind.load(f'../output/wind_scenarii3_{i_member}/_wind.h5')\n",
    "        model = ZermeloGeneralModel(15, coords='gcs')\n",
    "        model.update_wind(wind)\n",
    "\n",
    "        \n",
    "        pb = NavigationProblem(model, x_init, x_target, 'gcs', bl=bl, tr=tr)\n",
    "\n",
    "        ddf = DDFmanager(cache_wind=False)\n",
    "        ddf.setup()\n",
    "        ddf.set_case(f'wind_scenarii3_{i_member}')\n",
    "        ddf.clean_output_dir()\n",
    "        ddf.dump_wind(pb.model.wind)        \n",
    "\n",
    "        solver = SolverEF(pb, max_time=150*3600, max_steps=200, quick_solve=True)\n",
    "        res = solver.solve()\n",
    "        traj = res.traj\n",
    "        \n",
    "        #ddf.dump_trajs([res.traj])\n",
    "        #ddf.dump_trajs(solver.get_trajs())\n",
    "        #if i_member == 0:\n",
    "        #    kwargs = dict(dtheta=(50, 'deg'))\n",
    "        #else:\n",
    "        #    kwargs = dict(dtheta=(10, 'deg'), theta_init=theta_opt)\n",
    "        #solver = SolverES(pb, 150*3600, rel_tgt_thr=0.05)\n",
    "        #traj, theta_opt = solver.solve(150*3600, quiet=True, dtheta=(10, 'deg'), N_disc=50, info=str(i_member))\n",
    "        ddf.dump_trajs([traj])\n",
    "        ddf.log(pb)\n",
    "        pbar.update(1)"
   ]
  },
  {
   "cell_type": "code",
   "execution_count": 2,
   "id": "c66ebe0d",
   "metadata": {},
   "outputs": [
    {
     "name": "stdout",
     "output_type": "stream",
     "text": [
      "[*] Shooting\n",
      "[*] Done (405.3ms)\n"
     ]
    }
   ],
   "source": [
    "i_member = 5\n",
    "\n",
    "x_init = Utils.DEG_TO_RAD * np.array((50, -40))\n",
    "#x_target = Utils.DEG_TO_RAD * np.array((0, -48))\n",
    "x_target = Utils.DEG_TO_RAD * np.array((25, -44))\n",
    "\n",
    "bl = Utils.DEG_TO_RAD * np.array((-10, -60))\n",
    "tr = Utils.DEG_TO_RAD * np.array((60, -25))\n",
    "\n",
    "wind = DiscreteWind()\n",
    "wind.load(f'../output/wind_scenarii3_{i_member}/_wind.h5')\n",
    "model = ZermeloGeneralModel(23, coords='gcs')\n",
    "model.update_wind(wind)\n",
    "pb = NavigationProblem(model, x_init, x_target, 'gcs', bl=bl, tr=tr)\n",
    "\n",
    "ddf = DDFmanager(cache_wind=False)\n",
    "ddf.setup()\n",
    "ddf.set_case(f'wind_scenarii3_{i_member}')\n",
    "ddf.clean_output_dir()\n",
    "ddf.dump_wind(pb.model.wind)\n",
    "\n",
    "solver = SolverES(pb, 110*3600, rel_tgt_thr=0.05)\n",
    "trajs = solver.solve(110*3600, dtheta=(10, 'deg'), N_disc=20, debug=True)\n",
    "ddf.dump_trajs(trajs)\n",
    "ddf.log(pb)"
   ]
  },
  {
   "cell_type": "code",
   "execution_count": 22,
   "id": "7211bf01",
   "metadata": {},
   "outputs": [
    {
     "name": "stdout",
     "output_type": "stream",
     "text": [
      "Problem | TIMEOPT | 15.00 m/s | 2.12e+06 m | scale 39h20m | orthodromic DNR\n",
      "Steps :    125/200, Extremals :    946, Active :  336, Dist :   1 Stopped quick solve\n",
      "Target reached in 74h53m | +90% no wind | cpu time 17.99s\n"
     ]
    }
   ],
   "source": [
    "i_member = 5\n",
    "\n",
    "x_init = Utils.DEG_TO_RAD * np.array((40, -30))\n",
    "x_target = Utils.DEG_TO_RAD * np.array((25, -45))\n",
    "\n",
    "bl = Utils.DEG_TO_RAD * np.array((-10, -60))\n",
    "tr = Utils.DEG_TO_RAD * np.array((60, -25))\n",
    "\n",
    "wind = DiscreteWind()\n",
    "wind.load(f'../output/wind_scenarii3_{i_member}/_wind.h5')\n",
    "model = ZermeloGeneralModel(15, coords='gcs')\n",
    "model.update_wind(wind)\n",
    "pb = NavigationProblem(model, x_init, x_target, 'gcs', bl=bl, tr=tr)\n",
    "\n",
    "ddf = DDFmanager(cache_wind=False)\n",
    "ddf.setup()\n",
    "ddf.set_case(f'wind_scenarii3_{i_member}')\n",
    "ddf.clean_output_dir()\n",
    "ddf.dump_wind(pb.model.wind)\n",
    "\n",
    "solver = SolverEF(pb, max_time=150*3600, max_steps=200, quick_solve=True)\n",
    "res = solver.solve()\n",
    "ddf.dump_trajs(solver.get_trajs())\n",
    "ddf.dump_trajs([res.traj])\n",
    "ddf.log(pb)"
   ]
  },
  {
   "cell_type": "code",
   "execution_count": 16,
   "id": "ee3c545a",
   "metadata": {},
   "outputs": [
    {
     "name": "stdout",
     "output_type": "stream",
     "text": [
      "[*] Shooting\n",
      "[*] Done (282.1ms)\n"
     ]
    }
   ],
   "source": [
    "i_member = 5\n",
    "\n",
    "x_init = Utils.DEG_TO_RAD * np.array((40, -30))\n",
    "x_target = Utils.DEG_TO_RAD * np.array((20, -50))\n",
    "\n",
    "bl = Utils.DEG_TO_RAD * np.array((-10, -60))\n",
    "tr = Utils.DEG_TO_RAD * np.array((60, -25))\n",
    "\n",
    "wind = DiscreteWind()\n",
    "wind.load(f'../output/wind_scenarii3_{i_member}/_wind.h5')\n",
    "model = ZermeloGeneralModel(15, coords='gcs')\n",
    "model.update_wind(wind)\n",
    "pb = NavigationProblem(model, x_init, x_target, 'gcs', bl=bl, tr=tr)\n",
    "\n",
    "ddf = DDFmanager(cache_wind=False)\n",
    "ddf.setup()\n",
    "ddf.set_case(f'wind_scenarii3_{i_member}')\n",
    "ddf.clean_output_dir()\n",
    "ddf.dump_wind(pb.model.wind)\n",
    "\n",
    "solver = SolverES(pb, 150*3600, rel_tgt_thr=0.05)\n",
    "trajs = solver.solve(150*3600, dtheta=(20, 'deg'), N_disc=20, debug=True)\n",
    "ddf.dump_trajs(trajs)\n",
    "ddf.log(pb)"
   ]
  },
  {
   "cell_type": "code",
   "execution_count": 24,
   "id": "eb8d78e9",
   "metadata": {},
   "outputs": [
    {
     "data": {
      "text/plain": [
       "'../output/wind_scenarii3_all/wind.h5'"
      ]
     },
     "execution_count": 24,
     "metadata": {},
     "output_type": "execute_result"
    }
   ],
   "source": [
    "import shutil\n",
    "import os\n",
    "dir_all = f'../output/wind_scenarii3_all'\n",
    "if os.path.exists(dir_all):\n",
    "    shutil.rmtree(dir_all)\n",
    "os.mkdir(dir_all)\n",
    "for i_member in range(nm):\n",
    "    try:\n",
    "        shutil.copy(f'../output/wind_scenarii3_{i_member}/trajectories.h5',\n",
    "                   f'../output/wind_scenarii3_all/trajectories_{i_member}.h5')\n",
    "    except FileNotFoundError:\n",
    "        pass\n",
    "shutil.copy('../output/wind_scenarii3_0/params.json', '../output/wind_scenarii3_all/params.json')\n",
    "shutil.copy('../output/wind_scenarii3_0/wind.h5', '../output/wind_scenarii3_all/wind.h5')"
   ]
  },
  {
   "cell_type": "code",
   "execution_count": 15,
   "id": "79784135",
   "metadata": {},
   "outputs": [],
   "source": [
    "wind = DiscreteWind()\n",
    "wind.load(f'../output/wind_scenarii_all/wind.h5')\n",
    "model = ZermeloGeneralModel(23, coords='gcs')\n",
    "model.update_wind(wind)\n",
    "\n",
    "x_init = Utils.DEG_TO_RAD * np.array((-55, 40))\n",
    "x_target = Utils.DEG_TO_RAD * np.array((-10, 40))\n",
    "\n",
    "bl = Utils.DEG_TO_RAD * np.array((-60, 33))\n",
    "tr = Utils.DEG_TO_RAD * np.array((-5, 55))\n",
    "\n",
    "pb = NavigationProblem(model, x_init, x_target, 'gcs', bl=bl, tr=tr)\n",
    "\n",
    "ddf = DDFmanager(cache_wind=True)\n",
    "ddf.setup()\n",
    "ddf.set_case(f'wind_scenarii_all')\n",
    "\n",
    "from dabry.feedback import HTargetFB\n",
    "from dabry.stoppingcond import DistanceSC\n",
    "pb.load_feedback(HTargetFB(x_target, 'gcs'))\n",
    "sc = DistanceSC(lambda x: (x - x_target) @ (x - x_target), (x_init - x_target) @ (x_init - x_target) / 500)\n",
    "pb.integrate_trajectory(x_init, sc, t_init=pb.model.wind.t_start, int_step=3600/100)\n",
    "ddf.dump_trajs(pb.trajs, filename='trajectories_heuristic.h5')\n",
    "ddf.log(pb)"
   ]
  },
  {
   "cell_type": "markdown",
   "id": "9aef1e8c",
   "metadata": {},
   "source": [
    "## Deviation wind"
   ]
  },
  {
   "cell_type": "code",
   "execution_count": 13,
   "id": "7b61d306",
   "metadata": {},
   "outputs": [
    {
     "data": {
      "application/vnd.jupyter.widget-view+json": {
       "model_id": "4a4766204c1d40c29d8f82533e642b9f",
       "version_major": 2,
       "version_minor": 0
      },
      "text/plain": [
       "  0%|          | 0/456750 [00:00<?, ?it/s]"
      ]
     },
     "metadata": {},
     "output_type": "display_data"
    }
   ],
   "source": [
    "winds = [DiscreteWind() for i_member in range(51)]\n",
    "for i in range(51):\n",
    "    winds[i].load(f'../output/wind_scenarii3_{i}/wind.h5')\n",
    "dev_wind = DiscreteWind()\n",
    "dev_wind.load(f'../output/wind_scenarii3_0/wind.h5')\n",
    "with tqdm(total=dev_wind.nx*dev_wind.ny*dev_wind.nt) as pbar:\n",
    "    for i in range(dev_wind.nx):\n",
    "        for j in range(dev_wind.ny):\n",
    "            for k in range(dev_wind.nt):\n",
    "                mean_u = sum([wind.uv[k, i, j, 0] for wind in winds])/51\n",
    "                mean_v = sum([wind.uv[k, i, j, 1] for wind in winds])/51\n",
    "                dev_wind.uv[k, i, j, 0] = np.sqrt(sum([(wind.uv[k, i, j, 0] - mean_u)**2 for wind in winds])/51)\n",
    "                dev_wind.uv[k, i, j, 1] = np.sqrt(sum([(wind.uv[k, i, j, 1] - mean_v)**2 for wind in winds])/51)\n",
    "                pbar.update(1)\n",
    "ddf = DDFmanager()\n",
    "ddf.setup()\n",
    "ddf.set_case(f'wind_scenarii3_dev')\n",
    "ddf.clean_output_dir()\n",
    "ddf.dump_wind(dev_wind)"
   ]
  }
 ],
 "metadata": {
  "kernelspec": {
   "display_name": "Python 3 (ipykernel)",
   "language": "python",
   "name": "python3"
  },
  "language_info": {
   "codemirror_mode": {
    "name": "ipython",
    "version": 3
   },
   "file_extension": ".py",
   "mimetype": "text/x-python",
   "name": "python",
   "nbconvert_exporter": "python",
   "pygments_lexer": "ipython3",
   "version": "3.9.7"
  }
 },
 "nbformat": 4,
 "nbformat_minor": 5
}
