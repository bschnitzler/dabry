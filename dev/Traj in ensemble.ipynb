{
 "cells": [
  {
   "cell_type": "code",
   "execution_count": 2,
   "id": "674a0346",
   "metadata": {},
   "outputs": [],
   "source": [
    "from dabry.problem import NavigationProblem\n",
    "from dabry.wind import DiscreteWind\n",
    "from dabry.model import ZermeloGeneralModel\n",
    "from dabry.misc import Utils\n",
    "from dabry.ddf_manager import DDFmanager\n",
    "from dabry.solver_ef import SolverEF\n",
    "import numpy as np"
   ]
  },
  {
   "cell_type": "code",
   "execution_count": 14,
   "id": "7b79ac99",
   "metadata": {
    "scrolled": true
   },
   "outputs": [
    {
     "name": "stdout",
     "output_type": "stream",
     "text": [
      "Problem | TIMEOPT | 23.00 m/s | 6.03e+06 m | scale 72h48m | orthodromic 105h0m\n",
      "Steps :    142/500, Extremals :    303, Active :   43, Dist :  89 Stopped empty active list\n",
      "No solution found in time < 285h18m\n",
      "Problem | TIMEOPT | 23.00 m/s | 6.03e+06 m | scale 72h48m | orthodromic 112h38m\n",
      "Steps :    260/500, Extremals :    373, Active :  152, Dist :  11 Stopped empty active list\n",
      "Target reached in 105h33m | +44% no wind | -6% orthodromic | cpu time 32.11s\n",
      "Problem | TIMEOPT | 23.00 m/s | 6.03e+06 m | scale 72h48m | orthodromic 106h18m\n",
      "Steps :    102/500, Extremals :    229, Active :   48, Dist : 100 Stopped empty active list\n",
      "No solution found in time < 285h18m\n",
      "Problem | TIMEOPT | 23.00 m/s | 6.03e+06 m | scale 72h48m | orthodromic 113h50m\n",
      "Steps :    254/500, Extremals :    378, Active :  222, Dist :  12 Stopped empty active list\n",
      "No solution found in time < 285h18m\n",
      "Problem | TIMEOPT | 23.00 m/s | 6.03e+06 m | scale 72h48m | orthodromic 112h3m\n",
      "Steps :     20/500, Extremals :     79, Active :   79, Dist :  89 "
     ]
    },
    {
     "name": "stderr",
     "output_type": "stream",
     "text": [
      "WARNING:root:Singular matrix. Likely caused by all points lying in an N-1 space.\n"
     ]
    },
    {
     "name": "stdout",
     "output_type": "stream",
     "text": [
      "Steps :     30/500, Extremals :    106, Active :  106, Dist :  83 "
     ]
    },
    {
     "name": "stderr",
     "output_type": "stream",
     "text": [
      "WARNING:root:Singular matrix. Likely caused by all points lying in an N-1 space.\n"
     ]
    },
    {
     "name": "stdout",
     "output_type": "stream",
     "text": [
      "Steps :    266/500, Extremals :    354, Active :  180, Dist :  11 Stopped empty active list\n",
      "No solution found in time < 285h18m\n",
      "Problem | TIMEOPT | 23.00 m/s | 6.03e+06 m | scale 72h48m | orthodromic 105h39m\n",
      "Steps :    162/500, Extremals :    266, Active :   84, Dist :  18 Stopped empty active list\n",
      "No solution found in time < 285h18m\n",
      "Problem | TIMEOPT | 23.00 m/s | 6.03e+06 m | scale 72h48m | orthodromic 104h33m\n",
      "Steps :     92/500, Extremals :    225, Active :   37, Dist : 100 Stopped empty active list\n",
      "No solution found in time < 285h18m\n",
      "Problem | TIMEOPT | 23.00 m/s | 6.03e+06 m | scale 72h48m | orthodromic 108h38m\n",
      "Steps :    112/500, Extremals :    255, Active :   33, Dist : 100 Stopped empty active list\n",
      "No solution found in time < 285h18m\n",
      "Problem | TIMEOPT | 23.00 m/s | 6.03e+06 m | scale 72h48m | orthodromic 183h53m\n",
      "Steps :     30/500, Extremals :    108, Active :  108, Dist :  83 "
     ]
    },
    {
     "name": "stderr",
     "output_type": "stream",
     "text": [
      "WARNING:root:Singular matrix. Likely caused by all points lying in an N-1 space.\n"
     ]
    },
    {
     "name": "stdout",
     "output_type": "stream",
     "text": [
      "Steps :    289/500, Extremals :    422, Active :   69, Dist :  20 Stopped empty active list\n",
      "No solution found in time < 285h18m\n",
      "Problem | TIMEOPT | 23.00 m/s | 6.03e+06 m | scale 72h48m | orthodromic 111h31m\n",
      "Steps :     60/500, Extremals :    172, Active :  172, Dist :  59 "
     ]
    },
    {
     "ename": "AttributeError",
     "evalue": "'NoneType' object has no attribute 'distance'",
     "output_type": "error",
     "traceback": [
      "\u001b[0;31m---------------------------------------------------------------------------\u001b[0m",
      "\u001b[0;31mAttributeError\u001b[0m                            Traceback (most recent call last)",
      "Cell \u001b[0;32mIn[14], line 23\u001b[0m\n\u001b[1;32m     20\u001b[0m ddf\u001b[38;5;241m.\u001b[39mdump_wind(pb\u001b[38;5;241m.\u001b[39mmodel\u001b[38;5;241m.\u001b[39mwind)\n\u001b[1;32m     22\u001b[0m solver \u001b[38;5;241m=\u001b[39m SolverEF(pb, max_time\u001b[38;5;241m=\u001b[39m\u001b[38;5;241m20\u001b[39m\u001b[38;5;241m*\u001b[39m\u001b[38;5;241m3600\u001b[39m, max_steps\u001b[38;5;241m=\u001b[39m\u001b[38;5;241m500\u001b[39m)\n\u001b[0;32m---> 23\u001b[0m res \u001b[38;5;241m=\u001b[39m \u001b[43msolver\u001b[49m\u001b[38;5;241;43m.\u001b[39;49m\u001b[43msolve\u001b[49m\u001b[43m(\u001b[49m\u001b[43m)\u001b[49m\n\u001b[1;32m     25\u001b[0m ddf\u001b[38;5;241m.\u001b[39mdump_trajs([res\u001b[38;5;241m.\u001b[39mtraj])\n\u001b[1;32m     26\u001b[0m \u001b[38;5;66;03m#ddf.dump_trajs(solver.get_trajs())\u001b[39;00m\n",
      "File \u001b[0;32m~/Documents/work/dabry/src/dabry/solver_ef.py:1354\u001b[0m, in \u001b[0;36mSolverEF.solve\u001b[0;34m(self, verbose, backward)\u001b[0m\n\u001b[1;32m   1351\u001b[0m \u001b[38;5;28;01mif\u001b[39;00m \u001b[38;5;129;01mnot\u001b[39;00m backward:\n\u001b[1;32m   1352\u001b[0m     \u001b[38;5;66;03m# Only compute forward front\u001b[39;00m\n\u001b[1;32m   1353\u001b[0m     \u001b[38;5;28mself\u001b[39m\u001b[38;5;241m.\u001b[39mset_primal(\u001b[38;5;28;01mTrue\u001b[39;00m)\n\u001b[0;32m-> 1354\u001b[0m     \u001b[38;5;28;43mself\u001b[39;49m\u001b[38;5;241;43m.\u001b[39;49m\u001b[43mpropagate\u001b[49m\u001b[43m(\u001b[49m\u001b[43mverbose\u001b[49m\u001b[38;5;241;43m=\u001b[39;49m\u001b[43mverbose\u001b[49m\u001b[43m)\u001b[49m\n\u001b[1;32m   1355\u001b[0m     res \u001b[38;5;241m=\u001b[39m \u001b[38;5;28mself\u001b[39m\u001b[38;5;241m.\u001b[39mbuild_opti_traj()\n\u001b[1;32m   1356\u001b[0m \u001b[38;5;28;01melse\u001b[39;00m:\n\u001b[1;32m   1357\u001b[0m     \u001b[38;5;66;03m# First propagate forward extremals\u001b[39;00m\n\u001b[1;32m   1358\u001b[0m     \u001b[38;5;66;03m# Then compute backward extremals initialized at correct time\u001b[39;00m\n",
      "File \u001b[0;32m~/Documents/work/dabry/src/dabry/solver_ef.py:1308\u001b[0m, in \u001b[0;36mSolverEF.propagate\u001b[0;34m(self, time_offset, verbose)\u001b[0m\n\u001b[1;32m   1306\u001b[0m \u001b[38;5;28;01mwhile\u001b[39;00m \u001b[38;5;129;01mnot\u001b[39;00m \u001b[38;5;28mself\u001b[39m\u001b[38;5;241m.\u001b[39mexit_cond():\n\u001b[1;32m   1307\u001b[0m     \u001b[38;5;28mself\u001b[39m\u001b[38;5;241m.\u001b[39mstep_algo \u001b[38;5;241m+\u001b[39m\u001b[38;5;241m=\u001b[39m \u001b[38;5;241m1\u001b[39m\n\u001b[0;32m-> 1308\u001b[0m     \u001b[38;5;28;43mself\u001b[39;49m\u001b[38;5;241;43m.\u001b[39;49m\u001b[43mstep_global\u001b[49m\u001b[43m(\u001b[49m\u001b[43m)\u001b[49m\n\u001b[1;32m   1309\u001b[0m     \u001b[38;5;28;01mif\u001b[39;00m verbose \u001b[38;5;241m==\u001b[39m \u001b[38;5;241m2\u001b[39m:\n\u001b[1;32m   1310\u001b[0m         \u001b[38;5;28mprint\u001b[39m(\n\u001b[1;32m   1311\u001b[0m             \u001b[38;5;124mf\u001b[39m\u001b[38;5;124m'\u001b[39m\u001b[38;5;130;01m\\r\u001b[39;00m\u001b[38;5;124mSteps : \u001b[39m\u001b[38;5;132;01m{\u001b[39;00m\u001b[38;5;28mself\u001b[39m\u001b[38;5;241m.\u001b[39mstep_algo\u001b[38;5;132;01m:\u001b[39;00m\u001b[38;5;124m>6\u001b[39m\u001b[38;5;132;01m}\u001b[39;00m\u001b[38;5;124m/\u001b[39m\u001b[38;5;132;01m{\u001b[39;00m\u001b[38;5;28mself\u001b[39m\u001b[38;5;241m.\u001b[39mmax_steps\u001b[38;5;132;01m}\u001b[39;00m\u001b[38;5;124m, \u001b[39m\u001b[38;5;124m'\u001b[39m\u001b[38;5;124m'\u001b[39m\u001b[38;5;124m'\u001b[39m\n\u001b[1;32m   1312\u001b[0m             \u001b[38;5;124mf\u001b[39m\u001b[38;5;124m'\u001b[39m\u001b[38;5;124mExtremals : \u001b[39m\u001b[38;5;132;01m{\u001b[39;00m\u001b[38;5;28mlen\u001b[39m(\u001b[38;5;28mself\u001b[39m\u001b[38;5;241m.\u001b[39mef\u001b[38;5;241m.\u001b[39mtrajs)\u001b[38;5;132;01m:\u001b[39;00m\u001b[38;5;124m>6\u001b[39m\u001b[38;5;132;01m}\u001b[39;00m\u001b[38;5;124m, Active : \u001b[39m\u001b[38;5;132;01m{\u001b[39;00m\u001b[38;5;28mlen\u001b[39m(\u001b[38;5;28mself\u001b[39m\u001b[38;5;241m.\u001b[39mef\u001b[38;5;241m.\u001b[39mactive)\u001b[38;5;132;01m:\u001b[39;00m\u001b[38;5;124m>4\u001b[39m\u001b[38;5;132;01m}\u001b[39;00m\u001b[38;5;124m, \u001b[39m\u001b[38;5;124m'\u001b[39m\n\u001b[1;32m   1313\u001b[0m             \u001b[38;5;124mf\u001b[39m\u001b[38;5;124m'\u001b[39m\u001b[38;5;124mDist : \u001b[39m\u001b[38;5;132;01m{\u001b[39;00m\u001b[38;5;28mself\u001b[39m\u001b[38;5;241m.\u001b[39mbest_distance\u001b[38;5;250m \u001b[39m\u001b[38;5;241m/\u001b[39m\u001b[38;5;250m \u001b[39m\u001b[38;5;28mself\u001b[39m\u001b[38;5;241m.\u001b[39mmp\u001b[38;5;241m.\u001b[39mgeod_l\u001b[38;5;250m \u001b[39m\u001b[38;5;241m*\u001b[39m\u001b[38;5;250m \u001b[39m\u001b[38;5;241m100\u001b[39m\u001b[38;5;132;01m:\u001b[39;00m\u001b[38;5;124m>3.0f\u001b[39m\u001b[38;5;132;01m}\u001b[39;00m\u001b[38;5;124m \u001b[39m\u001b[38;5;124m'\u001b[39m, end\u001b[38;5;241m=\u001b[39m\u001b[38;5;124m'\u001b[39m\u001b[38;5;124m'\u001b[39m, flush\u001b[38;5;241m=\u001b[39m\u001b[38;5;28;01mTrue\u001b[39;00m)\n",
      "File \u001b[0;32m~/Documents/work/dabry/src/dabry/solver_ef.py:1020\u001b[0m, in \u001b[0;36mSolverEF.step_global\u001b[0;34m(self)\u001b[0m\n\u001b[1;32m   1018\u001b[0m \u001b[38;5;28;01mif\u001b[39;00m \u001b[38;5;28mself\u001b[39m\u001b[38;5;241m.\u001b[39mno_coll_filtering:\n\u001b[1;32m   1019\u001b[0m     \u001b[38;5;28;01mif\u001b[39;00m \u001b[38;5;28mself\u001b[39m\u001b[38;5;241m.\u001b[39mit \u001b[38;5;241m>\u001b[39m \u001b[38;5;241m0\u001b[39m \u001b[38;5;129;01mand\u001b[39;00m \u001b[38;5;28mself\u001b[39m\u001b[38;5;241m.\u001b[39mit \u001b[38;5;241m%\u001b[39m \u001b[38;5;28mself\u001b[39m\u001b[38;5;241m.\u001b[39mtrimming_rate \u001b[38;5;241m==\u001b[39m \u001b[38;5;241m0\u001b[39m:\n\u001b[0;32m-> 1020\u001b[0m         \u001b[38;5;28;43mself\u001b[39;49m\u001b[38;5;241;43m.\u001b[39;49m\u001b[43mtrim\u001b[49m\u001b[43m(\u001b[49m\u001b[43m)\u001b[49m\n\u001b[1;32m   1022\u001b[0m \u001b[38;5;28mself\u001b[39m\u001b[38;5;241m.\u001b[39mit \u001b[38;5;241m+\u001b[39m\u001b[38;5;241m=\u001b[39m \u001b[38;5;241m1\u001b[39m\n",
      "File \u001b[0;32m~/Documents/work/dabry/src/dabry/solver_ef.py:1266\u001b[0m, in \u001b[0;36mSolverEF.trim\u001b[0;34m(self)\u001b[0m\n\u001b[1;32m   1264\u001b[0m     hull \u001b[38;5;241m=\u001b[39m alphashape(points, \u001b[38;5;28mself\u001b[39m\u001b[38;5;241m.\u001b[39malpha_value)\n\u001b[1;32m   1265\u001b[0m     \u001b[38;5;28;01mfor\u001b[39;00m pcl \u001b[38;5;129;01min\u001b[39;00m \u001b[38;5;28mself\u001b[39m\u001b[38;5;241m.\u001b[39mef\u001b[38;5;241m.\u001b[39mlast_active_pcls():\n\u001b[0;32m-> 1266\u001b[0m         \u001b[38;5;28;01mif\u001b[39;00m \u001b[43mhull\u001b[49m\u001b[38;5;241;43m.\u001b[39;49m\u001b[43mboundary\u001b[49m\u001b[38;5;241;43m.\u001b[39;49m\u001b[43mdistance\u001b[49m(Point(factor \u001b[38;5;241m*\u001b[39m pcl\u001b[38;5;241m.\u001b[39mstate)) \u001b[38;5;241m>\u001b[39m \u001b[38;5;241m2\u001b[39m \u001b[38;5;241m*\u001b[39m \u001b[38;5;28mself\u001b[39m\u001b[38;5;241m.\u001b[39mabs_nb_ceil:\n\u001b[1;32m   1267\u001b[0m             \u001b[38;5;28mself\u001b[39m\u001b[38;5;241m.\u001b[39mef\u001b[38;5;241m.\u001b[39mdeactivate(pcl\u001b[38;5;241m.\u001b[39midf, reason\u001b[38;5;241m=\u001b[39m\u001b[38;5;124m'\u001b[39m\u001b[38;5;124mHull\u001b[39m\u001b[38;5;124m'\u001b[39m)\n\u001b[1;32m   1268\u001b[0m \u001b[38;5;28;01melif\u001b[39;00m \u001b[38;5;28mself\u001b[39m\u001b[38;5;241m.\u001b[39mmode \u001b[38;5;241m==\u001b[39m \u001b[38;5;241m1\u001b[39m:\n",
      "\u001b[0;31mAttributeError\u001b[0m: 'NoneType' object has no attribute 'distance'"
     ]
    }
   ],
   "source": [
    "i_member = 0\n",
    "for i_member in range(51):\n",
    "    wind = DiscreteWind()\n",
    "    wind.load(f'../output/wind_scenarii2_{i_member}/wind.h5')\n",
    "    model = ZermeloGeneralModel(23, coords='gcs')\n",
    "    model.update_wind(wind)\n",
    "    \n",
    "    x_init = Utils.DEG_TO_RAD * np.array((55, -23))\n",
    "    x_target = Utils.DEG_TO_RAD * np.array((116, -32))\n",
    "\n",
    "    bl = Utils.DEG_TO_RAD * np.array((42, -43))\n",
    "    tr = Utils.DEG_TO_RAD * np.array((125, 0))\n",
    "\n",
    "    pb = NavigationProblem(model, x_init, x_target, 'gcs', bl=bl, tr=tr)\n",
    "\n",
    "    ddf = DDFmanager(cache_wind=False)\n",
    "    ddf.setup()\n",
    "    ddf.set_case(f'wind_scenarii2_{i_member}')\n",
    "    ddf.clean_output_dir()\n",
    "    ddf.dump_wind(pb.model.wind)\n",
    "    \n",
    "    solver = SolverEF(pb, max_time=20*3600, max_steps=500)\n",
    "    res = solver.solve()\n",
    "    \n",
    "    ddf.dump_trajs([res.traj])\n",
    "    #ddf.dump_trajs(solver.get_trajs())\n",
    "    ddf.log(pb)"
   ]
  },
  {
   "cell_type": "code",
   "execution_count": 7,
   "id": "eb8d78e9",
   "metadata": {},
   "outputs": [
    {
     "data": {
      "text/plain": [
       "'../output/wind_scenarii2_all/wind.h5'"
      ]
     },
     "execution_count": 7,
     "metadata": {},
     "output_type": "execute_result"
    }
   ],
   "source": [
    "import shutil\n",
    "for i_member in range(51):\n",
    "    try:\n",
    "        shutil.copy(f'../output/wind_scenarii2_{i_member}/trajectories.h5',\n",
    "                   f'../output/wind_scenarii2_all/trajectories_{i_member}.h5')\n",
    "    except FileNotFoundError:\n",
    "        pass\n",
    "shutil.copy('../output/wind_scenarii2_0/params.json', '../output/wind_scenarii2_all/params.json')\n",
    "shutil.copy('../output/wind_scenarii2_0/wind.h5', '../output/wind_scenarii2_all/wind.h5')"
   ]
  },
  {
   "cell_type": "code",
   "execution_count": 15,
   "id": "79784135",
   "metadata": {},
   "outputs": [],
   "source": [
    "wind = DiscreteWind()\n",
    "wind.load(f'../output/wind_scenarii_all/wind.h5')\n",
    "model = ZermeloGeneralModel(23, coords='gcs')\n",
    "model.update_wind(wind)\n",
    "\n",
    "x_init = Utils.DEG_TO_RAD * np.array((-55, 40))\n",
    "x_target = Utils.DEG_TO_RAD * np.array((-10, 40))\n",
    "\n",
    "bl = Utils.DEG_TO_RAD * np.array((-60, 33))\n",
    "tr = Utils.DEG_TO_RAD * np.array((-5, 55))\n",
    "\n",
    "pb = NavigationProblem(model, x_init, x_target, 'gcs', bl=bl, tr=tr)\n",
    "\n",
    "ddf = DDFmanager(cache_wind=True)\n",
    "ddf.setup()\n",
    "ddf.set_case(f'wind_scenarii_all')\n",
    "\n",
    "from dabry.feedback import HTargetFB\n",
    "from dabry.stoppingcond import DistanceSC\n",
    "pb.load_feedback(HTargetFB(x_target, 'gcs'))\n",
    "sc = DistanceSC(lambda x: (x - x_target) @ (x - x_target), (x_init - x_target) @ (x_init - x_target) / 500)\n",
    "pb.integrate_trajectory(x_init, sc, t_init=pb.model.wind.t_start, int_step=3600/100)\n",
    "ddf.dump_trajs(pb.trajs, filename='trajectories_heuristic.h5')\n",
    "ddf.log(pb)"
   ]
  }
 ],
 "metadata": {
  "kernelspec": {
   "display_name": "Python 3 (ipykernel)",
   "language": "python",
   "name": "python3"
  },
  "language_info": {
   "codemirror_mode": {
    "name": "ipython",
    "version": 3
   },
   "file_extension": ".py",
   "mimetype": "text/x-python",
   "name": "python",
   "nbconvert_exporter": "python",
   "pygments_lexer": "ipython3",
   "version": "3.9.7"
  }
 },
 "nbformat": 4,
 "nbformat_minor": 5
}
