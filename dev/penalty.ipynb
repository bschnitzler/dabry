{
 "cells": [
  {
   "cell_type": "code",
   "execution_count": 1,
   "id": "4c2dc553",
   "metadata": {},
   "outputs": [],
   "source": [
    "from dabry.problem import NavigationProblem, IndexedProblem\n",
    "from dabry.misc import Utils\n",
    "from dabry.wind import *\n",
    "from dabry.model import *\n",
    "from dabry.penalty import *\n",
    "from dabry.solver_ef import SolverEF\n",
    "from dabry.ddf_manager import DDFmanager"
   ]
  },
  {
   "cell_type": "markdown",
   "id": "e2c15d57",
   "metadata": {},
   "source": [
    "$$\n",
    "\\text{penalty} = \\frac{A}{\\sigma \\sqrt{2 \\pi}} e^{-\\frac{1}{2} \\frac{(x-c)^2}{\\sigma^2}}\\\\\n",
    "r_{1/2} = \\sigma \\sqrt{2 \\ln 2}\\\\\n",
    "p_{\\text{max}} = \\frac{A}{\\sigma \\sqrt{2 \\pi}}\n",
    "$$"
   ]
  },
  {
   "cell_type": "code",
   "execution_count": 74,
   "id": "672a2acf",
   "metadata": {},
   "outputs": [],
   "source": [
    "pb = IndexedProblem('linear')\n",
    "\n",
    "f = 1e6\n",
    "c = f* np.array((0.5, 0.17))\n",
    "pmax = 1000\n",
    "rten = f* 0.2\n",
    "sigma = rten / (2 * np.log(10))\n",
    "\n",
    "def pf(x):\n",
    "    return 1 + pmax*np.exp(-0.5*(x - c) @ (x - c)/sigma**2)\n",
    "\n",
    "penalty = Penalty(pf, length_scale=f)\n",
    "\n",
    "pb.penalty = penalty"
   ]
  },
  {
   "cell_type": "code",
   "execution_count": 75,
   "id": "79bbdefe",
   "metadata": {},
   "outputs": [
    {
     "data": {
      "text/plain": [
       "273.8139993491576"
      ]
     },
     "execution_count": 75,
     "metadata": {},
     "output_type": "execute_result"
    }
   ],
   "source": [
    "pb.penalty.value(1e6*np.array((0.5, 0.1)))"
   ]
  },
  {
   "cell_type": "code",
   "execution_count": 76,
   "id": "ee4b0755",
   "metadata": {},
   "outputs": [],
   "source": [
    "solver = SolverEF(pb, max_steps=500, max_time=50*3600)"
   ]
  },
  {
   "cell_type": "code",
   "execution_count": 77,
   "id": "9304babf",
   "metadata": {},
   "outputs": [
    {
     "name": "stdout",
     "output_type": "stream",
     "text": [
      "Problem | TIMEOPT | 11.41 m/s | 1.00e+06 m | scale 24h20m | orthodromic 24h6m\n",
      "Steps :    167/500, Extremals :    509, Active :   93, Dist :  47 Comp : 1 Stopped empty active list\n",
      "Target reached in 22h52m | -6% no wind | -5% orthodromic | cpu time 4.61s\n"
     ]
    }
   ],
   "source": [
    "res = solver.solve()"
   ]
  },
  {
   "cell_type": "code",
   "execution_count": 78,
   "id": "fe75769b",
   "metadata": {},
   "outputs": [],
   "source": [
    "ddf = DDFmanager()\n",
    "ddf.setup()\n",
    "ddf.set_case('test_penalty')\n",
    "ddf.clean_output_dir()\n",
    "ddf.dump_wind(pb.model.wind, nx=101, ny=101, bl=f*np.array((-0.1, -0.6)), tr=f*np.array((1.1, 0.6)))\n",
    "ddf.dump_trajs(solver.get_trajs())\n",
    "ddf.dump_trajs([res.traj], filename='trajectories_timeopt.h5')\n",
    "ddf.log(pb)"
   ]
  }
 ],
 "metadata": {
  "kernelspec": {
   "display_name": "Python 3 (ipykernel)",
   "language": "python",
   "name": "python3"
  },
  "language_info": {
   "codemirror_mode": {
    "name": "ipython",
    "version": 3
   },
   "file_extension": ".py",
   "mimetype": "text/x-python",
   "name": "python",
   "nbconvert_exporter": "python",
   "pygments_lexer": "ipython3",
   "version": "3.9.7"
  }
 },
 "nbformat": 4,
 "nbformat_minor": 5
}
