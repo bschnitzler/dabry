{
 "cells": [
  {
   "cell_type": "code",
   "execution_count": 1,
   "id": "d9a3352e",
   "metadata": {},
   "outputs": [],
   "source": [
    "import requests\n",
    "from datetime import datetime\n",
    "import os\n",
    "import json\n",
    "from tqdm.notebook import tqdm\n",
    "wd = '../data/ecmwf/ensemble'"
   ]
  },
  {
   "cell_type": "code",
   "execution_count": 11,
   "id": "535db7d3",
   "metadata": {},
   "outputs": [],
   "source": [
    "def extract(year, month, day, hour, step):\n",
    "    \n",
    "    d = datetime(year, month, day, hour)\n",
    "    date_str = f'{d.year}{d.month:0>2}{d.day:0>2}'\n",
    "    hour_str = f'{d.hour:0>2}'\n",
    "    dirpath = os.path.join(wd, date_str)\n",
    "    if not os.path.exists(dirpath):\n",
    "        os.mkdir(dirpath)\n",
    "    # Closest run\n",
    "    run = f'{(d.hour // 6) * 6:0>2}z'\n",
    "    \n",
    "    proxies = {'http': 'http://proxy:3128', 'https': 'http://proxy:3128'}\n",
    "    \n",
    "    # First get index to prepare precise extraction\n",
    "    filename = f'{date_str}{hour_str}0000-{step}h-enfo-ef.index'\n",
    "    #root = 'https://ecmwf-forecasts.s3.eu-central-1.amazonaws.com'\n",
    "    #root = 'https://data.ecmwf.int/forecasts'\n",
    "    root = 'https://ai4edataeuwest.blob.core.windows.net/ecmwf'\n",
    "    http_request = f'{root}/{date_str}/{run}/0p4-beta/enfo/{filename}'\n",
    "    res = requests.get(http_request, proxies=proxies)\n",
    "    res.raise_for_status()\n",
    "    \n",
    "\n",
    "    # Read list of JSON parameters describing members of ensemble forecast\n",
    "    pl = []\n",
    "    for line in res.text.split('\\n'):\n",
    "        if len(line) == 0:\n",
    "            continue\n",
    "        pl.append(json.loads(line))\n",
    "\n",
    "    # Note bytes positions for precise extraction\n",
    "    bytes_d = {i: {'u': (0, 0), 'v': (0, 0)} for i in range(51)}\n",
    "    for p in pl:\n",
    "        if 'number' not in p.keys():\n",
    "            i_member = 0\n",
    "        else:\n",
    "            i_member = int(p['number'])\n",
    "        if p['param'] in ['u', 'v']:\n",
    "            if p['levelist'] == '1000':\n",
    "                bytes_d[i_member][p['param']] = (p['_offset'], p['_length'])\n",
    "    def flatten(d):\n",
    "        s = ''\n",
    "        for v in d.values():\n",
    "            for t in v.values():\n",
    "                s += f'{t[0]}-{t[0] + t[1] - 1}, '\n",
    "        return s[:-2]\n",
    "    f_bytes = flatten(bytes_d)\n",
    "    \n",
    "    headers = {'Range': f'bytes={f_bytes}'}\n",
    "    filename = f'{date_str}{hour_str}0000-{step}h-enfo-ef.grib2'\n",
    "    http_request = f'https://data.ecmwf.int/forecasts/{date_str}/{run}/0p4-beta/enfo/{filename}'\n",
    "    res = requests.get(http_request, proxies={'http': 'http://proxy:3128', 'https': 'http://proxy:3128'}, headers=headers)\n",
    "    res.raise_for_status()\n",
    "    with open(os.path.join(dirpath, filename), 'wb') as f:\n",
    "        f.write(res.content)"
   ]
  },
  {
   "cell_type": "code",
   "execution_count": 16,
   "id": "42dee9ff",
   "metadata": {},
   "outputs": [
    {
     "data": {
      "application/vnd.jupyter.widget-view+json": {
       "model_id": "2c683dc95b1b4c3e8942bfa3287cde6c",
       "version_major": 2,
       "version_minor": 0
      },
      "text/plain": [
       "  0%|          | 0/15 [00:00<?, ?it/s]"
      ]
     },
     "metadata": {},
     "output_type": "display_data"
    }
   ],
   "source": [
    "year, month, day, hour = 2023, 6, 19, 6\n",
    "for step in tqdm(range(0, 15)):\n",
    "    extract(year, month, day, hour, 3*step)"
   ]
  },
  {
   "cell_type": "code",
   "execution_count": 74,
   "id": "70bcfc9c",
   "metadata": {},
   "outputs": [],
   "source": []
  }
 ],
 "metadata": {
  "kernelspec": {
   "display_name": "Python 3 (ipykernel)",
   "language": "python",
   "name": "python3"
  },
  "language_info": {
   "codemirror_mode": {
    "name": "ipython",
    "version": 3
   },
   "file_extension": ".py",
   "mimetype": "text/x-python",
   "name": "python",
   "nbconvert_exporter": "python",
   "pygments_lexer": "ipython3",
   "version": "3.9.7"
  }
 },
 "nbformat": 4,
 "nbformat_minor": 5
}
