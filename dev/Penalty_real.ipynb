{
 "cells": [
  {
   "cell_type": "code",
   "execution_count": 1,
   "id": "bc62d051",
   "metadata": {},
   "outputs": [],
   "source": [
    "import numpy as np\n",
    "from datetime import datetime\n",
    "import h5py\n",
    "\n",
    "from dabry.problem import DatabaseProblem\n",
    "from dabry.ddf_manager import DDFmanager\n",
    "from dabry.misc import Utils, Chrono\n",
    "from dabry.solver_ef import SolverEF\n",
    "from dabry.penalty import CirclePenalty, DiscretePenalty"
   ]
  },
  {
   "cell_type": "code",
   "execution_count": 2,
   "id": "2df7efad",
   "metadata": {},
   "outputs": [
    {
     "data": {
      "text/plain": [
       "array([0., 0.])"
      ]
     },
     "execution_count": 2,
     "metadata": {},
     "output_type": "execute_result"
    }
   ],
   "source": [
    "penalty = DiscretePenalty()\n",
    "penalty.load('test.h5')\n",
    "penalty.d_value(datetime(2020, 7, 14, 0, 0).timestamp(), Utils.DEG_TO_RAD * np.array((-5, 10)))"
   ]
  },
  {
   "cell_type": "code",
   "execution_count": 3,
   "id": "2639193a",
   "metadata": {},
   "outputs": [
    {
     "name": "stdout",
     "output_type": "stream",
     "text": [
      "Wind fully in cache (20200715 00:00 to 20200718 00:46)\n"
     ]
    },
    {
     "name": "stderr",
     "output_type": "stream",
     "text": [
      "100%|███████████████████████████████████████████| 62/62 [00:03<00:00, 18.06it/s]\n"
     ]
    },
    {
     "name": "stdout",
     "output_type": "stream",
     "text": [
      "[*] Dumping windfield to file\n",
      "[*] Done (0.00s)\n",
      "[*] Solving problem using extremal field (EF)\n",
      "Problem | TIMEOPT | 23.00 m/s | 3.01e+06 m | scale 36h23m | orthodromic 39h20m\n",
      "Steps :    104/700, Extremals :   4927, Active : 1411, Dist :   1 Comp : 30 Stopped quick solve\n",
      "Target reached in 39h8m | +7% no wind | +0% orthodromic | cpu time 73.37s\n",
      "[*] Done (73.75s)\n",
      "Target reached in : 39h8m\n"
     ]
    }
   ],
   "source": [
    "x_init = Utils.DEG_TO_RAD * np.array((-17.46, 14.71)) # Dakar\n",
    "x_target = Utils.DEG_TO_RAD * np.array((-35.26, -5.81)) # Natal\n",
    "start_date = datetime(2020, 7, 15, 0, 0)\n",
    "airspeed = 23\n",
    "level = '1000'\n",
    "\n",
    "duration = 2 * Utils.distance(x_init, x_target,\n",
    "                              coords=Utils.COORD_GCS) / airspeed\n",
    "stop_date = datetime.fromtimestamp(start_date.timestamp() + duration)\n",
    "\n",
    "ddf = DDFmanager()\n",
    "ddf.setup()\n",
    "\n",
    "ddf.retrieve_wind(start_date, stop_date, level=level, res='0.5')\n",
    "case_name = ddf.format_cname(x_init, x_target, start_date.timestamp())\n",
    "\n",
    "cache_wind = False\n",
    "cache_rff = False\n",
    "\n",
    "# This instance prints absolute elapsed time between operations\n",
    "chrono = Chrono()\n",
    "\n",
    "# Create a file manager to dump problem data\n",
    "mdfm = DDFmanager(cache_wind=cache_wind, cache_rff=cache_rff)\n",
    "mdfm.setup()\n",
    "case_name = f'test_penalty_real'\n",
    "mdfm.set_case(case_name)\n",
    "mdfm.clean_output_dir()\n",
    "\n",
    "# Space and time discretization\n",
    "# Will be used to save wind when wind is analytical and shall be sampled\n",
    "# Will also be used by front tracking module\n",
    "nx_rft = 101\n",
    "ny_rft = 101\n",
    "nt_rft = 20\n",
    "\n",
    "pb = DatabaseProblem(x_init=x_init,\n",
    "                     x_target=x_target, airspeed=airspeed,\n",
    "                     t_start=start_date.timestamp(), t_end=stop_date.timestamp(),\n",
    "                     altitude=level,\n",
    "                     resolution='0.5')\n",
    "\n",
    "pb.penalty = DiscretePenalty(0.002 * penalty.data, penalty.ts, penalty.grid)\n",
    "#with h5py.File('data/cds/0.5/1000/20210930.grib2', 'r') as f:\n",
    "#    penalty = DiscretePenalty()\n",
    "\n",
    "# pb.flatten()\n",
    "\n",
    "if not cache_wind:\n",
    "    chrono.start('Dumping windfield to file')\n",
    "    mdfm.dump_wind(pb.model.wind, nx=nx_rft, ny=ny_rft, nt=nt_rft, bl=pb.bl, tr=pb.tr)\n",
    "    chrono.stop()\n",
    "\n",
    "# Setting the extremal solver\n",
    "solver_ef = SolverEF(pb, pb.time_scale, max_steps=700, rel_nb_ceil=0.01, quick_solve=True)\n",
    "\n",
    "chrono.start('Solving problem using extremal field (EF)')\n",
    "res_ef = solver_ef.solve()\n",
    "chrono.stop()\n",
    "if res_ef.status:\n",
    "    # Solution found\n",
    "    # Save optimal trajectory\n",
    "    mdfm.dump_trajs([res_ef.traj])\n",
    "    print(f'Target reached in : {Utils.time_fmt(res_ef.duration)}')\n",
    "else:\n",
    "    print('No solution found')\n",
    "\n",
    "# Save extremal field for display purposes\n",
    "extremals = solver_ef.get_trajs()\n",
    "mdfm.dump_trajs(extremals)\n",
    "\n",
    "'''\n",
    "pb.penalty = DiscretePenalty(0.001 * penalty.data, penalty.ts, penalty.grid)\n",
    "solver_ef = SolverEF(pb, pb.time_scale, max_steps=700, rel_nb_ceil=0.02, quick_solve=True)\n",
    "chrono.start('Solving problem using extremal field (EF)')\n",
    "res_ef = solver_ef.solve()\n",
    "chrono.stop()\n",
    "if res_ef.status:\n",
    "    # Solution found\n",
    "    # Save optimal trajectory\n",
    "    mdfm.dump_trajs([res_ef.traj])\n",
    "    print(f'Target reached in : {Utils.time_fmt(res_ef.duration)}')\n",
    "else:\n",
    "    print('No solution found')\n",
    "'''\n",
    "\n",
    "pb.orthodromic()\n",
    "mdfm.dump_trajs([pb.trajs[-1]])\n",
    "mdfm.dump_penalty(pb.penalty)\n",
    "mdfm.log(pb)"
   ]
  }
 ],
 "metadata": {
  "kernelspec": {
   "display_name": "Python 3 (ipykernel)",
   "language": "python",
   "name": "python3"
  },
  "language_info": {
   "codemirror_mode": {
    "name": "ipython",
    "version": 3
   },
   "file_extension": ".py",
   "mimetype": "text/x-python",
   "name": "python",
   "nbconvert_exporter": "python",
   "pygments_lexer": "ipython3",
   "version": "3.9.7"
  }
 },
 "nbformat": 4,
 "nbformat_minor": 5
}
