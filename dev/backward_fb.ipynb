{
 "cells": [
  {
   "cell_type": "code",
   "execution_count": 1,
   "id": "4c2dc553",
   "metadata": {},
   "outputs": [],
   "source": [
    "from dabry.problem import NavigationProblem, IndexedProblem, DatabaseProblem\n",
    "from dabry.misc import Utils\n",
    "from dabry.wind import *\n",
    "from dabry.model import *\n",
    "from dabry.penalty import *\n",
    "from dabry.solver_ef import SolverEF\n",
    "from dabry.ddf_manager import DDFmanager"
   ]
  },
  {
   "cell_type": "code",
   "execution_count": 2,
   "id": "672a2acf",
   "metadata": {},
   "outputs": [],
   "source": [
    "pb = IndexedProblem('linear')\n",
    "\n",
    "f = 1e6\n",
    "c = f* np.array((0.5, 0.17))\n",
    "pmax = 1000\n",
    "rten = f* 0.2\n",
    "sigma = rten / (2 * np.log(10))\n",
    "\n",
    "def pf(x):\n",
    "    return 1 + pmax*np.exp(-0.5*(x - c) @ (x - c)/sigma**2)\n",
    "\n",
    "penalty = Penalty(pf, length_scale=f)\n",
    "\n",
    "pb.penalty = penalty"
   ]
  },
  {
   "cell_type": "code",
   "execution_count": 39,
   "id": "0de33785",
   "metadata": {},
   "outputs": [
    {
     "name": "stderr",
     "output_type": "stream",
     "text": [
      " 26%|███████████                                | 10/39 [00:00<00:01, 18.76it/s]"
     ]
    }
   ],
   "source": [
    "x_init, x_target, start_date, airspeed, level = \\\n",
    "Utils.process_pb_params(*'-16.44 13.32 -35.07 -5.8 202111051200 23.0 1000'.split(' '))\n",
    "duration = 2 * Utils.distance(Utils.DEG_TO_RAD * x_init, Utils.DEG_TO_RAD * x_target,\n",
    "                                      coords=Utils.COORD_GCS) / airspeed\n",
    "stop_date = datetime.fromtimestamp(start_date.timestamp() + duration)\n",
    "pb = DatabaseProblem(x_init=Utils.DEG_TO_RAD * x_init,\n",
    "                             x_target=Utils.DEG_TO_RAD * x_target, airspeed=airspeed,\n",
    "                             t_start=start_date.timestamp(), t_end=stop_date.timestamp(),\n",
    "                             altitude=level,\n",
    "                             resolution='0.5')"
   ]
  },
  {
   "cell_type": "code",
   "execution_count": 40,
   "id": "ee4b0755",
   "metadata": {},
   "outputs": [],
   "source": [
    "solver = SolverEF(pb, max_steps=500, max_time=50*3600)"
   ]
  },
  {
   "cell_type": "code",
   "execution_count": 41,
   "id": "9304babf",
   "metadata": {},
   "outputs": [],
   "source": [
    "res = solver.solve()"
   ]
  },
  {
   "cell_type": "code",
   "execution_count": 42,
   "id": "fe75769b",
   "metadata": {},
   "outputs": [],
   "source": [
    "ddf = DDFmanager()\n",
    "ddf.setup()\n",
    "ddf.set_case('test_backward')\n",
    "ddf.clean_output_dir()\n",
    "ddf.dump_wind(pb.model.wind, nx=101, ny=101, bl=pb.bl, tr=pb.tr)\n",
    "ddf.dump_trajs(solver.get_trajs(dual_only=True))\n",
    "ddf.dump_trajs([res.traj], filename='trajectories_timeopt.h5')\n",
    "ddf.log(pb)"
   ]
  },
  {
   "cell_type": "code",
   "execution_count": 25,
   "id": "8cbf007c",
   "metadata": {},
   "outputs": [],
   "source": [
    "fb = solver.get_control_map(nx=71, ny=71)"
   ]
  },
  {
   "cell_type": "code",
   "execution_count": 47,
   "id": "4179ea1b",
   "metadata": {},
   "outputs": [],
   "source": [
    "pb.load_feedback(fb)\n",
    "from dabry.stoppingcond import DistanceSC\n",
    "sc = DistanceSC(lambda x: (x - pb.x_target) @ (x - pb.x_target), 0.0001)\n",
    "traj = pb.integrate_trajectory(pb.x_init + np.array((-0.2, 0)), sc, int_step=200, t_init=start_date.timestamp())\n",
    "ddf.dump_trajs([traj])"
   ]
  },
  {
   "cell_type": "code",
   "execution_count": 21,
   "id": "19cc15bd",
   "metadata": {},
   "outputs": [
    {
     "data": {
      "text/plain": [
       "1635884700.0"
      ]
     },
     "execution_count": 21,
     "metadata": {},
     "output_type": "execute_result"
    }
   ],
   "source": [
    "traj.timestamps[traj.last_index]"
   ]
  },
  {
   "cell_type": "code",
   "execution_count": 23,
   "id": "e0220207",
   "metadata": {},
   "outputs": [
    {
     "data": {
      "text/plain": [
       "False"
      ]
     },
     "execution_count": 23,
     "metadata": {},
     "output_type": "execute_result"
    }
   ],
   "source": [
    "np.all(fb.values < 1e-6)"
   ]
  },
  {
   "cell_type": "code",
   "execution_count": 15,
   "id": "087beaea",
   "metadata": {},
   "outputs": [
    {
     "data": {
      "text/plain": [
       "datetime.datetime(2021, 11, 1, 11, 37, 25, 247086)"
      ]
     },
     "execution_count": 15,
     "metadata": {},
     "output_type": "execute_result"
    }
   ],
   "source": [
    "datetime.fromtimestamp(solver.ef_dual.trajs[0].particles[1].t)"
   ]
  }
 ],
 "metadata": {
  "kernelspec": {
   "display_name": "Python 3 (ipykernel)",
   "language": "python",
   "name": "python3"
  },
  "language_info": {
   "codemirror_mode": {
    "name": "ipython",
    "version": 3
   },
   "file_extension": ".py",
   "mimetype": "text/x-python",
   "name": "python",
   "nbconvert_exporter": "python",
   "pygments_lexer": "ipython3",
   "version": "3.9.7"
  }
 },
 "nbformat": 4,
 "nbformat_minor": 5
}
