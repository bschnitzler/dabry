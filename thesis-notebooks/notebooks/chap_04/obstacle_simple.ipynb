{
 "cells": [
  {
   "cell_type": "code",
   "execution_count": null,
   "id": "bfcc8850-62d8-4a02-a840-d7f0a049c07e",
   "metadata": {},
   "outputs": [],
   "source": [
    "from dabry.problem import NavigationProblem\n",
    "from dabry.solver_ef import SolverEFResampling, SolverEF\n",
    "import matplotlib\n",
    "import matplotlib.pyplot as plt\n",
    "import matplotlib.patches as patches\n",
    "import matplotlib.cm as mpl_cm\n",
    "import numpy as np\n",
    "\n",
    "plt.rc('font', size=18)\n",
    "plt.rc('axes', titlesize=18)\n",
    "plt.rc('axes', labelsize=18)\n",
    "plt.rc('xtick', labelsize=18)\n",
    "plt.rc('ytick', labelsize=18)\n",
    "plt.rc('legend', fontsize=10)\n",
    "plt.rc('mathtext', fontset='cm')\n",
    "plt.rc('text', usetex=True)\n",
    "\n",
    "#norm = matplotlib.colors.Normalize(vmin=-0.1, vmax=1.3, clip=True)"
   ]
  },
  {
   "cell_type": "code",
   "execution_count": null,
   "id": "459f2330-72fb-45ef-bcf6-5bd47ea96023",
   "metadata": {},
   "outputs": [],
   "source": [
    "def my_figure(solver, ff_on=False, c_levels=np.arange(0, 1.01, 0.1), no_quiver=False, ff_sub=1):\n",
    "    fig, ax = plt.subplots(figsize=(5, 5))\n",
    "    ax.axis('equal')\n",
    "    ax.set_xlim(solver.pb.bl[0], solver.pb.tr[0])\n",
    "    ax.set_ylim(solver.pb.bl[1], solver.pb.tr[1])\n",
    "    for traj in solver.trajs:\n",
    "        ax.plot(*traj.states.T, color='grey', zorder=4)\n",
    "    for site in solver.solution_sites:\n",
    "        ax.plot(*site.traj.states.T, color='black', zorder=8)\n",
    "    if solver.solution_site is not None:\n",
    "        ax.plot(*solver.solution_site.traj.states.T, color='red', zorder=8)\n",
    "    if not ff_on:\n",
    "        c = ax.contourf(solver._cost_map.grid_vectors[1:-1, 1:-1, 0], solver._cost_map.grid_vectors[1:-1, 1:-1, 1],\n",
    "                    solver._cost_map.values[1:-1, 1:-1], levels=c_levels, cmap='jet', zorder=4, alpha=0.5)\n",
    "    else:\n",
    "        ff = solver.pb.model.ff\n",
    "        grid_vectors_ff = np.stack(\n",
    "            np.meshgrid(\n",
    "                np.linspace(\n",
    "                    ff.bounds[-2, 0], \n",
    "                    ff.bounds[-2, 1], \n",
    "                    ff.values.shape[-3]\n",
    "                ),\n",
    "                np.linspace(\n",
    "                    ff.bounds[-1, 0], \n",
    "                    ff.bounds[-1, 1], \n",
    "                    ff.values.shape[-2]\n",
    "                ), indexing= 'ij'), -1)\n",
    "        grid_vectors_ff = grid_vectors_ff[::ff_sub, ::ff_sub]\n",
    "        ff_values = ff.values[::ff_sub, ::ff_sub]\n",
    "        ff_norms = np.linalg.norm(ff_values, axis=-1)\n",
    "        ax.pcolormesh(grid_vectors_ff[..., 0], grid_vectors_ff[..., 1], \n",
    "                      np.where(ff_norms > 0.05, ff_norms, np.nan), zorder=2,\n",
    "                      shading='gouraud', cmap='turbo')\n",
    "        rect = patches.Rectangle(solver.pb.bl, solver.pb.tr[0] - solver.pb.bl[0], solver.pb.tr[1] - solver.pb.bl[1],\n",
    "                                alpha=0.3, color='white', zorder=3)\n",
    "        ax.add_patch(rect)\n",
    "        if not no_quiver:\n",
    "            ax.quiver(grid_vectors_ff[..., 0], grid_vectors_ff[..., 1], ff_values[..., 0], ff_values[..., 1], zorder=4)\n",
    "        \n",
    "    c = ax.contour(solver._cost_map.grid_vectors[1:-1, 1:-1, 0], solver._cost_map.grid_vectors[1:-1, 1:-1, 1],\n",
    "                solver._cost_map.values[1:-1, 1:-1], levels=c_levels, \n",
    "                   alpha=1, colors=((0.2, 0.2, 0.2),) if not ff_on else 'black', zorder=5)\n",
    "    ax.clabel(c, c.levels, inline=True, fontsize=15)\n",
    "    obs = solver.pb.obstacles[0]\n",
    "    grid_vectors_obs = np.stack(\n",
    "        np.meshgrid(\n",
    "            np.linspace(\n",
    "                obs.bounds[-2, 0], \n",
    "                obs.bounds[-2, 1], \n",
    "                obs.values.shape[-2]\n",
    "            ),\n",
    "            np.linspace(\n",
    "                obs.bounds[-1, 0], \n",
    "                obs.bounds[-1, 1], \n",
    "                obs.values.shape[-1]\n",
    "            ), indexing= 'ij'), -1)\n",
    "    ax.contourf(grid_vectors_obs[..., 0], grid_vectors_obs[..., 1], obs.values, levels=[-100, 0],\n",
    "                colors='purple', extend='min', alpha=0.5, zorder=4)\n",
    "    ax.contour(grid_vectors_obs[..., 0], grid_vectors_obs[..., 1], obs.values, levels=0, colors='purple', zorder=4)\n",
    "    ax.scatter(*solver.pb.x_init, color='black', edgecolor='white', s=100, zorder=10)\n",
    "    ax.scatter(*solver.pb.x_target, color='black', edgecolor='white', s=200, marker='*', zorder=10)\n",
    "    circ = patches.Circle(solver.pb.x_target, solver.target_radius, facecolor='none', edgecolor='black', linewidth=1, zorder=8)\n",
    "    ax.add_patch(circ)\n",
    "    return fig, ax\n",
    "\n",
    "# prop_cycle = plt.rcParams['axes.prop_cycle']\n",
    "# colors = prop_cycle.by_key()['color']\n",
    "\n",
    "def my_figure_details(solver, ff_on=False, c_levels=np.arange(0, 1.01, 0.1), no_quiver=False, ff_sub=1):\n",
    "    fig, ax = plt.subplots(figsize=(5, 5))\n",
    "    ax.axis('equal')\n",
    "    ax.set_xlim(solver.pb.bl[0], solver.pb.tr[0])\n",
    "    ax.set_ylim(solver.pb.bl[1], solver.pb.tr[1])\n",
    "    labelled = []\n",
    "    for site in solver.sites.values():\n",
    "        kwargs = {}\n",
    "        if not site.depth in labelled:\n",
    "            labelled.append(site.depth)\n",
    "            kwargs['label'] = f'Depth {site.depth:0>2}'\n",
    "        ax.plot(*site.traj.states.T, color=matplotlib.colormaps.get_cmap('nipy_spectral_r')(site.depth/11), zorder=4, **kwargs)\n",
    "    # for site in solver.solution_sites:\n",
    "    #     ax.plot(*site.traj.states.T, color='black', zorder=8)\n",
    "    # if solver.solution_site is not None:\n",
    "    #     ax.plot(*solver.solution_site.traj.states.T, color='red', zorder=8)\n",
    "    if not ff_on:\n",
    "        pass\n",
    "    else:\n",
    "        ff = solver.pb.model.ff\n",
    "        grid_vectors_ff = np.stack(\n",
    "            np.meshgrid(\n",
    "                np.linspace(\n",
    "                    ff.bounds[-2, 0], \n",
    "                    ff.bounds[-2, 1], \n",
    "                    ff.values.shape[-3]\n",
    "                ),\n",
    "                np.linspace(\n",
    "                    ff.bounds[-1, 0], \n",
    "                    ff.bounds[-1, 1], \n",
    "                    ff.values.shape[-2]\n",
    "                ), indexing= 'ij'), -1)\n",
    "        grid_vectors_ff = grid_vectors_ff[::ff_sub, ::ff_sub]\n",
    "        ff_values = ff.values[::ff_sub, ::ff_sub]\n",
    "        ff_norms = np.linalg.norm(ff_values, axis=-1)\n",
    "        ax.pcolormesh(grid_vectors_ff[..., 0], grid_vectors_ff[..., 1], \n",
    "                      np.where(ff_norms > 0.05, ff_norms, np.nan), zorder=2,\n",
    "                      shading='gouraud', cmap='turbo')\n",
    "        rect = patches.Rectangle(solver.pb.bl, solver.pb.tr[0] - solver.pb.bl[0], solver.pb.tr[1] - solver.pb.bl[1],\n",
    "                                alpha=0.3, color='white', zorder=3)\n",
    "        ax.add_patch(rect)\n",
    "        if not no_quiver:\n",
    "            ax.quiver(grid_vectors_ff[..., 0], grid_vectors_ff[..., 1], ff_values[..., 0], ff_values[..., 1], zorder=4)\n",
    "        \n",
    "    # c = ax.contour(solver._cost_map.grid_vectors[1:-1, 1:-1, 0], solver._cost_map.grid_vectors[1:-1, 1:-1, 1],\n",
    "    #             solver._cost_map.values[1:-1, 1:-1], levels=c_levels, \n",
    "    #                alpha=1, colors=((0.2, 0.2, 0.2),) if not ff_on else 'black', zorder=5)\n",
    "    # ax.clabel(c, c.levels, inline=True, fontsize=15)\n",
    "    obs = solver.pb.obstacles[0]\n",
    "    grid_vectors_obs = np.stack(\n",
    "        np.meshgrid(\n",
    "            np.linspace(\n",
    "                obs.bounds[-2, 0], \n",
    "                obs.bounds[-2, 1], \n",
    "                obs.values.shape[-2]\n",
    "            ),\n",
    "            np.linspace(\n",
    "                obs.bounds[-1, 0], \n",
    "                obs.bounds[-1, 1], \n",
    "                obs.values.shape[-1]\n",
    "            ), indexing= 'ij'), -1)\n",
    "    ax.contourf(grid_vectors_obs[..., 0], grid_vectors_obs[..., 1], obs.values, levels=[-100, 0],\n",
    "                colors='purple', extend='min', alpha=0.5, zorder=2)\n",
    "    ax.contour(grid_vectors_obs[..., 0], grid_vectors_obs[..., 1], obs.values, levels=0, colors='purple', zorder=2)\n",
    "    ax.scatter(*solver.pb.x_init, color='black', edgecolor='white', s=100, zorder=10)\n",
    "    ax.scatter(*solver.pb.x_target, color='black', edgecolor='white', s=200, marker='*', zorder=10)\n",
    "    circ = patches.Circle(solver.pb.x_target, solver.target_radius, facecolor='none', edgecolor='black', linewidth=1, zorder=8)\n",
    "    ax.add_patch(circ)\n",
    "    ax.legend(loc='center left', bbox_to_anchor=(1, 0.5))\n",
    "    return fig, ax"
   ]
  },
  {
   "cell_type": "markdown",
   "id": "26a0866e-a875-4880-9d12-fb948eb9e7bc",
   "metadata": {},
   "source": [
    "# Custom problems"
   ]
  },
  {
   "cell_type": "markdown",
   "id": "12b652ed-4f89-4eb4-96fd-6f498d66352b",
   "metadata": {},
   "source": [
    "## Disk"
   ]
  },
  {
   "cell_type": "code",
   "execution_count": null,
   "id": "f35f6a7d-782a-4d80-8323-63c30072f72f",
   "metadata": {},
   "outputs": [],
   "source": [
    "from dabry.flowfield import ZeroFF\n",
    "from dabry.obstacle import CircleObs, Union, discretize_obs, DiscreteObs\n",
    "v_a = 1\n",
    "\n",
    "x_init = np.array((0.15, 0.5))\n",
    "x_target = np.array((0.85, 0.5))\n",
    "bl = np.array((0, 0))\n",
    "tr = np.array((1, 1))\n",
    "\n",
    "ff = ZeroFF()\n",
    "\n",
    "obs = CircleObs(np.array((0.5, 0.5)), 0.19)\n",
    "obs_d = discretize_obs(obs, (101, 101), bl=bl, tr=tr)\n",
    "\n",
    "pb = NavigationProblem(ff, x_init, x_target, v_a, bl=bl, tr=tr, name='Circle obstacle', obstacles=[obs_d])"
   ]
  },
  {
   "cell_type": "code",
   "execution_count": null,
   "id": "41a2b45b-05e0-4f9b-b63c-7f33e0bcff24",
   "metadata": {},
   "outputs": [],
   "source": [
    "solver_circle = SolverEFResampling(pb, free_max_step=False)\n",
    "solver_circle.solve()"
   ]
  },
  {
   "cell_type": "code",
   "execution_count": null,
   "id": "cb1845df-76c4-451f-9aa0-4787efbfeffc",
   "metadata": {},
   "outputs": [],
   "source": [
    "fig, ax = my_figure(solver_circle)\n",
    "#fig.savefig('/home/bastien/Documents/Manuscript/manuscript/time_optimality/plot_scripts/obstacle_simple/disk.pdf')\n",
    "plt.show()"
   ]
  },
  {
   "cell_type": "code",
   "execution_count": null,
   "id": "aaf7a890-1884-4d75-ac8a-0443a87b235f",
   "metadata": {},
   "outputs": [],
   "source": [
    "fig, ax = my_figure_details(solver_circle)\n",
    "# fig.savefig('/home/bastien/Documents/Manuscript/manuscript/time_optimality/plot_scripts/obstacle_simple/disk_details.pdf', \n",
    "#             bbox_inches='tight')\n",
    "plt.show()"
   ]
  },
  {
   "cell_type": "markdown",
   "id": "66a6bf8f-48de-4d0a-9266-fc5de3efcaff",
   "metadata": {},
   "source": [
    "## Concave"
   ]
  },
  {
   "cell_type": "code",
   "execution_count": null,
   "id": "2488ee73-69b9-4427-b0e4-bdbe19adfa3e",
   "metadata": {},
   "outputs": [],
   "source": [
    "import shapely"
   ]
  },
  {
   "cell_type": "code",
   "execution_count": null,
   "id": "8f7ff618-63ca-4aa3-b6cf-42d645e23410",
   "metadata": {},
   "outputs": [],
   "source": [
    "theta = np.linspace(np.pi/2, 3*np.pi/2, 100)\n",
    "center = np.array((0.5, 0.5))\n",
    "radius = 0.25\n",
    "dist = 0.025\n",
    "points = center + radius * np.array((np.cos(theta), np.sin(theta))).T\n",
    "arc = shapely.LineString(points)\n",
    "\n",
    "shape = (101, 101)\n",
    "grid_vectors = np.stack(np.meshgrid(np.linspace(bl[0], tr[0], shape[0]),\n",
    "                                    np.linspace(bl[1], tr[1], shape[1]), indexing='ij'), -1)\n",
    "values = np.zeros(shape)\n",
    "for i in range(shape[0]):\n",
    "    for j in range(shape[1]):\n",
    "        values[i, j] = arc.distance(shapely.Point(grid_vectors[i, j])) - dist"
   ]
  },
  {
   "cell_type": "code",
   "execution_count": null,
   "id": "e15f09ce-aebd-4fc9-b6bf-2359455fe5de",
   "metadata": {},
   "outputs": [],
   "source": [
    "plt.contour(grid_vectors[..., 0], grid_vectors[..., 1], values, levels=[0])"
   ]
  },
  {
   "cell_type": "code",
   "execution_count": null,
   "id": "114c8ae8-bf34-45cc-8ae0-c2f91724abe1",
   "metadata": {},
   "outputs": [],
   "source": [
    "from dabry.flowfield import ZeroFF\n",
    "from dabry.obstacle import CircleObs, Union, discretize_obs, DiscreteObs\n",
    "v_a = 1\n",
    "\n",
    "x_init = np.array((0.15, 0.5))\n",
    "x_target = np.array((0.85, 0.5))\n",
    "bl = np.array((0, 0))\n",
    "tr = np.array((1, 1))\n",
    "\n",
    "ff = ZeroFF()\n",
    "\n",
    "obs_d = DiscreteObs(values, np.array((bl, tr)).T)\n",
    "\n",
    "pb = NavigationProblem(ff, x_init, x_target, v_a, bl=bl, tr=tr, name='Concave', obstacles=[obs_d])"
   ]
  },
  {
   "cell_type": "code",
   "execution_count": null,
   "id": "05db5a16-5b79-409e-91e7-6ab30eb13fc1",
   "metadata": {},
   "outputs": [],
   "source": [
    "solver_concave = SolverEFResampling(pb, free_max_step=False, total_duration=1.11)\n",
    "solver_concave.solve()"
   ]
  },
  {
   "cell_type": "code",
   "execution_count": null,
   "id": "62d89459-3236-452c-9f9b-96258b29a9c3",
   "metadata": {},
   "outputs": [],
   "source": [
    "fig, ax = my_figure(solver_concave)\n",
    "#plt.savefig('/home/bastien/Documents/Manuscript/manuscript/time_optimality/plot_scripts/obstacle_simple/concave.pdf')\n",
    "plt.show()"
   ]
  },
  {
   "cell_type": "markdown",
   "id": "032e539f-ee87-407b-b0fc-0a10e63d8e1a",
   "metadata": {},
   "source": [
    "## Bars"
   ]
  },
  {
   "cell_type": "code",
   "execution_count": null,
   "id": "0667951f-1118-4201-8d74-cc8fd25e294a",
   "metadata": {},
   "outputs": [],
   "source": [
    "dist = 0.025\n",
    "points = np.array((np.linspace(0.3, 0.3, 50), np.linspace(0.4, 1.1, 50))).T\n",
    "line1 = shapely.LineString(points)\n",
    "\n",
    "shape = (101, 101)\n",
    "grid_vectors = np.stack(np.meshgrid(np.linspace(bl[0], tr[0], shape[0]),\n",
    "                                    np.linspace(bl[1], tr[1], shape[1]), indexing='ij'), -1)\n",
    "values1 = np.zeros(shape)\n",
    "for i in range(shape[0]):\n",
    "    for j in range(shape[1]):\n",
    "        values1[i, j] = line1.distance(shapely.Point(grid_vectors[i, j])) - dist\n",
    "\n",
    "points = np.array((np.linspace(0.6, 0.6, 50), np.linspace(-0.1, 0.6, 50))).T\n",
    "line2 = shapely.LineString(points)\n",
    "\n",
    "values2 = np.zeros(shape)\n",
    "for i in range(shape[0]):\n",
    "    for j in range(shape[1]):\n",
    "        values2[i, j] = line2.distance(shapely.Point(grid_vectors[i, j])) - dist\n",
    "\n",
    "values3 = np.zeros(shape)\n",
    "for i in range(shape[0]):\n",
    "    for j in range(shape[1]):\n",
    "        values3[i, j] = 0.49 - np.max(np.abs(grid_vectors[i, j] - np.array((0.5, 0.5))))\n",
    "\n",
    "values = np.minimum(np.minimum(values1, values2), values3)"
   ]
  },
  {
   "cell_type": "code",
   "execution_count": null,
   "id": "1ec013b8-1715-4f15-80b7-7def0e8ca0d4",
   "metadata": {},
   "outputs": [],
   "source": [
    "plt.contour(grid_vectors[..., 0], grid_vectors[..., 1], values, levels=[0])"
   ]
  },
  {
   "cell_type": "code",
   "execution_count": null,
   "id": "827cbece-b160-4452-9163-b9b9d57ca5e0",
   "metadata": {},
   "outputs": [],
   "source": [
    "from dabry.flowfield import DiscreteFF\n",
    "from dabry.misc import Coords\n",
    "v_a = 1\n",
    "\n",
    "x_init = np.array((0.15, 0.5))\n",
    "x_target = np.array((0.85, 0.5))\n",
    "bl = np.array((0, 0))\n",
    "tr = np.array((1, 1))\n",
    "\n",
    "#ff = DiscreteFF(ff_values, np.array((bl, tr)).T, Coords.CARTESIAN)\n",
    "ff = ZeroFF()\n",
    "\n",
    "obs_d = DiscreteObs(values, np.array((bl, tr)).T)\n",
    "\n",
    "pb = NavigationProblem(ff, x_init, x_target, v_a, bl=bl, tr=tr, name='Bars flow', obstacles=[obs_d])"
   ]
  },
  {
   "cell_type": "code",
   "execution_count": null,
   "id": "24a7c004-b9a5-4047-8c18-a13fc977de91",
   "metadata": {},
   "outputs": [],
   "source": [
    "solver_bars = SolverEFResampling(pb, free_max_step=False, total_duration=1.2, tangency_tol=1)\n",
    "solver_bars.solve()"
   ]
  },
  {
   "cell_type": "code",
   "execution_count": null,
   "id": "167e3152-e449-42df-9f22-da51469c6bba",
   "metadata": {},
   "outputs": [],
   "source": [
    "fig, ax = my_figure(solver_bars)\n",
    "#plt.savefig('/home/bastien/Documents/Manuscript/manuscript/time_optimality/plot_scripts/obstacle_simple/bars.pdf')\n",
    "plt.show()"
   ]
  },
  {
   "cell_type": "code",
   "execution_count": null,
   "id": "91a0e1c5-0f29-41b4-92a6-4a548b650e7e",
   "metadata": {},
   "outputs": [],
   "source": [
    "shape = (51, 51)\n",
    "grid_vectors = np.stack(np.meshgrid(np.linspace(bl[0], tr[0], shape[0]),\n",
    "                                    np.linspace(bl[1], tr[1], shape[1]), indexing='ij'), -1)\n",
    "factor = 20/3\n",
    "\n",
    "center = np.array((0.6, 0.6))\n",
    "radius = 0.15\n",
    "ff_values = np.stack((\n",
    "    -factor*np.maximum(radius - np.linalg.norm(grid_vectors - center, axis=-1), 0),\n",
    "    np.zeros(grid_vectors.shape[:-1])), -1)\n",
    "\n",
    "center = np.array((0.3, 0.3))\n",
    "radius = 0.15\n",
    "ff_values = ff_values + np.stack((\n",
    "    -factor*np.maximum(radius - np.linalg.norm(grid_vectors - center, axis=-1), 0),\n",
    "    np.zeros(grid_vectors.shape[:-1])), -1)"
   ]
  },
  {
   "cell_type": "code",
   "execution_count": null,
   "id": "904f1720-0af9-4e76-8040-b43e0c85253c",
   "metadata": {},
   "outputs": [],
   "source": [
    "np.linalg.norm(ff_values, axis=-1).max()"
   ]
  },
  {
   "cell_type": "code",
   "execution_count": null,
   "id": "2fb7b84d-e222-4593-8a8f-fc5c09c2543c",
   "metadata": {},
   "outputs": [],
   "source": [
    "ff = DiscreteFF(ff_values, np.array((bl, tr)).T, Coords.CARTESIAN)"
   ]
  },
  {
   "cell_type": "code",
   "execution_count": null,
   "id": "7a1fda90-67bd-4892-9397-9c328d1c3c6a",
   "metadata": {},
   "outputs": [],
   "source": [
    "pb = NavigationProblem(ff, x_init, x_target, v_a, bl=bl, tr=tr, name='Bars flow', obstacles=[obs_d])"
   ]
  },
  {
   "cell_type": "code",
   "execution_count": null,
   "id": "f804774a-ac88-4fb3-9c60-61aa7e7d65a5",
   "metadata": {},
   "outputs": [],
   "source": [
    "solver_bars_flow = SolverEFResampling(pb, free_max_step=False, total_duration=1.2, tangency_tol=np.pi/2)\n",
    "solver_bars_flow.solve()"
   ]
  },
  {
   "cell_type": "code",
   "execution_count": null,
   "id": "85f9c5d8-431f-443d-aef3-a635e7c081f2",
   "metadata": {},
   "outputs": [],
   "source": [
    "fig, ax = my_figure(solver_bars_flow, c_levels=np.arange(0, 1.21, 0.1), ff_on=True, no_quiver=True)\n",
    "plt.arrow(0.3+0.075, 0.3, -0.05, 0, zorder=9, width=0.025, edgecolor='black', facecolor='none', alpha=0.7, overhang=0.2)\n",
    "plt.arrow(0.6+0.075, 0.6, -0.05, 0, zorder=9, width=0.025, edgecolor='black', facecolor='none', alpha=0.7, overhang=0.2)\n",
    "#plt.savefig('/home/bastien/Documents/Manuscript/manuscript/time_optimality/plot_scripts/obstacle_simple/bars_flow.png', dpi=300)\n",
    "plt.show()"
   ]
  },
  {
   "cell_type": "code",
   "execution_count": null,
   "id": "731c340f-5ad8-454c-acbd-ce2b20978701",
   "metadata": {},
   "outputs": [],
   "source": [
    "from dabry.flowfield import StateLinearFF\n",
    "srf = 1.\n",
    "\n",
    "f = 1.\n",
    "x_init = f * np.array([0., 0.])\n",
    "x_target = f * np.array([1., 0.])\n",
    "\n",
    "g = 1.\n",
    "gradient = np.array([[0., g], [0., 0.]])\n",
    "origin = np.array([0., 0.])\n",
    "value_origin = np.array([0., 0.])\n",
    "\n",
    "bl = f * np.array([-0.2, -0.7])\n",
    "tr = f * np.array([1.2, 0.7])\n",
    "\n",
    "ff_a = StateLinearFF(gradient, origin, value_origin)\n",
    "\n",
    "ff = DiscreteFF.from_ff(ff_a, np.array((bl, tr)).T)"
   ]
  },
  {
   "cell_type": "code",
   "execution_count": null,
   "id": "669fdabb-c765-4154-9be0-e7a2340d721b",
   "metadata": {},
   "outputs": [],
   "source": [
    "theta = np.linspace(np.pi/2, 3*np.pi/2, 100)\n",
    "center = np.array((0.5, 0))\n",
    "radius = 0.25\n",
    "dist = 0.025\n",
    "points = center + np.stack((np.linspace(0, 0, 51), np.linspace(-0.1, 0.2, 51)), -1)\n",
    "bar = shapely.LineString(points)\n",
    "\n",
    "shape = (101, 101)\n",
    "grid_vectors = np.stack(np.meshgrid(np.linspace(bl[0], tr[0], shape[0]),\n",
    "                                    np.linspace(bl[1], tr[1], shape[1]), indexing='ij'), -1)\n",
    "values = np.zeros(shape)\n",
    "for i in range(shape[0]):\n",
    "    for j in range(shape[1]):\n",
    "        values[i, j] = bar.distance(shapely.Point(grid_vectors[i, j])) - dist"
   ]
  },
  {
   "cell_type": "code",
   "execution_count": null,
   "id": "2654e3cf-6774-4858-bbdb-af16847637bf",
   "metadata": {},
   "outputs": [],
   "source": [
    "plt.contour(grid_vectors[..., 0], grid_vectors[..., 1], values, levels=[0])"
   ]
  },
  {
   "cell_type": "code",
   "execution_count": null,
   "id": "dc7e0594-3cbc-4f6d-a011-bdf1df662bc8",
   "metadata": {},
   "outputs": [],
   "source": [
    "obs = DiscreteObs(values, np.array((bl, tr)).T)\n",
    "\n",
    "pb = NavigationProblem(ff, x_init, x_target, srf, bl=bl, tr=tr, name='Linear Obstacle', obstacles=[obs])"
   ]
  },
  {
   "cell_type": "code",
   "execution_count": null,
   "id": "f202e4a8-e05c-42e7-8ca4-4d5008380186",
   "metadata": {},
   "outputs": [],
   "source": [
    "solver_linear = SolverEFResampling(pb, free_max_step=False, tangency_tol=np.pi/2)\n",
    "solver_linear.solve()"
   ]
  },
  {
   "cell_type": "code",
   "execution_count": null,
   "id": "0572196b-7acf-4a79-b4ba-664b67440927",
   "metadata": {},
   "outputs": [],
   "source": [
    "fig, ax = my_figure(solver_linear, c_levels=np.arange(0, 1.21, 0.1), ff_on=True, ff_sub=4)\n",
    "#plt.savefig('/home/bastien/Documents/Manuscript/manuscript/time_optimality/plot_scripts/obstacle_simple/linear_obs.pdf')\n",
    "plt.show()"
   ]
  }
 ],
 "metadata": {
  "kernelspec": {
   "display_name": "Python 3 (ipykernel)",
   "language": "python",
   "name": "python3"
  },
  "language_info": {
   "codemirror_mode": {
    "name": "ipython",
    "version": 3
   },
   "file_extension": ".py",
   "mimetype": "text/x-python",
   "name": "python",
   "nbconvert_exporter": "python",
   "pygments_lexer": "ipython3",
   "version": "3.11.5"
  }
 },
 "nbformat": 4,
 "nbformat_minor": 5
}
