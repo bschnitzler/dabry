{
 "cells": [
  {
   "cell_type": "code",
   "execution_count": null,
   "id": "bfcc8850-62d8-4a02-a840-d7f0a049c07e",
   "metadata": {},
   "outputs": [],
   "source": [
    "from dabry.problem import NavigationProblem\n",
    "from dabry.solver_ef import SolverEFResampling, SolverEF\n",
    "import matplotlib\n",
    "import matplotlib.pyplot as plt\n",
    "import matplotlib.patches as patches\n",
    "import matplotlib.cm as mpl_cm\n",
    "import numpy as np\n",
    "import itertools\n",
    "\n",
    "plt.rc('font', size=18)\n",
    "plt.rc('axes', titlesize=18)\n",
    "plt.rc('axes', labelsize=18)\n",
    "plt.rc('xtick', labelsize=18)\n",
    "plt.rc('ytick', labelsize=18)\n",
    "plt.rc('legend', fontsize=10)\n",
    "plt.rc('mathtext', fontset='cm')\n",
    "plt.rc('text', usetex=True)"
   ]
  },
  {
   "cell_type": "code",
   "execution_count": null,
   "id": "459f2330-72fb-45ef-bcf6-5bd47ea96023",
   "metadata": {},
   "outputs": [],
   "source": [
    "def my_figure(solver, ff_on=False, c_levels=np.arange(0, 1.01, 0.1), no_quiver=False, ff_sub=1, t_min=None, t_max=None,\n",
    "             traj_ext=None, rain=None, times=None, use_cost_map_no_g=False):\n",
    "    if t_min is None:\n",
    "        t_min = solver.total_duration / 6\n",
    "    if t_max is None:\n",
    "        t_max = solver.total_duration\n",
    "    norm = matplotlib.colors.Normalize(vmin=0, vmax=t_max, clip=True)\n",
    "    c_levels = np.arange(0, t_max + 0.01, 0.1)\n",
    "    cost_map = solver._cost_map if not use_cost_map_no_g else solver._cost_map_no_g\n",
    "    nrows, ncols = 2, 3\n",
    "    fig, axs = plt.subplots(nrows, ncols, figsize=1.1*np.array((12, 8)))\n",
    "    if times is None:\n",
    "        times = np.linspace(t_min, t_max, 6)\n",
    "    for k, (i, j) in enumerate(itertools.product(range(nrows), range(ncols))):\n",
    "        t_cur_m1 = 0 if k == 0 else times[k-1]\n",
    "        t_cur = times[k]\n",
    "        levels = np.hstack((c_levels[c_levels < t_cur], t_cur))\n",
    "        ax = axs[i, j]\n",
    "        ax.axis('equal')\n",
    "        ax.set_xlim(solver.pb.bl[0], solver.pb.tr[0])\n",
    "        ax.set_xbound(lower=solver.pb.bl[0], upper=solver.pb.tr[0])\n",
    "        ax.set_ylim(solver.pb.bl[1], solver.pb.tr[1])\n",
    "        ax.set_ybound(lower=solver.pb.bl[1], upper=solver.pb.tr[1])\n",
    "        ax.set_aspect('auto')\n",
    "\n",
    "        # Trajectories\n",
    "        if rain is None:\n",
    "            points_scatter = np.zeros((len(solver.trajs), 2))\n",
    "            for i_traj, traj in enumerate(solver.trajs):\n",
    "                sl = np.logical_and(t_cur_m1 < traj.times, traj.times < t_cur)\n",
    "                ax.plot(*traj.states[sl].T, color='grey', zorder=4)\n",
    "                points_scatter[i_traj, :] = traj.states[sl][-1]\n",
    "            ax.scatter(*points_scatter.T, color='black', s=10, zorder=5)\n",
    "            for site in solver.solution_sites:\n",
    "                ax.plot(*site.traj.states[site.traj.times < t_cur].T, color='black', zorder=8)\n",
    "            if solver.solution_site is not None:\n",
    "                ax.plot(*solver.solution_site.traj.states[solver.solution_site.traj.times < t_cur].T, color='red', zorder=8)\n",
    "                ax.scatter(*solver.solution_site.traj.states[solver.solution_site.traj.times < t_cur][-1], color='red', s=10, zorder=8)\n",
    "            if traj_ext is not None:\n",
    "                ax.plot(*traj_ext.states[traj_ext.times < t_cur].T, color='blue', zorder=8)\n",
    "                ax.scatter(*traj_ext.states[traj_ext.times < t_cur][-1], color='blue', s=10, zorder=8)\n",
    "            if not ff_on:\n",
    "    \n",
    "                # Cost map\n",
    "                \n",
    "                if k == nrows * ncols - 1:\n",
    "                    c = ax.contourf(cost_map.grid_vectors[1:-1, 1:-1, 0], cost_map.grid_vectors[1:-1, 1:-1, 1],\n",
    "                                cost_map.values[1:-1, 1:-1], levels=levels,\n",
    "                                    cmap='jet', norm=norm, zorder=4, alpha=0.5)\n",
    "                    c = ax.contour(cost_map.grid_vectors[1:-1, 1:-1, 0], cost_map.grid_vectors[1:-1, 1:-1, 1],\n",
    "                                   cost_map.values[1:-1, 1:-1], levels=c_levels[c_levels < t_cur], \n",
    "                                   alpha=1, colors=((0.2, 0.2, 0.2),) if not ff_on else 'black', zorder=5)\n",
    "                    ax.clabel(c, c.levels, inline=True, fontsize=15)\n",
    "            else:\n",
    "    \n",
    "                # Flow field\n",
    "                \n",
    "                ff = solver.pb.model.ff\n",
    "                wind_norm = matplotlib.colors.Normalize()\n",
    "                wind_norm.autoscale([0, 0.85*np.linalg.norm(ff.values, axis=-1).max()])\n",
    "                grid_vectors_ff = np.stack(\n",
    "                    np.meshgrid(\n",
    "                        np.linspace(\n",
    "                            ff.bounds[-2, 0], \n",
    "                            ff.bounds[-2, 1], \n",
    "                            ff.values.shape[-3]\n",
    "                        ),\n",
    "                        np.linspace(\n",
    "                            ff.bounds[-1, 0], \n",
    "                            ff.bounds[-1, 1], \n",
    "                            ff.values.shape[-2]\n",
    "                        ), indexing= 'ij'), -1)\n",
    "                grid_vectors_ff = grid_vectors_ff[::ff_sub, ::ff_sub]\n",
    "                if len(ff.values.shape) == 4:\n",
    "                    t_virt_ff = (t_cur - ff.bounds[0, 0]) / (ff.bounds[0, 1] - ff.bounds[0, 0])\n",
    "                    it = np.floor(t_virt_ff * (ff.values.shape[0] - 1)).astype(np.int32)\n",
    "                    alpha = t_virt_ff * ff.values.shape[0] - it\n",
    "                    if it == ff.values.shape[0]:\n",
    "                        it = ff.values.shape[0] - 2\n",
    "                        alpha = 1\n",
    "                    ff_frame = (1 - alpha) * ff.values[it, ::ff_sub, ::ff_sub] + alpha * ff.values[it + 1, ::ff_sub, ::ff_sub]\n",
    "                else:\n",
    "                    ff_frame = ff.values[::ff_sub, ::ff_sub]\n",
    "                ff_norms = np.linalg.norm(ff_frame, axis=-1)\n",
    "                cmesh = ax.pcolormesh(grid_vectors_ff[..., 0], grid_vectors_ff[..., 1], \n",
    "                              ff_norms, zorder=2,\n",
    "                              shading='gouraud', cmap='turbo', norm=wind_norm)\n",
    "                rect = patches.Rectangle(solver.pb.bl, solver.pb.tr[0] - solver.pb.bl[0], solver.pb.tr[1] - solver.pb.bl[1],\n",
    "                                    alpha=0.3, color='white', zorder=3)\n",
    "                ax.add_patch(rect)\n",
    "                if not no_quiver:\n",
    "                    ax.quiver(grid_vectors_ff[..., 0], grid_vectors_ff[..., 1], ff_frame[..., 0], ff_frame[..., 1], zorder=4)\n",
    "            \n",
    "        # Obstacle\n",
    "        \n",
    "        obs = solver.pb.obstacles[0]\n",
    "        if obs.__class__.__name__ != 'FrameObs':\n",
    "            grid_vectors_obs = np.stack(\n",
    "                np.meshgrid(\n",
    "                    np.linspace(\n",
    "                        obs.bounds[-2, 0], \n",
    "                        obs.bounds[-2, 1], \n",
    "                        obs.values.shape[-2]\n",
    "                    ),\n",
    "                    np.linspace(\n",
    "                        obs.bounds[-1, 0], \n",
    "                        obs.bounds[-1, 1], \n",
    "                        obs.values.shape[-1]\n",
    "                    ), indexing= 'ij'), -1)\n",
    "            t_virt_obs = (t_cur - obs.bounds[0, 0]) / (obs.bounds[0, 1] - obs.bounds[0, 0])\n",
    "            it = np.floor(t_virt_obs * (obs.values.shape[0] - 1)).astype(np.int32)\n",
    "            alpha = t_virt_obs * obs.values.shape[0] - it\n",
    "            if it == obs.values.shape[0]:\n",
    "                it = obs.values.shape[0] - 2\n",
    "                alpha = 1\n",
    "            obs_frame = (1 - alpha) * obs.values[it] + alpha * obs.values[it + 1]\n",
    "            ax.contourf(grid_vectors_obs[..., 0], grid_vectors_obs[..., 1], \n",
    "                        obs_frame, levels=[-100, 0],\n",
    "                        colors='purple', extend='min', alpha=0.5, zorder=4)\n",
    "            ax.contour(grid_vectors_obs[..., 0], grid_vectors_obs[..., 1], obs_frame, levels=[0], colors='purple', zorder=4)\n",
    "\n",
    "        # Rain\n",
    "\n",
    "        if rain is not None:\n",
    "            ff = solver.pb.model.ff\n",
    "            grid_vectors_ff = np.stack(\n",
    "                np.meshgrid(\n",
    "                    np.linspace(\n",
    "                        ff.bounds[-2, 0], \n",
    "                        ff.bounds[-2, 1], \n",
    "                        ff.values.shape[-3]\n",
    "                    ),\n",
    "                    np.linspace(\n",
    "                        ff.bounds[-1, 0], \n",
    "                        ff.bounds[-1, 1], \n",
    "                        ff.values.shape[-2]\n",
    "                    ), indexing= 'ij'), -1)\n",
    "            grid_vectors_ff = grid_vectors_ff[::ff_sub, ::ff_sub]\n",
    "            if len(ff.values.shape) == 4:\n",
    "                t_virt_ff = (t_cur - ff.bounds[0, 0]) / (ff.bounds[0, 1] - ff.bounds[0, 0])\n",
    "                it = np.floor(t_virt_ff * (ff.values.shape[0] - 1)).astype(np.int32)\n",
    "                alpha = t_virt_ff * ff.values.shape[0] - it\n",
    "                if it == ff.values.shape[0]:\n",
    "                    it = ff.values.shape[0] - 2\n",
    "                    alpha = 1\n",
    "                ff_frame = (1 - alpha) * ff.values[it, ::ff_sub, ::ff_sub] + alpha * ff.values[it + 1, ::ff_sub, ::ff_sub]\n",
    "            else:\n",
    "                ff_frame = ff.values[::ff_sub, ::ff_sub]\n",
    "            ff_norms = np.linalg.norm(ff_frame, axis=-1)\n",
    "            ax.pcolormesh(grid_vectors_ff[..., 0], grid_vectors_ff[..., 1], \n",
    "                          ff_norms, zorder=2,\n",
    "                          shading='gouraud', cmap='turbo')\n",
    "            rect = patches.Rectangle(solver.pb.bl, solver.pb.tr[0] - solver.pb.bl[0], solver.pb.tr[1] - solver.pb.bl[1],\n",
    "                                alpha=0.3, color='white', zorder=3)\n",
    "            ax.add_patch(rect)\n",
    "            if not no_quiver:\n",
    "                ax.quiver(grid_vectors_ff[..., 0], grid_vectors_ff[..., 1], ff_frame[..., 0], ff_frame[..., 1], zorder=4)\n",
    "            \n",
    "        \n",
    "        # Origin destination\n",
    "        \n",
    "        ax.scatter(*solver.pb.x_init, color='black', edgecolor='white', s=100, zorder=10)\n",
    "        ax.scatter(*solver.pb.x_target, color='black', edgecolor='white', s=200, marker='*', zorder=10)\n",
    "        circ = patches.Circle(solver.pb.x_target, solver.target_radius, facecolor='none', edgecolor='black', linewidth=1, zorder=8)\n",
    "        ax.add_patch(circ)\n",
    "        \n",
    "        ax.set_title(rf'$t={t_cur:.3g}$')\n",
    "        ax.grid(True)\n",
    "    return fig, axs"
   ]
  },
  {
   "cell_type": "markdown",
   "id": "26a0866e-a875-4880-9d12-fb948eb9e7bc",
   "metadata": {},
   "source": [
    "# Custom problems"
   ]
  },
  {
   "cell_type": "markdown",
   "id": "12b652ed-4f89-4eb4-96fd-6f498d66352b",
   "metadata": {},
   "source": [
    "## Moving Disk"
   ]
  },
  {
   "cell_type": "code",
   "execution_count": null,
   "id": "ec4ac482-6768-42af-96f0-7e1b89407dbb",
   "metadata": {},
   "outputs": [],
   "source": [
    "from dabry.flowfield import ZeroFF\n",
    "from dabry.obstacle import DiscreteObs\n",
    "\n",
    "v_a = 1\n",
    "\n",
    "x_init = np.array((0.15, 0.5))\n",
    "x_target = np.array((0.85, 0.5))\n",
    "bounds = np.array(((0, 1), (0, 1), (0, 1)))\n",
    "\n",
    "ff = ZeroFF()\n",
    "\n",
    "shape = (25, 51, 51)\n",
    "grid_vectors_st = np.stack(np.meshgrid(\n",
    "    *(np.linspace(bounds[i, 0], bounds[i, 1], shape[i]) for i in range(3)),\n",
    "    indexing='ij'), -1)\n",
    "\n",
    "center = np.stack((np.linspace(0.5, 0.5, shape[0]), np.linspace(0.7, 0.3, shape[0])), -1)\n",
    "radius = 0.1\n",
    "diffs = (grid_vectors_st[..., 1:].transpose((1, 2, 0, 3)) - center).transpose((2, 0, 1, 3))\n",
    "values = np.linalg.norm(diffs, axis=-1) - radius\n",
    "values = np.linalg.norm(diffs, axis=-1) - radius\n",
    "obs = DiscreteObs(values, bounds)\n",
    "\n",
    "a = obs.event(0.5, np.array((0.5, 0.5, 0.5)))\n",
    "\n",
    "pb = NavigationProblem(ff, x_init, x_target, v_a, bl=bounds[1:].T[0], tr=bounds[1:].T[1],\n",
    "                       name='Moving circle', obstacles=[obs])"
   ]
  },
  {
   "cell_type": "code",
   "execution_count": null,
   "id": "0b933ffd-85d5-4721-8ffd-9851c040097e",
   "metadata": {},
   "outputs": [],
   "source": [
    "solver = SolverEFResampling(pb, free_max_step=False, tangency_tol=np.pi/2)\n",
    "solver.solve()"
   ]
  },
  {
   "cell_type": "code",
   "execution_count": null,
   "id": "cb1845df-76c4-451f-9aa0-4787efbfeffc",
   "metadata": {},
   "outputs": [],
   "source": [
    "fig, axs = my_figure(solver)\n",
    "for ax in axs.flatten():\n",
    "    ax.set_xticks(np.arange(0, 1.1, 0.2))\n",
    "#fig.savefig('/home/bastien/Documents/Manuscript/manuscript/time_optimality/plot_scripts/obstacle_moving/disk.pdf')\n",
    "plt.show()"
   ]
  },
  {
   "cell_type": "code",
   "execution_count": null,
   "id": "efadfe76-caf6-4790-89f6-6a5b075f50ce",
   "metadata": {},
   "outputs": [],
   "source": [
    "grid_vectors_obs = np.stack(\n",
    "    np.meshgrid(\n",
    "        np.linspace(\n",
    "            obs.bounds[-2, 0], \n",
    "            obs.bounds[-2, 1], \n",
    "            obs.values.shape[-2]\n",
    "        ),\n",
    "        np.linspace(\n",
    "            obs.bounds[-1, 0], \n",
    "            obs.bounds[-1, 1], \n",
    "            obs.values.shape[-1]\n",
    "        ), indexing= 'ij'), -1)"
   ]
  },
  {
   "cell_type": "code",
   "execution_count": null,
   "id": "4ec80232-a4c1-4864-91e8-baa2b82f2ae3",
   "metadata": {},
   "outputs": [],
   "source": [
    "dvalues = np.zeros(grid_vectors_obs.shape[:-1])\n",
    "for i in range(grid_vectors_obs.shape[0]):\n",
    "    for j in range(grid_vectors_obs.shape[1]):\n",
    "        dvalues[i, j] = obs.d_value_dt(0.5, grid_vectors_obs[i, j])\n",
    "plt.contourf(grid_vectors_obs[..., 0], grid_vectors_obs[..., 1], dvalues)"
   ]
  },
  {
   "cell_type": "code",
   "execution_count": null,
   "id": "48e880d8-4d44-4a82-a3e7-8bb478fa9e53",
   "metadata": {},
   "outputs": [],
   "source": [
    "obs.d_value_dt(0, np.array((0.5, 0.5))) / np.linalg.norm(obs.d_value(0, np.array((0.5, 0.5))))"
   ]
  },
  {
   "cell_type": "markdown",
   "id": "c0ed0d2b-ea34-4b72-977f-02663fbfb86c",
   "metadata": {},
   "source": [
    "## Moving Barrier"
   ]
  },
  {
   "cell_type": "code",
   "execution_count": null,
   "id": "922e5ab7-b03c-4b68-885d-f4cd560905d5",
   "metadata": {},
   "outputs": [],
   "source": [
    "from dabry.flowfield import ZeroFF\n",
    "from dabry.obstacle import DiscreteObs\n",
    "\n",
    "v_a = 1\n",
    "\n",
    "x_init = np.array((0.15, 0.5))\n",
    "x_target = np.array((0.85, 0.5))\n",
    "bounds = np.array(((0, 1), (0, 1), (0, 1)))\n",
    "\n",
    "ff = ZeroFF()"
   ]
  },
  {
   "cell_type": "code",
   "execution_count": null,
   "id": "d6aa3d54-5c53-41cb-9e2e-c8475d18fdb7",
   "metadata": {},
   "outputs": [],
   "source": [
    "import shapely\n",
    "\n",
    "dist = 0.025\n",
    "\n",
    "bar = np.array((np.linspace(0, 0, 50), np.linspace(-0.2, 0.2, 50))).T\n",
    "\n",
    "shape = (25, 51, 51)\n",
    "grid_vectors_st = np.stack(np.meshgrid(\n",
    "    *(np.linspace(bounds[i, 0], bounds[i, 1], shape[i]) for i in range(3)), \n",
    "    indexing='ij'), -1)\n",
    "\n",
    "values = np.zeros(shape)\n",
    "for k in range(shape[0]):\n",
    "    for i in range(shape[1]):\n",
    "        for j in range(shape[2]):\n",
    "            center = np.array((0.5, 0.7)) - np.array((0, 0.4)) * k / (shape[0] - 1)\n",
    "            points = bar + center\n",
    "            line1 = shapely.LineString(points)\n",
    "            values[k, i, j] = line1.distance(shapely.Point(grid_vectors_st[0, i, j, 1:])) - dist"
   ]
  },
  {
   "cell_type": "code",
   "execution_count": null,
   "id": "a9fd5be8-9079-4db7-b1bf-17975b019803",
   "metadata": {},
   "outputs": [],
   "source": [
    "it = 24\n",
    "plt.contour(grid_vectors_st[it, ..., 1], grid_vectors_st[it, ..., 2], values[it], levels=[0])"
   ]
  },
  {
   "cell_type": "code",
   "execution_count": null,
   "id": "3f8ce732-975a-43e9-97a2-1e50d9e75828",
   "metadata": {},
   "outputs": [],
   "source": [
    "obs = DiscreteObs(values, bounds)\n",
    "\n",
    "a = obs.event(0.5, np.array((0.5, 0.5, 0.5)))\n",
    "\n",
    "pb = NavigationProblem(ff, x_init, x_target, v_a, bl=bounds[1:].T[0], tr=bounds[1:].T[1],\n",
    "                       name='Moving bar', obstacles=[obs])"
   ]
  },
  {
   "cell_type": "code",
   "execution_count": null,
   "id": "c59dc2aa-e25a-408f-a0ae-c39110566503",
   "metadata": {},
   "outputs": [],
   "source": [
    "solver = SolverEFResampling(pb, free_max_step=False, tangency_tol=np.pi/2)\n",
    "solver.solve()"
   ]
  },
  {
   "cell_type": "code",
   "execution_count": null,
   "id": "8e26de04-6b9c-479c-b708-db38bc6c4fa6",
   "metadata": {},
   "outputs": [],
   "source": [
    "fig, ax = my_figure(solver)\n",
    "for ax in axs.flatten():\n",
    "    ax.set_xticks(np.arange(0, 1.1, 0.2))\n",
    "fig.savefig('/home/bastien/Documents/Manuscript/manuscript/time_optimality/plot_scripts/obstacle_moving/bar.pdf')\n",
    "plt.show()"
   ]
  },
  {
   "cell_type": "markdown",
   "id": "129136e2-e5fe-4e76-8c05-87ae5feb23da",
   "metadata": {},
   "source": [
    "## Linear, moving bar"
   ]
  },
  {
   "cell_type": "code",
   "execution_count": null,
   "id": "e48589bc-b5e4-4391-bcf4-cb4e25a0dca6",
   "metadata": {},
   "outputs": [],
   "source": [
    "from dabry.flowfield import StateLinearFF\n",
    "from dabry.obstacle import DiscreteObs\n",
    "\n",
    "v_a = 1\n",
    "\n",
    "x_init = np.array((0.15, 0.5))\n",
    "x_target = np.array((0.85, 0.5))\n",
    "bounds = np.array(((0, 1), (0, 1), (0, 1)))\n",
    "\n",
    "ff_a = StateLinearFF(np.array(((0, 1), (0, 0))), np.array((0, 0.5)), np.array((0, 0)))"
   ]
  },
  {
   "cell_type": "code",
   "execution_count": null,
   "id": "677e3b20-e498-4907-9b5b-c9dfa605207a",
   "metadata": {},
   "outputs": [],
   "source": [
    "import shapely\n",
    "\n",
    "dist = 0.025\n",
    "\n",
    "bar = np.array((np.linspace(0, 0, 50), np.linspace(-0.2, 0.2, 50))).T\n",
    "\n",
    "shape = (25, 51, 51)\n",
    "grid_vectors_st = np.stack(np.meshgrid(\n",
    "    *(np.linspace(bounds[i, 0], bounds[i, 1], shape[i]) for i in range(3)), \n",
    "    indexing='ij'), -1)\n",
    "\n",
    "values = np.zeros(shape)\n",
    "for k in range(shape[0]):\n",
    "    for i in range(shape[1]):\n",
    "        for j in range(shape[2]):\n",
    "            center = np.array((0.7, 0.5)) - np.array((0.6, 0)) * k / (shape[0] - 1)\n",
    "            points = bar + center\n",
    "            line1 = shapely.LineString(points)\n",
    "            values[k, i, j] = line1.distance(shapely.Point(grid_vectors_st[0, i, j, 1:])) - dist"
   ]
  },
  {
   "cell_type": "code",
   "execution_count": null,
   "id": "49c80b96-21fb-4ea1-a769-18a39624af63",
   "metadata": {},
   "outputs": [],
   "source": [
    "it = 15\n",
    "plt.contour(grid_vectors_st[it, ..., 1], grid_vectors_st[it, ..., 2], values[it], levels=[0])"
   ]
  },
  {
   "cell_type": "code",
   "execution_count": null,
   "id": "60563aa8-e72e-4f99-976a-dccb8393b1ad",
   "metadata": {},
   "outputs": [],
   "source": [
    "from dabry.flowfield import DiscreteFF\n",
    "ff = DiscreteFF.from_ff(ff_a, bounds[1:])"
   ]
  },
  {
   "cell_type": "code",
   "execution_count": null,
   "id": "f6066a5a-fd24-409f-a5b1-f85ec0305ead",
   "metadata": {},
   "outputs": [],
   "source": [
    "obs = DiscreteObs(values, bounds)\n",
    "\n",
    "pb = NavigationProblem(ff, x_init, x_target, v_a, bl=bounds[1:].T[0], tr=bounds[1:].T[1],\n",
    "                       name='Moving bar', obstacles=[obs])"
   ]
  },
  {
   "cell_type": "code",
   "execution_count": null,
   "id": "c7e0b4b4-7cb0-416e-9913-db391acf90d2",
   "metadata": {},
   "outputs": [],
   "source": [
    "solver = SolverEFResampling(pb, free_max_step=False)\n",
    "solver.solve()"
   ]
  },
  {
   "cell_type": "code",
   "execution_count": null,
   "id": "7914e7a1-4abf-47b4-a6cf-40b77bd2486c",
   "metadata": {},
   "outputs": [],
   "source": [
    "fig, axs = my_figure(solver, t_min=0.3, t_max=0.74, ff_on=True, ff_sub=3)\n",
    "for ax in axs.flatten():\n",
    "    ax.set_xticks(np.arange(0, 1.1, 0.2))\n",
    "fig.savefig('/home/bastien/Documents/Manuscript/manuscript/time_optimality/plot_scripts/obstacle_moving/linear_bar.pdf')\n",
    "plt.show()"
   ]
  },
  {
   "cell_type": "markdown",
   "id": "fba1b82b-6efc-4b22-ba5a-5c36e5e9bfc7",
   "metadata": {},
   "source": [
    "## Road crossing"
   ]
  },
  {
   "cell_type": "code",
   "execution_count": null,
   "id": "94f6d9e8-0fce-4cab-af9c-8f665aff576e",
   "metadata": {},
   "outputs": [],
   "source": [
    "from dabry.flowfield import StateLinearFF, ZeroFF\n",
    "from dabry.obstacle import DiscreteObs\n",
    "\n",
    "v_a = 1\n",
    "\n",
    "x_init = np.array((0.15, 0.5))\n",
    "x_target = np.array((0.85, 0.5))\n",
    "bounds = np.array(((0, 1), (0, 1), (0, 1)))\n",
    "\n",
    "ff = ZeroFF() # StateLinearFF(np.array(((0, 1), (0, 0))), np.array((0, 0.5)), np.array((0, 0)))"
   ]
  },
  {
   "cell_type": "code",
   "execution_count": null,
   "id": "4088af81-3fdf-4019-b4cc-f64a9668f8f2",
   "metadata": {},
   "outputs": [],
   "source": [
    "import shapely\n",
    "\n",
    "n_bar = 50\n",
    "\n",
    "class Vehicle:\n",
    "    def __init__(self, width, length):\n",
    "        self.width = width\n",
    "        self.length = length\n",
    "        self.bar = np.array((np.linspace(0, 0, n_bar), np.linspace(-self.length/2, self.length/2, n_bar))).T\n",
    "\n",
    "class MovingVehicle:\n",
    "    def __init__(self, vehicle, pos_init, velocity):\n",
    "        self.vehicle = vehicle\n",
    "        self.pos_init = pos_init \n",
    "        self.velocity = velocity\n",
    "\n",
    "    def bar(self, t):\n",
    "        return self.vehicle.bar + self.pos_init + self.velocity * t\n",
    "\n",
    "car = Vehicle(0.05, 0.1)\n",
    "truck = Vehicle(0.05, 0.2)\n",
    "\n",
    "mvs = [\n",
    "    MovingVehicle(car, np.array((0.5, 0.5)), np.array((0, -0.5))),\n",
    "    MovingVehicle(car, np.array((0.5, 0.8)), np.array((0, -0.5))),\n",
    "    MovingVehicle(truck, np.array((0.7, 0.4)), np.array((0, 0.3))),\n",
    "]\n",
    "\n",
    "shape = (25, 101, 101)\n",
    "grid_vectors_st = np.stack(np.meshgrid(\n",
    "    *(np.linspace(bounds[i, 0], bounds[i, 1], shape[i]) for i in range(3)), \n",
    "    indexing='ij'), -1)\n",
    "\n",
    "times = np.linspace(0, 1, shape[0])\n",
    "values = np.inf * np.ones(shape)\n",
    "for k in range(shape[0]):\n",
    "    for i in range(shape[1]):\n",
    "        for j in range(shape[2]):\n",
    "            for mv in mvs:\n",
    "                line = shapely.LineString(mv.bar(times[k]))\n",
    "                values[k, i, j] = min(line.distance(shapely.Point(grid_vectors_st[0, i, j, 1:])) - mv.vehicle.width, values[k, i, j])"
   ]
  },
  {
   "cell_type": "code",
   "execution_count": null,
   "id": "c035876b-df4e-436f-9202-67c8f32b3eac",
   "metadata": {},
   "outputs": [],
   "source": [
    "it = 20\n",
    "plt.contour(grid_vectors_st[it, ..., 1], grid_vectors_st[it, ..., 2], values[it], levels=[0])"
   ]
  },
  {
   "cell_type": "code",
   "execution_count": null,
   "id": "d1ee1e86-336c-4e43-a95e-ce48d39e8dee",
   "metadata": {},
   "outputs": [],
   "source": [
    "obs = DiscreteObs(values, bounds)\n",
    "\n",
    "pb = NavigationProblem(ff, x_init, x_target, v_a, bl=bounds[1:].T[0], tr=bounds[1:].T[1],\n",
    "                       name='Road crossing', obstacles=[obs])"
   ]
  },
  {
   "cell_type": "code",
   "execution_count": null,
   "id": "a533fc01-0f09-48ee-9834-b91c178f73bb",
   "metadata": {},
   "outputs": [],
   "source": [
    "from dabry.solver_ef import SolverEFResampling\n",
    "solver = SolverEFResampling(pb)\n",
    "solver.solve()"
   ]
  },
  {
   "cell_type": "code",
   "execution_count": null,
   "id": "458bd1a8-9fd6-4816-9fd7-7ec43b65875d",
   "metadata": {},
   "outputs": [],
   "source": [
    "fig, ax = my_figure(solver, t_min=0.28, t_max=0.72)\n",
    "for ax in axs.flatten():\n",
    "    ax.set_xticks(np.arange(0, 1.1, 0.2))\n",
    "fig.savefig('/home/bastien/Documents/Manuscript/manuscript/time_optimality/plot_scripts/obstacle_moving/road_crossing.pdf')\n",
    "plt.show()"
   ]
  },
  {
   "cell_type": "markdown",
   "id": "bfbc267f-2eb3-4ae3-93cf-4fa499fee53e",
   "metadata": {},
   "source": [
    "## Storm Dakar Natal"
   ]
  },
  {
   "cell_type": "code",
   "execution_count": null,
   "id": "54bb853c-5521-49b6-bf43-871d18713b71",
   "metadata": {},
   "outputs": [],
   "source": [
    "import scipy.io\n",
    "from dabry.flowfield import DiscreteFF\n",
    "from dabry.misc import Coords\n",
    "x_init = np.array([0.8883191 , 1.05880435])\n",
    "x_target = np.array((0, 0))\n",
    "srf = 1.39725\n",
    "vel_haz = scipy.io.loadmat('../../data/Dakar_Natal_2021Sep28_storm/scaled/velocity_hazard.mat')\n",
    "ff_values = vel_haz['ff_values']\n",
    "bounds = vel_haz['bounds']\n",
    "ff = DiscreteFF(ff_values, bounds, Coords.CARTESIAN)"
   ]
  },
  {
   "cell_type": "code",
   "execution_count": null,
   "id": "79b11748-e2fa-40c4-abf0-bed575b7acfd",
   "metadata": {},
   "outputs": [],
   "source": [
    "hazard_values = vel_haz['hazard_values']\n",
    "grid_vectors_st = np.stack(np.meshgrid(\n",
    "    *(np.linspace(bounds[i, 0], bounds[i, 1], ff_values.shape[i]) for i in range(3)), \n",
    "    indexing='ij'), -1)\n",
    "centers = np.zeros((ff_values.shape[0], 2))\n",
    "for it in range(ff_values.shape[0]):\n",
    "    idx = np.unravel_index(hazard_values[it].argmin(), hazard_values[it].shape)\n",
    "    centers[it, :] = grid_vectors_st[it, *idx][1:]"
   ]
  },
  {
   "cell_type": "code",
   "execution_count": null,
   "id": "b92854fe-68c8-4989-80f1-6dcc183d39a3",
   "metadata": {},
   "outputs": [],
   "source": [
    "from scipy.signal import convolve\n",
    "n_conv = 10\n",
    "centers_conv = np.stack((convolve(centers[:, 0], np.ones(n_conv)/n_conv, mode='same'),\n",
    "                         convolve(centers[:, 1], np.ones(n_conv)/n_conv, mode='same')), -1)"
   ]
  },
  {
   "cell_type": "code",
   "execution_count": null,
   "id": "691eae5b-89a8-4eeb-8a83-0a8229db47eb",
   "metadata": {},
   "outputs": [],
   "source": [
    "for i in range(5):\n",
    "    centers_conv[i, :] = centers_conv[5]\n",
    "for i in range(4):\n",
    "    centers_conv[-1 - i, :] = centers_conv[-5]"
   ]
  },
  {
   "cell_type": "code",
   "execution_count": null,
   "id": "fdcb7fc3-72b9-4894-b972-418efa756e00",
   "metadata": {},
   "outputs": [],
   "source": [
    "plt.scatter(*centers.T)\n",
    "plt.scatter(*centers_conv.T)"
   ]
  },
  {
   "cell_type": "code",
   "execution_count": null,
   "id": "b6a5d1ba-0e4c-40ec-9cb5-7b6146a9e90e",
   "metadata": {},
   "outputs": [],
   "source": [
    "dt = (bounds[0, 1] - bounds[0, 0]) / (ff_values.shape[0] - 1)\n",
    "print(dt)"
   ]
  },
  {
   "cell_type": "code",
   "execution_count": null,
   "id": "e7cd36a1-a970-4389-8d53-fa9dd7540d97",
   "metadata": {},
   "outputs": [],
   "source": [
    "np.linalg.norm(centers_conv[1:] - centers_conv[:-1], axis=-1)/dt"
   ]
  },
  {
   "cell_type": "code",
   "execution_count": null,
   "id": "558c3a23-f495-4ded-8274-86f5fc3da2c6",
   "metadata": {},
   "outputs": [],
   "source": [
    "obs_values = np.zeros(ff_values.shape[:-1])\n",
    "for it in range(obs_values.shape[0]):\n",
    "    radius = 0.2\n",
    "    obs_values[it, :] = np.linalg.norm(grid_vectors_st[it, ..., 1:] - centers_conv[it], axis=-1) - radius"
   ]
  },
  {
   "cell_type": "code",
   "execution_count": null,
   "id": "ac1bc991-9474-4997-8a38-0fd28913f463",
   "metadata": {},
   "outputs": [],
   "source": [
    "# obs_values = np.zeros(ff_values.shape[:-1])\n",
    "# for it in range(obs_values.shape[0]):\n",
    "#     obs_values[it, :] = hazard_values[it] + 0.5\n",
    "# n_conv = 4\n",
    "# for it in range(0, ff_values.shape[0], 4):\n",
    "#     plt.contour(convolve(obs_values[it], np.ones((n_conv, n_conv)) / n_conv ** 2, mode='same'), levels=[0], \n",
    "#                 colors=(matplotlib.colormaps.get_cmap('jet')(it/(ff_values.shape[0] - 1)),))"
   ]
  },
  {
   "cell_type": "markdown",
   "id": "539e5f45-2212-4573-af87-3fa0b662efc5",
   "metadata": {},
   "source": [
    "### No obstacle"
   ]
  },
  {
   "cell_type": "code",
   "execution_count": null,
   "id": "c382aca1-6f9f-4e82-9dbf-b98f3bfb10ec",
   "metadata": {},
   "outputs": [],
   "source": [
    "pb = NavigationProblem(ff, x_init, x_target, srf, bl=bounds[1:].T[0], tr=bounds[1:].T[1],\n",
    "                       name='Storm Dakar Natal no obs')"
   ]
  },
  {
   "cell_type": "code",
   "execution_count": null,
   "id": "cf320f43-4af7-4446-a5dc-407ea5fb9301",
   "metadata": {},
   "outputs": [],
   "source": [
    "solver_no_obs = SolverEFResampling(pb, total_duration=1.1, max_depth=25)\n",
    "solver_no_obs.solve()"
   ]
  },
  {
   "cell_type": "code",
   "execution_count": null,
   "id": "d6da97ea-48eb-45f4-9fcd-a8b79a115543",
   "metadata": {},
   "outputs": [],
   "source": [
    "fig, axs = my_figure(solver_no_obs, ff_on=True, ff_sub=3)\n",
    "for ax in axs.flatten():\n",
    "    ax.set_xticks(np.arange(0, 1.1, 0.2))\n",
    "#fig.savefig('/home/bastien/Documents/Manuscript/manuscript/time_optimality/plot_scripts/obstacle_moving/storm_dakar_natal_no_obs.png', dpi=300)\n",
    "plt.show()"
   ]
  },
  {
   "cell_type": "markdown",
   "id": "8e0ee2d5-f9e8-4a01-bb88-8d96fe124401",
   "metadata": {},
   "source": [
    "### With obstacle"
   ]
  },
  {
   "cell_type": "code",
   "execution_count": null,
   "id": "2d830506-b98c-4020-b56e-35795ca28ee8",
   "metadata": {},
   "outputs": [],
   "source": [
    "from dabry.obstacle import DiscreteObs\n",
    "obs = DiscreteObs(obs_values, bounds)"
   ]
  },
  {
   "cell_type": "code",
   "execution_count": null,
   "id": "d84693c8-44a8-4aeb-9c1c-92433d76e4ca",
   "metadata": {},
   "outputs": [],
   "source": [
    "pb = NavigationProblem(ff, x_init, x_target, srf, bl=bounds[1:].T[0], tr=bounds[1:].T[1],\n",
    "                       name='Storm Dakar Natal', obstacles=[obs])"
   ]
  },
  {
   "cell_type": "code",
   "execution_count": null,
   "id": "8bd82ae5-6bce-4aa6-9d0c-d5efa6065c5e",
   "metadata": {},
   "outputs": [],
   "source": [
    "ff.values.shape"
   ]
  },
  {
   "cell_type": "code",
   "execution_count": null,
   "id": "7e0476f1-990d-42f7-b2d3-d4aa1983ba72",
   "metadata": {},
   "outputs": [],
   "source": [
    "solver = SolverEFResampling(pb, total_duration=1.1, max_depth=25)\n",
    "solver.solve()"
   ]
  },
  {
   "cell_type": "code",
   "execution_count": null,
   "id": "ef63d946-cc6b-445b-ac20-424ef1ae322d",
   "metadata": {},
   "outputs": [],
   "source": [
    "fig, axs = my_figure(solver, ff_on=True, ff_sub=3, traj_ext=solver_no_obs.solution_site.traj)\n",
    "for ax in axs.flatten():\n",
    "    ax.set_xticks(np.arange(-0.2, 1.1, 0.2))\n",
    "    ax.set_ybound(-0.23, 1.195)\n",
    "    ax.set_yticks(np.arange(-0.2, 1.21, 0.2))\n",
    "fig.savefig('/home/bastien/Documents/Manuscript/manuscript/time_optimality/plot_scripts/obstacle_moving/storm_dakar_natal.png', dpi=300, bbox_inches='tight')\n",
    "plt.show()"
   ]
  },
  {
   "cell_type": "code",
   "execution_count": null,
   "id": "5974cd46-e00c-420f-baae-01b63b1111d7",
   "metadata": {},
   "outputs": [],
   "source": [
    "wind_norm = matplotlib.colors.Normalize()\n",
    "wind_norm.autoscale([0, 0.85*np.linalg.norm(solver.pb.model.ff.values, axis=-1).max()])\n",
    "plt.colorbar(mpl_cm.ScalarMappable(cmap='turbo', norm=wind_norm),\n",
    "                     label=\"Wind norm [no dim.]\", location='right', fraction=2*.032, pad=0.04) \n",
    "plt.savefig('/home/bastien/Documents/Manuscript/manuscript/time_optimality/plot_scripts/obstacle_moving/storm_dakar_natal_cmap.png', dpi=300)"
   ]
  },
  {
   "cell_type": "code",
   "execution_count": null,
   "id": "b1e3a3e5-4ed8-4f4e-a0d1-f8f7449de470",
   "metadata": {},
   "outputs": [],
   "source": [
    "solver.pb.time_radial()"
   ]
  },
  {
   "cell_type": "code",
   "execution_count": null,
   "id": "5baf95fd-39be-4b26-a420-c245b04541e5",
   "metadata": {},
   "outputs": [],
   "source": [
    "solver.pb.x_target"
   ]
  },
  {
   "cell_type": "markdown",
   "id": "0306f72c-2e6e-4350-b2ec-db51d163cb63",
   "metadata": {},
   "source": [
    "# Fast disk"
   ]
  },
  {
   "cell_type": "code",
   "execution_count": null,
   "id": "f20f5708-ed3b-4543-a9d8-af406cbfe5d6",
   "metadata": {},
   "outputs": [],
   "source": [
    "from dabry.flowfield import ZeroFF\n",
    "from dabry.obstacle import DiscreteObs\n",
    "\n",
    "v_a = 1\n",
    "\n",
    "x_init = np.array((0.15, 0.5))\n",
    "x_target = np.array((0.85, 0.5))\n",
    "bounds = np.array(((0, 1), (0, 1), (0, 1)))\n",
    "\n",
    "ff = ZeroFF()\n",
    "\n",
    "shape = (51, 51, 51)\n",
    "grid_vectors_st = np.stack(np.meshgrid(\n",
    "    *(np.linspace(bounds[i, 0], bounds[i, 1], shape[i]) for i in range(3)),\n",
    "    indexing='ij'), -1)\n",
    "\n",
    "center = np.stack((np.linspace(0.5, 0.5, shape[0]), np.linspace(1.2, -1.2, shape[0])), -1)\n",
    "radius = 0.1\n",
    "diffs = (grid_vectors_st[..., 1:].transpose((1, 2, 0, 3)) - center).transpose((2, 0, 1, 3))\n",
    "values = np.linalg.norm(diffs, axis=-1) - radius\n",
    "values = np.linalg.norm(diffs, axis=-1) - radius\n",
    "obs = DiscreteObs(values, bounds)\n",
    "\n",
    "a = obs.event(0.5, np.array((0.5, 0.5, 0.5)))\n",
    "\n",
    "pb = NavigationProblem(ff, x_init, x_target, v_a, bl=bounds[1:].T[0], tr=bounds[1:].T[1],\n",
    "                       name='Fast disk', obstacles=[obs])"
   ]
  },
  {
   "cell_type": "code",
   "execution_count": null,
   "id": "a62daec2-2cdb-4827-af20-d01136ae0fb4",
   "metadata": {},
   "outputs": [],
   "source": [
    "solver = SolverEFResampling(pb, free_max_step=False, tangency_tol=np.pi/2, max_depth=25)\n",
    "solver.solve()"
   ]
  },
  {
   "cell_type": "code",
   "execution_count": null,
   "id": "925d1a8b-c884-44e8-a879-ff06e5b38634",
   "metadata": {},
   "outputs": [],
   "source": [
    "solver.get_cost_map_no_guarantee()"
   ]
  },
  {
   "cell_type": "code",
   "execution_count": null,
   "id": "7c6dc04d-c61a-42ab-bbc4-a5d7a9222bc5",
   "metadata": {},
   "outputs": [],
   "source": [
    "fig, axs = my_figure(solver, times=[0.24, 0.28, 0.32, 0.36, 0.54, 0.72], use_cost_map_no_g=True)\n",
    "for ax in axs.flatten():\n",
    "    ax.set_xticks(np.arange(0, 1.1, 0.2))\n",
    "fig.savefig('/home/bastien/Documents/Manuscript/manuscript/time_optimality/plot_scripts/obstacle_moving/fast_disk.pdf', bbox_inches='tight')\n",
    "plt.show()"
   ]
  }
 ],
 "metadata": {
  "kernelspec": {
   "display_name": "Python 3 (ipykernel)",
   "language": "python",
   "name": "python3"
  },
  "language_info": {
   "codemirror_mode": {
    "name": "ipython",
    "version": 3
   },
   "file_extension": ".py",
   "mimetype": "text/x-python",
   "name": "python",
   "nbconvert_exporter": "python",
   "pygments_lexer": "ipython3",
   "version": "3.11.5"
  }
 },
 "nbformat": 4,
 "nbformat_minor": 5
}
