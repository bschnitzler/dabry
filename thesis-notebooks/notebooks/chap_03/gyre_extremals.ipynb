{
 "cells": [
  {
   "cell_type": "code",
   "execution_count": null,
   "id": "ce24cf4b-7a1c-451c-a961-b99423d6df88",
   "metadata": {},
   "outputs": [],
   "source": [
    "import numpy as np\n",
    "import matplotlib\n",
    "import matplotlib.pyplot as plt\n",
    "import matplotlib.patches as patches\n",
    "import scipy.integrate as itp\n",
    "from tqdm.notebook import tqdm\n",
    "\n",
    "plt.rc('font', size=18)\n",
    "plt.rc('axes', titlesize=18)\n",
    "plt.rc('axes', labelsize=18)\n",
    "plt.rc('xtick', labelsize=18)\n",
    "plt.rc('ytick', labelsize=18)\n",
    "plt.rc('legend', fontsize=10)\n",
    "plt.rc('mathtext', fontset='cm')\n",
    "plt.rc('text', usetex=True)\n",
    "#plt.rc('font', family='nimbus sans narrow') "
   ]
  },
  {
   "cell_type": "code",
   "execution_count": null,
   "id": "f8a36858-b851-4830-99a0-792ef2f2c02c",
   "metadata": {},
   "outputs": [],
   "source": [
    "from dabry.flowfield import GyreFF"
   ]
  },
  {
   "cell_type": "code",
   "execution_count": null,
   "id": "1adbed20-1987-4364-9d9e-1aaea0c9b4a8",
   "metadata": {},
   "outputs": [],
   "source": [
    "gyre = GyreFF(0.5, 0, 1, 1, 1)\n",
    "def v_f(x, t):\n",
    "    return gyre.value(t, x)\n",
    "\n",
    "def grad_v_f(x, t):\n",
    "    return gyre.d_value(t, x)\n",
    "    \n",
    "def F(y, t):\n",
    "    state, adjoint = y[:2], y[2:]\n",
    "    return np.concatenate((-v_r * adjoint / np.linalg.norm(adjoint) + v_f(state, t),\n",
    "                    -grad_v_f(state, t).transpose() @ adjoint))\n",
    "def F_obs(y, t):\n",
    "    state, adjoint = y[:2], y[2:]\n",
    "    return np.concatenate((-v_r * adjoint / np.linalg.norm(adjoint) + v_f(state, t),\n",
    "                    -grad_v_f(state, t).transpose() @ adjoint))"
   ]
  },
  {
   "cell_type": "code",
   "execution_count": null,
   "id": "54c3b527-3ddd-46b9-af50-0c8788dd8c52",
   "metadata": {},
   "outputs": [],
   "source": [
    "#nx, ny = 101, 101\n",
    "nx, ny = 31, 31\n",
    "bounds = np.array(((-0.6, 0.6), (-0.5, 0.5)))\n",
    "xx, yy = np.meshgrid(np.linspace(*bounds[0], nx), np.linspace(*bounds[1], ny), indexing='ij')\n",
    "ttt, xxx, yyy = np.meshgrid(np.linspace(0, 0, 1), np.linspace(*bounds[0], nx), np.linspace(*bounds[1], ny), indexing='ij')\n",
    "grid = np.stack((np.squeeze(ttt), np.squeeze(xxx), np.squeeze(yyy)), axis=-1)\n",
    "wind_values = gyre.value_vec(grid)"
   ]
  },
  {
   "cell_type": "code",
   "execution_count": null,
   "id": "e833fdd7-d01e-4011-822f-018e8a72506d",
   "metadata": {},
   "outputs": [],
   "source": [
    "wind_grads = gyre.d_value_vec(grid)"
   ]
  },
  {
   "cell_type": "code",
   "execution_count": null,
   "id": "549639aa-2628-4a20-9bdc-e0dfb7b272b4",
   "metadata": {},
   "outputs": [],
   "source": [
    "np.linalg.norm(wind_grads, axis=(-2, -1)).max()"
   ]
  },
  {
   "cell_type": "code",
   "execution_count": null,
   "id": "7894be91-aa3e-40de-8377-e576a34ab339",
   "metadata": {},
   "outputs": [],
   "source": [
    "wind_values.shape"
   ]
  },
  {
   "cell_type": "code",
   "execution_count": null,
   "id": "53aa2f31-c584-4cac-bc5c-a9ca667d33e7",
   "metadata": {},
   "outputs": [],
   "source": [
    "def wind_plot(no_wind_norm=False):    \n",
    "    fig, ax = plt.subplots()\n",
    "    \n",
    "    if not no_wind_norm:\n",
    "        ax.pcolormesh(xx, yy, np.linalg.norm(wind_values, axis=-1), cmap='turbo', shading='gouraud')\n",
    "    rect = patches.Rectangle((bounds[0, 0], bounds[1, 0]), bounds[0, 1] - bounds[0, 0], bounds[1, 1] - bounds[1, 0], \n",
    "                             facecolor='white', alpha=0.4)\n",
    "    ax.add_patch(rect)\n",
    "    n_quiv = 2\n",
    "    off = 1\n",
    "    ax.grid(True, color='black', alpha=0.5)\n",
    "    ax.quiver(xx[off::n_quiv, off::n_quiv], yy[off::n_quiv, off::n_quiv], \n",
    "              wind_values[off::n_quiv, off::n_quiv, 0], wind_values[off::n_quiv, off::n_quiv, 1], alpha=0.6)\n",
    "    \n",
    "    ax.scatter(*np.array((0, 0)), color='black', edgecolor='white', s=100, zorder=10)\n",
    "    #ax.scatter(*np.array((1, 0)), color='black', edgecolor='white', s=200, marker='*', zorder=10)\n",
    "    return fig, ax"
   ]
  },
  {
   "cell_type": "code",
   "execution_count": null,
   "id": "13122258-4baf-4328-a30a-f1e77d082d94",
   "metadata": {},
   "outputs": [],
   "source": [
    "fig, ax = wind_plot()\n",
    "\n",
    "n_traj, n_t = 301, 60\n",
    "v_r, a = 1., 1.\n",
    "trajs = np.zeros((n_traj, n_t, 4))\n",
    "x0 = np.zeros(2)\n",
    "angles = np.linspace(0, 2*np.pi, n_traj)\n",
    "\n",
    "T = 0.35\n",
    "for i, angle in enumerate(angles):\n",
    "    y0 = np.array((0., 0., -np.cos(angle), -np.sin(angle)))\n",
    "    trajs[i, :] = itp.odeint(F, y0, np.linspace(0, T, n_t))\n",
    "\n",
    "for i in range(0, trajs.shape[0], 3):\n",
    "    #ax.plot(trajs[i, :, 0], trajs[i, :, 1], linewidth=2.5, color='white')\n",
    "    ax.plot(trajs[i, :, 0], trajs[i, :, 1], linewidth=1, color='black')\n",
    "    ax.scatter(trajs[i, -1, 0], trajs[i, -1, 1], color='black', edgecolor='white', marker='D', zorder=10)\n",
    "\n",
    "ax.plot(trajs[:, -1, 0], trajs[:, -1, 1], linewidth=2, color='blue')\n",
    "\n",
    "# ax.set_xlim(-0.5, 0.5)\n",
    "# ax.set_ylim(-0.5, 0.5)\n",
    "#ax.set_xticks([0, 0.2, 0.4, 0.6, 0.8 ,1])\n",
    "#ax.set_yticks(np.arange(-0.4, 0.41, 0.2))\n",
    "ax.set_title(r'\\textbf{Gyre flow field}')\n",
    "#plt.savefig('gyre_extremals/gyre_extremals.png', dpi=600)\n",
    "#plt.savefig('gyre_extremals/gyre_extremals.pdf')\n",
    "plt.show()"
   ]
  },
  {
   "cell_type": "code",
   "execution_count": null,
   "id": "fb355929-da47-47d4-9065-d764f3101528",
   "metadata": {},
   "outputs": [],
   "source": [
    "#nx, ny = 101, 101\n",
    "nx, ny = 51, 51\n",
    "bounds = np.array(((-1.1, 1.1), (-0.8, 0.8)))\n",
    "xx, yy = np.meshgrid(np.linspace(*bounds[0], nx), np.linspace(*bounds[1], ny), indexing='ij')\n",
    "ttt, xxx, yyy = np.meshgrid(np.linspace(0, 0, 1), np.linspace(*bounds[0], nx), np.linspace(*bounds[1], ny), indexing='ij')\n",
    "grid = np.stack((np.squeeze(ttt), np.squeeze(xxx), np.squeeze(yyy)), axis=-1)\n",
    "wind_values = gyre.value_vec(grid)"
   ]
  },
  {
   "cell_type": "code",
   "execution_count": null,
   "id": "0cf190c7-e587-422f-8f36-15b30c6d40ac",
   "metadata": {},
   "outputs": [],
   "source": [
    "def wind_plot(no_wind_norm=False):    \n",
    "    fig, ax = plt.subplots()\n",
    "    \n",
    "    if not no_wind_norm:\n",
    "        ax.pcolormesh(xx, yy, np.linalg.norm(wind_values, axis=-1), cmap='turbo', shading='gouraud')\n",
    "    rect = patches.Rectangle((bounds[0, 0], bounds[1, 0]), bounds[0, 1] - bounds[0, 0], bounds[1, 1] - bounds[1, 0], \n",
    "                             facecolor='white', alpha=0.4)\n",
    "    ax.add_patch(rect)\n",
    "    n_quiv = 2\n",
    "    off = 1\n",
    "    ax.grid(True, color='black', alpha=0.5)\n",
    "    ax.quiver(xx[off::n_quiv, off::n_quiv], yy[off::n_quiv, off::n_quiv], \n",
    "              wind_values[off::n_quiv, off::n_quiv, 0], wind_values[off::n_quiv, off::n_quiv, 1], alpha=0.6)\n",
    "    \n",
    "    ax.scatter(*np.array((0, 0)), color='black', edgecolor='white', s=100, zorder=10)\n",
    "    #ax.scatter(*np.array((1, 0)), color='black', edgecolor='white', s=200, marker='*', zorder=10)\n",
    "    return fig, ax"
   ]
  },
  {
   "cell_type": "code",
   "execution_count": null,
   "id": "0117dbfd-6828-4b7d-a0a1-8e88d4fdde98",
   "metadata": {},
   "outputs": [],
   "source": [
    "n_traj, n_t = 3000, 60\n",
    "v_r, a = 1., 1.\n",
    "trajs = np.zeros((n_traj, n_t, 4))\n",
    "x0 = np.zeros(2)\n",
    "angles = np.linspace(0, 2*np.pi, n_traj)\n",
    "\n",
    "T = 0.7\n",
    "for i, angle in enumerate(angles):\n",
    "    y0 = np.array((0., 0., -np.cos(angle), -np.sin(angle)))\n",
    "    trajs[i, :] = itp.odeint(F, y0, np.linspace(0, T, n_t))"
   ]
  },
  {
   "cell_type": "code",
   "execution_count": null,
   "id": "19512ccb-1d1f-4edf-830f-1d1595ec5930",
   "metadata": {},
   "outputs": [],
   "source": [
    "fig, ax = wind_plot(no_wind_norm=True)\n",
    "\n",
    "# for it in range(n_t - 1):\n",
    "#     ax.plot(trajs[:, it, 0], trajs[:, it, 1], linewidth=2.5, alpha=0.2, color='green')\n",
    "\n",
    "cmap = matplotlib.colormaps.get_cmap('hsv')\n",
    "\n",
    "\n",
    "for i in range(trajs.shape[0]):\n",
    "    ax.plot(trajs[i, :, 0], trajs[i, :, 1], color=cmap(i/trajs.shape[0]), alpha=0.7)\n",
    "\n",
    "i1 = 105\n",
    "i2 = 1395\n",
    "i3 = 1605\n",
    "i4 = 2895\n",
    "ax.plot(trajs[:i1, -1, 0], trajs[:i1, -1, 1], linewidth=2, color='blue')\n",
    "ax.plot(trajs[i1:i2, -1, 0], trajs[i1:i2, -1, 1], linewidth=2, color='red')\n",
    "ax.plot(trajs[i2:i3, -1, 0], trajs[i2:i3, -1, 1], linewidth=2, color='blue')\n",
    "ax.plot(trajs[i3:i4, -1, 0], trajs[i3:i4, -1, 1], linewidth=2, color='green')\n",
    "ax.plot(trajs[i4:, -1, 0], trajs[i4:, -1, 1], linewidth=2, color='blue')\n",
    "\n",
    "# for i in [2, 6, 10]:\n",
    "#     ax.plot(trajs[i, :, 0], trajs[i, :, 1], linewidth=2.5, color='white')\n",
    "#     ax.plot(trajs[i, :, 0], trajs[i, :, 1], linewidth=1.5, color='black' if i != 4 else 'red')\n",
    "#     ax.scatter(trajs[i, -1, 0], trajs[i, -1, 1], color='black', edgecolor='white', marker='D', zorder=10)\n",
    "\n",
    "# ax.annotate(r'$\\mathcal{E}_{\\mathbf{x}_0}^{\\mathbf{x}}(t)$', (0.4, -0.22), xytext=(0.5, -0.3), color='blue',\n",
    "#             bbox=dict(facecolor='white', edgecolor='blue', boxstyle='round,pad=0.2', linewidth=0.5),\n",
    "#            arrowprops=dict(edgecolor='blue', arrowstyle='-', linewidth=0.5))\n",
    "\n",
    "# ax.annotate(r'$\\mathcal{S}_{\\mathbf{x}_0}^{\\mathbf{x}}(t)$', (0, -0.2), color='green',\n",
    "#             bbox=dict(facecolor='white', edgecolor='green', boxstyle='round,pad=0.2', linewidth=0.5))\n",
    "\n",
    "ax.set_xlim(-1.1, 1.1)\n",
    "#ax.set_xticks([0, 0.2, 0.4, 0.6, 0.8 ,1])\n",
    "#ax.set_yticks(np.arange(-0.4, 0.41, 0.2))\n",
    "#ax.set_title(f'Linear flow field', fontweight=\"bold\")\n",
    "#plt.savefig('linear_extremals/linear_extremals_set.png', dpi=600)\n",
    "plt.show()"
   ]
  },
  {
   "cell_type": "code",
   "execution_count": null,
   "id": "98f1b1f3-8b94-4de8-9bda-da75c5c46150",
   "metadata": {},
   "outputs": [],
   "source": [
    "fig, ax = plt.subplots()\n",
    "for spine_type in ['top', 'right', 'bottom', 'left']:\n",
    "    ax.spines[spine_type].set_visible(False)\n",
    "        \n",
    "ax.tick_params(axis='both', which='both', length=0)\n",
    "ax.set_xticklabels([])\n",
    "ax.set_yticklabels([])\n",
    "\n",
    "ax.scatter(*np.array((0, 0)), color='black', edgecolor='white', s=100, zorder=10)\n",
    "\n",
    "n_traj, n_t = 1000, 60\n",
    "v_r, a = 1., 1.\n",
    "trajs = np.zeros((n_traj, n_t, 4))\n",
    "x0 = np.zeros(2)\n",
    "angles = np.linspace(0, 2*np.pi, n_traj)\n",
    "\n",
    "T = 0.6\n",
    "for i, angle in enumerate(angles):\n",
    "    y0 = np.array((0., 0., -np.cos(angle), -np.sin(angle)))\n",
    "    trajs[i, :] = itp.odeint(F, y0, np.linspace(0, T, n_t))\n",
    "    \n",
    "ax.plot(trajs[:, -1, 0], trajs[:, -1, 1], linewidth=2, color='blue', alpha=0.5)\n",
    "\n",
    "step = 2\n",
    "for i in range(0, n_traj, step):\n",
    "    ax.plot(trajs[i, :, 0], trajs[i, :, 1], linewidth=2.5, color='white')\n",
    "    ax.plot(trajs[i, :, 0], trajs[i, :, 1], linewidth=1.5, color='black')\n",
    "    ax.scatter(trajs[i, -1, 0], trajs[i, -1, 1], color='black', edgecolor='white', marker='D', zorder=10)\n",
    "    if i < n_traj - 1:\n",
    "        ax.plot([trajs[i, -1, 0], trajs[i + step, -1, 0]], \n",
    "                [trajs[i, -1, 1], trajs[i + step, -1, 1]], linewidth=2, color='red', alpha=0.8)\n",
    "        step_it = 10\n",
    "        for it in range(0, n_t, step_it):\n",
    "            coords = np.stack((trajs[i, it, :2], trajs[i + step, it, :2], trajs[i + step, min(it + step_it, n_t - 1), :2]))\n",
    "            tri = patches.Polygon(coords, color='orange', alpha=0.7)\n",
    "            ax.add_patch(tri)\n",
    "            coords = np.stack((trajs[i, it, :2], trajs[i, min(it + step_it, n_t - 1), :2], trajs[i + step, min(it + step_it, n_t - 1), :2]))\n",
    "            tri = patches.Polygon(coords, color='green', alpha=0.7)\n",
    "            ax.add_patch(tri)\n",
    "\n",
    "ax.set_xlim(-0.6, 0.6)\n",
    "ax.set_xticks(np.arange(-0.6, 0.61, 0.2))\n",
    "ax.set_yticks(np.arange(-0.4, 0.41, 0.2))\n",
    "ax.axis('equal')\n",
    "#ax.set_title(f'Linear flow field', fontweight=\"bold\")\n",
    "#plt.savefig('advection_extremals/advection_extremals_set_approx.png', dpi=600)\n",
    "plt.show()"
   ]
  },
  {
   "cell_type": "code",
   "execution_count": null,
   "id": "b06b35dd-0c8f-4e88-bd9c-f2097d6a385e",
   "metadata": {},
   "outputs": [],
   "source": [
    "v_a = 1\n",
    "\n",
    "# Kularatne 2016\n",
    "\n",
    "x_init = np.array((0.6, 0.6))\n",
    "x_target = np.array((2.4, 2.4))\n",
    "bl = np.array((0.4, 0.4))\n",
    "tr = np.array((2.6, 2.6))\n",
    "\n",
    "gyre = GyreFF(0.5, 0.5, 2, 2, 1)"
   ]
  },
  {
   "cell_type": "code",
   "execution_count": null,
   "id": "0829b340-4fcb-44a8-be41-c189521f8791",
   "metadata": {},
   "outputs": [],
   "source": [
    "#nx, ny = 101, 101\n",
    "nx, ny = 51, 51\n",
    "bounds = np.array((bl, tr)).transpose()\n",
    "xx, yy = np.meshgrid(np.linspace(*bounds[0], nx), np.linspace(*bounds[1], ny), indexing='ij')\n",
    "ttt, xxx, yyy = np.meshgrid(np.linspace(0, 0, 1), np.linspace(*bounds[0], nx), np.linspace(*bounds[1], ny), indexing='ij')\n",
    "grid = np.stack((np.squeeze(ttt), np.squeeze(xxx), np.squeeze(yyy)), axis=-1)\n",
    "wind_values = gyre.value_vec(grid)"
   ]
  },
  {
   "cell_type": "code",
   "execution_count": null,
   "id": "0547cb74-7eb8-46ad-a8fd-3fd28bafa35f",
   "metadata": {},
   "outputs": [],
   "source": [
    "d_values = gyre.d_value_vec(grid)"
   ]
  },
  {
   "cell_type": "code",
   "execution_count": null,
   "id": "0c8935b1-12e0-4923-b8bf-1154d8b25223",
   "metadata": {},
   "outputs": [],
   "source": [
    "np.max(d_values)"
   ]
  },
  {
   "cell_type": "code",
   "execution_count": null,
   "id": "80e474a1-a6a1-447e-bb97-0b361358108e",
   "metadata": {},
   "outputs": [],
   "source": [
    "L = np.sqrt(2) * np.max(np.abs(d_values))\n",
    "print(L)"
   ]
  },
  {
   "cell_type": "code",
   "execution_count": null,
   "id": "7084169f-3858-4d0e-9d0e-2c972e95dd85",
   "metadata": {},
   "outputs": [],
   "source": [
    "L_mean = np.sqrt(2) * np.mean(np.abs(d_values))\n",
    "print(L_mean)"
   ]
  },
  {
   "cell_type": "code",
   "execution_count": null,
   "id": "37221790-7de1-4301-9049-65527b33ea67",
   "metadata": {},
   "outputs": [],
   "source": [
    "n_L = int(np.ceil(2 * np.pi / 0.2 * np.exp(L * T)))\n",
    "print('n_L: ', n_L)\n",
    "n_L_mean = int(np.ceil(2 * np.pi / 0.2 * np.exp(L_mean * T)))\n",
    "print('n_L_mean: ', n_L_mean)"
   ]
  },
  {
   "cell_type": "code",
   "execution_count": null,
   "id": "b49a49eb-7455-44cf-a219-ed371fcfc44b",
   "metadata": {},
   "outputs": [],
   "source": [
    "n_traj, n_t = 10000, 60\n",
    "v_r, a = 1., 1.\n",
    "trajs = np.zeros((n_traj, n_t, 4))\n",
    "x0 = x_init\n",
    "angles = np.linspace(0, 2*np.pi, n_traj)\n",
    "\n",
    "T = 1.6\n",
    "for i, angle in enumerate(tqdm(angles)):\n",
    "    y0 = np.hstack((x_init, (-np.cos(angle), -np.sin(angle))))\n",
    "    trajs[i, :] = itp.odeint(F, y0, np.linspace(0, T, n_t))"
   ]
  },
  {
   "cell_type": "code",
   "execution_count": null,
   "id": "caed26e6-2d22-409f-80e2-91fcc619027b",
   "metadata": {},
   "outputs": [],
   "source": [
    "fig, ax = plt.subplots(figsize=(5, 5))\n",
    "\n",
    "\n",
    "ax.pcolormesh(xx, yy, np.linalg.norm(wind_values, axis=-1), cmap='turbo', shading='gouraud')\n",
    "rect = patches.Rectangle((bounds[0, 0], bounds[1, 0]), bounds[0, 1] - bounds[0, 0], bounds[1, 1] - bounds[1, 0], \n",
    "                         facecolor='white', alpha=0.4)\n",
    "ax.add_patch(rect)\n",
    "n_quiv = 2\n",
    "off = 1\n",
    "ax.grid(True, color='black', alpha=0.5)\n",
    "ax.quiver(xx[off::n_quiv, off::n_quiv], yy[off::n_quiv, off::n_quiv], \n",
    "          wind_values[off::n_quiv, off::n_quiv, 0], wind_values[off::n_quiv, off::n_quiv, 1], alpha=0.6)\n",
    "\n",
    "ax.plot(trajs[:, -1, 0], trajs[:, -1, 1], linewidth=2, color='blue')\n",
    "\n",
    "\n",
    "for i in range(0, trajs.shape[0], 3):\n",
    "    #ax.plot(trajs[i, :, 0], trajs[i, :, 1], linewidth=2.5, color='white')\n",
    "    ax.plot(trajs[i, :, 0], trajs[i, :, 1], linewidth=1, color='black')\n",
    "    ax.scatter(trajs[i, -1, 0], trajs[i, -1, 1], color='black', edgecolor='white', marker='D', zorder=10)\n",
    "\n",
    "ax.scatter(*x_init, color='black', edgecolor='white', s=100, zorder=10)\n",
    "ax.scatter(*x_target, color='black', edgecolor='white', s=200, marker='*', zorder=10)\n",
    "circ = patches.Circle(x_target, 0.1, facecolor=(1, 0, 0, 0.5), edgecolor='red', linewidth=2)\n",
    "ax.add_patch(circ)\n",
    "\n",
    "ax.set_xticks(np.arange(0.5, 2.51, 0.5))\n",
    "ax.set_yticks(np.arange(0.5, 2.51, 0.5))\n",
    "ax.set_xlim(bl[0], tr[0])\n",
    "ax.set_ylim(bl[1], tr[1])\n",
    "\n",
    "plt.savefig('gyre_extremals/gyre_equisampling.pdf')"
   ]
  },
  {
   "cell_type": "code",
   "execution_count": null,
   "id": "cf6f8435-4a8a-4ddd-9c8a-9d9b8e957d06",
   "metadata": {},
   "outputs": [],
   "source": []
  }
 ],
 "metadata": {
  "kernelspec": {
   "display_name": "Python 3 (ipykernel)",
   "language": "python",
   "name": "python3"
  },
  "language_info": {
   "codemirror_mode": {
    "name": "ipython",
    "version": 3
   },
   "file_extension": ".py",
   "mimetype": "text/x-python",
   "name": "python",
   "nbconvert_exporter": "python",
   "pygments_lexer": "ipython3",
   "version": "3.11.5"
  }
 },
 "nbformat": 4,
 "nbformat_minor": 5
}
