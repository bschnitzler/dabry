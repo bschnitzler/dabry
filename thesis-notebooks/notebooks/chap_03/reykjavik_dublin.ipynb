{
 "cells": [
  {
   "cell_type": "markdown",
   "id": "984e9864-7519-401d-ae3b-e1797a934941",
   "metadata": {},
   "source": [
    "This notebook is given for information purposes. Some lines may need to be adapted for the code to run correctly."
   ]
  },
  {
   "cell_type": "code",
   "execution_count": null,
   "id": "e7b79e14-225d-498d-af30-f557e9166e49",
   "metadata": {},
   "outputs": [],
   "source": [
    "import numpy as np\n",
    "import scipy.io\n",
    "import os\n",
    "import matplotlib.pyplot as plt\n",
    "import matplotlib as mpl\n",
    "from tqdm.notebook import tqdm\n",
    "\n",
    "import cartopy.crs as ccrs\n",
    "import cartopy.feature as cfeature\n",
    "import matplotlib as mpl\n",
    "\n",
    "plt.rc('font', size=18)\n",
    "plt.rc('axes', titlesize=18)\n",
    "plt.rc('axes', labelsize=18)\n",
    "plt.rc('xtick', labelsize=18)\n",
    "plt.rc('ytick', labelsize=18)\n",
    "plt.rc('legend', fontsize=10)\n",
    "plt.rc('mathtext', fontset='cm')\n",
    "plt.rc('text', usetex=True)"
   ]
  },
  {
   "cell_type": "markdown",
   "id": "55e58585-c15f-4429-ad16-afa0ff3b1dd8",
   "metadata": {},
   "source": [
    "# Load from MSEAS PPLS results"
   ]
  },
  {
   "cell_type": "code",
   "execution_count": null,
   "id": "3a39c5d5-c9b3-4140-a919-eff47150fcf5",
   "metadata": {},
   "outputs": [],
   "source": [
    "dirname = '../../data/ls_output/reykjavik_dublin/'\n",
    "#dirname = '/home/bastien/Documents/work/MSEAS_Path_Planning_LS/results/unprocessed/20240710_130812'\n",
    "phi_fpaths = [os.path.join(dirname, fname) for fname in sorted(os.listdir(dirname)) if fname.startswith('sol_checkpoint')]\n",
    "phi_frame_0 = scipy.io.loadmat(phi_fpaths[0])['phi_to_save']\n",
    "phi = np.zeros((len(phi_fpaths), *phi_frame_0.shape))\n",
    "for it, fpath in enumerate(phi_fpaths):\n",
    "    phi[it] = scipy.io.loadmat(fpath)['phi_to_save']"
   ]
  },
  {
   "cell_type": "code",
   "execution_count": null,
   "id": "4f98a136-edf7-4a6b-9e68-b039180a5f79",
   "metadata": {},
   "outputs": [],
   "source": [
    "ff = np.load('../../data/reykjavik_dublin/ff_non_dim.npz')"
   ]
  },
  {
   "cell_type": "code",
   "execution_count": null,
   "id": "4799bec9-a23a-4f35-87ae-65565a29e1c6",
   "metadata": {},
   "outputs": [],
   "source": [
    "spatial_grid_ff = np.stack(\n",
    "    np.meshgrid(\n",
    "        np.linspace(*ff['bounds'][1], ff['values'].shape[1]),\n",
    "        np.linspace(*ff['bounds'][2], ff['values'].shape[2]), \n",
    "        indexing='ij'), \n",
    "    -1)\n",
    "\n",
    "time_grid_ff = np.linspace(*ff['bounds'][0], ff['values'].shape[0])\n",
    "\n",
    "spatial_grid_phi = np.stack(\n",
    "    np.meshgrid(\n",
    "        np.linspace(*ff['bounds'][1], 2*ff['values'].shape[1]),\n",
    "        np.linspace(*ff['bounds'][2], 2*ff['values'].shape[2]), \n",
    "        indexing='ij'), \n",
    "    -1)\n",
    "print(spatial_grid_phi.shape)"
   ]
  },
  {
   "cell_type": "code",
   "execution_count": null,
   "id": "8e8c639a-4673-46b5-891c-87c2e477466a",
   "metadata": {},
   "outputs": [],
   "source": [
    "time_grid_ff_trunc = time_grid_ff[:13]\n",
    "space_time_grid_trunc = np.stack(\n",
    "    np.meshgrid(\n",
    "        time_grid_ff_trunc,\n",
    "        np.linspace(*ff['bounds'][1], ff['values'].shape[1]),\n",
    "        np.linspace(*ff['bounds'][2], ff['values'].shape[2]), \n",
    "        indexing='ij'), \n",
    "    -1)"
   ]
  },
  {
   "cell_type": "code",
   "execution_count": null,
   "id": "5b5d3192-3376-4151-9859-6ab61ec7c726",
   "metadata": {},
   "outputs": [],
   "source": [
    "ff['bounds']"
   ]
  },
  {
   "cell_type": "code",
   "execution_count": null,
   "id": "85cf98db-b74e-46d2-8ea6-f9de566a3c06",
   "metadata": {},
   "outputs": [],
   "source": [
    "from scipy.interpolate import RegularGridInterpolator\n",
    "times = np.linspace(*ff['bounds'][0], ff['values'].shape[0])\n",
    "new_times = times[:13]\n",
    "ff_interp = RegularGridInterpolator(\n",
    "    (\n",
    "        time_grid_ff_trunc,\n",
    "        np.linspace(*ff['bounds'][1], ff['values'].shape[1]),\n",
    "        np.linspace(*ff['bounds'][2], ff['values'].shape[2])\n",
    "    ),\n",
    "    ff['values'][:13, ...],\n",
    "    method='cubic',\n",
    "    bounds_error=False,\n",
    "    fill_value=None\n",
    ")"
   ]
  },
  {
   "cell_type": "code",
   "execution_count": null,
   "id": "3ef82fbe-9125-4220-b88f-3c57bfe18ba3",
   "metadata": {},
   "outputs": [],
   "source": [
    "d_ff = np.stack((ff_interp(space_time_grid_trunc, nu=(0, 1, 0)), ff_interp(space_time_grid_trunc, nu=(0, 0, 1))), -1)"
   ]
  },
  {
   "cell_type": "code",
   "execution_count": null,
   "id": "354b7190-117f-439c-84f3-2633fd294cbd",
   "metadata": {},
   "outputs": [],
   "source": [
    "L = np.max(np.linalg.norm(d_ff, axis=(-2, -1)))\n",
    "print(L)"
   ]
  },
  {
   "cell_type": "code",
   "execution_count": null,
   "id": "62c9e617-253b-4ad0-9703-93294027390c",
   "metadata": {},
   "outputs": [],
   "source": [
    "ff_interp.values.max()"
   ]
  },
  {
   "cell_type": "code",
   "execution_count": null,
   "id": "fdbb4359-6335-4aa3-ab0c-1c3f2143a1b5",
   "metadata": {},
   "outputs": [],
   "source": [
    "np.linalg.norm(d_ff, axis=(-2, -1)).shape"
   ]
  },
  {
   "cell_type": "code",
   "execution_count": null,
   "id": "74066b7f-faf2-4100-9699-6c7667ef463d",
   "metadata": {},
   "outputs": [],
   "source": [
    "L_mean = np.mean(np.linalg.norm(d_ff, axis=(-2, -1)))\n",
    "print(L_mean)"
   ]
  },
  {
   "cell_type": "code",
   "execution_count": null,
   "id": "c0227fa0-7158-4d83-b2c5-a74485701547",
   "metadata": {},
   "outputs": [],
   "source": [
    "epsilon = 2.25e-2\n",
    "print(f'{2 * np.pi * 1 / epsilon * np.exp(L * 1.2):.2E}')"
   ]
  },
  {
   "cell_type": "code",
   "execution_count": null,
   "id": "241d75f0-0815-46ad-b758-c7a2304027cc",
   "metadata": {},
   "outputs": [],
   "source": [
    "print(f'{2 * np.pi * 1 / epsilon * np.exp(L_mean * 1.2)}')"
   ]
  },
  {
   "cell_type": "markdown",
   "id": "6ffd5f69-94e3-4e8a-a683-db6757babd8e",
   "metadata": {},
   "source": [
    "## Draw wind"
   ]
  },
  {
   "cell_type": "code",
   "execution_count": null,
   "id": "7d170923-e4b3-45aa-96bc-539e6850ec74",
   "metadata": {},
   "outputs": [],
   "source": [
    "it_lo, it_hi = 0, 7\n",
    "norm_wind = mpl.colors.Normalize()\n",
    "norm_wind.autoscale([0, np.linalg.norm(ff['values'][it_lo:it_hi], axis=-1).max()])"
   ]
  },
  {
   "cell_type": "code",
   "execution_count": null,
   "id": "68580561-9734-4946-828f-850e6f147583",
   "metadata": {},
   "outputs": [],
   "source": [
    "np.linalg.norm(ff['values'][it_lo:it_hi], axis=-1).max()"
   ]
  },
  {
   "cell_type": "code",
   "execution_count": null,
   "id": "a83baa88-7081-4a25-a3cb-3590062a661a",
   "metadata": {},
   "outputs": [],
   "source": [
    "np.linalg.norm(ff['values'][5], axis=-1).max()"
   ]
  },
  {
   "cell_type": "code",
   "execution_count": null,
   "id": "bf5d9254-7d99-42ae-8d9e-653188599726",
   "metadata": {},
   "outputs": [],
   "source": [
    "bbox_llcrn = np.array((0, 0))\n",
    "bbox_ulcrn = np.array((0, 1))\n",
    "bbox_urcrn = np.array((1.5, 1))\n",
    "bbox_lrcrn = np.array((1.5, 0))\n",
    "\n",
    "for it in range(it_lo, it_hi):\n",
    "    fig, ax = plt.subplots()\n",
    "    nsub = 1\n",
    "    X, Y = spatial_grid_ff[::nsub, ::nsub, 0], spatial_grid_ff[::nsub, ::nsub, 1]\n",
    "    U, V = ff['values'][it, ::nsub, ::nsub, 0], ff['values'][it, ::nsub, ::nsub, 1]\n",
    "    ax.pcolormesh(X, Y, np.sqrt(U**2 + V**2), cmap='turbo', shading='gouraud', norm=norm_wind)\n",
    "    n_points = 50\n",
    "    lbound = np.vstack((np.linspace(bbox_llcrn[0], bbox_ulcrn[0], n_points), \n",
    "                        np.linspace(bbox_llcrn[1], bbox_ulcrn[1], n_points))).T\n",
    "    \n",
    "    ubound = np.vstack((np.linspace(bbox_ulcrn[0], bbox_urcrn[0], n_points), \n",
    "                        np.linspace(bbox_ulcrn[1], bbox_urcrn[1], n_points))).T\n",
    "    \n",
    "    rbound = np.vstack((np.linspace(bbox_urcrn[0], bbox_lrcrn[0], n_points), \n",
    "                        np.linspace(bbox_urcrn[1], bbox_lrcrn[1], n_points))).T\n",
    "    \n",
    "    bbound = np.vstack((np.linspace(bbox_lrcrn[0], bbox_llcrn[0], n_points), \n",
    "                        np.linspace(bbox_lrcrn[1], bbox_llcrn[1], n_points))).T\n",
    "    \n",
    "    boundary_vectors = np.vstack((lbound, ubound, rbound, bbound))\n",
    "    white_mask = mpl.patches.Polygon(boundary_vectors, color='white', alpha=0.2, zorder=3)\n",
    "    ax.add_patch(white_mask)\n",
    "    nsub = 5\n",
    "    X, Y = spatial_grid_ff[::nsub, ::nsub, 0], spatial_grid_ff[::nsub, ::nsub, 1]\n",
    "    U, V = ff['values'][it, ::nsub, ::nsub, 0], ff['values'][it, ::nsub, ::nsub, 1]\n",
    "    ax.quiver(X, Y, U, V)\n",
    "\n",
    "    ax.scatter(1.25, 0.5, s=100, color='black')\n",
    "    ax.scatter(0.25, 0.5, s=150, color='black', marker='*')\n",
    "    \n",
    "    title = f't={time_grid_ff[it]:.3g}'\n",
    "    ax.set_title(title)\n",
    "\n",
    "    plt.colorbar(mpl.cm.ScalarMappable(norm=norm_wind, cmap='turbo'), ax=ax,\n",
    "    label=\"Wind norm [no dim.]\", location='right', fraction=0.038, pad=0.04) \n",
    "    \n",
    "    \n",
    "    #fig.savefig(f'reykjavik_dublin/wind_{it:0>3}.pdf', format='pdf')\n",
    "    #plt.close(fig)"
   ]
  },
  {
   "cell_type": "code",
   "execution_count": null,
   "id": "379281c7-fe4b-4ba2-9c96-efdfc2825ad6",
   "metadata": {},
   "outputs": [],
   "source": [
    "scale_l = 1.4859e6"
   ]
  },
  {
   "cell_type": "code",
   "execution_count": null,
   "id": "72d53888-0cc1-4372-8885-49ca5405c3ff",
   "metadata": {},
   "outputs": [],
   "source": [
    "bbox_llcrn = np.array((0, 0))\n",
    "bbox_ulcrn = np.array((0, 1))\n",
    "bbox_urcrn = np.array((1.5, 1))\n",
    "bbox_lrcrn = np.array((1.5, 0))\n",
    "\n",
    "for it in range(it_lo, it_hi):\n",
    "    nsub = 1\n",
    "    X, Y = spatial_grid_ff[::nsub, ::nsub, 0], spatial_grid_ff[::nsub, ::nsub, 1]\n",
    "    U, V = ff['values'][it, ::nsub, ::nsub, 0], ff['values'][it, ::nsub, ::nsub, 1]\n",
    "    \n",
    "    fig = plt.figure()\n",
    "    oblique_merc_proj = ccrs.ObliqueMercator(central_longitude=-21.86, central_latitude=64.13, \n",
    "                                             false_northing=0.5, false_easting=0.25, azimuth=-113, scale_factor=1/scale_l)\n",
    "    ax = fig.add_subplot(1, 1, 1, projection=oblique_merc_proj)\n",
    "    ax.set_extent([0, 1.49, 0, 1], oblique_merc_proj)\n",
    "    ax.coastlines(zorder=5)\n",
    "    cmesh = ax.pcolormesh(X, Y, \n",
    "                  np.sqrt(U**2 + V**2), cmap='turbo', shading='gouraud', transform=oblique_merc_proj)\n",
    "    \n",
    "    bbox_llcrn = np.array((0, 0))\n",
    "    bbox_ulcrn = np.array((0, 1))\n",
    "    bbox_urcrn = np.array((1.5, 1))\n",
    "    bbox_lrcrn = np.array((1.5, 0))\n",
    "    n_points = 50\n",
    "    lbound = np.vstack((np.linspace(bbox_llcrn[0], bbox_ulcrn[0], n_points), \n",
    "                        np.linspace(bbox_llcrn[1], bbox_ulcrn[1], n_points))).T\n",
    "    \n",
    "    ubound = np.vstack((np.linspace(bbox_ulcrn[0], bbox_urcrn[0], n_points), \n",
    "                        np.linspace(bbox_ulcrn[1], bbox_urcrn[1], n_points))).T\n",
    "    \n",
    "    rbound = np.vstack((np.linspace(bbox_urcrn[0], bbox_lrcrn[0], n_points), \n",
    "                        np.linspace(bbox_urcrn[1], bbox_lrcrn[1], n_points))).T\n",
    "    \n",
    "    bbound = np.vstack((np.linspace(bbox_lrcrn[0], bbox_llcrn[0], n_points), \n",
    "                        np.linspace(bbox_lrcrn[1], bbox_llcrn[1], n_points))).T\n",
    "    \n",
    "    boundary_vectors = np.vstack((lbound, ubound, rbound, bbound))\n",
    "    white_mask = mpl.patches.Polygon(boundary_vectors, color='white', alpha=0.2, transform=oblique_merc_proj)\n",
    "    ax.add_patch(white_mask)\n",
    "    nsub = 5\n",
    "    X, Y = spatial_grid_ff[::nsub, ::nsub, 0], spatial_grid_ff[::nsub, ::nsub, 1]\n",
    "    U, V = ff['values'][it, ::nsub, ::nsub, 0], ff['values'][it, ::nsub, ::nsub, 1]\n",
    "    ax.quiver(X, Y, U, V, transform=oblique_merc_proj)\n",
    "    ax.plot(np.linspace(0.25, 1.25, 50), np.linspace(0.5, 0.5, 50), color='black', \n",
    "        transform=oblique_merc_proj, linewidth=2)\n",
    "    ax.plot(np.linspace(0.25, 1.25, 50), np.linspace(0.5, 0.5, 50), color='white', \n",
    "        transform=oblique_merc_proj, linewidth=2, dashes=(4,4))\n",
    "    ax.scatter(1.25, 0.5, s=100, color='black', zorder=5, edgecolor='white', transform=oblique_merc_proj)\n",
    "    ax.scatter(0.25, 0.5, s=150, color='black', marker='*', zorder=5, edgecolor='white', transform=oblique_merc_proj)\n",
    "    ax.add_feature(cfeature.LAND, color='lightgrey')\n",
    "    \n",
    "    title = f't={time_grid_ff[it]:.3g}'\n",
    "    ax.set_title(title)\n",
    "    fig.tight_layout()\n",
    "    plt.colorbar(mpl.cm.ScalarMappable(norm=norm_wind, cmap='turbo'), ax=ax,\n",
    "    label=\"Wind norm [no dim.]\", location='right', fraction=0.032, pad=0.04)\n",
    "    \n",
    "    ax.gridlines(color='black')\n",
    "    ax.set_xticks(np.arange(0, 1.51, 0.3))\n",
    "    ax.set_yticks(np.arange(0, 1.01, 0.2))\n",
    "    \n",
    "    #fig.savefig(f'reykjavik_dublin/wind_{it:0>3}.pdf', format='pdf', bbox_inches='tight')\n",
    "    #plt.close(fig)\n",
    "    plt.show()"
   ]
  },
  {
   "cell_type": "code",
   "execution_count": null,
   "id": "c70eebe8-86fe-49b4-8c8b-24899c131018",
   "metadata": {},
   "outputs": [],
   "source": [
    "ff_dim = np.load('../../data/reykjavik_dublin/ff.npz')"
   ]
  },
  {
   "cell_type": "code",
   "execution_count": null,
   "id": "e7e3ca20-9b67-4808-87c9-bd8f1a75479d",
   "metadata": {},
   "outputs": [],
   "source": [
    "ff_dim['bounds']"
   ]
  },
  {
   "cell_type": "code",
   "execution_count": null,
   "id": "bde775d7-1ef1-4ae9-ab57-02977b9d3caa",
   "metadata": {},
   "outputs": [],
   "source": [
    "norm_wind_dim = mpl.colors.Normalize()\n",
    "norm_wind_dim.autoscale([0, np.linalg.norm(ff_dim['values'][it_lo:it_hi], axis=-1).max()])"
   ]
  },
  {
   "cell_type": "code",
   "execution_count": null,
   "id": "d500683c-d824-49e5-b6c3-646be5ba40db",
   "metadata": {},
   "outputs": [],
   "source": [
    "it = 0\n",
    "nsub = 1\n",
    "X, Y = spatial_grid_ff[::nsub, ::nsub, 0], spatial_grid_ff[::nsub, ::nsub, 1]\n",
    "U, V = ff_dim['values'][it, ::nsub, ::nsub, 0], ff_dim['values'][it, ::nsub, ::nsub, 1]\n",
    "\n",
    "fig = plt.figure()\n",
    "oblique_merc_proj = ccrs.ObliqueMercator(central_longitude=-21.86, central_latitude=64.13, azimuth=-113)\n",
    "ax = fig.add_subplot(1, 1, 1, projection=ccrs.PlateCarree())\n",
    "ax.set_extent([-36.5, 6, 47, 72], ccrs.PlateCarree())\n",
    "gl = ax.gridlines(draw_labels=True, crs=ccrs.PlateCarree(), x_inline=False, y_inline=False, rotate_labels=False)\n",
    "gl.top_labels = False\n",
    "gl.right_labels = False\n",
    "ax.coastlines(zorder=5)\n",
    "cmesh = ax.pcolormesh(scale_l * (X -0.25), scale_l * (Y - 0.5), \n",
    "              np.sqrt(U**2 + V**2), cmap='turbo', shading='gouraud', transform=oblique_merc_proj, \n",
    "                      norm=norm_wind_dim)\n",
    "\n",
    "bbox_llcrn = (np.array((0, 0)) - np.array((0.25, 0.5))) * scale_l\n",
    "bbox_ulcrn = (np.array((0, 1)) - np.array((0.25, 0.5))) * scale_l\n",
    "bbox_urcrn = (np.array((1.5, 1)) - np.array((0.25, 0.5))) * scale_l\n",
    "bbox_lrcrn = (np.array((1.5, 0)) - np.array((0.25, 0.5))) * scale_l\n",
    "n_points = 50\n",
    "lbound = np.vstack((np.linspace(bbox_llcrn[0], bbox_ulcrn[0], n_points), \n",
    "                    np.linspace(bbox_llcrn[1], bbox_ulcrn[1], n_points))).T\n",
    "\n",
    "ubound = np.vstack((np.linspace(bbox_ulcrn[0], bbox_urcrn[0], n_points), \n",
    "                    np.linspace(bbox_ulcrn[1], bbox_urcrn[1], n_points))).T\n",
    "\n",
    "rbound = np.vstack((np.linspace(bbox_urcrn[0], bbox_lrcrn[0], n_points), \n",
    "                    np.linspace(bbox_urcrn[1], bbox_lrcrn[1], n_points))).T\n",
    "\n",
    "bbound = np.vstack((np.linspace(bbox_lrcrn[0], bbox_llcrn[0], n_points), \n",
    "                    np.linspace(bbox_lrcrn[1], bbox_llcrn[1], n_points))).T\n",
    "\n",
    "boundary_vectors = np.vstack((lbound, ubound, rbound, bbound))\n",
    "white_mask = mpl.patches.Polygon(boundary_vectors, color='white', alpha=0.2, transform=oblique_merc_proj)\n",
    "ax.add_patch(white_mask)\n",
    "nsub = 5\n",
    "X, Y = spatial_grid_ff[::nsub, ::nsub, 0], spatial_grid_ff[::nsub, ::nsub, 1]\n",
    "U, V = ff_dim['values'][it, ::nsub, ::nsub, 0], ff_dim['values'][it, ::nsub, ::nsub, 1]\n",
    "ax.quiver(scale_l * (X -0.25), scale_l * (Y - 0.5), U, V, transform=oblique_merc_proj)\n",
    "ax.plot(scale_l * np.linspace(0, 1, 50), scale_l * np.linspace(0, 0, 50), color='black', \n",
    "        transform=oblique_merc_proj, linewidth=2)\n",
    "ax.plot(scale_l * np.linspace(0, 1, 50), scale_l * np.linspace(0, 0, 50), color='white', \n",
    "        transform=oblique_merc_proj, linewidth=2, dashes=(4,4))\n",
    "ax.scatter(*(scale_l * np.array((1, 0))), s=100, color='black', zorder=5, edgecolor='white', transform=oblique_merc_proj)\n",
    "ax.scatter(*(scale_l * np.array((0, 0))), s=150, color='black', marker='*', zorder=5, edgecolor='white', transform=oblique_merc_proj)\n",
    "ax.add_feature(cfeature.LAND, color='lightgrey')\n",
    "\n",
    "ax.set_title('2021-11-01 05:00Z', fontsize=22)\n",
    "fig.tight_layout()\n",
    "plt.colorbar(mpl.cm.ScalarMappable(norm=norm_wind_dim, cmap='turbo'), ax=ax,\n",
    "label=\"Wind norm [m/s]\", location='right', fraction=0.028, pad=0.04) \n",
    "\n",
    "#fig.savefig('reykjavik_dublin/situation.pdf', bbox_inches='tight')\n",
    "\n",
    "plt.show()"
   ]
  },
  {
   "cell_type": "code",
   "execution_count": null,
   "id": "1238d515-7594-4a2b-96fc-d153e30eacb2",
   "metadata": {},
   "outputs": [],
   "source": [
    "import cartopy.crs as ccrs\n",
    "import cartopy.feature as cfeature\n",
    "import matplotlib as mpl\n",
    "\n",
    "it = 0\n",
    "nsub = 3\n",
    "X, Y = spatial_grid_ff[::nsub, ::nsub, 0], spatial_grid_ff[::nsub, ::nsub, 1]\n",
    "U, V = ff['values'][it, ::nsub, ::nsub, 0], ff['values'][it, ::nsub, ::nsub, 1]\n",
    "\n",
    "fig = plt.figure()\n",
    "oblique_merc_proj = ccrs.ObliqueMercator(central_longitude=-21.86, central_latitude=64.13, azimuth=-113, scale_factor=1/scale_l)\n",
    "ax = fig.add_subplot(1, 1, 1, projection=oblique_merc_proj)\n",
    "ax.set_extent([-0.25, 1.23, -0.5, 0.5], oblique_merc_proj)\n",
    "ax.coastlines(zorder=5)\n",
    "cmesh = ax.pcolormesh(X -0.25, Y - 0.5, \n",
    "              np.sqrt(U**2 + V**2), cmap='turbo', shading='gouraud', transform=oblique_merc_proj)\n",
    "\n",
    "bbox_llcrn = np.array((0, 0)) - np.array((0.25, 0.5))\n",
    "bbox_ulcrn = np.array((0, 1)) - np.array((0.25, 0.5))\n",
    "bbox_urcrn = np.array((1.5, 1)) - np.array((0.25, 0.5))\n",
    "bbox_lrcrn = np.array((1.5, 0)) - np.array((0.25, 0.5))\n",
    "n_points = 50\n",
    "lbound = np.vstack((np.linspace(bbox_llcrn[0], bbox_ulcrn[0], n_points), \n",
    "                    np.linspace(bbox_llcrn[1], bbox_ulcrn[1], n_points))).T\n",
    "\n",
    "ubound = np.vstack((np.linspace(bbox_ulcrn[0], bbox_urcrn[0], n_points), \n",
    "                    np.linspace(bbox_ulcrn[1], bbox_urcrn[1], n_points))).T\n",
    "\n",
    "rbound = np.vstack((np.linspace(bbox_urcrn[0], bbox_lrcrn[0], n_points), \n",
    "                    np.linspace(bbox_urcrn[1], bbox_lrcrn[1], n_points))).T\n",
    "\n",
    "bbound = np.vstack((np.linspace(bbox_lrcrn[0], bbox_llcrn[0], n_points), \n",
    "                    np.linspace(bbox_lrcrn[1], bbox_llcrn[1], n_points))).T\n",
    "\n",
    "boundary_vectors = np.vstack((lbound, ubound, rbound, bbound))\n",
    "white_mask = mpl.patches.Polygon(boundary_vectors, color='white', alpha=0.2, transform=oblique_merc_proj)\n",
    "ax.add_patch(white_mask)\n",
    "nsub = 5\n",
    "X, Y = spatial_grid_ff[::nsub, ::nsub, 0], spatial_grid_ff[::nsub, ::nsub, 1]\n",
    "U, V = ff['values'][it, ::nsub, ::nsub, 0], ff['values'][it, ::nsub, ::nsub, 1]\n",
    "ax.quiver(X -0.25, Y - 0.5, U, V, transform=oblique_merc_proj)\n",
    "ax.plot(np.linspace(0, 1, 50), np.linspace(0, 0, 50), color='red', \n",
    "        transform=oblique_merc_proj, linewidth=2)\n",
    "ax.scatter(1, 0, s=100, color='black', zorder=5, transform=oblique_merc_proj)\n",
    "ax.scatter(0, 0, s=150, color='black', marker='*', zorder=5, transform=oblique_merc_proj)\n",
    "ax.add_feature(cfeature.LAND, color='lightgrey')\n",
    "\n",
    "ax.set_title('2021-11-01 05:00Z', fontsize=22)\n",
    "fig.tight_layout()\n",
    "plt.colorbar(mpl.cm.ScalarMappable(norm=norm_wind, cmap='turbo'), ax=ax,\n",
    "label=\"Wind norm [m/s]\", location='right', fraction=0.032, pad=0.04)\n",
    "\n",
    "ax.gridlines(color='black')\n",
    "ax.set_xticks(np.arange(-0.2, 1.22, 0.2))\n",
    "ax.set_yticks(np.arange(-0.5, 0.51, 0.25))\n",
    "\n",
    "#fig.savefig('reykjavik_dublin/situation.png', dpi=300, bbox_inches='tight')\n",
    "\n",
    "plt.show()"
   ]
  },
  {
   "cell_type": "markdown",
   "id": "53ab14b6-ac78-4768-9a0c-c5fbd4ab367d",
   "metadata": {},
   "source": [
    "# Run computation"
   ]
  },
  {
   "cell_type": "code",
   "execution_count": null,
   "id": "4186b759-fa0d-4d9e-9d94-2fb96c052e97",
   "metadata": {},
   "outputs": [],
   "source": [
    "from dabry.problem import NavigationProblem\n",
    "from dabry.solver_display import display\n",
    "from dabry.solver_ef import SolverEFResampling\n",
    "from dabry.flowfield import DiscreteFF\n",
    "import pickle"
   ]
  },
  {
   "cell_type": "code",
   "execution_count": null,
   "id": "840a22c6-2743-4b5e-9e1e-63948c5f60ab",
   "metadata": {},
   "outputs": [],
   "source": [
    "ff = DiscreteFF.from_npz('../../data/reykjavik_dublin/ff.npz')\n",
    "x_init = np.diag((5 / 6, 1 / 2)) @ (ff.bounds[1:, 1] - ff.bounds[1:, 0])\n",
    "x_target = np.diag((1 / 6, 1 / 2)) @ (ff.bounds[1:, 1] - ff.bounds[1:, 0])\n",
    "pb_unscaled = NavigationProblem(ff, x_init, x_target, 23, name='reykjavik_dublin_cavi_error_short')\n",
    "pb = pb_unscaled.rescale()\n",
    "pb.io.case_dir = os.path.join('reykjavik_dublin', pb_unscaled.name)\n",
    "print(pb.io.case_dir)"
   ]
  },
  {
   "cell_type": "code",
   "execution_count": null,
   "id": "fe01acc2-fc75-471c-a117-a07861612f7d",
   "metadata": {},
   "outputs": [],
   "source": [
    "solver_in_depth = SolverEFResampling(pb, free_max_step=False, rel_max_step=0.05,\n",
    "                            mode_resamp_interp=False, mode_obs_stop=True)\n",
    "\n",
    "solver_in_depth.solve()\n",
    "solver_in_depth.save_results()\n",
    "\n",
    "traj_ortho = pb.orthodromic()\n",
    "traj_htarget = pb.radial()\n",
    "pb.io.save_traj(traj_ortho, name='orthodromic')\n",
    "pb.io.save_traj(traj_htarget, name='radial')\n",
    "\n",
    "# fig, _ = display(solver, theme_dark=False, no_3d=True)\n",
    "# fig.show()"
   ]
  },
  {
   "cell_type": "code",
   "execution_count": null,
   "id": "4d24c884",
   "metadata": {},
   "outputs": [],
   "source": [
    "solver_in_depth_short = SolverEFResampling(pb, free_max_step=False, rel_max_step=0.001,\n",
    "                            mode_resamp_interp=False, mode_obs_stop=True, max_depth=5)\n",
    "\n",
    "solver_in_depth_short.solve()\n",
    "solver_in_depth_short.save_results()\n",
    "\n",
    "traj_ortho = pb.orthodromic()\n",
    "traj_htarget = pb.radial()\n",
    "pb.io.save_traj(traj_ortho, name='orthodromic')\n",
    "pb.io.save_traj(traj_htarget, name='radial')\n",
    "\n",
    "# fig, _ = display(solver, theme_dark=False, no_3d=True)\n",
    "# fig.show()"
   ]
  },
  {
   "cell_type": "code",
   "execution_count": null,
   "id": "242c2c15-ad6a-4014-bb5e-fc66929ea3f6",
   "metadata": {},
   "outputs": [],
   "source": [
    "np.linalg.norm(solver_in_depth_short.sites['AA'].costate_init)"
   ]
  },
  {
   "cell_type": "markdown",
   "id": "5b039cec-68f0-4583-bae6-4c8865a8efb8",
   "metadata": {},
   "source": [
    "# Display results"
   ]
  },
  {
   "cell_type": "code",
   "execution_count": null,
   "id": "8567ba9c-ae0c-4c00-8d6a-96020a04ca15",
   "metadata": {},
   "outputs": [],
   "source": [
    "cost_map = np.load('/home/bastien/Documents/work/dabry/output/reykjavik_dublin_interp/cost_map.npy')\n",
    "#cost_map = np.load('reykjavik_dublin/reykjavik_dublin_interp/cost_map.npy')\n",
    "#cost_map = np.load('reykjavik_dublin/reykjavik_dublin_cavi_error/cost_map.npy')"
   ]
  },
  {
   "cell_type": "code",
   "execution_count": null,
   "id": "2cc42cfa-c8ca-40e1-91e3-728c9a7cfae3",
   "metadata": {},
   "outputs": [],
   "source": [
    "spatial_grid_cm = np.stack(np.meshgrid(np.linspace(*ff['bounds'][1], cost_map.shape[0]),\n",
    "                           np.linspace(*ff['bounds'][2], cost_map.shape[1]), indexing='ij'), -1)"
   ]
  },
  {
   "cell_type": "code",
   "execution_count": null,
   "id": "eba8473c-c764-4217-bc1d-d070c20082b3",
   "metadata": {},
   "outputs": [],
   "source": [
    "trajs = []\n",
    "dirname = '/home/bastien/Documents/work/dabry/output/reykjavik_dublin_interp/trajs/ef_01'\n",
    "#dirname = 'reykjavik_dublin/reykjavik_dublin_interp/trajs/ef_01'\n",
    "\n",
    "trajs_fpath = [os.path.join(dirname, fname) for fname in os.listdir(dirname) if fname.endswith('.npz')]\n",
    "for fpath in trajs_fpath:\n",
    "    trajs.append(np.load(fpath))"
   ]
  },
  {
   "cell_type": "code",
   "execution_count": null,
   "id": "b3b5e54c-5743-400f-ab29-33055ac47c3b",
   "metadata": {},
   "outputs": [],
   "source": [
    "fig, ax = plt.subplots()\n",
    "\n",
    "# for traj in tqdm(trajs):\n",
    "#     ax.plot(*traj['states'].T, color='grey', alpha=0.2)\n",
    "\n",
    "# checkpoints = []\n",
    "# for site in solver.sites.values():\n",
    "#     checkpoints.append(site.states[site.index_t_check_next])\n",
    "# checkpoints = np.array(checkpoints)\n",
    "# ax.scatter(*checkpoints.T, s=1, zorder=6, color='black', alpha=0.8)\n",
    "\n",
    "for site in tqdm(solver.sites.values()):\n",
    "    ax.plot(*site.states.T, color='grey', alpha=0.2)\n",
    "    \n",
    "traj_ls = np.genfromtxt('/home/bastien/Documents/work/MSEAS_Path_Planning_LS/results/reykjavik_dublin/traj_opt.csv', delimiter=',')\n",
    "\n",
    "ax.plot(*traj_ls.T, color='white', zorder=6, linewidth=3)\n",
    "ax.plot(*traj_ls.T, color='blue', zorder=6)\n",
    "\n",
    "ax.plot(*solver.solution_site.states[:87].T, color='white', zorder=6, linewidth=3)\n",
    "ax.plot(*solver.solution_site.states[:87].T, color='red', zorder=6)\n",
    "\n",
    "ax.contourf(spatial_grid_cm[..., 0], spatial_grid_cm[..., 1], cost_map, levels=np.arange(0, 1.41, 0.1), \n",
    "            cmap='jet', alpha=0.7, zorder=4)\n",
    "\n",
    "for it in range(phi.shape[0]):\n",
    "    ax.contour(spatial_grid_phi[..., 0], spatial_grid_phi[..., 1], phi[it], levels=[0], colors=['black'], linestyles='--', zorder=5)\n",
    "\n",
    "ax.scatter(1.25, 0.5, s=100, color='black', zorder=6)\n",
    "ax.scatter(0.25, 0.5, s=150, color='black', marker='*', zorder=6)\n",
    "\n",
    "fig.savefig('reykjavik_dublin/reykjavik_dublin_interp', dpi=300)\n",
    "plt.show()"
   ]
  },
  {
   "cell_type": "code",
   "execution_count": null,
   "id": "57717532-e183-45d5-8f7b-483b90cf2244",
   "metadata": {},
   "outputs": [],
   "source": [
    "traj_ls"
   ]
  },
  {
   "cell_type": "code",
   "execution_count": null,
   "id": "35676d83-77c5-47dc-ad90-f501a1cbb3e6",
   "metadata": {},
   "outputs": [],
   "source": [
    "fig, ax = plt.subplots()\n",
    "\n",
    "# for traj in tqdm(trajs):\n",
    "#     ax.plot(*traj['states'].T, color='grey', alpha=0.2)\n",
    "\n",
    "checkpoints = []\n",
    "validity_index = 30\n",
    "max_dist = 0\n",
    "site_max_dist = None\n",
    "for site in tqdm(solver_in_depth.sites.values()):\n",
    "    if site.index_t_check_next >= validity_index:\n",
    "        state_1 = site.states[site.index_t_check_next]\n",
    "        state_21 = site.next_nb[site.index_t_check_next].states[site.index_t_check_next]\n",
    "        try:\n",
    "            site_par = solver_in_depth.sites[solver_in_depth.site_mngr.parents_name_from_name(site.name)[1]]\n",
    "            state_22 = site_par.states[site.index_t_check_next]\n",
    "        except KeyError:\n",
    "            state_22 = np.nan * np.ones(2)\n",
    "        state_2 = state_21 if not np.any(np.isnan(state_21)) else state_22\n",
    "        dist = np.linalg.norm(state_1 - state_2)\n",
    "        if dist >= solver_in_depth.max_dist:\n",
    "            if dist > max_dist:\n",
    "                max_dist = dist\n",
    "                site_max_dist = site\n",
    "            checkpoints.append(site.states[site.index_t_check_next])\n",
    "            # plt.plot(*np.vstack((state_1, state_2)).T, zorder=6)\n",
    "\n",
    "# checkpoints = np.array(checkpoints)\n",
    "# ax.scatter(*checkpoints.T, s=1, zorder=6, color='#443563', marker='x')\n",
    "    \n",
    "\n",
    "for site in tqdm(solver_in_depth.sites.values()):\n",
    "    ax.plot(*site.states.T, color='grey', alpha=0.4, zorder=3)\n",
    "\n",
    "ax.plot(*site_max_dist.states.T, color='yellow', zorder=3)\n",
    "site_max_dist_prev = solver_in_depth.sites[solver_in_depth.site_mngr.parents_name_from_name(site_max_dist.name)[0]]\n",
    "site_max_dist_next = solver_in_depth.sites[solver_in_depth.site_mngr.parents_name_from_name(site_max_dist.name)[1]]\n",
    "ax.plot(*site_max_dist_prev.states.T, color='blue', zorder=3)\n",
    "ax.plot(*site_max_dist_next.states.T, color='red', zorder=3)\n",
    "\n",
    "#ax.plot(*solver_in_depth.nemesis.states.T, color='red', alpha=0.2)\n",
    "#ax.plot(*solver_in_depth.nemesis.next_nb[solver_in_depth.nemesis.index_t_check_next].states.T, color='green', alpha=0.2)\n",
    "\n",
    "# ax.contourf(spatial_grid_cm[..., 0], spatial_grid_cm[..., 1], cost_map_no_guarantee, levels=np.arange(0, 1.41, 0.1), \n",
    "#             cmap='jet', alpha=0.7, zorder=4)\n",
    "#ax.contourf(spatial_grid_cm[..., 0], spatial_grid_cm[..., 1], cost_map_no_guarantee, levels=[0, 0.48], hatches=['/'], alpha=0.7, zorder=4)\n",
    "\n",
    "# for it in range(phi.shape[0]):\n",
    "#     ax.contour(spatial_grid_phi[..., 0], spatial_grid_phi[..., 1], phi[it], levels=[0], colors=['black'], linestyles='--', zorder=5)\n",
    "\n",
    "ax.scatter(1.25, 0.5, s=100, color='black', zorder=6)\n",
    "ax.scatter(0.25, 0.5, s=150, color='black', marker='*', zorder=6)\n",
    "# delta_y = 0.1\n",
    "# delta_x = delta_y * 1.5\n",
    "# ax.set_xlim(1.25 - delta_x / 2, 1.25 + delta_x / 2)\n",
    "# ax.set_ylim(0.6, 0.6 + delta_y)\n",
    "# ax.set_xlim(1.2, 1.25)\n",
    "# ax.set_ylim(0.65, 0.7)\n",
    "fig.savefig('reykjavik_dublin/reykjavik_dublin_in_depth_divergence.png', dpi=300)\n",
    "plt.show()"
   ]
  },
  {
   "cell_type": "code",
   "execution_count": null,
   "id": "cc77dc74-7a5a-4cc1-bc69-8d9cce604416",
   "metadata": {},
   "outputs": [],
   "source": [
    "np.linalg.norm(site_max_dist_prev.states[1] - site_max_dist_next.states[1])"
   ]
  },
  {
   "cell_type": "code",
   "execution_count": null,
   "id": "72002962-e450-432c-9d19-ab53626e715d",
   "metadata": {},
   "outputs": [],
   "source": [
    "np.linalg.norm(site_max_dist_prev.costate_init - site_max_dist_next.costate_init)"
   ]
  },
  {
   "cell_type": "code",
   "execution_count": null,
   "id": "24f8aa1a-6e8b-4bab-b359-b92124e55b0f",
   "metadata": {},
   "outputs": [],
   "source": [
    "site_max_dist.states[1]"
   ]
  },
  {
   "cell_type": "code",
   "execution_count": null,
   "id": "86a902f9-67d9-4d35-9e9d-92f99cebfcae",
   "metadata": {},
   "outputs": [],
   "source": [
    "print(site_max_dist.costate_init, site_max_dist_par.costate_init)"
   ]
  },
  {
   "cell_type": "code",
   "execution_count": null,
   "id": "32df26f5-0f56-463e-8d0d-2f40f56f21cd",
   "metadata": {},
   "outputs": [],
   "source": [
    "solver_in_depth.pb.target_radius"
   ]
  },
  {
   "cell_type": "code",
   "execution_count": null,
   "id": "a102c3e2-8d22-4796-950a-f95c161d66a4",
   "metadata": {},
   "outputs": [],
   "source": [
    "validity_index"
   ]
  },
  {
   "cell_type": "code",
   "execution_count": null,
   "id": "b4d33e7f-b10f-48c1-b7ce-5c891ced8e26",
   "metadata": {},
   "outputs": [],
   "source": [
    "nemesis = solver_in_depth.nemesis\n",
    "nemesis_nb = solver_in_depth.nemesis.next_nb[solver_in_depth.nemesis.index_t_check_next]\n",
    "print(np.linalg.norm(nemesis.states[nemesis.index_t_check_next] - nemesis_nb.states[nemesis.index_t_check_next]))"
   ]
  },
  {
   "cell_type": "code",
   "execution_count": null,
   "id": "ca6e8169-69c0-4ee6-a4ee-a17e8f28cd3f",
   "metadata": {},
   "outputs": [],
   "source": [
    "nemesis_par = solver_in_depth.sites[solver_in_depth.site_mngr.parents_name_from_name(nemesis.name)[1]]"
   ]
  },
  {
   "cell_type": "code",
   "execution_count": null,
   "id": "9245018e-9275-4092-9086-c74bd711e764",
   "metadata": {},
   "outputs": [],
   "source": [
    "print(np.linalg.norm(nemesis.states[nemesis.index_t_check_next] - nemesis_par.states[nemesis.index_t_check_next]))"
   ]
  },
  {
   "cell_type": "code",
   "execution_count": null,
   "id": "d216691e-fbb0-438e-9b2f-82a1ae02a537",
   "metadata": {},
   "outputs": [],
   "source": [
    "cost_map_no_guarantee = solver_in_depth.get_cost_map_no_guarantee()"
   ]
  },
  {
   "cell_type": "code",
   "execution_count": null,
   "id": "3b54a82e-4f92-4321-8f59-2c811646f33d",
   "metadata": {},
   "outputs": [],
   "source": [
    "pb_unscaled = NavigationProblem.from_name('reykjavik_dublin')\n",
    "pb_unscaled.name = 'reykjavik_dublin_interp'\n",
    "pb = pb_unscaled.rescale()\n",
    "pb.io.case_dir = os.path.join('reykjavik_dublin', pb_unscaled.name)\n",
    "print(pb.io.case_dir)"
   ]
  },
  {
   "cell_type": "code",
   "execution_count": null,
   "id": "7b420071-79c9-4f00-906d-df2ddc918b20",
   "metadata": {},
   "outputs": [],
   "source": [
    "solver = SolverEFResampling(pb, free_max_step=False, rel_max_step=0.05,\n",
    "                            mode_resamp_interp=True, mode_obs_stop=True)\n",
    "\n",
    "solver.solve()\n",
    "\n",
    "solver.save_results()\n",
    "with open(os.path.join(pb.io.case_dir, 'solver.pickle'), 'wb') as f:\n",
    "    pickle.dump(solver, f)\n",
    "\n",
    "traj_ortho = pb.orthodromic()\n",
    "traj_htarget = pb.radial()\n",
    "pb.io.save_traj(traj_ortho, name='orthodromic')\n",
    "pb.io.save_traj(traj_htarget, name='radial')\n",
    "\n",
    "# fig, _ = display(solver, theme_dark=False, no_3d=True)\n",
    "# fig.show()"
   ]
  }
 ],
 "metadata": {
  "kernelspec": {
   "display_name": "Python 3 (ipykernel)",
   "language": "python",
   "name": "python3"
  },
  "language_info": {
   "codemirror_mode": {
    "name": "ipython",
    "version": 3
   },
   "file_extension": ".py",
   "mimetype": "text/x-python",
   "name": "python",
   "nbconvert_exporter": "python",
   "pygments_lexer": "ipython3",
   "version": "3.11.5"
  }
 },
 "nbformat": 4,
 "nbformat_minor": 5
}
