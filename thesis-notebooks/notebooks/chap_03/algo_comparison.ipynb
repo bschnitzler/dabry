{
 "cells": [
  {
   "cell_type": "markdown",
   "id": "7a85b2c7-e56a-48df-8d36-b84736611150",
   "metadata": {},
   "source": [
    "This notebook is given for information purposes. Some lines may need to be adapted for the code to run correctly."
   ]
  },
  {
   "cell_type": "code",
   "execution_count": null,
   "id": "0c123452-91e7-48bd-90ee-b2911bf6d71e",
   "metadata": {},
   "outputs": [],
   "source": [
    "import numpy as np\n",
    "import matplotlib\n",
    "import matplotlib.pyplot as plt\n",
    "import matplotlib.patches as patches\n",
    "from matplotlib.collections import LineCollection\n",
    "import matplotlib.colors as mpl_colors\n",
    "import scipy.integrate as itp\n",
    "from tqdm.notebook import tqdm\n",
    "\n",
    "from dabry.flowfield import GyreFF\n",
    "from dabry.solver_ef import SolverEFResampling\n",
    "from dabry.problem import NavigationProblem\n",
    "\n",
    "plt.rc('font', size=18)\n",
    "plt.rc('axes', titlesize=18)\n",
    "plt.rc('axes', labelsize=18)\n",
    "plt.rc('xtick', labelsize=18)\n",
    "plt.rc('ytick', labelsize=18)\n",
    "plt.rc('legend', fontsize=10)\n",
    "plt.rc('mathtext', fontset='cm')\n",
    "plt.rc('text', usetex=True)"
   ]
  },
  {
   "cell_type": "code",
   "execution_count": null,
   "id": "b61a8d95-eb3a-49fc-ab2e-795f51eb1ad5",
   "metadata": {},
   "outputs": [],
   "source": [
    "v_a = 1\n",
    "\n",
    "# Kularatne 2016\n",
    "\n",
    "x_init = np.array((0.6, 0.6))\n",
    "x_target = np.array((2.4, 2.4))\n",
    "bl = np.array((0.4, 0.4))\n",
    "tr = np.array((2.6, 2.6))\n",
    "bl2 = np.array((-1.8, -1.8))\n",
    "tr2 = np.array((3, 3))\n",
    "\n",
    "bl_large = np.array((-50, -50))\n",
    "tr_large = np.array((50, 50))\n",
    "\n",
    "gyre = GyreFF(0.5, 0.5, 2, 2, 1)\n",
    "\n",
    "pb = NavigationProblem(gyre, x_init, x_target, v_a, bl=bl_large, tr=tr_large)"
   ]
  },
  {
   "cell_type": "code",
   "execution_count": null,
   "id": "a97f90ab-4fd9-4818-82e4-d37ff08a73ec",
   "metadata": {},
   "outputs": [],
   "source": [
    "#nx, ny = 101, 101w\n",
    "nx, ny = 45, 45\n",
    "bounds = np.array((bl2, tr2)).transpose()\n",
    "xx, yy = np.meshgrid(np.linspace(*bounds[0], nx), np.linspace(*bounds[1], ny), indexing='ij')\n",
    "grid_2D = np.stack((xx, yy), axis=-1)\n",
    "ttt, xxx, yyy = np.meshgrid(np.linspace(0, 0, 1), np.linspace(*bounds[0], nx), np.linspace(*bounds[1], ny), indexing='ij')\n",
    "grid = np.stack((np.squeeze(ttt), np.squeeze(xxx), np.squeeze(yyy)), axis=-1)\n",
    "wind_dvalues = gyre.d_value_vec(grid)"
   ]
  },
  {
   "cell_type": "code",
   "execution_count": null,
   "id": "3c9460ef-c9bd-477e-9014-3ca5afe8924a",
   "metadata": {},
   "outputs": [],
   "source": [
    "dvalues_norm = np.linalg.norm(wind_dvalues, axis=(-2, -1))"
   ]
  },
  {
   "cell_type": "code",
   "execution_count": null,
   "id": "9a78a0e9-2d5e-4d38-9a08-13c632bedbee",
   "metadata": {},
   "outputs": [],
   "source": [
    "dvalues_norm.mean()"
   ]
  },
  {
   "cell_type": "code",
   "execution_count": null,
   "id": "88acf1e9-c985-4098-8887-d4b001df13e9",
   "metadata": {},
   "outputs": [],
   "source": [
    "from dabry.problem import NavigationProblem\n",
    "\n",
    "pb_unscaled = NavigationProblem.from_name('gyre')\n",
    "pb = pb_unscaled.rescale()"
   ]
  },
  {
   "cell_type": "code",
   "execution_count": null,
   "id": "78fccf39-dcb7-4007-b191-c47c9893874d",
   "metadata": {},
   "outputs": [],
   "source": [
    "mat = -np.array(((0, 1), (-1, 0))) @ pb.model.ff.d_value(0, np.array((0.21, 0.8))).T"
   ]
  },
  {
   "cell_type": "code",
   "execution_count": null,
   "id": "cc71d837-0e75-4071-a60e-20ec049b419b",
   "metadata": {},
   "outputs": [],
   "source": [
    "def prepare_wind():\n",
    "    fig, ax = plt.subplots(figsize=(5, 5))\n",
    "    \n",
    "    #nx, ny = 101, 101\n",
    "    nx, ny = 45, 45\n",
    "    bounds = np.array((bl2, tr2)).transpose()\n",
    "    xx, yy = np.meshgrid(np.linspace(*bounds[0], nx), np.linspace(*bounds[1], ny), indexing='ij')\n",
    "    ttt, xxx, yyy = np.meshgrid(np.linspace(0, 0, 1), np.linspace(*bounds[0], nx), np.linspace(*bounds[1], ny), indexing='ij')\n",
    "    grid = np.stack((np.squeeze(ttt), np.squeeze(xxx), np.squeeze(yyy)), axis=-1)\n",
    "    wind_values = gyre.value_vec(grid)\n",
    "    \n",
    "    #ax.pcolormesh(xx, yy, np.linalg.norm(wind_values, axis=-1), cmap='Greys', shading='gouraud')\n",
    "    # rect = patches.Rectangle((bounds[0, 0], bounds[1, 0]), bounds[0, 1] - bounds[0, 0], bounds[1, 1] - bounds[1, 0], \n",
    "    #                          facecolor='white', alpha=0.4)\n",
    "    # ax.add_patch(rect)\n",
    "    n_quiv = 2\n",
    "    off = 0\n",
    "    ax.grid(True, color='black', alpha=0.5)\n",
    "    ax.quiver(xx[off::n_quiv, off::n_quiv], yy[off::n_quiv, off::n_quiv], \n",
    "              wind_values[off::n_quiv, off::n_quiv, 0], wind_values[off::n_quiv, off::n_quiv, 1], alpha=0.6)\n",
    "\n",
    "    # mat = -np.array(((0, 1), (-1, 0))) @ wind_dvalues[ix, iy].T\n",
    "    # thetas = np.linspace(0, 2*np.pi, 100)\n",
    "    # h = np.vstack((np.cos(thetas), np.sin(thetas))).T\n",
    "    # r = np.einsum('ij,jk,ik->i', h, mat, h) * 5e-2\n",
    "\n",
    "    # base_points = np.array((xx[ix, iy], yy[ix, iy])) + np.expand_dims(r, 1) * h\n",
    "    # points = base_points.reshape(-1,1,2)\n",
    "    # lc = LineCollection(np.concatenate([points[:-1], points[1:]], axis=1), cmap=plt.get_cmap('bwr'), linewidth=2)\n",
    "    # lc.set_array(r > 0)\n",
    "    # plt.gca().add_collection(lc)\n",
    "    \n",
    "    return fig, ax"
   ]
  },
  {
   "cell_type": "code",
   "execution_count": null,
   "id": "937e660c-5971-4ffb-8495-1e66c6d7fbe4",
   "metadata": {},
   "outputs": [],
   "source": [
    "plt.hist(np.linalg.norm(wind_dvalues, axis=(-2, -1)).flatten())"
   ]
  },
  {
   "cell_type": "code",
   "execution_count": null,
   "id": "5b829db2-78dc-4390-bed4-f698d51c358b",
   "metadata": {},
   "outputs": [],
   "source": [
    "solver = SolverEFResampling(pb, max_depth=1, total_duration=1.6, n_costate_sectors=8000)\n",
    "solver.solve()"
   ]
  },
  {
   "cell_type": "code",
   "execution_count": null,
   "id": "b2759cd6-d9c0-4752-a08d-86fa74e3363e",
   "metadata": {},
   "outputs": [],
   "source": [
    "trajs = []\n",
    "e_set = np.zeros((len(solver.trajs), 2))\n",
    "for i_traj, traj in enumerate(solver.trajs):\n",
    "    trajs.append(traj.states)\n",
    "    e_set[i_traj, :] = traj.states[-1]"
   ]
  },
  {
   "cell_type": "code",
   "execution_count": null,
   "id": "7fc91573-7568-4f07-88cd-d86de5cf3b68",
   "metadata": {},
   "outputs": [],
   "source": [
    "e_set_dists = np.linalg.norm(np.vstack((e_set[0] - e_set[-1], (e_set[1:] - e_set[:-1]))), axis=-1)\n",
    "print(e_set_dists.max())"
   ]
  },
  {
   "cell_type": "code",
   "execution_count": null,
   "id": "37d9a444-d439-4d16-8c12-4acdbd0718fc",
   "metadata": {},
   "outputs": [],
   "source": [
    "fig, ax = prepare_wind()\n",
    "\n",
    "norm = mpl_colors.Normalize()\n",
    "norm.autoscale([0, 0.1])\n",
    "\n",
    "ax.plot(*np.vstack((e_set, e_set[0])).transpose(), color='black', linewidth=3.5)\n",
    "points = e_set.reshape(-1,1,2)\n",
    "lc = LineCollection(np.concatenate([points[:-1], points[1:]], axis=1), cmap=plt.get_cmap('jet'), linewidth=2)\n",
    "lc.set_array(e_set_dists/e_set_dists.max())\n",
    "plt.gca().add_collection(lc)\n",
    "\n",
    "# ax.plot(*e_set.transpose(), linewidth=2)\n",
    "\n",
    "for i in [5858]: #range(0, len(trajs), 5):\n",
    "    #ax.plot(trajs[i, :, 0], trajs[i, :, 1], linewidth=2.5, color='white')\n",
    "    ax.plot(*trajs[i].transpose(), linewidth=1, color='black')\n",
    "    #ax.scatter(trajs[i][-1, 0], trajs[i][-1, 1], color='black', edgecolor='white', marker='D', zorder=10)\n",
    "\n",
    "ax.scatter(*x_init, color='black', edgecolor='white', s=100, zorder=10)\n",
    "ax.scatter(*x_target, color='black', edgecolor='white', s=200, marker='*', zorder=10)\n",
    "circ = patches.Circle(x_target, 0.1, facecolor=(1, 0, 0, 0.5), edgecolor='red', linewidth=2)\n",
    "ax.add_patch(circ)\n",
    "\n",
    "trj = solver.trajs[5858]\n",
    "for it in range(0, trj.states.shape[0], 8):\n",
    "\n",
    "    mat = -np.array(((0, 1), (-1, 0))) @ gyre.d_value(0, trj.states[it]).T\n",
    "    thetas = np.linspace(0, 2*np.pi, 100)\n",
    "    h = np.vstack((np.cos(thetas), np.sin(thetas))).T\n",
    "    r = np.einsum('ij,jk,ik->i', h, mat, h)\n",
    "\n",
    "    # shifts = np.expand_dims(r, 1) * h * 5e-2\n",
    "    # base_points = trj.states[it] + shifts\n",
    "    # points = base_points.reshape(-1,1,2)\n",
    "    # lc = LineCollection(np.concatenate([points[:-1], points[1:]], axis=1), cmap=plt.get_cmap('bwr'), linewidth=2)\n",
    "    # lc.set_array(r > 0)\n",
    "    # plt.gca().add_collection(lc)\n",
    "\n",
    "    svd = np.linalg.svd(mat)\n",
    "    v1 = svd.S[0] * svd.U[:, 0] * 5e-2\n",
    "    v2 = svd.S[1] * svd.U[:, 1] * 5e-2\n",
    "    print(svd.S)\n",
    "    plt.plot([trj.states[it, 0] - v1[0], trj.states[it, 0] + v1[0]],\n",
    "             [trj.states[it, 1] - v1[1], trj.states[it, 1] + v1[1]], color='red' if np.einsum('j,jk,k->', v1, mat, v1) > 0 else 'blue')\n",
    "    \n",
    "    plt.plot([trj.states[it, 0] - v2[0], trj.states[it, 0] + v2[0]],\n",
    "             [trj.states[it, 1] - v2[1], trj.states[it, 1] + v2[1]], color='red' if np.einsum('j,jk,k->', v2, mat, v2) > 0 else 'blue')\n",
    "\n",
    "\n",
    "    h = - trj.costates[it] / np.linalg.norm(trj.costates[it])\n",
    "    nrm = 0.2\n",
    "    ax.plot([trj.states[it, 0], trj.states[it, 0] + nrm * h[0]],\n",
    "            [trj.states[it, 1], trj.states[it, 1] + nrm * h[1]], color='black')\n",
    "\n",
    "# ax.set_xticks(np.arange(-1.5, 2.51, 1))\n",
    "# ax.set_yticks(np.arange(-1.5, 2.51, 1))\n",
    "# ax.set_xlim(bl2[0], tr2[0])\n",
    "# ax.set_ylim(bl2[1], tr2[1])\n",
    "ax.set_xlim(0.5, 2.5)\n",
    "ax.set_ylim(0.5, 2.5)\n",
    "\n",
    "#plt.savefig('/home/bastien/Documents/Manuscript/manuscript/time_optimality/plot_scripts/algo_comparison/equisampling.pdf')"
   ]
  },
  {
   "cell_type": "code",
   "execution_count": null,
   "id": "93f3c8f4-9b6b-4eea-a14a-a64a823ac13c",
   "metadata": {},
   "outputs": [],
   "source": [
    "solver2 = SolverEFResampling(pb, max_depth=20, total_duration=1.6, n_costate_sectors=50, target_radius=0.1)\n",
    "solver2.solve()"
   ]
  },
  {
   "cell_type": "code",
   "execution_count": null,
   "id": "75d25cbe-2f2e-4f1f-a043-c8c4ad7f356e",
   "metadata": {},
   "outputs": [],
   "source": [
    "trajs2 = []\n",
    "e_set2 = np.zeros((len(solver2.trajs), 2))\n",
    "\n",
    "site_0 = list(solver2.sites.values())[0]\n",
    "i = 0\n",
    "e_set2[i, :] = site_0.traj.states[-1]\n",
    "i += 1\n",
    "site = site_0.next_nb[-1]\n",
    "while site != site_0:\n",
    "    e_set2[i, :] = site.traj.states[-1]\n",
    "    trajs2.append(site.traj.states)\n",
    "    i += 1\n",
    "    site = site.next_nb[-1]"
   ]
  },
  {
   "cell_type": "code",
   "execution_count": null,
   "id": "ece721fd-47c6-4ba4-b89c-ee699078cd92",
   "metadata": {},
   "outputs": [],
   "source": [
    "len(trajs2)"
   ]
  },
  {
   "cell_type": "code",
   "execution_count": null,
   "id": "04fe24f5-384a-4063-9475-a60c62b18d85",
   "metadata": {},
   "outputs": [],
   "source": [
    "e_set_dists2 = np.linalg.norm(np.vstack((e_set2[0] - e_set2[-1], (e_set2[1:] - e_set2[:-1]))), axis=-1)\n",
    "print(e_set_dists2.max())"
   ]
  },
  {
   "cell_type": "code",
   "execution_count": null,
   "id": "4366c7ae-a49c-4a56-bb50-2b2ac4266f79",
   "metadata": {},
   "outputs": [],
   "source": [
    "fig, ax = plt.subplots()\n",
    "ax.hist(e_set_dists, density=True, bins=np.linspace(0, 0.1, 25), histtype='step', log=False, label='Equisampling')\n",
    "ax.hist(e_set_dists2, density=True, bins=np.linspace(0, 0.1, 25), histtype='step', log=False, label='In-depth sampling')\n",
    "ax.set_xlabel('Distance between neighbors (-)')\n",
    "ax.set_ylabel('Occurences (-)')\n",
    "ax.set_ylim(0, 50)\n",
    "ax.text(0.0006, 42, '200→', rotation=90, color='C0', fontsize=14)\n",
    "ax.text(0.084, 1.5, '←', rotation=90, color='C0', fontsize=14)\n",
    "ax.text(0.092, 1.5, '←', rotation=90, color='C0', fontsize=14)\n",
    "ax.tick_params(direction='in')\n",
    "ax.grid(True, linestyle='--', alpha=0.5)\n",
    "plt.legend()\n",
    "#plt.savefig('/home/bastien/Documents/Manuscript/manuscript/time_optimality/plot_scripts/algo_comparison/hist.pdf')"
   ]
  },
  {
   "cell_type": "code",
   "execution_count": null,
   "id": "4c5c4e4b-0017-4188-b688-703b3508a093",
   "metadata": {},
   "outputs": [],
   "source": [
    "tot_dur = [1.6, 2, 2.4, 2.8, 3.2, 3.6]\n",
    "cpu_times = [2.11, 4.1, 5.74, 9.29, 12.74, 16.44]\n",
    "n_trajs = [259, 403, 609, 920, 1212, 1228]\n",
    "fig, ax = plt.subplots(nrows=1, ncols=3, figsize=(14, 6))\n",
    "ax[0].plot(tot_dur, cpu_times)\n",
    "ax[1].plot(tot_dur, n_trajs)\n",
    "ax[2].plot(tot_dur, np.array(cpu_times)/np.array(n_trajs))"
   ]
  },
  {
   "cell_type": "code",
   "execution_count": null,
   "id": "bb735434-87cc-4560-99a7-f521434d6b11",
   "metadata": {},
   "outputs": [],
   "source": [
    "fig, ax = prepare_wind()\n",
    "\n",
    "norm = mpl_colors.Normalize()\n",
    "norm.autoscale([0, 0.1])\n",
    "\n",
    "ax.plot(*np.vstack((e_set, e_set[0])).transpose(), color='black', linewidth=3.5)\n",
    "points = e_set2.reshape(-1,1,2)\n",
    "lc = LineCollection(np.concatenate([points[:-1], points[1:]], axis=1), cmap=plt.get_cmap('jet'), linewidth=2)\n",
    "lc.set_array(e_set_dists2/e_set_dists2.max())\n",
    "plt.gca().add_collection(lc)\n",
    "\n",
    "\n",
    "\n",
    "for i in [302]:#range(0, len(trajs), 5):\n",
    "    #ax.plot(trajs[i, :, 0], trajs[i, :, 1], linewidth=2.5, color='white')\n",
    "    ax.plot(*trajs2[i].transpose(), linewidth=1, color='black')\n",
    "    #ax.scatter(trajs2[i][-1, 0], trajs2[i][-1, 1], color='black', edgecolor='white', marker='D', zorder=10)\n",
    "\n",
    "ax.scatter(*x_init, color='black', edgecolor='white', s=100, zorder=10)\n",
    "ax.scatter(*x_target, color='black', edgecolor='white', s=200, marker='*', zorder=2)\n",
    "circ = patches.Circle(x_target, 0.1, facecolor=(1, 0, 0, 0.5), edgecolor='red', linewidth=2)\n",
    "ax.add_patch(circ)\n",
    "\n",
    "ax.set_xticks(np.arange(-1.5, 2.51, 1))\n",
    "ax.set_yticks(np.arange(-1.5, 2.51, 1))\n",
    "ax.set_xlim(bl2[0], tr2[0])\n",
    "ax.set_ylim(bl2[1], tr2[1])\n",
    "\n",
    "#plt.savefig('/home/bastien/Documents/Manuscript/manuscript/time_optimality/plot_scripts/algo_comparison/indepth.pdf')"
   ]
  },
  {
   "cell_type": "code",
   "execution_count": null,
   "id": "dd2a4190-32cc-4ded-8b50-7326478fde0f",
   "metadata": {},
   "outputs": [],
   "source": [
    "traj = trajs[0]\n",
    "ztraj = np.column_stack((np.zeros(traj.shape[0]), traj))"
   ]
  },
  {
   "cell_type": "code",
   "execution_count": null,
   "id": "edffc59a-b55b-4e5c-af8e-69d0943c4269",
   "metadata": {},
   "outputs": [],
   "source": [
    "np.linalg.norm(gyre.d_value_vec(ztraj), axis=(-2, -1))"
   ]
  },
  {
   "cell_type": "code",
   "execution_count": null,
   "id": "3c444e8e-a0ee-4e28-bc64-48d69de7a33e",
   "metadata": {},
   "outputs": [],
   "source": [
    "solverA = SolverEFResampling(pb, max_depth=1, total_duration=1.2, n_costate_sectors=2000)\n",
    "solverA.solve()"
   ]
  },
  {
   "cell_type": "code",
   "execution_count": null,
   "id": "c0aae629-209c-4964-8dde-e6ccaffc4fd9",
   "metadata": {},
   "outputs": [],
   "source": [
    "trajs = []\n",
    "e_set = np.zeros((len(solverA.trajs), 2))\n",
    "for i_traj, traj in enumerate(solverA.trajs):\n",
    "    trajs.append(traj.states)\n",
    "    e_set[i_traj, :] = traj.states[-1]"
   ]
  },
  {
   "cell_type": "code",
   "execution_count": null,
   "id": "0df74b77-a690-4eb1-bc1f-95dd9a3bc325",
   "metadata": {},
   "outputs": [],
   "source": [
    "e_set_dists = np.linalg.norm(np.vstack((e_set[0] - e_set[-1], (e_set[1:] - e_set[:-1]))), axis=-1)\n",
    "print(e_set_dists.max())"
   ]
  },
  {
   "cell_type": "markdown",
   "id": "7ec6bf39-d110-4970-9cf5-12f1def1906a",
   "metadata": {},
   "source": [
    "| param             |         |         |         |\n",
    "| ------------      | ---     |  ---    | ----    |\n",
    "| total_time        | 0.8     |   1.2   | 1.6     |\n",
    "| equi              |         |         |         |\n",
    "| n_trajs           | 500     |  2000   | 8000    |\n",
    "| e_dist_max        | 0.1113  | 0.1013  | 0.1126  |\n",
    "| in depth          |         |         |         |\n",
    "| n_trajs           | 128     | 264     |  501    |\n",
    "| e_dist_max        | 0.09888 | 0.09931 | 0.09987 |"
   ]
  },
  {
   "cell_type": "code",
   "execution_count": null,
   "id": "46f5c1de-5e52-4942-825a-f219a20652e5",
   "metadata": {},
   "outputs": [],
   "source": [
    "n_trajs = [128, 264, 501]\n",
    "total_time = [0.8, 1.2, 1.6]"
   ]
  },
  {
   "cell_type": "code",
   "execution_count": null,
   "id": "5cc29ec0-3f77-4489-b678-f5eb70a63482",
   "metadata": {},
   "outputs": [],
   "source": [
    "plt.plot(total_time, np.log(n_trajs))"
   ]
  },
  {
   "cell_type": "code",
   "execution_count": null,
   "id": "cb0816bf-87a5-45f8-8062-4de578ba0b0a",
   "metadata": {},
   "outputs": [],
   "source": [
    "solverB = SolverEFResampling(pb, max_depth=20, total_duration=1.2, n_costate_sectors=50, target_radius=0.1)\n",
    "solverB.solve()"
   ]
  },
  {
   "cell_type": "code",
   "execution_count": null,
   "id": "67ee0c64-5e1f-4956-849f-fa23dd6878f7",
   "metadata": {},
   "outputs": [],
   "source": [
    "trajs2 = []\n",
    "e_set2 = np.zeros((len(solverB.trajs), 2))\n",
    "\n",
    "site_0 = list(solverB.sites.values())[0]\n",
    "i = 0\n",
    "e_set2[i, :] = site_0.traj.states[-1]\n",
    "i += 1\n",
    "site = site_0.next_nb[-1]\n",
    "while site != site_0:\n",
    "    e_set2[i, :] = site.traj.states[-1]\n",
    "    trajs2.append(site.traj.states)\n",
    "    i += 1\n",
    "    site = site.next_nb[-1]"
   ]
  },
  {
   "cell_type": "code",
   "execution_count": null,
   "id": "376b3995-5eaa-460d-b65c-6b9832515fa2",
   "metadata": {},
   "outputs": [],
   "source": [
    "len(trajs2)"
   ]
  },
  {
   "cell_type": "code",
   "execution_count": null,
   "id": "5849d88e-7bb1-47f8-9fab-f22411cc6e41",
   "metadata": {},
   "outputs": [],
   "source": [
    "e_set_dists2 = np.linalg.norm(np.vstack((e_set2[0] - e_set2[-1], (e_set2[1:] - e_set2[:-1]))), axis=-1)\n",
    "print(e_set_dists2.max())"
   ]
  },
  {
   "cell_type": "code",
   "execution_count": null,
   "id": "df65a82b-1ffe-434a-8ba4-93a6253aa249",
   "metadata": {},
   "outputs": [],
   "source": [
    "2 * np.pi * 1/0.1 * np.exp(3.0111*1.6) "
   ]
  }
 ],
 "metadata": {
  "kernelspec": {
   "display_name": "Python 3 (ipykernel)",
   "language": "python",
   "name": "python3"
  },
  "language_info": {
   "codemirror_mode": {
    "name": "ipython",
    "version": 3
   },
   "file_extension": ".py",
   "mimetype": "text/x-python",
   "name": "python",
   "nbconvert_exporter": "python",
   "pygments_lexer": "ipython3",
   "version": "3.11.5"
  }
 },
 "nbformat": 4,
 "nbformat_minor": 5
}
