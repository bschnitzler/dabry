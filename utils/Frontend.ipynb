{
 "cells": [
  {
   "cell_type": "code",
   "execution_count": 1,
   "id": "f628aa37",
   "metadata": {
    "scrolled": true
   },
   "outputs": [
    {
     "data": {
      "application/vnd.jupyter.widget-view+json": {
       "model_id": "a8d378a1aa29415781cd98d162c0dcfc",
       "version_major": 2,
       "version_minor": 0
      },
      "text/plain": [
       "Dropdown(description='Choose one:', index=18, options=('front_tracking', 'front_tracking2', 'front_tracking3',…"
      ]
     },
     "metadata": {},
     "output_type": "display_data"
    }
   ],
   "source": [
    "from IPython.core.display import display, HTML\n",
    "from ipywidgets import Dropdown\n",
    "import os\n",
    "import sys\n",
    "import matplotlib.pyplot as plt\n",
    "from frontend import FrontendHandler\n",
    "%matplotlib qt\n",
    "%load_ext autoreload\n",
    "%autoreload\n",
    "plt.rcParams['figure.figsize'] = [9, 9]\n",
    "plt.rcParams['figure.facecolor'] = (0.95, 0.95, 0.95, 1.0)\n",
    "sys.path.extend(['/home/bastien/Documents/work/mermoz', \n",
    "                 '/home/bastien/Documents/work/mermoz/src'])\n",
    "\n",
    "\n",
    "fh = FrontendHandler()\n",
    "fh.select_example()"
   ]
  },
  {
   "cell_type": "code",
   "execution_count": 2,
   "id": "92db55e4",
   "metadata": {},
   "outputs": [
    {
     "name": "stderr",
     "output_type": "stream",
     "text": [
      "Failed to load \"target_radius\"\n",
      "/home/bastien/Documents/work/mdisplay/src/mdisplay/display.py:431: UserWarning: The following kwargs were not used by contour: 'shading'\n",
      "  self.ax.contourf(zX, zY, znorms3d, **kwargs)\n",
      "/home/bastien/Documents/work/mdisplay/src/mdisplay/display.py:443: RuntimeWarning: invalid value encountered in true_divide\n",
      "  self.ax.quiver(X, Y, U / norms, V / norms, **kwargs)  # color=color)\n",
      "/home/bastien/Documents/work/mdisplay/src/mdisplay/display.py:448: RuntimeWarning: invalid value encountered in true_divide\n",
      "  args = X[:, 0], Y[0, :], (f['data'][0, :, :, 0] / norms3d).transpose(), \\\n",
      "/home/bastien/Documents/work/mdisplay/src/mdisplay/display.py:449: RuntimeWarning: invalid value encountered in true_divide\n",
      "  (f['data'][0, :, :, 1] / norms3d).transpose()\n"
     ]
    }
   ],
   "source": [
    "fh.run_frontend(mode='notebook')"
   ]
  },
  {
   "cell_type": "code",
   "execution_count": 4,
   "id": "30e78ab4",
   "metadata": {},
   "outputs": [
    {
     "data": {
      "text/html": [
       "<h3>Computation parameters</h3>\n",
       "<table>\n",
       "<thead>\n",
       "<tr>\n",
       "<th>Parameter</th>\n",
       "<th align=\"center\">Value</th>\n",
       "<th>Units</th>\n",
       "</tr>\n",
       "</thead>\n",
       "<tbody>\n",
       "<tr>\n",
       "<td>Type of coordinates</td>\n",
       "<td align=\"center\">gcs</td>\n",
       "<td></td>\n",
       "</tr>\n",
       "<tr>\n",
       "<td>Start point</td>\n",
       "<td align=\"center\">-17.448, 14.693</td>\n",
       "<td>°</td>\n",
       "</tr>\n",
       "<tr>\n",
       "<td>Wind bottom left bound</td>\n",
       "<td align=\"center\">-40.000, -8.000</td>\n",
       "<td>°</td>\n",
       "</tr>\n",
       "<tr>\n",
       "<td>Wind top right bound</td>\n",
       "<td align=\"center\">-10.000, 18.000</td>\n",
       "<td>°</td>\n",
       "</tr>\n",
       "<tr>\n",
       "<td>Wind grid (lon, lat)</td>\n",
       "<td align=\"center\">61x53</td>\n",
       "<td></td>\n",
       "</tr>\n",
       "<tr>\n",
       "<td>Wind date</td>\n",
       "<td align=\"center\">1970-01-20 02:15:32.400000</td>\n",
       "<td></td>\n",
       "</tr>\n",
       "<tr>\n",
       "<td>Time window upper bound</td>\n",
       "<td align=\"center\">61.76</td>\n",
       "<td>h</td>\n",
       "</tr>\n",
       "<tr>\n",
       "<td>PMP number of time steps</td>\n",
       "<td align=\"center\">1000</td>\n",
       "<td></td>\n",
       "</tr>\n",
       "<tr>\n",
       "<td>RFT number of time steps</td>\n",
       "<td align=\"center\">None</td>\n",
       "<td></td>\n",
       "</tr>\n",
       "<tr>\n",
       "<td>RFT grid (lon, lat)</td>\n",
       "<td align=\"center\">None</td>\n",
       "<td></td>\n",
       "</tr>\n",
       "<tr>\n",
       "<td>Computation time PMP</td>\n",
       "<td align=\"center\">0.934</td>\n",
       "<td>s</td>\n",
       "</tr>\n",
       "<tr>\n",
       "<td>Computation time RFT</td>\n",
       "<td align=\"center\">None</td>\n",
       "<td>s</td>\n",
       "</tr>\n",
       "<tr>\n",
       "<td><link href=\"params.css\" rel=\"stylesheet\"/></td>\n",
       "<td align=\"center\"></td>\n",
       "<td></td>\n",
       "</tr>\n",
       "</tbody>\n",
       "</table>"
      ],
      "text/plain": [
       "<IPython.core.display.HTML object>"
      ]
     },
     "execution_count": 4,
     "metadata": {},
     "output_type": "execute_result"
    }
   ],
   "source": [
    "fh.show_params()"
   ]
  },
  {
   "cell_type": "code",
   "execution_count": 5,
   "id": "588818ad",
   "metadata": {},
   "outputs": [
    {
     "name": "stdout",
     "output_type": "stream",
     "text": [
      "63781.37\n",
      "   No wind geodesic : 36.33 h\n",
      "     Reach time PMP : 61.21 h\n",
      " Reach time int. 0  : 61.76 h\n",
      "     PMP saved time : -0.9 %\n"
     ]
    }
   ],
   "source": [
    "fh.post_processing()\n",
    "fh.show_pp(units='hours')"
   ]
  },
  {
   "cell_type": "code",
   "execution_count": 4,
   "id": "54f26bcd",
   "metadata": {},
   "outputs": [
    {
     "data": {
      "text/plain": [
       "55659.74539663678"
      ]
     },
     "execution_count": 4,
     "metadata": {},
     "output_type": "execute_result"
    }
   ],
   "source": [
    "import json\n",
    "with open(f'../output/example_{fh.dd.value}/params.json', 'r') as f:\n",
    "    params = json.load(f)\n",
    "params['target_radius']"
   ]
  }
 ],
 "metadata": {
  "celltoolbar": "Format de la Cellule Texte Brut",
  "kernelspec": {
   "display_name": "Python 3 (ipykernel)",
   "language": "python",
   "name": "python3"
  },
  "language_info": {
   "codemirror_mode": {
    "name": "ipython",
    "version": 3
   },
   "file_extension": ".py",
   "mimetype": "text/x-python",
   "name": "python",
   "nbconvert_exporter": "python",
   "pygments_lexer": "ipython3",
   "version": "3.9.7"
  }
 },
 "nbformat": 4,
 "nbformat_minor": 5
}
