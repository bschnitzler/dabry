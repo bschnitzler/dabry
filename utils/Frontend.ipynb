{
 "cells": [
  {
   "cell_type": "code",
   "execution_count": 57,
   "id": "f628aa37",
   "metadata": {},
   "outputs": [
    {
     "name": "stdout",
     "output_type": "stream",
     "text": [
      "The autoreload extension is already loaded. To reload it, use:\n",
      "  %reload_ext autoreload\n"
     ]
    },
    {
     "data": {
      "application/vnd.jupyter.widget-view+json": {
       "model_id": "b271a3784a1b4be89d0c1c244fd4315a",
       "version_major": 2,
       "version_minor": 0
      },
      "text/plain": [
       "Dropdown(description='Choose one:', options=('front_tracking', 'front_tracking2', 'front_tracking3', 'front_tr…"
      ]
     },
     "metadata": {},
     "output_type": "display_data"
    }
   ],
   "source": [
    "from IPython.core.display import display, HTML\n",
    "from ipywidgets import Dropdown\n",
    "import os\n",
    "import sys\n",
    "import matplotlib.pyplot as plt\n",
    "from frontend import FrontendHandler\n",
    "%matplotlib qt\n",
    "%load_ext autoreload\n",
    "%autoreload\n",
    "plt.rcParams['figure.figsize'] = [9, 9]\n",
    "plt.rcParams['figure.facecolor'] = (0.95, 0.95, 0.95, 1.0)\n",
    "sys.path.extend(['/home/bastien/Documents/work/mermoz', \n",
    "                 '/home/bastien/Documents/work/mermoz/src'])\n",
    "\n",
    "\n",
    "fh = FrontendHandler()\n",
    "fh.select_example()"
   ]
  },
  {
   "cell_type": "code",
   "execution_count": 60,
   "id": "92db55e4",
   "metadata": {},
   "outputs": [
    {
     "name": "stderr",
     "output_type": "stream",
     "text": [
      "/home/bastien/Documents/work/mdisplay/src/mdisplay/display.py:423: UserWarning: The following kwargs were not used by contour: 'shading'\n",
      "  self.ax.contourf(zX, zY, znorms3d, **kwargs)\n",
      "Failed to load RFF : File not found \"../output/example_solver_double-gyre-li2020/rff.h5\"\n"
     ]
    }
   ],
   "source": [
    "fh.run_frontend(mode='notebook')"
   ]
  },
  {
   "cell_type": "code",
   "execution_count": 61,
   "id": "30e78ab4",
   "metadata": {},
   "outputs": [
    {
     "data": {
      "text/html": [
       "<h3>Computation parameters</h3>\n",
       "<table>\n",
       "<thead>\n",
       "<tr>\n",
       "<th>Parameter</th>\n",
       "<th align=\"center\">Value</th>\n",
       "<th>Units</th>\n",
       "</tr>\n",
       "</thead>\n",
       "<tbody>\n",
       "<tr>\n",
       "<td>Type of coordinates</td>\n",
       "<td align=\"center\">cartesian</td>\n",
       "<td></td>\n",
       "</tr>\n",
       "<tr>\n",
       "<td>Start point</td>\n",
       "<td align=\"center\">125.000, 125.000</td>\n",
       "<td>m</td>\n",
       "</tr>\n",
       "<tr>\n",
       "<td>Wind bottom left bound</td>\n",
       "<td align=\"center\">-10.000, -10.000</td>\n",
       "<td>m</td>\n",
       "</tr>\n",
       "<tr>\n",
       "<td>Wind top right bound</td>\n",
       "<td align=\"center\">510.000, 510.000</td>\n",
       "<td>m</td>\n",
       "</tr>\n",
       "<tr>\n",
       "<td>Wind grid (X, Y)</td>\n",
       "<td align=\"center\">None</td>\n",
       "<td></td>\n",
       "</tr>\n",
       "<tr>\n",
       "<td>Wind date</td>\n",
       "<td align=\"center\">None</td>\n",
       "<td></td>\n",
       "</tr>\n",
       "<tr>\n",
       "<td>Time window upper bound</td>\n",
       "<td align=\"center\">700.0</td>\n",
       "<td>s</td>\n",
       "</tr>\n",
       "<tr>\n",
       "<td>PMP number of time steps</td>\n",
       "<td align=\"center\">1000</td>\n",
       "<td></td>\n",
       "</tr>\n",
       "<tr>\n",
       "<td>RFT number of time steps</td>\n",
       "<td align=\"center\">None</td>\n",
       "<td></td>\n",
       "</tr>\n",
       "<tr>\n",
       "<td>RFT grid (X, Y)</td>\n",
       "<td align=\"center\">None</td>\n",
       "<td></td>\n",
       "</tr>\n",
       "<tr>\n",
       "<td>Computation time PMP</td>\n",
       "<td align=\"center\">0.515</td>\n",
       "<td>s</td>\n",
       "</tr>\n",
       "<tr>\n",
       "<td>Computation time RFT</td>\n",
       "<td align=\"center\">None</td>\n",
       "<td>s</td>\n",
       "</tr>\n",
       "<tr>\n",
       "<td><link href=\"params.css\" rel=\"stylesheet\"/></td>\n",
       "<td align=\"center\"></td>\n",
       "<td></td>\n",
       "</tr>\n",
       "</tbody>\n",
       "</table>"
      ],
      "text/plain": [
       "<IPython.core.display.HTML object>"
      ]
     },
     "execution_count": 61,
     "metadata": {},
     "output_type": "execute_result"
    }
   ],
   "source": [
    "fh.show_params()"
   ]
  },
  {
   "cell_type": "code",
   "execution_count": 62,
   "id": "588818ad",
   "metadata": {},
   "outputs": [
    {
     "name": "stdout",
     "output_type": "stream",
     "text": [
      "   No wind geodesic : 589.26 s\n",
      "     Reach time PMP : 523.60 s\n"
     ]
    }
   ],
   "source": [
    "fh.post_processing()\n",
    "fh.show_pp(units='seconds')"
   ]
  },
  {
   "cell_type": "code",
   "execution_count": 4,
   "id": "54f26bcd",
   "metadata": {},
   "outputs": [
    {
     "data": {
      "text/plain": [
       "55659.74539663678"
      ]
     },
     "execution_count": 4,
     "metadata": {},
     "output_type": "execute_result"
    }
   ],
   "source": [
    "import json\n",
    "with open(f'../output/example_{fh.dd.value}/params.json', 'r') as f:\n",
    "    params = json.load(f)\n",
    "params['target_radius']"
   ]
  }
 ],
 "metadata": {
  "celltoolbar": "Format de la Cellule Texte Brut",
  "kernelspec": {
   "display_name": "Python 3 (ipykernel)",
   "language": "python",
   "name": "python3"
  },
  "language_info": {
   "codemirror_mode": {
    "name": "ipython",
    "version": 3
   },
   "file_extension": ".py",
   "mimetype": "text/x-python",
   "name": "python",
   "nbconvert_exporter": "python",
   "pygments_lexer": "ipython3",
   "version": "3.9.7"
  }
 },
 "nbformat": 4,
 "nbformat_minor": 5
}
