{
 "cells": [
  {
   "cell_type": "code",
   "execution_count": 1,
   "id": "f628aa37",
   "metadata": {
    "scrolled": true
   },
   "outputs": [
    {
     "data": {
      "application/vnd.jupyter.widget-view+json": {
       "model_id": "6704090753d342baae4ace05eac2f9c7",
       "version_major": 2,
       "version_minor": 0
      },
      "text/plain": [
       "Dropdown(description='Choose one:', options=('front_tracking', 'front_tracking2', 'front_tracking3', 'front_tr…"
      ]
     },
     "metadata": {},
     "output_type": "display_data"
    }
   ],
   "source": [
    "from IPython.core.display import display, HTML\n",
    "from ipywidgets import Dropdown\n",
    "import os\n",
    "import sys\n",
    "import matplotlib.pyplot as plt\n",
    "from frontend import FrontendHandler\n",
    "%matplotlib qt\n",
    "plt.rcParams['figure.figsize'] = [9, 9]\n",
    "plt.rcParams['figure.facecolor'] = (0.95, 0.95, 0.95, 1.0)\n",
    "sys.path.extend(['/home/bastien/Documents/work/mermoz', \n",
    "                 '/home/bastien/Documents/work/mermoz/src'])\n",
    "\n",
    "\n",
    "#fh = FrontendHandler(mode='user')\n",
    "#fh.select_example('/home/bastien/Documents/data/wind/ncdc/san-juan-dublin-flattened-ortho.mz/')\n",
    "fh = FrontendHandler()\n",
    "fh.select_example()"
   ]
  },
  {
   "cell_type": "code",
   "execution_count": 14,
   "id": "92db55e4",
   "metadata": {
    "scrolled": true
   },
   "outputs": [
    {
     "name": "stderr",
     "output_type": "stream",
     "text": [
      "/home/bastien/Documents/work/mdisplay/src/mdisplay/display.py:490: UserWarning: The input coordinates to pcolormesh are interpreted as cell centers, but are not monotonically increasing or decreasing. This may lead to incorrectly calculated cell edges, in which case, please supply explicit cell edges to pcolormesh.\n",
      "  self.wind_colormesh = self.ax.pcolormesh(zX, zY, znorms3d, **kwargs)\n"
     ]
    }
   ],
   "source": [
    "fh.run_frontend()"
   ]
  },
  {
   "cell_type": "code",
   "execution_count": 3,
   "id": "30e78ab4",
   "metadata": {
    "scrolled": true
   },
   "outputs": [
    {
     "data": {
      "text/html": [
       "<h3>Computation parameters</h3>\n",
       "<table>\n",
       "<thead>\n",
       "<tr>\n",
       "<th>Parameter</th>\n",
       "<th align=\"center\">Value</th>\n",
       "<th>Units</th>\n",
       "</tr>\n",
       "</thead>\n",
       "<tbody>\n",
       "<tr>\n",
       "<td>Type of coordinates</td>\n",
       "<td align=\"center\">gcs</td>\n",
       "<td></td>\n",
       "</tr>\n",
       "<tr>\n",
       "<td>Start point</td>\n",
       "<td align=\"center\">-17.448, 14.693</td>\n",
       "<td>°</td>\n",
       "</tr>\n",
       "<tr>\n",
       "<td>Wind bottom left bound</td>\n",
       "<td align=\"center\">-38.300, -8.800</td>\n",
       "<td>°</td>\n",
       "</tr>\n",
       "<tr>\n",
       "<td>Wind top right bound</td>\n",
       "<td align=\"center\">-14.800, 17.700</td>\n",
       "<td>°</td>\n",
       "</tr>\n",
       "<tr>\n",
       "<td>Wind grid (lon, lat)</td>\n",
       "<td align=\"center\">48x54</td>\n",
       "<td></td>\n",
       "</tr>\n",
       "<tr>\n",
       "<td>Wind date</td>\n",
       "<td align=\"center\">2022-03-24 10:00:00</td>\n",
       "<td></td>\n",
       "</tr>\n",
       "<tr>\n",
       "<td>Time window upper bound</td>\n",
       "<td align=\"center\">30.00</td>\n",
       "<td>h</td>\n",
       "</tr>\n",
       "<tr>\n",
       "<td>PMP number of time steps</td>\n",
       "<td align=\"center\">1000</td>\n",
       "<td></td>\n",
       "</tr>\n",
       "<tr>\n",
       "<td>RFT number of time steps</td>\n",
       "<td align=\"center\">None</td>\n",
       "<td></td>\n",
       "</tr>\n",
       "<tr>\n",
       "<td>RFT grid (lon, lat)</td>\n",
       "<td align=\"center\">None</td>\n",
       "<td></td>\n",
       "</tr>\n",
       "<tr>\n",
       "<td>Computation time PMP</td>\n",
       "<td align=\"center\">0.308</td>\n",
       "<td>s</td>\n",
       "</tr>\n",
       "<tr>\n",
       "<td>Computation time RFT</td>\n",
       "<td align=\"center\">None</td>\n",
       "<td>s</td>\n",
       "</tr>\n",
       "<tr>\n",
       "<td><link href=\"params.css\" rel=\"stylesheet\"/></td>\n",
       "<td align=\"center\"></td>\n",
       "<td></td>\n",
       "</tr>\n",
       "</tbody>\n",
       "</table>"
      ],
      "text/plain": [
       "<IPython.core.display.HTML object>"
      ]
     },
     "execution_count": 3,
     "metadata": {},
     "output_type": "execute_result"
    }
   ],
   "source": [
    "fh.show_params()"
   ]
  },
  {
   "cell_type": "markdown",
   "id": "8e2939ea",
   "metadata": {},
   "source": [
    "### GCS, PWC"
   ]
  },
  {
   "cell_type": "code",
   "execution_count": 12,
   "id": "588818ad",
   "metadata": {
    "scrolled": true
   },
   "outputs": [
    {
     "data": {
      "text/markdown": [
       "| Id | Name | Duration | Length | Mean groundspeed | \n",
       "|---|:---:|---|---|---|\n",
       "| 3082 | integral | 51.53 h | 2943.43 km | 57.12 km/h |\n",
       "| -1 | best extremal | 49.45 h | 2761.81 km | 55.85 km/h |\n",
       "| -2 | no-wind geodesic | 83.56 h | 3008.30 km | 36.00 km/h |\n"
      ],
      "text/plain": [
       "<IPython.core.display.Markdown object>"
      ]
     },
     "metadata": {},
     "output_type": "display_data"
    }
   ],
   "source": [
    "fh.post_processing()\n",
    "fh.show_pp()"
   ]
  },
  {
   "cell_type": "markdown",
   "id": "35f7d309",
   "metadata": {},
   "source": [
    "### Flat, PWC, no rotation"
   ]
  },
  {
   "cell_type": "code",
   "execution_count": 4,
   "id": "edc5ffa9",
   "metadata": {
    "scrolled": true
   },
   "outputs": [
    {
     "data": {
      "text/markdown": [
       "| Id | Name | Duration | Length | Mean groundspeed | \n",
       "|---|:---:|---|---|---|\n",
       "| 1096 | integral | 89.17 h | 6058.02 km | 67.94 km/h |\n",
       "| -1 | best extremal | 76.06 h | 5716.38 km | 75.16 km/h |\n",
       "| -2 | no-wind geodesic | 73.95 h | 6123.29 km | 82.80 km/h |\n"
      ],
      "text/plain": [
       "<IPython.core.display.Markdown object>"
      ]
     },
     "metadata": {},
     "output_type": "display_data"
    }
   ],
   "source": [
    "fh.post_processing()\n",
    "fh.show_pp()"
   ]
  },
  {
   "cell_type": "markdown",
   "id": "f611e777",
   "metadata": {},
   "source": [
    "### Flat, PWC, rotated"
   ]
  },
  {
   "cell_type": "code",
   "execution_count": 8,
   "id": "9b5dfaa5",
   "metadata": {
    "scrolled": true
   },
   "outputs": [
    {
     "data": {
      "text/markdown": [
       "| Id | Name | Duration | Length | Mean groundspeed | \n",
       "|---|:---:|---|---|---|\n",
       "| 1116 | integral | 90.79 h | 6058.68 km | 66.73 km/h |\n",
       "| -1 | best extremal | 80.13 h | 6427.07 km | 80.21 km/h |\n",
       "| -2 | no-wind geodesic | 73.95 h | 6123.29 km | 82.80 km/h |\n"
      ],
      "text/plain": [
       "<IPython.core.display.Markdown object>"
      ]
     },
     "metadata": {},
     "output_type": "display_data"
    }
   ],
   "source": [
    "fh.post_processing()\n",
    "fh.show_pp()"
   ]
  },
  {
   "cell_type": "markdown",
   "id": "f62b21cd",
   "metadata": {},
   "source": [
    "### GCS, Linear"
   ]
  },
  {
   "cell_type": "code",
   "execution_count": 11,
   "id": "35f11057",
   "metadata": {
    "scrolled": true
   },
   "outputs": [
    {
     "data": {
      "text/markdown": [
       "| Id | Name | Duration | Length | Mean groundspeed | \n",
       "|---|:---:|---|---|---|\n",
       "| 1120 | integral | inf h | 6322.64 km | 0.00 km/h |\n",
       "| -1 | best extremal | 84.33 h | 6041.88 km | 71.65 km/h |\n",
       "| -2 | no-wind geodesic | 77.20 h | 6392.27 km | 82.80 km/h |\n"
      ],
      "text/plain": [
       "<IPython.core.display.Markdown object>"
      ]
     },
     "metadata": {},
     "output_type": "display_data"
    }
   ],
   "source": [
    "fh.post_processing()\n",
    "fh.show_pp()"
   ]
  },
  {
   "cell_type": "code",
   "execution_count": 37,
   "id": "d33ab57b",
   "metadata": {},
   "outputs": [
    {
     "name": "stdout",
     "output_type": "stream",
     "text": [
      "0 8575\n",
      "1 8639\n",
      "10 7430\n",
      "11 19999\n",
      "2 8695\n",
      "3 8766\n",
      "4 8845\n",
      "5 8921\n",
      "6 9071\n",
      "7 9003\n",
      "8 8830\n",
      "9 8621\n"
     ]
    }
   ],
   "source": [
    "import h5py\n",
    "with h5py.File('/home/bastien/Documents/work/mermoz/output/example_solver_dakar-natal/trajectories.h5', 'r') as f:\n",
    "    for k, v in f.items():\n",
    "        print(k, v.attrs['last_index'])"
   ]
  }
 ],
 "metadata": {
  "celltoolbar": "Format de la Cellule Texte Brut",
  "kernelspec": {
   "display_name": "Python 3 (ipykernel)",
   "language": "python",
   "name": "python3"
  },
  "language_info": {
   "codemirror_mode": {
    "name": "ipython",
    "version": 3
   },
   "file_extension": ".py",
   "mimetype": "text/x-python",
   "name": "python",
   "nbconvert_exporter": "python",
   "pygments_lexer": "ipython3",
   "version": "3.9.7"
  }
 },
 "nbformat": 4,
 "nbformat_minor": 5
}
