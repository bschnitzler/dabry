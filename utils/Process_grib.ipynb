{
 "cells": [
  {
   "cell_type": "code",
   "execution_count": 1,
   "id": "dc530ecb",
   "metadata": {},
   "outputs": [],
   "source": [
    "import pygrib\n",
    "import os\n",
    "import numpy as np\n",
    "import sys\n",
    "sys.path.extend(['/home/bastien/Documents/work/mermoz', \n",
    "                 '/home/bastien/Documents/work/mermoz/src',\n",
    "                 '/home/bastien/Documents/work/mdisplay',\n",
    "                 '/home/bastien/Documents/work/mdisplay/src'])\n",
    "from mermoz.wind import DiscreteWind\n",
    "from mermoz.mdf_manager import MDFmanager\n",
    "from mermoz.params_summary import ParamsSummary\n",
    "from mermoz.misc import *"
   ]
  },
  {
   "cell_type": "code",
   "execution_count": 10,
   "id": "2d1fb391",
   "metadata": {},
   "outputs": [
    {
     "name": "stdout",
     "output_type": "stream",
     "text": [
      "nx : 61, ny : 53\n"
     ]
    }
   ],
   "source": [
    "data_dir = '/home/bastien/Documents/data/wind/ncdc'\n",
    "output_dir = '/home/bastien/Documents/work/mermoz/output/example_wf_dn'\n",
    "if not os.path.exists(output_dir):\n",
    "    os.mkdir(output_dir)\n",
    "gribfile = 'gfs_4_20220301_1200_000.grb2'\n",
    "grib_fp = os.path.join(data_dir, gribfile)\n",
    "\n",
    "mdfm = MDFmanager()\n",
    "mdfm.set_output_dir(output_dir)\n",
    "bl = np.array((-40., -8.))\n",
    "tr = np.array((-10., 18.))\n",
    "nx, ny = mdfm.dump_wind_from_grib2(grib_fp, bl, tr)"
   ]
  },
  {
   "cell_type": "code",
   "execution_count": 11,
   "id": "ce6226a9",
   "metadata": {},
   "outputs": [],
   "source": [
    "ps = ParamsSummary({}, output_dir)\n",
    "ps.add_param('coords', 'gcs')\n",
    "ps.add_param('bl_wind', list(bl))\n",
    "ps.add_param('tr_wind', list(tr))\n",
    "ps.add_param('nx_wind', nx)\n",
    "ps.add_param('ny_wind', ny)\n",
    "ps.dump()"
   ]
  }
 ],
 "metadata": {
  "kernelspec": {
   "display_name": "Python 3 (ipykernel)",
   "language": "python",
   "name": "python3"
  },
  "language_info": {
   "codemirror_mode": {
    "name": "ipython",
    "version": 3
   },
   "file_extension": ".py",
   "mimetype": "text/x-python",
   "name": "python",
   "nbconvert_exporter": "python",
   "pygments_lexer": "ipython3",
   "version": "3.8.12"
  }
 },
 "nbformat": 4,
 "nbformat_minor": 5
}
