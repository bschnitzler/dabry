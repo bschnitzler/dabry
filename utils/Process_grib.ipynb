{
 "cells": [
  {
   "cell_type": "code",
   "execution_count": 1,
   "id": "dc530ecb",
   "metadata": {},
   "outputs": [
    {
     "name": "stderr",
     "output_type": "stream",
     "text": [
      "/home/bastien/anaconda3/envs/mermoz/lib/python3.8/site-packages/scipy/__init__.py:146: UserWarning: A NumPy version >=1.16.5 and <1.23.0 is required for this version of SciPy (detected version 1.23.1\n",
      "  warnings.warn(f\"A NumPy version >={np_minversion} and <{np_maxversion}\"\n"
     ]
    }
   ],
   "source": [
    "import pygrib\n",
    "import os\n",
    "import numpy as np\n",
    "import sys\n",
    "sys.path.extend(['/home/bastien/Documents/work/mermoz', \n",
    "                 '/home/bastien/Documents/work/mermoz/src',\n",
    "                 '/home/bastien/Documents/work/mdisplay',\n",
    "                 '/home/bastien/Documents/work/mdisplay/src'])\n",
    "from mermoz.wind import DiscreteWind\n",
    "from mermoz.mdf_manager import MDFmanager\n",
    "from mermoz.params_summary import ParamsSummary\n",
    "from mermoz.misc import *"
   ]
  },
  {
   "cell_type": "code",
   "execution_count": 6,
   "id": "2d1fb391",
   "metadata": {},
   "outputs": [
    {
     "name": "stdout",
     "output_type": "stream",
     "text": [
      "(9, 101, 61)\n"
     ]
    }
   ],
   "source": [
    "data_dir = '/home/bastien/Documents/data/wind/ncdc'\n",
    "output_dir = '/home/bastien/Documents/data/wind/ncdc/tmp.mz'\n",
    "if not os.path.exists(output_dir):\n",
    "    os.mkdir(output_dir)\n",
    "gribfiles = ['gfs_4_20220301_1200_000.grb2',\n",
    "             'gfs_4_20220301_1800_000.grb2',\n",
    "             'gfs_4_20220302_0000_000.grb2',\n",
    "             'gfs_4_20220302_0600_000.grb2',\n",
    "             'gfs_4_20220302_1200_000.grb2',\n",
    "             'gfs_4_20220302_1800_000.grb2',\n",
    "             'gfs_4_20220303_0000_000.grb2',\n",
    "             'gfs_4_20220303_0600_000.grb2',\n",
    "             'gfs_4_20220303_1200_000.grb2']\n",
    "grib_fps = list(map(lambda gf: os.path.join(data_dir, gf), gribfiles))\n",
    "\n",
    "mdfm = MDFmanager()\n",
    "mdfm.set_output_dir(output_dir)\n",
    "bl = np.array((-180., 50.))\n",
    "tr = np.array((-130., 80.))\n",
    "print(mdfm.dump_wind_from_grib2(grib_fps, bl, tr))"
   ]
  }
 ],
 "metadata": {
  "kernelspec": {
   "display_name": "Python 3 (ipykernel)",
   "language": "python",
   "name": "python3"
  },
  "language_info": {
   "codemirror_mode": {
    "name": "ipython",
    "version": 3
   },
   "file_extension": ".py",
   "mimetype": "text/x-python",
   "name": "python",
   "nbconvert_exporter": "python",
   "pygments_lexer": "ipython3",
   "version": "3.8.12"
  }
 },
 "nbformat": 4,
 "nbformat_minor": 5
}
