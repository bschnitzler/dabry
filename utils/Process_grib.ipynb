{
 "cells": [
  {
   "cell_type": "code",
   "execution_count": 4,
   "id": "dc530ecb",
   "metadata": {},
   "outputs": [],
   "source": [
    "import pygrib\n",
    "import os\n",
    "import numpy as np\n",
    "import sys\n",
    "sys.path.extend(['/home/bastien/Documents/work/mermoz', \n",
    "                 '/home/bastien/Documents/work/mermoz/src',\n",
    "                 '/home/bastien/Documents/work/mdisplay',\n",
    "                 '/home/bastien/Documents/work/mdisplay/src'])\n",
    "from mermoz.wind import DiscreteWind\n",
    "from mermoz.mdf_manager import MDFmanager\n",
    "from mermoz.params_summary import ParamsSummary\n",
    "from mermoz.misc import *\n",
    "from mdisplay.geodata import GeoData"
   ]
  },
  {
   "cell_type": "code",
   "execution_count": 6,
   "id": "2d1fb391",
   "metadata": {},
   "outputs": [
    {
     "name": "stdout",
     "output_type": "stream",
     "text": [
      "(13, 42, 49)\n"
     ]
    }
   ],
   "source": [
    "data_dir = '/home/bastien/Documents/data/wind/ncdc/20220301'\n",
    "output_path = '/home/bastien/Documents/data/wind/ncdc/'\n",
    "# Extraction bounds\n",
    "#bl = np.array((-66.10, 18.46))\n",
    "#tr = np.array((-6.26, 53.35))\n",
    "gd = GeoData()\n",
    "bl = np.array(gd.get_coords('Natal'))\n",
    "tr = np.array(gd.get_coords('Dakar'))\n",
    "offset = 0.1 * (tr - bl)\n",
    "bl = bl - offset\n",
    "tr = tr + offset\n",
    "# Data files\n",
    "gribfiles = sorted(os.listdir(data_dir))\n",
    "date_start = gribfiles[0].split('_')[2]\n",
    "hour_start = gribfiles[0].split('_')[3][:2]\n",
    "\n",
    "slon = str(abs(round(bl[0]))) + ('W' if bl[0] < 0 else 'E')\n",
    "slat = str(abs(round(bl[1]))) + ('S' if bl[0] < 0 else 'N')\n",
    "tlon = str(abs(round(tr[0]))) + ('W' if bl[0] < 0 else 'E')\n",
    "tlat = str(abs(round(tr[1]))) + ('S' if bl[0] < 0 else 'N')\n",
    "\n",
    "name = f'{slon}_{slat}_{tlon}_{tlat}_{date_start}_{hour_start}'\n",
    "\n",
    "output_dir = os.path.join(output_path, name)\n",
    "if not os.path.exists(output_dir):\n",
    "    os.mkdir(output_dir)\n",
    "\n",
    "grib_fps = list(map(lambda gf: os.path.join(data_dir, gf), gribfiles))\n",
    "\n",
    "mdfm = MDFmanager()\n",
    "mdfm.set_output_dir(output_dir)\n",
    "print(mdfm.dump_wind_from_grib2(grib_fps, bl, tr))"
   ]
  }
 ],
 "metadata": {
  "kernelspec": {
   "display_name": "Python 3 (ipykernel)",
   "language": "python",
   "name": "python3"
  },
  "language_info": {
   "codemirror_mode": {
    "name": "ipython",
    "version": 3
   },
   "file_extension": ".py",
   "mimetype": "text/x-python",
   "name": "python",
   "nbconvert_exporter": "python",
   "pygments_lexer": "ipython3",
   "version": "3.8.12"
  }
 },
 "nbformat": 4,
 "nbformat_minor": 5
}
