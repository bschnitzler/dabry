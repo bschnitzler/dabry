{
 "cells": [
  {
   "cell_type": "code",
   "execution_count": 2,
   "id": "dc530ecb",
   "metadata": {},
   "outputs": [],
   "source": [
    "import pygrib\n",
    "import os\n",
    "import numpy as np\n",
    "import sys\n",
    "sys.path.extend(['/home/bastien/Documents/work/mermoz', \n",
    "                 '/home/bastien/Documents/work/mermoz/src',\n",
    "                 '/home/bastien/Documents/work/mdisplay',\n",
    "                 '/home/bastien/Documents/work/mdisplay/src'])\n",
    "from mermoz.wind import DiscreteWind\n",
    "from mermoz.mdf_manager import MDFmanager\n",
    "from mermoz.params_summary import ParamsSummary\n",
    "from mermoz.misc import *"
   ]
  },
  {
   "cell_type": "code",
   "execution_count": 5,
   "id": "2d1fb391",
   "metadata": {},
   "outputs": [
    {
     "name": "stdout",
     "output_type": "stream",
     "text": [
      "nx : 31, ny : 27\n"
     ]
    }
   ],
   "source": [
    "data_dir = '/home/bastien/Documents/data/wind/ncdc'\n",
    "output_dir = '/home/bastien/Documents/work/mermoz/output/example_wf_dn'\n",
    "if not os.path.exists(output_dir):\n",
    "    os.mkdir(output_dir)\n",
    "gribfile = 'gfs_3_20090823_0600_000.grb2'\n",
    "grib_fp = os.path.join(data_dir, gribfile)\n",
    "\n",
    "mdfm = MDFmanager()\n",
    "mdfm.set_output_dir(output_dir)\n",
    "bl = np.array((-40., -8.))\n",
    "tr = np.array((-10., 18.))\n",
    "mdfm.dump_wind_from_grib2(grib_fp, bl, tr)"
   ]
  },
  {
   "cell_type": "code",
   "execution_count": 4,
   "id": "24664335",
   "metadata": {},
   "outputs": [
    {
     "ename": "NameError",
     "evalue": "name 'grb' is not defined",
     "output_type": "error",
     "traceback": [
      "\u001b[0;31m---------------------------------------------------------------------------\u001b[0m",
      "\u001b[0;31mNameError\u001b[0m                                 Traceback (most recent call last)",
      "\u001b[0;32m/tmp/ipykernel_20587/1915928431.py\u001b[0m in \u001b[0;36m<module>\u001b[0;34m\u001b[0m\n\u001b[0;32m----> 1\u001b[0;31m \u001b[0mlats\u001b[0m\u001b[0;34m,\u001b[0m \u001b[0mlons\u001b[0m \u001b[0;34m=\u001b[0m \u001b[0mgrb\u001b[0m\u001b[0;34m.\u001b[0m\u001b[0mlatlons\u001b[0m\u001b[0;34m(\u001b[0m\u001b[0;34m)\u001b[0m\u001b[0;34m\u001b[0m\u001b[0;34m\u001b[0m\u001b[0m\n\u001b[0m\u001b[1;32m      2\u001b[0m \u001b[0mlats\u001b[0m\u001b[0;34m.\u001b[0m\u001b[0mshape\u001b[0m\u001b[0;34m,\u001b[0m \u001b[0mlats\u001b[0m\u001b[0;34m.\u001b[0m\u001b[0mmin\u001b[0m\u001b[0;34m(\u001b[0m\u001b[0;34m)\u001b[0m\u001b[0;34m,\u001b[0m \u001b[0mlats\u001b[0m\u001b[0;34m.\u001b[0m\u001b[0mmax\u001b[0m\u001b[0;34m(\u001b[0m\u001b[0;34m)\u001b[0m\u001b[0;34m,\u001b[0m \u001b[0mlons\u001b[0m\u001b[0;34m.\u001b[0m\u001b[0mshape\u001b[0m\u001b[0;34m,\u001b[0m \u001b[0mlons\u001b[0m\u001b[0;34m.\u001b[0m\u001b[0mmin\u001b[0m\u001b[0;34m(\u001b[0m\u001b[0;34m)\u001b[0m\u001b[0;34m,\u001b[0m \u001b[0mlons\u001b[0m\u001b[0;34m.\u001b[0m\u001b[0mmax\u001b[0m\u001b[0;34m(\u001b[0m\u001b[0;34m)\u001b[0m\u001b[0;34m\u001b[0m\u001b[0;34m\u001b[0m\u001b[0m\n",
      "\u001b[0;31mNameError\u001b[0m: name 'grb' is not defined"
     ]
    }
   ],
   "source": [
    "lats, lons = grb.latlons()\n",
    "lats.shape, lats.min(), lats.max(), lons.shape, lons.min(), lons.max()"
   ]
  },
  {
   "cell_type": "code",
   "execution_count": 8,
   "id": "237fbb6e",
   "metadata": {},
   "outputs": [
    {
     "data": {
      "text/plain": [
       "((50, 101), 21.0, 70.0, 220.0, 320.0)"
      ]
     },
     "execution_count": 8,
     "metadata": {},
     "output_type": "execute_result"
    }
   ],
   "source": [
    "data, lats, lons = grb.data(lat1=20.5,lat2=70,lon1=220,lon2=320)\n",
    "data.shape, lats.min(), lats.max(), lons.min(), lons.max()"
   ]
  },
  {
   "cell_type": "code",
   "execution_count": 6,
   "id": "773f9f23",
   "metadata": {},
   "outputs": [],
   "source": [
    "grb = grbs.select(name='U component of wind', typeOfLevel='isobaricInhPa',level=1000)[0]"
   ]
  },
  {
   "cell_type": "code",
   "execution_count": 9,
   "id": "521ade80",
   "metadata": {},
   "outputs": [
    {
     "name": "stdout",
     "output_type": "stream",
     "text": [
      "[[-1.57 -0.76 -0.58 ... -7.65 -7.61 -7.46]\n",
      " [-0.3   0.23  0.84 ... -5.27 -5.62 -6.04]\n",
      " [ 1.71  1.29  1.89 ... -4.67 -4.74 -5.25]\n",
      " ...\n",
      " [-8.77 -7.91 -7.4  ... -8.87 -8.25 -7.65]\n",
      " [-8.36 -7.59 -7.31 ... -8.45 -8.18 -8.35]\n",
      " [-8.53 -8.38 -8.45 ... -8.12 -8.45 -9.25]]\n",
      "(50, 101)\n"
     ]
    }
   ],
   "source": [
    "print(data[:, :])\n",
    "print(data.shape)"
   ]
  },
  {
   "cell_type": "code",
   "execution_count": 14,
   "id": "ce6e4662",
   "metadata": {},
   "outputs": [
    {
     "ename": "TypeError",
     "evalue": "only integer scalar arrays can be converted to a scalar index",
     "output_type": "error",
     "traceback": [
      "\u001b[0;31m---------------------------------------------------------------------------\u001b[0m",
      "\u001b[0;31mTypeError\u001b[0m                                 Traceback (most recent call last)",
      "\u001b[0;32m/tmp/ipykernel_20587/33657582.py\u001b[0m in \u001b[0;36m<module>\u001b[0;34m\u001b[0m\n\u001b[0;32m----> 1\u001b[0;31m \u001b[0mnp\u001b[0m\u001b[0;34m.\u001b[0m\u001b[0mtranspose\u001b[0m\u001b[0;34m(\u001b[0m\u001b[0mnp\u001b[0m\u001b[0;34m.\u001b[0m\u001b[0mstack\u001b[0m\u001b[0;34m(\u001b[0m\u001b[0mlons\u001b[0m\u001b[0;34m,\u001b[0m \u001b[0mlats\u001b[0m\u001b[0;34m)\u001b[0m\u001b[0;34m,\u001b[0m \u001b[0;34m(\u001b[0m\u001b[0;36m1\u001b[0m\u001b[0;34m,\u001b[0m \u001b[0;36m2\u001b[0m\u001b[0;34m,\u001b[0m \u001b[0;36m0\u001b[0m\u001b[0;34m)\u001b[0m\u001b[0;34m)\u001b[0m\u001b[0;34m\u001b[0m\u001b[0;34m\u001b[0m\u001b[0m\n\u001b[0m",
      "\u001b[0;32m<__array_function__ internals>\u001b[0m in \u001b[0;36mstack\u001b[0;34m(*args, **kwargs)\u001b[0m\n",
      "\u001b[0;32m~/anaconda3/envs/mermoz/lib/python3.8/site-packages/numpy/core/shape_base.py\u001b[0m in \u001b[0;36mstack\u001b[0;34m(arrays, axis, out)\u001b[0m\n\u001b[1;32m    427\u001b[0m \u001b[0;34m\u001b[0m\u001b[0m\n\u001b[1;32m    428\u001b[0m     \u001b[0mresult_ndim\u001b[0m \u001b[0;34m=\u001b[0m \u001b[0marrays\u001b[0m\u001b[0;34m[\u001b[0m\u001b[0;36m0\u001b[0m\u001b[0;34m]\u001b[0m\u001b[0;34m.\u001b[0m\u001b[0mndim\u001b[0m \u001b[0;34m+\u001b[0m \u001b[0;36m1\u001b[0m\u001b[0;34m\u001b[0m\u001b[0;34m\u001b[0m\u001b[0m\n\u001b[0;32m--> 429\u001b[0;31m     \u001b[0maxis\u001b[0m \u001b[0;34m=\u001b[0m \u001b[0mnormalize_axis_index\u001b[0m\u001b[0;34m(\u001b[0m\u001b[0maxis\u001b[0m\u001b[0;34m,\u001b[0m \u001b[0mresult_ndim\u001b[0m\u001b[0;34m)\u001b[0m\u001b[0;34m\u001b[0m\u001b[0;34m\u001b[0m\u001b[0m\n\u001b[0m\u001b[1;32m    430\u001b[0m \u001b[0;34m\u001b[0m\u001b[0m\n\u001b[1;32m    431\u001b[0m     \u001b[0msl\u001b[0m \u001b[0;34m=\u001b[0m \u001b[0;34m(\u001b[0m\u001b[0mslice\u001b[0m\u001b[0;34m(\u001b[0m\u001b[0;32mNone\u001b[0m\u001b[0;34m)\u001b[0m\u001b[0;34m,\u001b[0m\u001b[0;34m)\u001b[0m \u001b[0;34m*\u001b[0m \u001b[0maxis\u001b[0m \u001b[0;34m+\u001b[0m \u001b[0;34m(\u001b[0m\u001b[0m_nx\u001b[0m\u001b[0;34m.\u001b[0m\u001b[0mnewaxis\u001b[0m\u001b[0;34m,\u001b[0m\u001b[0;34m)\u001b[0m\u001b[0;34m\u001b[0m\u001b[0;34m\u001b[0m\u001b[0m\n",
      "\u001b[0;31mTypeError\u001b[0m: only integer scalar arrays can be converted to a scalar index"
     ]
    }
   ],
   "source": [
    "np.transpose(np.stack(lons, lats), (1, 2, 0))"
   ]
  },
  {
   "cell_type": "code",
   "execution_count": 18,
   "id": "6ca915f2",
   "metadata": {},
   "outputs": [
    {
     "data": {
      "text/plain": [
       "array([[[220., 221., 222., ..., 318., 319., 320.],\n",
       "        [220., 221., 222., ..., 318., 319., 320.],\n",
       "        [220., 221., 222., ..., 318., 319., 320.],\n",
       "        ...,\n",
       "        [220., 221., 222., ..., 318., 319., 320.],\n",
       "        [220., 221., 222., ..., 318., 319., 320.],\n",
       "        [220., 221., 222., ..., 318., 319., 320.]],\n",
       "\n",
       "       [[ 70.,  70.,  70., ...,  70.,  70.,  70.],\n",
       "        [ 69.,  69.,  69., ...,  69.,  69.,  69.],\n",
       "        [ 68.,  68.,  68., ...,  68.,  68.,  68.],\n",
       "        ...,\n",
       "        [ 23.,  23.,  23., ...,  23.,  23.,  23.],\n",
       "        [ 22.,  22.,  22., ...,  22.,  22.,  22.],\n",
       "        [ 21.,  21.,  21., ...,  21.,  21.,  21.]]])"
      ]
     },
     "execution_count": 18,
     "metadata": {},
     "output_type": "execute_result"
    }
   ],
   "source": [
    "np.stack((lons, lats))"
   ]
  }
 ],
 "metadata": {
  "kernelspec": {
   "display_name": "Python 3 (ipykernel)",
   "language": "python",
   "name": "python3"
  },
  "language_info": {
   "codemirror_mode": {
    "name": "ipython",
    "version": 3
   },
   "file_extension": ".py",
   "mimetype": "text/x-python",
   "name": "python",
   "nbconvert_exporter": "python",
   "pygments_lexer": "ipython3",
   "version": "3.8.12"
  }
 },
 "nbformat": 4,
 "nbformat_minor": 5
}
