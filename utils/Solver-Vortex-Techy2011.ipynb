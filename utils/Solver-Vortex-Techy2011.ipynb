{
 "cells": [
  {
   "cell_type": "markdown",
   "id": "c2593e83",
   "metadata": {},
   "source": [
    "# Time-optimal path planning\n",
    "This notebook handles standard code for the computation of time-optimal paths in windfields"
   ]
  },
  {
   "cell_type": "code",
   "execution_count": 1,
   "id": "a3723eb5",
   "metadata": {},
   "outputs": [],
   "source": [
    "import os\n",
    "import sys\n",
    "import time\n",
    "import numpy as np\n",
    "from math import atan, cos, sin\n",
    "sys.path.extend(['/home/bastien/Documents/work/mermoz', \n",
    "                 '/home/bastien/Documents/work/mermoz/src',\n",
    "                 '/home/bastien/Documents/work/mdisplay',\n",
    "                 '/home/bastien/Documents/work/mdisplay/src'])\n",
    "\n",
    "from mermoz.feedback import TargetFB\n",
    "from mermoz.mdf_manager import MDFmanager\n",
    "from mermoz.params_summary import ParamsSummary\n",
    "from mermoz.problem import MermozProblem\n",
    "from mermoz.model import ZermeloGeneralModel\n",
    "from mermoz.solver import Solver\n",
    "from mermoz.stoppingcond import TimedSC, DistanceSC\n",
    "from mermoz.wind import DiscreteWind\n",
    "from mermoz.misc import *\n",
    "from mdisplay.geodata import GeoData\n",
    "\n",
    "from solver_utils import select_wind"
   ]
  },
  {
   "cell_type": "markdown",
   "id": "cbeb456b",
   "metadata": {},
   "source": [
    "### Problem definition"
   ]
  },
  {
   "cell_type": "markdown",
   "id": "840ecda7",
   "metadata": {},
   "source": [
    "Initial point, target, UAV airspeed"
   ]
  },
  {
   "cell_type": "code",
   "execution_count": 2,
   "id": "16dfd013",
   "metadata": {},
   "outputs": [],
   "source": [
    "# Scale factor\n",
    "sf = 1e6\n",
    "\n",
    "# Initial point\n",
    "x_init = sf * np.array((0., 0.))\n",
    "\n",
    "# Target\n",
    "x_target = sf * np.array((1., 0.))\n",
    "\n",
    "# Windfield boundaries\n",
    "bl = sf * np.array((-0.1, -1.))\n",
    "tr = sf * np.array((1.1, 1.))\n",
    "\n",
    "# UAV airspeed in m/s\n",
    "v_a = 23.\n",
    "\n",
    "case_name = 'vortex_1'"
   ]
  },
  {
   "cell_type": "markdown",
   "id": "0642a997",
   "metadata": {},
   "source": [
    "Set up the problem"
   ]
  },
  {
   "cell_type": "code",
   "execution_count": 3,
   "id": "8cebb9c2",
   "metadata": {},
   "outputs": [],
   "source": [
    "# Prepare output directory\n",
    "output_dir = f'/home/bastien/Documents/work/mermoz/output/example_solver_{case_name}'\n",
    "if not os.path.exists(output_dir):\n",
    "    os.mkdir(output_dir)\n",
    "\n",
    "# Create a file manager to dump problem data\n",
    "mdfm = MDFmanager()\n",
    "mdfm.set_output_dir(output_dir)\n",
    "\n",
    "# Problem coordinates\n",
    "# coords = COORD_GCS\n",
    "coords = COORD_CARTESIAN\n",
    "\n",
    "# Problem wind data\n",
    "from mermoz.wind import RankineVortexWind, PointSymWind\n",
    "# total_wind = RankineVortexWind(sf * 0.5, sf * 0.3, sf * v_a * 3., sf * 0.2)\n",
    "gamma = v_a / sf * 1.\n",
    "omega = 0.\n",
    "total_wind = PointSymWind(sf * 0.5, sf * 0.3, gamma, omega)\n",
    "def domain(x):\n",
    "    return bl[0] < x[0] < tr[0] and bl[1] < x[1] < tr[1]\n",
    "\n",
    "# Time window upper bound\n",
    "# Estimated through great circle distance + 20 percent\n",
    "T = 30. * 3600 # 1.2 * geodesic_distance(x_init, x_target, mode='rad') / v_a\n",
    "\n",
    "# Creates the cinematic model\n",
    "zermelo_model = ZermeloGeneralModel(v_a, coords=coords)\n",
    "zermelo_model.update_wind(total_wind)\n",
    "\n",
    "# Creates the navigation problem on top of the previous model\n",
    "mp = MermozProblem(zermelo_model, T=T, coords=coords, autodomain=False, domain=domain)"
   ]
  },
  {
   "cell_type": "markdown",
   "id": "85210b3d",
   "metadata": {},
   "source": [
    "### Solver parameters"
   ]
  },
  {
   "cell_type": "code",
   "execution_count": 4,
   "id": "6f1c9092",
   "metadata": {},
   "outputs": [],
   "source": [
    "auto_psi = 0.\n",
    "psi_min = auto_psi - DEG_TO_RAD * 20.\n",
    "psi_max = auto_psi + DEG_TO_RAD * 20.\n",
    "\n",
    "nt_pmp = 1000\n",
    "opti_ceil = 0.01 * sf\n",
    "neighb_ceil = opti_ceil/2.\n",
    "\n",
    "solver = Solver(mp,\n",
    "                x_init,\n",
    "                x_target,\n",
    "                T,\n",
    "                psi_min,\n",
    "                psi_max,\n",
    "                output_dir,\n",
    "                N_disc_init=2,\n",
    "                opti_ceil=opti_ceil,\n",
    "                neighb_ceil=neighb_ceil,\n",
    "                n_min_opti=1,\n",
    "                adaptive_int_step=False,\n",
    "                N_iter=nt_pmp)\n",
    "\n",
    "solver.log_config()\n",
    "solver.setup()"
   ]
  },
  {
   "cell_type": "markdown",
   "id": "0e63d855",
   "metadata": {},
   "source": [
    "Solve problem"
   ]
  },
  {
   "cell_type": "code",
   "execution_count": 5,
   "id": "cced6d67",
   "metadata": {
    "scrolled": true
   },
   "outputs": [
    {
     "name": "stdout",
     "output_type": "stream",
     "text": [
      "Shooting -20.0\n",
      "Shooting 20.0\n",
      "Iteration 1 - Shooting 0.0 - Depth 1 - Branching LU\n",
      "Iteration 2 - Shooting 10.0 - Depth 2 - Branching LU\n",
      "Iteration 3 - Shooting 15.0 - Depth 3 - Branching LU\n",
      "Iteration 4 - Shooting 17.5 - Depth 4 - Optimum found\n",
      "    * Pre-processing :  0.032 s\n",
      "    * Processing      :  0.062 s\n",
      "    * Total           :  0.094 s\n",
      "50436.0\n"
     ]
    }
   ],
   "source": [
    "t_start = time.time()\n",
    "solver.solve_fancy()\n",
    "t_end = time.time()\n",
    "time_pmp = t_end - t_start"
   ]
  },
  {
   "cell_type": "markdown",
   "id": "33b674c3",
   "metadata": {},
   "source": [
    "### Explicit control laws"
   ]
  },
  {
   "cell_type": "code",
   "execution_count": 6,
   "id": "9c50e936",
   "metadata": {},
   "outputs": [],
   "source": [
    "sc = DistanceSC(lambda x: np.linalg.norm(x - x_target), opti_ceil)\n",
    "sc = TimedSC(T)\n",
    "from mermoz.feedback import FixedHeadingFB, ConstantFB\n",
    "\n",
    "mp.load_feedback(FixedHeadingFB(mp.model.wind, v_a, 0., mp.coords))\n",
    "mp.integrate_trajectory(x_init, sc, int_step=T / (nt_pmp - 1))\n",
    "\n",
    "mp.load_feedback(ConstantFB(0.))\n",
    "mp.integrate_trajectory(x_init, sc, int_step=T / (nt_pmp - 1))"
   ]
  },
  {
   "cell_type": "markdown",
   "id": "17f3fdd9",
   "metadata": {},
   "source": [
    "Dump everything to output directory"
   ]
  },
  {
   "cell_type": "code",
   "execution_count": 7,
   "id": "2bff991f",
   "metadata": {},
   "outputs": [],
   "source": [
    "nx = 1001\n",
    "ny = 1001\n",
    "mdfm.dump_wind(total_wind, nx=101, ny=101, bl=bl, tr=tr)\n",
    "mdfm.dump_trajs(mp.trajs)\n",
    "\n",
    "ps = ParamsSummary({}, output_dir)\n",
    "ps.load_from_solver(solver)\n",
    "ps.add_param('bl_wind', tuple(bl))\n",
    "ps.add_param('tr_wind', tuple(tr))\n",
    "#ps.add_param('nx_wind', nx)\n",
    "#ps.add_param('ny_wind', ny)\n",
    "ps.add_param('nt_pmp', nt_pmp)\n",
    "ps.add_param('pmp_time', time_pmp)\n",
    "ps.dump()"
   ]
  }
 ],
 "metadata": {
  "kernelspec": {
   "display_name": "Python 3 (ipykernel)",
   "language": "python",
   "name": "python3"
  },
  "language_info": {
   "codemirror_mode": {
    "name": "ipython",
    "version": 3
   },
   "file_extension": ".py",
   "mimetype": "text/x-python",
   "name": "python",
   "nbconvert_exporter": "python",
   "pygments_lexer": "ipython3",
   "version": "3.8.12"
  }
 },
 "nbformat": 4,
 "nbformat_minor": 5
}
