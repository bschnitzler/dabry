{
 "cells": [
  {
   "cell_type": "code",
   "execution_count": 1,
   "id": "a1c6d7f0",
   "metadata": {},
   "outputs": [],
   "source": [
    "import sys\n",
    "import os\n",
    "import numpy as np\n",
    "sys.path.extend(['/home/bastien/Documents/work/mermoz', \n",
    "                 '/home/bastien/Documents/work/mermoz/src',\n",
    "                 '/home/bastien/Documents/work/mdisplay',\n",
    "                 '/home/bastien/Documents/work/mdisplay/src'])\n",
    "from mermoz.wind import DiscreteWind\n",
    "from mermoz.mdf_manager import MDFmanager\n",
    "from mermoz.params_summary import ParamsSummary\n",
    "from mermoz.misc import *\n",
    "\n",
    "from mdisplay.geodata import GeoData\n",
    "\n",
    "wind_data_dir = '/home/bastien/Documents/data/wind/ncdc'\n",
    "interm_dir = os.path.join(wind_data_dir, 'test.mz')\n",
    "output_dir = os.path.join(wind_data_dir, 'san-juan-dublin-flattened-ortho.mz')\n",
    "for d in [interm_dir, output_dir]:\n",
    "    if not os.path.exists(d):\n",
    "        os.mkdir(d)\n",
    "\n",
    "gribfile = 'gfs_4_20220301_1200_000.grb2'\n",
    "gd = GeoData()\n",
    "bl = gd.get_coords('San Juan', units='deg')\n",
    "tr = gd.get_coords('Dublin', units='deg')\n",
    "bl, tr = enlarge(bl, tr)"
   ]
  },
  {
   "cell_type": "code",
   "execution_count": 2,
   "id": "d36b4818",
   "metadata": {},
   "outputs": [
    {
     "name": "stdout",
     "output_type": "stream",
     "text": [
      "nx : 132, ny : 77\n",
      "Loading wind values...        Done\n",
      "-1.2042771838760873 -0.061086523819801536 0.29670597283903605 0.9599310885968813\n"
     ]
    }
   ],
   "source": [
    "mdfm = MDFmanager()\n",
    "mdfm.set_output_dir(interm_dir)\n",
    "mdfm.dump_wind_from_grib2(os.path.join(wind_data_dir, gribfile), bl, tr)\n",
    "wind = DiscreteWind(interp='linear')\n",
    "wind.load(os.path.join(interm_dir, 'wind.h5'))\n",
    "print(wind.x_min, wind.x_max, wind.y_min, wind.y_max)\n",
    "ps = ParamsSummary({}, interm_dir)\n",
    "ps.add_param('coords', 'gcs')\n",
    "ps.add_param('bl_wind', list(RAD_TO_DEG * wind.grid[0, 0]))\n",
    "ps.add_param('tr_wind', list(RAD_TO_DEG * wind.grid[-1, -1]))\n",
    "ps.add_param('nx_wind', wind.grid.shape[0])\n",
    "ps.add_param('ny_wind', wind.grid.shape[1])\n",
    "ps.dump()"
   ]
  },
  {
   "cell_type": "code",
   "execution_count": 3,
   "id": "759b0ed3",
   "metadata": {
    "scrolled": true
   },
   "outputs": [
    {
     "name": "stdout",
     "output_type": "stream",
     "text": [
      "-3305149.920136907 3294131.906158604 -2066763.525940521 2428553.6469813613\n"
     ]
    }
   ],
   "source": [
    "lon_0 = (bl[0] + tr[0])*0.5\n",
    "lat_0 = (bl[1] + tr[1])*0.5\n",
    "wind.flatten(proj='ortho', lon_0=lon_0, lat_0=lat_0)"
   ]
  },
  {
   "cell_type": "code",
   "execution_count": null,
   "id": "580d4eb6",
   "metadata": {},
   "outputs": [],
   "source": [
    "wind.unstructured"
   ]
  },
  {
   "cell_type": "code",
   "execution_count": 4,
   "id": "6a4b7edc",
   "metadata": {},
   "outputs": [],
   "source": [
    "mdfm = MDFmanager()\n",
    "mdfm.set_output_dir(output_dir)\n",
    "mdfm.dump_wind(wind)"
   ]
  },
  {
   "cell_type": "code",
   "execution_count": 5,
   "id": "026d6cf6",
   "metadata": {},
   "outputs": [],
   "source": [
    "ps = ParamsSummary({}, output_dir)\n",
    "ps.add_param('coords', 'cartesian')\n",
    "ps.add_param('bl_wind', (wind.grid[:, :, 0].min(), wind.grid[:, :, 1].min()))\n",
    "ps.add_param('tr_wind', (wind.grid[:, :, 0].max(), wind.grid[:, :, 1].max()))\n",
    "ps.add_param('nx_wind', wind.grid.shape[0])\n",
    "ps.add_param('ny_wind', wind.grid.shape[1])\n",
    "ps.dump()"
   ]
  },
  {
   "cell_type": "markdown",
   "id": "088d1aaf",
   "metadata": {},
   "source": [
    "{\"coords\": \"gcs\", \"bl_wind\": [-38.3, -8.8], \"tr_wind\": [-14.800000000000002, 17.7], \"nx_wind\": 48, \"ny_wind\": 54, \"date_wind\": 1648112400000.0, \"point_init\": [-17.447938, 14.693425], \"max_time\": 108000.0, \"geodesic_time\": 130795.63554977896, \"airspeed\": 23.0, \"point_target\": [-35.2080905, -5.805398], \"target_radius\": 55659.74539663678, \"nt_pmp\": 1000, \"pmp_time\": 0.30774879455566406}"
   ]
  }
 ],
 "metadata": {
  "kernelspec": {
   "display_name": "Python 3 (ipykernel)",
   "language": "python",
   "name": "python3"
  },
  "language_info": {
   "codemirror_mode": {
    "name": "ipython",
    "version": 3
   },
   "file_extension": ".py",
   "mimetype": "text/x-python",
   "name": "python",
   "nbconvert_exporter": "python",
   "pygments_lexer": "ipython3",
   "version": "3.8.12"
  }
 },
 "nbformat": 4,
 "nbformat_minor": 5
}
