{
 "cells": [
  {
   "cell_type": "markdown",
   "id": "c2593e83",
   "metadata": {},
   "source": [
    "# Time-optimal path planning\n",
    "This notebook handles standard code for the computation of time-optimal paths in windfields"
   ]
  },
  {
   "cell_type": "code",
   "execution_count": 30,
   "id": "a3723eb5",
   "metadata": {},
   "outputs": [],
   "source": [
    "import os\n",
    "import sys\n",
    "import time\n",
    "import numpy as np\n",
    "from math import atan, cos, sin\n",
    "sys.path.extend(['/home/bastien/Documents/work/mermoz', \n",
    "                 '/home/bastien/Documents/work/mermoz/src',\n",
    "                 '/home/bastien/Documents/work/mdisplay',\n",
    "                 '/home/bastien/Documents/work/mdisplay/src'])\n",
    "\n",
    "from mermoz.feedback import TargetFB\n",
    "from mermoz.mdf_manager import MDFmanager\n",
    "from mermoz.params_summary import ParamsSummary\n",
    "from mermoz.problem import MermozProblem\n",
    "from mermoz.model import ZermeloGeneralModel\n",
    "from mermoz.solver import Solver\n",
    "from mermoz.stoppingcond import TimedSC, DistanceSC\n",
    "from mermoz.wind import DiscreteWind\n",
    "from mermoz.misc import *\n",
    "from mdisplay.geodata import GeoData\n",
    "\n",
    "from solver_utils import select_wind"
   ]
  },
  {
   "cell_type": "markdown",
   "id": "cbeb456b",
   "metadata": {},
   "source": [
    "### Problem definition"
   ]
  },
  {
   "cell_type": "markdown",
   "id": "840ecda7",
   "metadata": {},
   "source": [
    "Initial point, target, UAV airspeed"
   ]
  },
  {
   "cell_type": "code",
   "execution_count": 31,
   "id": "16dfd013",
   "metadata": {},
   "outputs": [],
   "source": [
    "# Scale factor\n",
    "sf = 1e6\n",
    "\n",
    "# Initial point\n",
    "x_init = sf * np.array((0., 0.))\n",
    "\n",
    "# Target\n",
    "x_target = sf * np.array((1., 0.))\n",
    "\n",
    "# Windfield boundaries\n",
    "bl = sf * np.array((-0.1, -1.))\n",
    "tr = sf * np.array((1.1, 1.))\n",
    "\n",
    "# UAV airspeed in m/s\n",
    "v_a = 23.\n",
    "\n",
    "nx_rft = 101\n",
    "ny_rft = 101\n",
    "\n",
    "case_name = 'rad_gauss_1'"
   ]
  },
  {
   "cell_type": "markdown",
   "id": "0642a997",
   "metadata": {},
   "source": [
    "Set up the problem"
   ]
  },
  {
   "cell_type": "code",
   "execution_count": 32,
   "id": "8cebb9c2",
   "metadata": {},
   "outputs": [],
   "source": [
    "# Prepare output directory\n",
    "output_dir = f'/home/bastien/Documents/work/mermoz/output/example_solver_{case_name}'\n",
    "if not os.path.exists(output_dir):\n",
    "    os.mkdir(output_dir)\n",
    "\n",
    "# Create a file manager to dump problem data\n",
    "mdfm = MDFmanager()\n",
    "mdfm.set_output_dir(output_dir)\n",
    "\n",
    "# Problem coordinates\n",
    "# coords = COORD_GCS\n",
    "coords = COORD_CARTESIAN\n",
    "\n",
    "# Problem wind data\n",
    "from mermoz.wind import RadialGaussWind\n",
    "total_wind = RadialGaussWind(sf * 0.5, sf * 0.05, sf * 0.2, 1/3 * np.log(0.5), v_a * 1.1)\n",
    "def domain(x):\n",
    "    return bl[0] < x[0] < tr[0] and bl[1] < x[1] < tr[1]\n",
    "\n",
    "# Time window upper bound\n",
    "# Estimated through great circle distance + 20 percent\n",
    "T = 30. * 3600 # 1.2 * geodesic_distance(x_init, x_target, mode='rad') / v_a\n",
    "\n",
    "# Creates the cinematic model\n",
    "zermelo_model = ZermeloGeneralModel(v_a, coords=coords)\n",
    "zermelo_model.update_wind(total_wind)\n",
    "\n",
    "# Creates the navigation problem on top of the previous model\n",
    "mp = MermozProblem(zermelo_model, T=T, coords=coords, autodomain=False, domain=domain)"
   ]
  },
  {
   "cell_type": "markdown",
   "id": "85210b3d",
   "metadata": {},
   "source": [
    "### Solver parameters"
   ]
  },
  {
   "cell_type": "code",
   "execution_count": 61,
   "id": "6f1c9092",
   "metadata": {},
   "outputs": [],
   "source": [
    "auto_psi = 0.\n",
    "psi_min = - DEG_TO_RAD * 180. #auto_psi - DEG_TO_RAD * 20.\n",
    "psi_max = DEG_TO_RAD * 180. #auto_psi + DEG_TO_RAD * 20.\n",
    "\n",
    "nt_pmp = 1000\n",
    "opti_ceil = 0.01 * sf\n",
    "neighb_ceil = opti_ceil/2.\n",
    "\n",
    "solver = Solver(mp,\n",
    "                x_init,\n",
    "                x_target,\n",
    "                T,\n",
    "                psi_min,\n",
    "                psi_max,\n",
    "                output_dir,\n",
    "                N_disc_init=2,\n",
    "                opti_ceil=opti_ceil,\n",
    "                neighb_ceil=neighb_ceil,\n",
    "                n_min_opti=1,\n",
    "                adaptive_int_step=False,\n",
    "                N_iter=nt_pmp)\n",
    "\n",
    "solver.log_config()\n",
    "solver.setup()"
   ]
  },
  {
   "cell_type": "markdown",
   "id": "0e63d855",
   "metadata": {},
   "source": [
    "Solve problem"
   ]
  },
  {
   "cell_type": "code",
   "execution_count": 62,
   "id": "cced6d67",
   "metadata": {
    "scrolled": true
   },
   "outputs": [
    {
     "name": "stdout",
     "output_type": "stream",
     "text": [
      "Shooting -180.0\n",
      "Shooting 180.0\n",
      "936122.21055, 0.00\n",
      "Iteration 1 - Shooting 0.0 - Depth 1 - Branching LU\n",
      "Iteration 2 - Shooting -90.0 - Depth 2 - Branching L\n",
      "Iteration 3 - Shooting 90.0 - Depth 2 - Branching L\n",
      "Iteration 4 - Shooting 45.0 - Depth 3 - Branching L\n",
      "Iteration 5 - Shooting 22.5 - Depth 4 - Branching L\n",
      "Iteration 6 - Shooting 11.2 - Depth 5 - Branching L\n",
      "Iteration 7 - Shooting 5.6 - Depth 6 - Branching L\n",
      "Iteration 8 - Shooting 2.8 - Depth 7 - Branching L\n",
      "Iteration 9 - Shooting 1.4 - Depth 8 - Branching L\n",
      "Iteration 10 - Shooting 0.7 - Depth 9 - Branching L\n",
      "Iteration 11 - Shooting 0.4 - Depth 10 - Max depth (10) reached, no branching\n",
      "Iteration 12 - Shooting -135.0 - Depth 3 - Branching L\n",
      "Iteration 13 - Shooting -157.5 - Depth 4 - Branching L\n",
      "Iteration 14 - Shooting -168.7 - Depth 5 - Branching L\n",
      "Iteration 15 - Shooting -174.4 - Depth 6 - Branching L\n",
      "Iteration 16 - Shooting -177.2 - Depth 7 - Branching L\n",
      "Iteration 17 - Shooting -178.6 - Depth 8 - Branching L\n",
      "Iteration 18 - Shooting -179.3 - Depth 9 - Branching L\n",
      "Iteration 19 - Shooting -179.6 - Depth 10 - Max depth (10) reached, no branching\n",
      "    * Pre-processing :  0.077 s\n",
      "    * Processing      :  0.774 s\n",
      "    * Total           :  0.851 s\n",
      "No optimum found\n"
     ]
    }
   ],
   "source": [
    "t_start = time.time()\n",
    "solver.solve_fancy()\n",
    "t_end = time.time()\n",
    "time_pmp = t_end - t_start"
   ]
  },
  {
   "cell_type": "markdown",
   "id": "33b674c3",
   "metadata": {},
   "source": [
    "### Explicit control laws"
   ]
  },
  {
   "cell_type": "code",
   "execution_count": 35,
   "id": "9c50e936",
   "metadata": {},
   "outputs": [],
   "source": [
    "sc = DistanceSC(lambda x: np.linalg.norm(x - x_target), opti_ceil)\n",
    "sc = TimedSC(T)\n",
    "from mermoz.feedback import FixedHeadingFB, ConstantFB\n",
    "\n",
    "mp.load_feedback(FixedHeadingFB(mp.model.wind, v_a, 0., mp.coords))\n",
    "mp.integrate_trajectory(x_init, sc, int_step=T / (nt_pmp - 1))\n",
    "\n",
    "mp.load_feedback(ConstantFB(0.))\n",
    "mp.integrate_trajectory(x_init, sc, int_step=T / (nt_pmp - 1))"
   ]
  },
  {
   "cell_type": "markdown",
   "id": "fd593fd0",
   "metadata": {},
   "source": [
    "### RFT"
   ]
  },
  {
   "cell_type": "code",
   "execution_count": 36,
   "id": "e1cc955d",
   "metadata": {
    "scrolled": false
   },
   "outputs": [
    {
     "name": "stdout",
     "output_type": "stream",
     "text": [
      "\n",
      "tol =\n",
      "\n",
      "       12000\n",
      "\n",
      "\t151 steps in 3.3 seconds from 0 to 13500\n",
      "\t151 steps in 4.04 seconds from 13500 to 27000\n",
      "\t151 steps in 2.59 seconds from 27000 to 40500\n",
      "\t151 steps in 3.96 seconds from 40500 to 54000\n",
      "\t151 steps in 2.53 seconds from 54000 to 67500\n",
      "\t151 steps in 2.55 seconds from 67500 to 81000\n",
      "\t151 steps in 3.11 seconds from 81000 to 94500\n",
      "\t151 steps in 2.65 seconds from 94500 to 108000\n",
      "\n",
      "Total execution time 25.18 seconds\n"
     ]
    }
   ],
   "source": [
    "from mermoz.rft import RFT\n",
    "t_start = time.time()\n",
    "rft = RFT(bl, tr, T, nx_rft, ny_rft, mp, x_init, kernel='matlab', coords=COORD_CARTESIAN)\n",
    "rft.compute()\n",
    "t_end = time.time()\n",
    "time_rft = t_end - t_start"
   ]
  },
  {
   "cell_type": "markdown",
   "id": "17f3fdd9",
   "metadata": {},
   "source": [
    "Dump everything to output directory"
   ]
  },
  {
   "cell_type": "code",
   "execution_count": 63,
   "id": "2bff991f",
   "metadata": {},
   "outputs": [],
   "source": [
    "nx = 1001\n",
    "ny = 1001\n",
    "mdfm.dump_wind(total_wind, nx=101, ny=101, bl=bl, tr=tr)\n",
    "mdfm.dump_trajs(mp.trajs)\n",
    "rft.dump_rff(output_dir)\n",
    "\n",
    "\n",
    "ps = ParamsSummary({}, output_dir)\n",
    "ps.load_from_solver(solver)\n",
    "ps.add_param('bl_wind', tuple(bl))\n",
    "ps.add_param('tr_wind', tuple(tr))\n",
    "#ps.add_param('nx_wind', nx)\n",
    "#ps.add_param('ny_wind', ny)\n",
    "ps.add_param('nt_pmp', nt_pmp)\n",
    "ps.add_param('pmp_time', time_pmp)\n",
    "ps.dump()"
   ]
  }
 ],
 "metadata": {
  "kernelspec": {
   "display_name": "Python 3 (ipykernel)",
   "language": "python",
   "name": "python3"
  },
  "language_info": {
   "codemirror_mode": {
    "name": "ipython",
    "version": 3
   },
   "file_extension": ".py",
   "mimetype": "text/x-python",
   "name": "python",
   "nbconvert_exporter": "python",
   "pygments_lexer": "ipython3",
   "version": "3.9.7"
  }
 },
 "nbformat": 4,
 "nbformat_minor": 5
}
