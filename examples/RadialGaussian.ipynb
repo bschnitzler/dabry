{
 "cells": [
  {
   "cell_type": "markdown",
   "id": "c2593e83",
   "metadata": {},
   "source": [
    "# Time-optimal path planning\n",
    "This notebook handles standard code for the computation of time-optimal paths in windfields"
   ]
  },
  {
   "cell_type": "code",
   "execution_count": 1,
   "id": "a3723eb5",
   "metadata": {},
   "outputs": [],
   "source": [
    "import os\n",
    "import sys\n",
    "import time\n",
    "import numpy as np\n",
    "from math import atan, cos, sin\n",
    "sys.path.extend(['/home/bastien/Documents/work/mermoz', \n",
    "                 '/home/bastien/Documents/work/mermoz/src',\n",
    "                 '/home/bastien/Documents/work/mdisplay',\n",
    "                 '/home/bastien/Documents/work/mdisplay/src'])\n",
    "\n",
    "from mermoz.feedback import TargetFB\n",
    "from mermoz.mdf_manager import MDFmanager\n",
    "from mermoz.params_summary import ParamsSummary\n",
    "from mermoz.problem import MermozProblem\n",
    "from mermoz.model import ZermeloGeneralModel\n",
    "from mermoz.solver import Solver\n",
    "from mermoz.stoppingcond import TimedSC, DistanceSC\n",
    "from mermoz.wind import DiscreteWind\n",
    "from mermoz.misc import *\n",
    "from mdisplay.geodata import GeoData\n",
    "\n",
    "from solver_utils import select_wind"
   ]
  },
  {
   "cell_type": "markdown",
   "id": "cbeb456b",
   "metadata": {},
   "source": [
    "### Problem definition"
   ]
  },
  {
   "cell_type": "markdown",
   "id": "840ecda7",
   "metadata": {},
   "source": [
    "Initial point, target, UAV airspeed"
   ]
  },
  {
   "cell_type": "code",
   "execution_count": 2,
   "id": "16dfd013",
   "metadata": {},
   "outputs": [],
   "source": [
    "# Scale factor\n",
    "sf = 1e6\n",
    "\n",
    "# Initial point\n",
    "x_init = sf * np.array((0., 0.))\n",
    "\n",
    "# Target\n",
    "x_target = sf * np.array((1., 0.))\n",
    "\n",
    "# Windfield boundaries\n",
    "bl = sf * np.array((-0.1, -1.))\n",
    "tr = sf * np.array((1.1, 1.))\n",
    "\n",
    "# UAV airspeed in m/s\n",
    "v_a = 23.\n",
    "\n",
    "nx_rft = 101\n",
    "ny_rft = 101\n",
    "\n",
    "case_name = 'rad_gauss_1'"
   ]
  },
  {
   "cell_type": "markdown",
   "id": "0642a997",
   "metadata": {},
   "source": [
    "Set up the problem"
   ]
  },
  {
   "cell_type": "code",
   "execution_count": 3,
   "id": "8cebb9c2",
   "metadata": {},
   "outputs": [],
   "source": [
    "# Prepare output directory\n",
    "output_dir = f'/home/bastien/Documents/work/mermoz/output/example_solver_{case_name}'\n",
    "if not os.path.exists(output_dir):\n",
    "    os.mkdir(output_dir)\n",
    "\n",
    "# Create a file manager to dump problem data\n",
    "mdfm = MDFmanager()\n",
    "mdfm.set_output_dir(output_dir)\n",
    "\n",
    "# Problem coordinates\n",
    "# coords = COORD_GCS\n",
    "coords = COORD_CARTESIAN\n",
    "\n",
    "# Problem wind data\n",
    "from mermoz.wind import RadialGaussWind\n",
    "total_wind = RadialGaussWind(sf * 0.5, sf * 0.05, sf * 0.2, 1/3 * np.log(0.5), v_a * 1.1)\n",
    "def domain(x):\n",
    "    return bl[0] < x[0] < tr[0] and bl[1] < x[1] < tr[1]\n",
    "\n",
    "# Time window upper bound\n",
    "# Estimated through great circle distance + 20 percent\n",
    "T = 30. * 3600 # 1.2 * geodesic_distance(x_init, x_target, mode='rad') / v_a\n",
    "\n",
    "# Creates the cinematic model\n",
    "zermelo_model = ZermeloGeneralModel(v_a, coords=coords)\n",
    "zermelo_model.update_wind(total_wind)\n",
    "\n",
    "# Creates the navigation problem on top of the previous model\n",
    "mp = MermozProblem(zermelo_model, T=T, coords=coords, autodomain=False, domain=domain)"
   ]
  },
  {
   "cell_type": "markdown",
   "id": "85210b3d",
   "metadata": {},
   "source": [
    "### Solver parameters"
   ]
  },
  {
   "cell_type": "code",
   "execution_count": 4,
   "id": "6f1c9092",
   "metadata": {},
   "outputs": [],
   "source": [
    "auto_psi = 0.\n",
    "psi_min = - DEG_TO_RAD * 90. #auto_psi - DEG_TO_RAD * 20.\n",
    "psi_max = DEG_TO_RAD * 0. #auto_psi + DEG_TO_RAD * 20.\n",
    "\n",
    "nt_pmp = 1000\n",
    "opti_ceil = 0.01 * sf\n",
    "neighb_ceil = opti_ceil/2.\n",
    "\n",
    "solver = Solver(mp,\n",
    "                x_init,\n",
    "                x_target,\n",
    "                T,\n",
    "                psi_min,\n",
    "                psi_max,\n",
    "                output_dir,\n",
    "                N_disc_init=2,\n",
    "                opti_ceil=opti_ceil,\n",
    "                neighb_ceil=neighb_ceil,\n",
    "                n_min_opti=1,\n",
    "                adaptive_int_step=False,\n",
    "                N_iter=nt_pmp)\n",
    "\n",
    "solver.log_config()\n",
    "solver.setup()"
   ]
  },
  {
   "cell_type": "markdown",
   "id": "0e63d855",
   "metadata": {},
   "source": [
    "Solve problem"
   ]
  },
  {
   "cell_type": "code",
   "execution_count": 5,
   "id": "cced6d67",
   "metadata": {
    "scrolled": true
   },
   "outputs": [
    {
     "name": "stdout",
     "output_type": "stream",
     "text": [
      "Shooting -90.0\n",
      "Shooting 0.0\n",
      "857675.94238, -45.00\n",
      "It   1 - Shoot -45.0 - Depth   1 - Crit 1001685.8, 100% - Branching LU\n",
      "It   2 - Shoot -22.5 - Depth   2 - Crit 644777.4, 64% - Branching  U\n",
      "It   3 - Shoot -11.2 - Depth   3 - Crit 694918.8, 69% - Branching LU\n",
      "It   4 - Shoot -16.9 - Depth   4 - Crit 676283.1, 67% - Branching LU\n",
      "It   5 - Shoot -19.7 - Depth   5 - Crit 662898.2, 66% - Branching LU\n",
      "It   6 - Shoot -21.1 - Depth   6 - Crit 654591.4, 65% - Branching LU\n",
      "It   7 - Shoot -21.8 - Depth   7 - Crit 649900.8, 64% - Branching LU\n",
      "It   8 - Shoot -22.1 - Depth   8 - Crit 647397.4, 64% - No branching\n",
      "It   9 - Shoot -21.4 - Depth   8 - Crit 652296.2, 65% - No branching\n",
      "It  10 - Shoot -20.4 - Depth   7 - Crit 658908.1, 65% - Branching LU\n",
      "It  11 - Shoot -20.7 - Depth   8 - Crit 656793.3, 65% - No branching\n",
      "It  12 - Shoot -20.0 - Depth   8 - Crit 660941.4, 66% - No branching\n",
      "It  13 - Shoot -18.3 - Depth   6 - Crit 670048.5, 67% - Branching LU\n",
      "It  14 - Shoot -19.0 - Depth   7 - Crit 666600.9, 66% - Branching LU\n",
      "It  15 - Shoot -19.3 - Depth   8 - Crit 664783.3, 66% - No branching\n",
      "It  16 - Shoot -18.6 - Depth   8 - Crit 668354.8, 66% - No branching\n",
      "It  17 - Shoot -17.6 - Depth   7 - Crit 673268.2, 67% - Branching LU\n",
      "It  18 - Shoot -17.9 - Depth   8 - Crit 671685.3, 67% - No branching\n",
      "It  19 - Shoot -17.2 - Depth   8 - Crit 674800.0, 67% - No branching\n",
      "It  20 - Shoot -14.1 - Depth   5 - Crit 686650.3, 68% - Branching LU\n",
      "It  21 - Shoot -15.5 - Depth   6 - Crit 681774.6, 68% - Branching LU\n",
      "It  22 - Shoot -16.2 - Depth   7 - Crit 679112.9, 67% - Branching LU\n",
      "It  23 - Shoot -16.5 - Depth   8 - Crit 677720.0, 67% - No branching\n",
      "It  24 - Shoot -15.8 - Depth   8 - Crit 680463.8, 68% - No branching\n",
      "It  25 - Shoot -14.8 - Depth   7 - Crit 684282.8, 68% - Branching  L\n",
      "It  26 - Shoot -15.1 - Depth   8 - Crit 683047.0, 68% - No branching\n",
      "It  27 - Shoot -12.7 - Depth   6 - Crit 691006.8, 69% - Branching LU\n",
      "It  28 - Shoot -13.4 - Depth   7 - Crit 688888.3, 68% - No branching\n",
      "It  29 - Shoot -12.0 - Depth   7 - Crit 693014.3, 69% - No branching\n",
      "It  30 - Shoot -5.6 - Depth   4 - Crit 707138.0, 70% - Branching LU\n",
      "It  31 - Shoot -8.4 - Depth   5 - Crit 701633.3, 70% - Branching LU\n",
      "It  32 - Shoot -9.8 - Depth   6 - Crit 698445.3, 69% - Branching LU\n",
      "It  33 - Shoot -10.5 - Depth   7 - Crit 696727.1, 69% - No branching\n",
      "It  34 - Shoot -9.1 - Depth   7 - Crit 700079.1, 70% - No branching\n",
      "It  35 - Shoot -7.0 - Depth   6 - Crit 704520.5, 70% - Branching LU\n",
      "It  36 - Shoot -7.7 - Depth   7 - Crit 703112.4, 70% - No branching\n",
      "It  37 - Shoot -6.3 - Depth   7 - Crit 705861.3, 70% - No branching\n",
      "It  38 - Shoot -2.8 - Depth   5 - Crit 711660.0, 71% - Branching LU\n",
      "It  39 - Shoot -4.2 - Depth   6 - Crit 709510.9, 70% - Branching LU\n",
      "It  40 - Shoot -4.9 - Depth   7 - Crit 708353.6, 70% - No branching\n",
      "It  41 - Shoot -3.5 - Depth   7 - Crit 710612.3, 71% - No branching\n",
      "It  42 - Shoot -1.4 - Depth   6 - Crit 713602.4, 71% - Branching LU\n",
      "It  43 - Shoot -2.1 - Depth   7 - Crit 712656.1, 71% - No branching\n",
      "It  44 - Shoot -0.7 - Depth   7 - Crit 714500.5, 71% - No branching\n",
      "It  45 - Shoot -67.5 - Depth   2 - Crit 1159642.7, 115% - Branching LU\n",
      "It  46 - Shoot -56.2 - Depth   3 - Crit 1055155.7, 105% - Branching LU\n",
      "It  47 - Shoot -50.6 - Depth   4 - Crit 1016366.7, 101% - Branching LU\n",
      "It  48 - Shoot -47.8 - Depth   5 - Crit 1005224.0, 100% - Branching LU\n",
      "It  49 - Shoot -46.4 - Depth   6 - Crit 1002460.6, 100% - Branching LU\n",
      "It  50 - Shoot -45.7 - Depth   7 - Crit 1000300.6, 100% - Branching LU\n",
      "It  51 - Shoot -45.4 - Depth   8 - Crit 1000979.6, 100% - Branching LU\n",
      "It  52 - Shoot -45.2 - Depth   9 -     * Pre-processing :  0.123 s\n",
      "    * Processing      :  4.025 s\n",
      "    * Total           :  4.148 s\n",
      "No optimum found\n"
     ]
    }
   ],
   "source": [
    "t_start = time.time()\n",
    "solver.solve_fancy()\n",
    "t_end = time.time()\n",
    "time_pmp = t_end - t_start"
   ]
  },
  {
   "cell_type": "markdown",
   "id": "33b674c3",
   "metadata": {},
   "source": [
    "### Explicit control laws"
   ]
  },
  {
   "cell_type": "code",
   "execution_count": 6,
   "id": "9c50e936",
   "metadata": {},
   "outputs": [],
   "source": [
    "sc = DistanceSC(lambda x: np.linalg.norm(x - x_target), opti_ceil)\n",
    "sc = TimedSC(T)\n",
    "from mermoz.feedback import FixedHeadingFB, ConstantFB\n",
    "\n",
    "mp.load_feedback(FixedHeadingFB(mp.model.wind, v_a, 0., mp.coords))\n",
    "mp.integrate_trajectory(x_init, sc, int_step=T / (nt_pmp - 1))\n",
    "\n",
    "mp.load_feedback(ConstantFB(0.))\n",
    "mp.integrate_trajectory(x_init, sc, int_step=T / (nt_pmp - 1))"
   ]
  },
  {
   "cell_type": "markdown",
   "id": "fd593fd0",
   "metadata": {},
   "source": [
    "### RFT"
   ]
  },
  {
   "cell_type": "code",
   "execution_count": 6,
   "id": "e1cc955d",
   "metadata": {
    "scrolled": false
   },
   "outputs": [
    {
     "name": "stdout",
     "output_type": "stream",
     "text": [
      "\n",
      "tol =\n",
      "\n",
      "       12000\n",
      "\n",
      "\t151 steps in 3.68 seconds from 0 to 13500\n",
      "\t151 steps in 4 seconds from 13500 to 27000\n",
      "\t151 steps in 2.67 seconds from 27000 to 40500\n",
      "\t151 steps in 3.97 seconds from 40500 to 54000\n",
      "\t151 steps in 2.83 seconds from 54000 to 67500\n",
      "\t151 steps in 2.76 seconds from 67500 to 81000\n",
      "\t151 steps in 3 seconds from 81000 to 94500\n",
      "\t151 steps in 2.65 seconds from 94500 to 108000\n",
      "\n",
      "Total execution time 26.08 seconds\n"
     ]
    }
   ],
   "source": [
    "from mermoz.rft import RFT\n",
    "t_start = time.time()\n",
    "rft = RFT(bl, tr, T, nx_rft, ny_rft, mp, x_init, kernel='matlab', coords=COORD_CARTESIAN)\n",
    "rft.compute()\n",
    "t_end = time.time()\n",
    "time_rft = t_end - t_start"
   ]
  },
  {
   "cell_type": "markdown",
   "id": "17f3fdd9",
   "metadata": {},
   "source": [
    "Dump everything to output directory"
   ]
  },
  {
   "cell_type": "code",
   "execution_count": 7,
   "id": "2bff991f",
   "metadata": {},
   "outputs": [],
   "source": [
    "nx = 1001\n",
    "ny = 1001\n",
    "mdfm.dump_wind(total_wind, nx=101, ny=101, bl=bl, tr=tr)\n",
    "mdfm.dump_trajs(mp.trajs)\n",
    "# rft.dump_rff(output_dir)\n",
    "\n",
    "\n",
    "ps = ParamsSummary({}, output_dir)\n",
    "ps.load_from_solver(solver)\n",
    "ps.add_param('bl_wind', tuple(bl))\n",
    "ps.add_param('tr_wind', tuple(tr))\n",
    "#ps.add_param('nx_wind', nx)\n",
    "#ps.add_param('ny_wind', ny)\n",
    "ps.add_param('nt_pmp', nt_pmp)\n",
    "try:\n",
    "    ps.add_param('pmp_time', time_pmp)\n",
    "except NameError:\n",
    "    pass\n",
    "ps.dump()"
   ]
  }
 ],
 "metadata": {
  "kernelspec": {
   "display_name": "Python 3 (ipykernel)",
   "language": "python",
   "name": "python3"
  },
  "language_info": {
   "codemirror_mode": {
    "name": "ipython",
    "version": 3
   },
   "file_extension": ".py",
   "mimetype": "text/x-python",
   "name": "python",
   "nbconvert_exporter": "python",
   "pygments_lexer": "ipython3",
   "version": "3.8.12"
  }
 },
 "nbformat": 4,
 "nbformat_minor": 5
}
