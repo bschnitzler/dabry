{
 "cells": [
  {
   "cell_type": "markdown",
   "id": "c2593e83",
   "metadata": {},
   "source": [
    "# Time-optimal path planning\n",
    "This notebook handles standard code for the computation of time-optimal paths in real windfields"
   ]
  },
  {
   "cell_type": "code",
   "execution_count": 1,
   "id": "a3723eb5",
   "metadata": {},
   "outputs": [],
   "source": [
    "import os\n",
    "import sys\n",
    "import time\n",
    "import numpy as np\n",
    "from math import atan, cos, sin\n",
    "sys.path.extend(['/home/bastien/Documents/work/mermoz', \n",
    "                 '/home/bastien/Documents/work/mermoz/src',\n",
    "                 '/home/bastien/Documents/work/mdisplay',\n",
    "                 '/home/bastien/Documents/work/mdisplay/src'])\n",
    "\n",
    "from mermoz.feedback import TargetFB\n",
    "from mermoz.mdf_manager import MDFmanager\n",
    "from mermoz.params_summary import ParamsSummary\n",
    "from mermoz.problem import MermozProblem\n",
    "from mermoz.model import ZermeloGeneralModel\n",
    "from mermoz.solver import Solver\n",
    "from mermoz.stoppingcond import TimedSC, DistanceSC\n",
    "from mermoz.wind import DiscreteWind\n",
    "from mermoz.misc import *\n",
    "from mdisplay.geodata import GeoData\n",
    "\n",
    "from solver_utils import select_wind"
   ]
  },
  {
   "cell_type": "markdown",
   "id": "cbeb456b",
   "metadata": {},
   "source": [
    "### Problem definition"
   ]
  },
  {
   "cell_type": "code",
   "execution_count": 1,
   "id": "7605df0b",
   "metadata": {},
   "outputs": [
    {
     "ename": "NameError",
     "evalue": "name 'select_wind' is not defined",
     "output_type": "error",
     "traceback": [
      "\u001b[0;31m---------------------------------------------------------------------------\u001b[0m",
      "\u001b[0;31mNameError\u001b[0m                                 Traceback (most recent call last)",
      "\u001b[0;32m/tmp/ipykernel_16943/2099952429.py\u001b[0m in \u001b[0;36m<module>\u001b[0;34m\u001b[0m\n\u001b[0;32m----> 1\u001b[0;31m \u001b[0mdd\u001b[0m \u001b[0;34m=\u001b[0m \u001b[0mselect_wind\u001b[0m\u001b[0;34m(\u001b[0m\u001b[0;34m)\u001b[0m\u001b[0;34m\u001b[0m\u001b[0;34m\u001b[0m\u001b[0m\n\u001b[0m",
      "\u001b[0;31mNameError\u001b[0m: name 'select_wind' is not defined"
     ]
    }
   ],
   "source": [
    "dd = select_wind()"
   ]
  },
  {
   "cell_type": "markdown",
   "id": "840ecda7",
   "metadata": {},
   "source": [
    "Initial point, target, UAV airspeed"
   ]
  },
  {
   "cell_type": "code",
   "execution_count": 2,
   "id": "16dfd013",
   "metadata": {},
   "outputs": [],
   "source": [
    "gd = GeoData()\n",
    "# Initial point\n",
    "x_init = np.array(gd.get_coords('Dakar', units='rad'))\n",
    "\n",
    "# Target\n",
    "x_target = np.array(gd.get_coords('Natal', units='rad'))\n",
    "\n",
    "# UAV airspeed in m/s\n",
    "v_a = 23.\n",
    "\n",
    "case_name = 'dakar-natal'"
   ]
  },
  {
   "cell_type": "markdown",
   "id": "0642a997",
   "metadata": {},
   "source": [
    "Set up the problem"
   ]
  },
  {
   "cell_type": "code",
   "execution_count": 4,
   "id": "8cebb9c2",
   "metadata": {},
   "outputs": [],
   "source": [
    "# Prepare output directory\n",
    "output_dir = f'/home/bastien/Documents/work/mermoz/output/example_solver_{case_name}'\n",
    "if not os.path.exists(output_dir):\n",
    "    os.mkdir(output_dir)\n",
    "\n",
    "# Create a file manager to dump problem data\n",
    "mdfm = MDFmanager()\n",
    "mdfm.set_output_dir(output_dir)\n",
    "\n",
    "# Problem coordinates\n",
    "# coords = COORD_GCS\n",
    "coords = COORD_GCS\n",
    "\n",
    "# Problem wind data\n",
    "total_wind = DiscreteWind()\n",
    "total_wind.load(f'/home/bastien/Documents/data/wind/windy/{dd.value}.mz/data.h5')\n",
    "\n",
    "# Time window upper bound\n",
    "# Estimated through great circle distance + 20 percent\n",
    "T = 30. * 3600 # 1.2 * geodesic_distance(x_init, x_target, mode='rad') / v_a\n",
    "\n",
    "# Creates the cinematic model\n",
    "zermelo_model = ZermeloGeneralModel(v_a, coords=coords)\n",
    "zermelo_model.update_wind(total_wind)\n",
    "\n",
    "# Creates the navigation problem on top of the previous model\n",
    "mp = MermozProblem(zermelo_model, T=T, coords=coords, autodomain=True)"
   ]
  },
  {
   "cell_type": "markdown",
   "id": "85210b3d",
   "metadata": {},
   "source": [
    "### Solver parameters"
   ]
  },
  {
   "cell_type": "code",
   "execution_count": 89,
   "id": "6f1c9092",
   "metadata": {},
   "outputs": [],
   "source": [
    "auto_psi = atan((cos(x_target[1]) * sin(x_target[0] - x_init[0])) / (\n",
    "            cos(x_init[1]) * sin(x_target[1]) - sin(x_init[1]) * cos(x_target[1]) * cos(x_target[0] - x_init[0])))\n",
    "auto_psi += pi\n",
    "psi_min = auto_psi - DEG_TO_RAD * 20.\n",
    "psi_max = auto_psi + DEG_TO_RAD * 20.\n",
    "\n",
    "nt_pmp = 1000\n",
    "opti_ceil = 0.5 * DEG_TO_RAD * EARTH_RADIUS\n",
    "neighb_ceil = opti_ceil/2.\n",
    "\n",
    "solver = Solver(mp,\n",
    "                x_init,\n",
    "                x_target,\n",
    "                T,\n",
    "                psi_min,\n",
    "                psi_max,\n",
    "                output_dir,\n",
    "                N_disc_init=2,\n",
    "                opti_ceil=opti_ceil,\n",
    "                neighb_ceil=neighb_ceil,\n",
    "                n_min_opti=1,\n",
    "                adaptive_int_step=False,\n",
    "                N_iter=nt_pmp)\n",
    "\n",
    "solver.log_config()\n",
    "solver.setup()"
   ]
  },
  {
   "cell_type": "markdown",
   "id": "0e63d855",
   "metadata": {},
   "source": [
    "Solve problem"
   ]
  },
  {
   "cell_type": "code",
   "execution_count": 90,
   "id": "cced6d67",
   "metadata": {
    "scrolled": true
   },
   "outputs": [
    {
     "name": "stdout",
     "output_type": "stream",
     "text": [
      "Shooting 201.9\n",
      "Shooting 241.9\n",
      "Iteration 1 - Shooting 221.9 - Depth 1 - Optimum found\n",
      "    * Pre-processing :  0.196 s\n",
      "    * Processing      :  0.111 s\n",
      "    * Total           :  0.307 s\n",
      "107460.0\n"
     ]
    }
   ],
   "source": [
    "t_start = time.time()\n",
    "solver.solve_fancy()\n",
    "t_end = time.time()\n",
    "time_pmp = t_end - t_start"
   ]
  },
  {
   "cell_type": "markdown",
   "id": "33b674c3",
   "metadata": {},
   "source": [
    "### Explicit control laws"
   ]
  },
  {
   "cell_type": "code",
   "execution_count": 91,
   "id": "9c50e936",
   "metadata": {},
   "outputs": [],
   "source": [
    "# Stay-on-geodesic heuristic\n",
    "# sc = DistanceSC(lambda x: geodesic_distance(x, x_target), opti_ceil)\n",
    "sc = TimedSC(T)\n",
    "mp.load_feedback(TargetFB(mp.model.wind, v_a, x_target, mp.coords))\n",
    "mp.integrate_trajectory(x_init, sc, int_step=T / (nt_pmp - 1))"
   ]
  },
  {
   "cell_type": "markdown",
   "id": "17f3fdd9",
   "metadata": {},
   "source": [
    "Dump everything to output directory"
   ]
  },
  {
   "cell_type": "code",
   "execution_count": 92,
   "id": "2bff991f",
   "metadata": {},
   "outputs": [],
   "source": [
    "mdfm.dump_wind(total_wind)\n",
    "mdfm.dump_trajs(mp.trajs)\n",
    "\n",
    "ps = ParamsSummary({}, output_dir)\n",
    "ps.load_from_solver(solver)\n",
    "ps.add_param('nt_pmp', nt_pmp)\n",
    "ps.add_param('pmp_time', time_pmp)\n",
    "ps.dump()"
   ]
  }
 ],
 "metadata": {
  "kernelspec": {
   "display_name": "Python 3 (ipykernel)",
   "language": "python",
   "name": "python3"
  },
  "language_info": {
   "codemirror_mode": {
    "name": "ipython",
    "version": 3
   },
   "file_extension": ".py",
   "mimetype": "text/x-python",
   "name": "python",
   "nbconvert_exporter": "python",
   "pygments_lexer": "ipython3",
   "version": "3.8.12"
  }
 },
 "nbformat": 4,
 "nbformat_minor": 5
}
