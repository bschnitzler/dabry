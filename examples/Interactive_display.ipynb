{
 "cells": [
  {
   "cell_type": "markdown",
   "id": "b0b30e38-f5a6-468e-b3e3-1dac39470457",
   "metadata": {},
   "source": [
    "# Using the interactive display\n",
    "This notebook shows how to use an interactive display to visualize trajectory optimization results"
   ]
  },
  {
   "cell_type": "code",
   "execution_count": 1,
   "id": "fb0e51fb-296d-4771-b444-6d6371878ca6",
   "metadata": {},
   "outputs": [
    {
     "name": "stdout",
     "output_type": "stream",
     "text": [
      "Using matplotlib backend: <object object at 0x7f0f5ebe0270>\n"
     ]
    }
   ],
   "source": [
    "from dabry.problem import NavigationProblem\n",
    "from dabry.solver_ef import SolverEF\n",
    "from dabry.display.display import Display\n",
    "# Activate the matplotlib interactive mode\n",
    "%matplotlib"
   ]
  },
  {
   "cell_type": "markdown",
   "id": "bb09014b-efc8-4d19-b03e-faaa634ddb25",
   "metadata": {},
   "source": [
    "## Solving a problem and writing results to file"
   ]
  },
  {
   "cell_type": "code",
   "execution_count": 4,
   "id": "d82bfeda-8b30-404a-adc6-d67f8bb67ffa",
   "metadata": {},
   "outputs": [
    {
     "name": "stdout",
     "output_type": "stream",
     "text": [
      "[*] Solving problem \"moving_vortex\"\n",
      "Depth 0: 100%|██████████████████████████████████| 30/30 [00:00<00:00, 60.15it/s]\n",
      "Cost guarantee: 0.000/0.898 (0.0%, 0/100) \n",
      "Depth 1: 100%|██████████████████████████████████| 20/20 [00:00<00:00, 95.79it/s]\n",
      "Cost guarantee: 0.181/0.898 (20.2%, 20/100) \n",
      "Depth 2: 100%|█████████████████████████████████| 36/36 [00:00<00:00, 122.20it/s]\n",
      "Cost guarantee: 0.336/0.898 (37.4%, 37/100) \n",
      "Depth 3: 100%|█████████████████████████████████| 42/42 [00:00<00:00, 185.48it/s]\n",
      "Cost guarantee: 0.390/0.898 (43.4%, 43/100) Cand. sol. 0.771\n",
      "Depth 4: 100%|█████████████████████████████████| 31/31 [00:00<00:00, 258.79it/s]\n",
      "Cost guarantee: 0.417/0.898 (46.5%, 46/100) Cand. sol. 0.771\n",
      "Depth 5: 100%|█████████████████████████████████| 38/38 [00:00<00:00, 382.05it/s]\n",
      "Cost guarantee: 0.444/0.898 (49.5%, 49/100) Cand. sol. 0.771\n",
      "Depth 6: 100%|█████████████████████████████████| 41/41 [00:00<00:00, 417.09it/s]\n",
      "Cost guarantee: 0.526/0.898 (58.6%, 58/100) Cand. sol. 0.771\n",
      "Depth 7: 100%|█████████████████████████████████| 22/22 [00:00<00:00, 447.15it/s]\n",
      "Cost guarantee: 0.725/0.898 (80.8%, 80/100) Cand. sol. 0.771\n",
      "Depth 8: 0it [00:00, ?it/s]\n",
      "Cost guarantee: 0.898/0.898 (100.0%, 99/100) Cand. sol. 0.771\n",
      "[*] Done (1.85s)\n"
     ]
    }
   ],
   "source": [
    "pb_unscaled = NavigationProblem.from_name('movor')\n",
    "\n",
    "# Every problem can be rescaled so that every quantity is around 1 in magnitude\n",
    "pb = pb_unscaled.rescale()\n",
    "\n",
    "solver = SolverEF(pb, rel_max_step=0.1)\n",
    "solver.solve()\n",
    "\n",
    "# Default save folder is the \"output\" folder from dabry's root.\n",
    "# To change this use pb.io.set_case_dir\n",
    "pb.io.clean_output_dir()\n",
    "solver.save_results()\n",
    "pb.save_info()"
   ]
  },
  {
   "cell_type": "markdown",
   "id": "c3e9b01f-efa0-476c-8101-e5b621b72f86",
   "metadata": {},
   "source": [
    "## Displaying the results"
   ]
  },
  {
   "cell_type": "code",
   "execution_count": 5,
   "id": "bf3388c0-60d3-4e0f-8975-0f116d8be893",
   "metadata": {},
   "outputs": [
    {
     "name": "stdout",
     "output_type": "stream",
     "text": [
      "[display] Loading completed. 1 regular trajs, 1 extremal fields of 260 trajs, 0 obstacles.\n"
     ]
    }
   ],
   "source": [
    "display = Display.from_path(pb.io.case_dir)\n",
    "display.run()"
   ]
  }
 ],
 "metadata": {
  "kernelspec": {
   "display_name": "Python 3 (ipykernel)",
   "language": "python",
   "name": "python3"
  },
  "language_info": {
   "codemirror_mode": {
    "name": "ipython",
    "version": 3
   },
   "file_extension": ".py",
   "mimetype": "text/x-python",
   "name": "python",
   "nbconvert_exporter": "python",
   "pygments_lexer": "ipython3",
   "version": "3.11.5"
  }
 },
 "nbformat": 4,
 "nbformat_minor": 5
}
