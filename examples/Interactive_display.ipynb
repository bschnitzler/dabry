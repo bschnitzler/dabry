{
 "cells": [
  {
   "cell_type": "markdown",
   "id": "b0b30e38-f5a6-468e-b3e3-1dac39470457",
   "metadata": {},
   "source": [
    "# Using the interactive display\n",
    "This notebook shows how to use an interactive display to visualize trajectory optimization results"
   ]
  },
  {
   "cell_type": "code",
   "execution_count": 1,
   "id": "fb0e51fb-296d-4771-b444-6d6371878ca6",
   "metadata": {},
   "outputs": [
    {
     "name": "stdout",
     "output_type": "stream",
     "text": [
      "Using matplotlib backend: <object object at 0x7f799a7a4470>\n"
     ]
    }
   ],
   "source": [
    "from dabry.problem import NavigationProblem\n",
    "from dabry.solver_ef import SolverEFResampling\n",
    "from dabry.display.display import Display\n",
    "# Activate the matplotlib interactive mode\n",
    "%matplotlib"
   ]
  },
  {
   "cell_type": "markdown",
   "id": "bb09014b-efc8-4d19-b03e-faaa634ddb25",
   "metadata": {},
   "source": [
    "## Solving a problem and writing results to file"
   ]
  },
  {
   "cell_type": "code",
   "execution_count": 2,
   "id": "d82bfeda-8b30-404a-adc6-d67f8bb67ffa",
   "metadata": {},
   "outputs": [
    {
     "name": "stderr",
     "output_type": "stream",
     "text": [
      "Depth 0: 100%|██████████████████████████████████| 30/30 [00:00<00:00, 45.92it/s]\n",
      "Depth 1: 100%|██████████████████████████████████| 20/20 [00:00<00:00, 77.76it/s]\n",
      "Depth 2: 100%|██████████████████████████████████| 36/36 [00:00<00:00, 84.90it/s]\n",
      "Depth 3: 100%|█████████████████████████████████| 40/40 [00:00<00:00, 107.64it/s]\n",
      "Depth 4: 100%|██████████████████████████████████| 31/31 [00:00<00:00, 91.83it/s]\n",
      "Depth 5: 100%|██████████████████████████████████| 32/32 [00:00<00:00, 77.37it/s]\n",
      "Depth 6: 100%|██████████████████████████████████| 31/31 [00:00<00:00, 68.43it/s]\n",
      "Depth 7: 100%|██████████████████████████████████| 28/28 [00:00<00:00, 64.49it/s]\n",
      "Depth 8: 100%|██████████████████████████████████| 26/26 [00:00<00:00, 64.60it/s]\n",
      "Depth 9: 100%|██████████████████████████████████| 23/23 [00:00<00:00, 60.43it/s]\n",
      "Depth 10: 100%|█████████████████████████████████| 24/24 [00:00<00:00, 61.61it/s]\n",
      "Depth 11: 100%|█████████████████████████████████| 24/24 [00:00<00:00, 63.43it/s]\n",
      "Depth 12: 100%|█████████████████████████████████| 21/21 [00:00<00:00, 62.07it/s]\n",
      "Depth 13: 100%|█████████████████████████████████| 21/21 [00:00<00:00, 59.05it/s]\n",
      "Depth 14: 100%|█████████████████████████████████| 22/22 [00:00<00:00, 58.96it/s]\n",
      "Depth 15: 100%|█████████████████████████████████| 22/22 [00:00<00:00, 58.18it/s]\n",
      "Depth 16: 100%|█████████████████████████████████| 22/22 [00:00<00:00, 58.12it/s]\n",
      "Depth 17: 100%|█████████████████████████████████| 22/22 [00:00<00:00, 56.15it/s]\n",
      "Depth 18: 100%|█████████████████████████████████| 22/22 [00:00<00:00, 59.25it/s]\n",
      "Depth 19: 100%|█████████████████████████████████| 22/22 [00:00<00:00, 60.13it/s]\n"
     ]
    }
   ],
   "source": [
    "pb_unscaled = NavigationProblem.from_name('movor')\n",
    "\n",
    "# Every problem can be rescaled so that every quantity is around 1 in magnitude\n",
    "pb = pb_unscaled.rescale()\n",
    "\n",
    "solver = SolverEFResampling(pb)\n",
    "solver.solve()\n",
    "\n",
    "# Default save folder is the \"output\" folder from dabry's root.\n",
    "# To change this use pb.io.set_case_dir\n",
    "pb.io.clean_output_dir()\n",
    "solver.save_results()\n",
    "pb.save_info()"
   ]
  },
  {
   "cell_type": "markdown",
   "id": "c3e9b01f-efa0-476c-8101-e5b621b72f86",
   "metadata": {},
   "source": [
    "## Displaying the results"
   ]
  },
  {
   "cell_type": "code",
   "execution_count": 3,
   "id": "bf3388c0-60d3-4e0f-8975-0f116d8be893",
   "metadata": {},
   "outputs": [
    {
     "name": "stderr",
     "output_type": "stream",
     "text": [
      "No artists with labels found to put in legend.  Note that artists whose label start with an underscore are ignored when legend() is called with no argument.\n"
     ]
    },
    {
     "name": "stdout",
     "output_type": "stream",
     "text": [
      "[display] Loading completed. 0 regular trajs, 1 extremal fields of 541 trajs, 0 RFFs.\n"
     ]
    }
   ],
   "source": [
    "display = Display.from_path(pb.io.case_dir)\n",
    "display.run()"
   ]
  }
 ],
 "metadata": {
  "kernelspec": {
   "display_name": "Python 3 (ipykernel)",
   "language": "python",
   "name": "python3"
  },
  "language_info": {
   "codemirror_mode": {
    "name": "ipython",
    "version": 3
   },
   "file_extension": ".py",
   "mimetype": "text/x-python",
   "name": "python",
   "nbconvert_exporter": "python",
   "pygments_lexer": "ipython3",
   "version": "3.11.5"
  }
 },
 "nbformat": 4,
 "nbformat_minor": 5
}
