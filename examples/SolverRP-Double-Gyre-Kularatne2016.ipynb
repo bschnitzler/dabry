{
 "cells": [
  {
   "cell_type": "markdown",
   "id": "c2593e83",
   "metadata": {},
   "source": [
    "# Time-optimal path planning\n",
    "This notebook handles standard code for the computation of time-optimal paths in windfields"
   ]
  },
  {
   "cell_type": "code",
   "execution_count": 1,
   "id": "a3723eb5",
   "metadata": {},
   "outputs": [],
   "source": [
    "import os\n",
    "import sys\n",
    "import time\n",
    "import numpy as np\n",
    "from math import atan, cos, sin\n",
    "sys.path.extend(['/home/bastien/Documents/work/mermoz', \n",
    "                 '/home/bastien/Documents/work/mermoz/src',\n",
    "                 '/home/bastien/Documents/work/mdisplay',\n",
    "                 '/home/bastien/Documents/work/mdisplay/src'])\n",
    "\n",
    "from mermoz.feedback import TargetFB\n",
    "from mermoz.mdf_manager import MDFmanager\n",
    "from mermoz.params_summary import ParamsSummary\n",
    "from mermoz.problem import MermozProblem\n",
    "from mermoz.model import ZermeloGeneralModel\n",
    "from mermoz.solver_rp import SolverRP\n",
    "from mermoz.stoppingcond import TimedSC, DistanceSC\n",
    "from mermoz.wind import DiscreteWind\n",
    "from mermoz.misc import *\n",
    "from mdisplay.geodata import GeoData\n",
    "\n",
    "from solver_utils import select_wind\n",
    "\n",
    "%load_ext autoreload\n",
    "%autoreload"
   ]
  },
  {
   "cell_type": "markdown",
   "id": "cbeb456b",
   "metadata": {},
   "source": [
    "### Problem definition"
   ]
  },
  {
   "cell_type": "markdown",
   "id": "840ecda7",
   "metadata": {},
   "source": [
    "Initial point, target, UAV airspeed"
   ]
  },
  {
   "cell_type": "code",
   "execution_count": 2,
   "id": "16dfd013",
   "metadata": {},
   "outputs": [],
   "source": [
    "# Scale factor\n",
    "sf = 1.\n",
    "\n",
    "# Initial point\n",
    "x_init = sf * np.array((0.6, 0.6))\n",
    "\n",
    "# Target\n",
    "x_target = sf * np.array((2.4, 2.4))\n",
    "\n",
    "# Windfield boundaries\n",
    "bl = sf * np.array((0.5, 0.5))\n",
    "tr = sf * np.array((2.5, 2.5))\n",
    "\n",
    "# UAV airspeed in m/s\n",
    "v_a = 0.05\n",
    "\n",
    "case_name = 'double-gyre-kularatne2016_rp'"
   ]
  },
  {
   "cell_type": "markdown",
   "id": "0642a997",
   "metadata": {},
   "source": [
    "Set up the problem"
   ]
  },
  {
   "cell_type": "code",
   "execution_count": 3,
   "id": "8cebb9c2",
   "metadata": {},
   "outputs": [],
   "source": [
    "# Prepare output directory\n",
    "output_dir = f'/home/bastien/Documents/work/mermoz/output/example_solver_{case_name}'\n",
    "if not os.path.exists(output_dir):\n",
    "    os.mkdir(output_dir)\n",
    "\n",
    "# Create a file manager to dump problem data\n",
    "mdfm = MDFmanager()\n",
    "mdfm.set_output_dir(output_dir)\n",
    "mdfm.clean_output_dir()\n",
    "\n",
    "# Problem coordinates\n",
    "# coords = COORD_GCS\n",
    "coords = COORD_CARTESIAN\n",
    "\n",
    "# Problem wind data\n",
    "from mermoz.wind import DoubleGyreWind\n",
    "total_wind = DoubleGyreWind(0.5, 0.5, 2., 2., pi * 0.02)\n",
    "def domain(x):\n",
    "    return bl[0] < x[0] < tr[0] and bl[1] < x[1] < tr[1]\n",
    "\n",
    "# Creates the cinematic model\n",
    "zermelo_model = ZermeloGeneralModel(v_a, coords=coords)\n",
    "zermelo_model.update_wind(total_wind)\n",
    "\n",
    "# Creates the navigation problem on top of the previous model\n",
    "mp = MermozProblem(zermelo_model, coords=coords, autodomain=False, domain=domain)"
   ]
  },
  {
   "cell_type": "markdown",
   "id": "85210b3d",
   "metadata": {},
   "source": [
    "### Solver parameters"
   ]
  },
  {
   "cell_type": "code",
   "execution_count": 4,
   "id": "6f1c9092",
   "metadata": {},
   "outputs": [],
   "source": [
    "nx_rft = 51\n",
    "ny_rft = 51\n",
    "nt_rft = 10\n",
    "solver_rp = SolverRP(mp, x_init, x_target, nx_rft, ny_rft, nt_rft)"
   ]
  },
  {
   "cell_type": "markdown",
   "id": "0e63d855",
   "metadata": {},
   "source": [
    "Solve problem"
   ]
  },
  {
   "cell_type": "code",
   "execution_count": 5,
   "id": "cced6d67",
   "metadata": {
    "scrolled": true
   },
   "outputs": [
    {
     "name": "stdout",
     "output_type": "stream",
     "text": [
      "Tracking reachability front (51x51x10)... \n",
      "tol =\n",
      "\n",
      "    0.0293\n",
      "\n",
      "\t76 steps in 0.39 seconds from 0 to 11.3137\n",
      "\t76 steps in 0.38 seconds from 11.3137 to 22.6274\n",
      "\t76 steps in 0.55 seconds from 22.6274 to 33.9411\n",
      "\t76 steps in 0.53 seconds from 33.9411 to 45.2548\n",
      "\t76 steps in 0.36 seconds from 45.2548 to 56.5685\n",
      "\t76 steps in 0.16 seconds from 56.5685 to 67.8823\n",
      "\t76 steps in 0.36 seconds from 67.8823 to 79.196\n",
      "\t76 steps in 0.55 seconds from 79.196 to 90.5097\n",
      "\t76 steps in 0.53 seconds from 90.5097 to 101.823\n",
      "\n",
      "Total execution time 4.43 seconds\n",
      "Done (9.572 s)\n",
      "Shooting -4.2\n",
      "Shooting -2.0\n",
      "Shooting 0.2\n",
      "Shooting 2.5\n",
      "Shooting 4.7\n",
      "Shooting 6.9\n",
      "Shooting 9.1\n",
      "Shooting 11.4\n",
      "Shooting 13.6\n",
      "Shooting 15.8\n",
      "0.77117, 5.80\n",
      "1.05993, 3.58\n",
      "1.01442, 8.03\n",
      "1.47573, 12.47\n",
      "1.32445, 1.36\n",
      "1.43975, -0.86\n",
      "1.33401, 10.25\n",
      "1.53951, -3.09\n",
      "1.67189, 14.69\n",
      "It   1 - Shoot  5.8 - Depth   1 - Crit 0.5, 20% - Branching LU\n",
      "It   2 - Shoot  6.4 - Depth   2 - Crit 0.7, 26% - Branching  L\n",
      "It   3 - Shoot  6.1 - Depth   3 - Crit 0.6, 24% - Branching  L\n",
      "It   4 - Shoot  5.9 - Depth   4 - Crit 0.6, 22% - No branching\n",
      "It   5 - Shoot  5.2 - Depth   2 - Crit 0.4, 14% - Branching LU\n",
      "It   6 - Shoot  5.5 - Depth   3 - Crit 0.2, 8% - Branching  L\n",
      "It   7 - Shoot  5.4 - Depth   4 - Crit 0.0, 0% - Optimum found\n",
      "    * Pre-processing :  0.574 s\n",
      "    * Processing      :  0.483 s\n",
      "    * Total           :  1.057 s\n",
      "         Optimal time : 29.997166714208696\n",
      "Optimal init. heading : 5.386771540560412\n",
      "Done (1.057 s)\n",
      "Total RP solver time : 10.629 s\n"
     ]
    }
   ],
   "source": [
    "t_start = time.time()\n",
    "solver_rp.solve()\n",
    "t_end = time.time()\n",
    "time_pmp = t_end - t_start"
   ]
  },
  {
   "cell_type": "code",
   "execution_count": 6,
   "id": "034a24a1",
   "metadata": {},
   "outputs": [],
   "source": [
    "sc = DistanceSC(lambda x: np.linalg.norm(x - x_target), np.linalg.norm(x_init - x_target)/100.)\n",
    "T = distance(x_init, x_target, coords='cartesian') / v_a\n",
    "nt_pmp = 1000\n",
    "sc = TimedSC(T)\n",
    "from mermoz.feedback import FixedHeadingFB, ConstantFB\n",
    "\n",
    "mp.load_feedback(FixedHeadingFB(mp.model.wind, v_a, 0., mp.coords))\n",
    "mp.integrate_trajectory(x_init, sc, int_step=T / (nt_pmp - 1))\n",
    "\n",
    "mp.load_feedback(ConstantFB(0.))\n",
    "mp.integrate_trajectory(x_init, sc, int_step=T / (nt_pmp - 1))"
   ]
  },
  {
   "cell_type": "markdown",
   "id": "17f3fdd9",
   "metadata": {},
   "source": [
    "Dump everything to output directory"
   ]
  },
  {
   "cell_type": "code",
   "execution_count": 7,
   "id": "2bff991f",
   "metadata": {},
   "outputs": [
    {
     "name": "stdout",
     "output_type": "stream",
     "text": [
      "<KeysViewHDF5 []>\n",
      "0\n",
      "<KeysViewHDF5 ['0', '1']>\n",
      "2\n"
     ]
    }
   ],
   "source": [
    "nx = 51\n",
    "ny = 51\n",
    "mdfm.dump_wind(total_wind, nx=nx, ny=ny, bl=bl, tr=tr)\n",
    "mdfm.dump_trajs(mp.trajs)\n",
    "mdfm.dump_trajs(solver_rp.mp_pmp.trajs)\n",
    "solver_rp.rft.dump_rff(output_dir)\n",
    "ps = ParamsSummary({}, output_dir)\n",
    "ps.load_from_solver(solver_rp)\n",
    "ps.add_param('bl_wind', tuple(bl))\n",
    "ps.add_param('tr_wind', tuple(tr))\n",
    "#ps.add_param('nx_wind', nx)\n",
    "#ps.add_param('ny_wind', ny)\n",
    "#ps.add_param('nt_pmp', nt_pmp)\n",
    "#ps.add_param('pmp_time', time_pmp)\n",
    "ps.dump()"
   ]
  }
 ],
 "metadata": {
  "kernelspec": {
   "display_name": "Python 3 (ipykernel)",
   "language": "python",
   "name": "python3"
  },
  "language_info": {
   "codemirror_mode": {
    "name": "ipython",
    "version": 3
   },
   "file_extension": ".py",
   "mimetype": "text/x-python",
   "name": "python",
   "nbconvert_exporter": "python",
   "pygments_lexer": "ipython3",
   "version": "3.8.12"
  }
 },
 "nbformat": 4,
 "nbformat_minor": 5
}
