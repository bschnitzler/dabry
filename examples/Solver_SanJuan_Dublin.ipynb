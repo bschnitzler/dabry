{
 "cells": [
  {
   "cell_type": "markdown",
   "id": "c2593e83",
   "metadata": {},
   "source": [
    "# Time-optimal path planning\n",
    "This notebook handles standard code for the computation of time-optimal paths in windfields"
   ]
  },
  {
   "cell_type": "code",
   "execution_count": 1,
   "id": "a3723eb5",
   "metadata": {},
   "outputs": [],
   "source": [
    "import os\n",
    "import sys\n",
    "import time\n",
    "import numpy as np\n",
    "from math import atan, cos, sin\n",
    "sys.path.extend(['/home/bastien/Documents/work/mermoz', \n",
    "                 '/home/bastien/Documents/work/mermoz/src',\n",
    "                 '/home/bastien/Documents/work/mdisplay',\n",
    "                 '/home/bastien/Documents/work/mdisplay/src'])\n",
    "\n",
    "from mermoz.feedback import TargetFB\n",
    "from mermoz.mdf_manager import MDFmanager\n",
    "from mermoz.params_summary import ParamsSummary\n",
    "from mermoz.problem import MermozProblem\n",
    "from mermoz.model import ZermeloGeneralModel\n",
    "from mermoz.solver import Solver\n",
    "from mermoz.stoppingcond import TimedSC, DistanceSC\n",
    "from mermoz.wind import DiscreteWind\n",
    "from mermoz.misc import *\n",
    "from mdisplay.geodata import GeoData\n",
    "\n",
    "from solver_utils import select_wind"
   ]
  },
  {
   "cell_type": "markdown",
   "id": "cbeb456b",
   "metadata": {},
   "source": [
    "### Problem definition"
   ]
  },
  {
   "cell_type": "markdown",
   "id": "840ecda7",
   "metadata": {},
   "source": [
    "Initial point, target, UAV airspeed"
   ]
  },
  {
   "cell_type": "code",
   "execution_count": 3,
   "id": "16dfd013",
   "metadata": {},
   "outputs": [],
   "source": [
    "# Scale factor\n",
    "sf = 3e6\n",
    "\n",
    "# Initial point\n",
    "x_init = sf * np.array((0., 0.))\n",
    "\n",
    "# Target\n",
    "x_target = sf * np.array((1., 0.))\n",
    "\n",
    "# Windfield boundaries\n",
    "bl = sf * np.array((-0.15, -1.15))\n",
    "tr = sf * np.array((1.15, 1.15))\n",
    "\n",
    "# UAV airspeed in m/s\n",
    "v_a = 23.\n",
    "\n",
    "# Speed factor\n",
    "ssf = v_a\n",
    "\n",
    "nx_rft = 101\n",
    "ny_rft = 101\n",
    "nt_rft=20\n",
    "\n",
    "case_name = 'test1'"
   ]
  },
  {
   "cell_type": "markdown",
   "id": "0642a997",
   "metadata": {},
   "source": [
    "Set up the problem"
   ]
  },
  {
   "cell_type": "code",
   "execution_count": 4,
   "id": "8cebb9c2",
   "metadata": {},
   "outputs": [],
   "source": [
    "# Prepare output directory\n",
    "output_dir = f'/home/bastien/Documents/work/mermoz/output/example_solver_{case_name}'\n",
    "if not os.path.exists(output_dir):\n",
    "    os.mkdir(output_dir)\n",
    "\n",
    "# Create a file manager to dump problem data\n",
    "mdfm = MDFmanager()\n",
    "mdfm.set_output_dir(output_dir)\n",
    "\n",
    "# Problem coordinates\n",
    "# coords = COORD_GCS\n",
    "coords = COORD_CARTESIAN\n",
    "\n",
    "# Problem wind data\n",
    "from mermoz.wind import RankineVortexWind, UniformWind, DiscreteWind, RadialGaussWind\n",
    "offset = sf * np.zeros(2)\n",
    "omega1 = sf * (np.array([0.5, 0.8]) + offset)\n",
    "omega2 = sf * (np.array([0.6, 0.2]) + offset)\n",
    "omega3 = sf * (np.array([0.4, -0.5]) + offset)\n",
    "\n",
    "vortex1 = RankineVortexWind(omega1[0], omega1[1], sf * ssf * -1., sf * 1e-1)\n",
    "vortex2 = RankineVortexWind(omega2[0], omega2[1], sf * ssf * -0.8, sf * 1e-1)\n",
    "\n",
    "const_wind = UniformWind(np.array([1., 1.]))\n",
    "\n",
    "c1 = sf * np.array((0.5, 0.))\n",
    "c2 = sf * np.array((0.5, 0.1))\n",
    "c3 = sf * np.array((0.5, -0.1))\n",
    "\n",
    "obstacle1 = RadialGaussWind(c1[0], c1[1], sf * 0.1, 1/2 * 0.2, v_a * 5.)\n",
    "obstacle2 = RadialGaussWind(c2[0], c2[1], sf * 0.1, 1/2 * 0.2, v_a * 5.)\n",
    "obstacle3 = RadialGaussWind(c3[0], c3[1], sf * 0.1, 1/2 * 0.2, v_a * 5.)\n",
    "\n",
    "alty_wind = obstacle1 + obstacle2 + obstacle3 + const_wind\n",
    "\n",
    "total_wind = alty_wind # DiscreteWind()\n",
    "\n",
    "# total_wind.load_from_wind(alty_wind, 101, 101, bl, tr, coords='cartesian')\n",
    "\n",
    "# Problem boundaries (default wind boundaries)\n",
    "def domain(x):\n",
    "    return bl[0] < x[0] < tr[0] and bl[1] < x[1] < tr[1]\n",
    "\n",
    "# Time window upper bound\n",
    "# Estimated through great circle distance + 10 percent\n",
    "T = 1.1 * geodesic_distance(x_init, x_target) / v_a\n",
    "\n",
    "# Creates the cinematic model\n",
    "zermelo_model = ZermeloGeneralModel(v_a, coords=coords)\n",
    "zermelo_model.update_wind(total_wind)\n",
    "\n",
    "# Creates the navigation problem on top of the previous model\n",
    "mp = MermozProblem(zermelo_model, T=T, coords=coords, autodomain=False, domain=domain)"
   ]
  },
  {
   "cell_type": "markdown",
   "id": "85210b3d",
   "metadata": {},
   "source": [
    "### Solver parameters"
   ]
  },
  {
   "cell_type": "code",
   "execution_count": 5,
   "id": "6f1c9092",
   "metadata": {},
   "outputs": [],
   "source": [
    "u_min = DEG_TO_RAD * -45\n",
    "u_max = DEG_TO_RAD * 45\n",
    "\n",
    "nt_pmp = 1000\n",
    "opti_ceil = sf * 0.01\n",
    "neighb_ceil = opti_ceil/2.\n",
    "\n",
    "solver = Solver(mp,\n",
    "                x_init,\n",
    "                x_target,\n",
    "                T,\n",
    "                u_min,\n",
    "                u_max,\n",
    "                output_dir,\n",
    "                N_disc_init=10,\n",
    "                opti_ceil=opti_ceil,\n",
    "                neighb_ceil=neighb_ceil,\n",
    "                n_min_opti=1,\n",
    "                adaptive_int_step=False,\n",
    "                N_iter=nt_pmp)\n",
    "\n",
    "solver.log_config()\n",
    "solver.setup()"
   ]
  },
  {
   "cell_type": "markdown",
   "id": "0e63d855",
   "metadata": {},
   "source": [
    "Solve problem"
   ]
  },
  {
   "cell_type": "code",
   "execution_count": 6,
   "id": "cced6d67",
   "metadata": {
    "scrolled": true
   },
   "outputs": [
    {
     "name": "stdout",
     "output_type": "stream",
     "text": [
      "Shooting -45.0\n",
      "Shooting -35.0\n",
      "Shooting -25.0\n",
      "Shooting -15.0\n",
      "Shooting -5.0\n",
      "Shooting 5.0\n",
      "Shooting 15.0\n",
      "Shooting 25.0\n",
      "Shooting 35.0\n",
      "Shooting 45.0\n",
      "1601584.01127, 20.00\n",
      "1604480.96779, 30.00\n",
      "1721862.70130, -30.00\n",
      "1778907.12094, -40.00\n",
      "1843640.99418, 0.00\n",
      "1858184.57215, -20.00\n",
      "1791710.90294, 10.00\n",
      "1843387.37704, -10.00\n",
      "1933353.40708, 40.00\n",
      "It   1 - Shoot 20.0 - Depth   1 - Crit 1643617.4, 54% - Branching LU\n",
      "It   2 - Shoot 22.5 - Depth   2 - Crit 1587950.4, 52% - Branching LU\n",
      "It   3 - Shoot 23.8 - Depth   3 - Crit 1551205.0, 51% - Branching LU\n",
      "It   4 - Shoot 24.4 - Depth   4 - Crit 1524873.0, 50% - Branching LU\n",
      "It   5 - Shoot 24.7 - Depth   5 - Crit 1505184.7, 50% - Branching LU\n",
      "It   6 - Shoot 24.8 - Depth   6 -     * Pre-processing :  1.289 s\n",
      "    * Processing      :  0.841 s\n",
      "    * Total           :  2.130 s\n",
      "No optimum found\n"
     ]
    }
   ],
   "source": [
    "t_start = time.time()\n",
    "solver.solve_fancy()\n",
    "t_end = time.time()\n",
    "time_pmp = t_end - t_start"
   ]
  },
  {
   "cell_type": "markdown",
   "id": "cef44a33",
   "metadata": {},
   "source": [
    "### RFT"
   ]
  },
  {
   "cell_type": "code",
   "execution_count": 7,
   "id": "3acb97ec",
   "metadata": {},
   "outputs": [
    {
     "name": "stdout",
     "output_type": "stream",
     "text": [
      "\n",
      "tol =\n",
      "\n",
      "   3.9000e+04\n",
      "\n",
      "\t241 steps in 6.09 seconds from 0 to 17221.9\n",
      "\t241 steps in 4.68 seconds from 17221.9 to 34443.7\n",
      "\t241 steps in 5.31 seconds from 34443.7 to 51665.6\n",
      "\t241 steps in 4.04 seconds from 51665.6 to 68887.5\n",
      "\t241 steps in 4.38 seconds from 68887.5 to 86109.4\n",
      "\t241 steps in 4.06 seconds from 86109.4 to 103331\n",
      "\t241 steps in 4.07 seconds from 103331 to 120553\n",
      "\t241 steps in 3.96 seconds from 120553 to 137775\n",
      "\t241 steps in 4.09 seconds from 137775 to 154997\n",
      "\t241 steps in 4.06 seconds from 154997 to 172219\n",
      "\t241 steps in 4.24 seconds from 172219 to 189441\n",
      "\t241 steps in 4.02 seconds from 189441 to 206662\n",
      "\t241 steps in 4 seconds from 206662 to 223884\n",
      "\t241 steps in 4.04 seconds from 223884 to 241106\n",
      "\t241 steps in 4.07 seconds from 241106 to 258328\n",
      "\t241 steps in 4.13 seconds from 258328 to 275550\n",
      "\t241 steps in 4.02 seconds from 275550 to 292772\n",
      "\t241 steps in 3.98 seconds from 292772 to 309994\n",
      "\t241 steps in 4.04 seconds from 309994 to 327216\n",
      "\n",
      "Total execution time 81.82 seconds\n"
     ]
    }
   ],
   "source": [
    "from mermoz.rft import RFT\n",
    "t_start = time.time()\n",
    "rft = RFT(bl, tr, T, nx_rft, ny_rft, nt_rft, mp, x_init, kernel='matlab', coords=COORD_CARTESIAN)\n",
    "rft.compute()\n",
    "t_end = time.time()\n",
    "time_rft = t_end - t_start"
   ]
  },
  {
   "cell_type": "markdown",
   "id": "33b674c3",
   "metadata": {},
   "source": [
    "### Explicit control laws"
   ]
  },
  {
   "cell_type": "code",
   "execution_count": 8,
   "id": "9c50e936",
   "metadata": {},
   "outputs": [],
   "source": [
    "sc = DistanceSC(lambda x: np.linalg.norm(x - x_target), opti_ceil)\n",
    "sc = TimedSC(T)\n",
    "from mermoz.feedback import FixedHeadingFB, ConstantFB, TargetFB\n",
    "\n",
    "mp.load_feedback(FixedHeadingFB(mp.model.wind, v_a, 0., mp.coords))\n",
    "mp.integrate_trajectory(x_init, sc, int_step=T / (nt_pmp - 1))\n",
    "\n",
    "mp.load_feedback(ConstantFB(0.))\n",
    "mp.integrate_trajectory(x_init, sc, int_step=T / (nt_pmp - 1))\n",
    "\n",
    "mp.load_feedback(TargetFB(mp.model.wind, v_a, x_target, COORD_CARTESIAN))\n",
    "mp.integrate_trajectory(x_init, sc, int_step=T / (nt_pmp - 1))\n",
    "\n",
    "mp.load_feedback(ConstantFB(DEG_TO_RAD * 30.))\n",
    "sc = TimedSC(T/2)\n",
    "mp.integrate_trajectory(x_init, sc, int_step=T / (nt_pmp - 1))\n",
    "x_middle = np.zeros(2)\n",
    "x_middle[:] = mp.trajs[-1].points[mp.trajs[-1].last_index]\n",
    "mp.load_feedback(TargetFB(mp.model.wind, v_a, x_target, COORD_CARTESIAN))\n",
    "mp.integrate_trajectory(x_middle, sc, int_step=T / (nt_pmp - 1))"
   ]
  },
  {
   "cell_type": "markdown",
   "id": "17f3fdd9",
   "metadata": {},
   "source": [
    "Dump everything to output directory"
   ]
  },
  {
   "cell_type": "code",
   "execution_count": 9,
   "id": "2bff991f",
   "metadata": {},
   "outputs": [],
   "source": [
    "nx = 51\n",
    "ny = 101\n",
    "mdfm.dump_wind(total_wind, nx=nx, ny=ny, bl=bl, tr=tr)\n",
    "mdfm.dump_trajs(mp.trajs)\n",
    "try:\n",
    "    rft.dump_rff(output_dir)\n",
    "except NameError:\n",
    "    pass\n",
    "\n",
    "ps = ParamsSummary({}, output_dir)\n",
    "ps.load_from_solver(solver)\n",
    "ps.add_param('bl_wind', tuple(bl))\n",
    "ps.add_param('tr_wind', tuple(tr))\n",
    "#ps.add_param('nx_wind', nx)\n",
    "#ps.add_param('ny_wind', ny)\n",
    "ps.add_param('nt_pmp', nt_pmp)\n",
    "try:\n",
    "    ps.add_param('pmp_time', time_pmp)\n",
    "except NameError:\n",
    "    pass\n",
    "ps.dump()"
   ]
  }
 ],
 "metadata": {
  "kernelspec": {
   "display_name": "Python 3 (ipykernel)",
   "language": "python",
   "name": "python3"
  },
  "language_info": {
   "codemirror_mode": {
    "name": "ipython",
    "version": 3
   },
   "file_extension": ".py",
   "mimetype": "text/x-python",
   "name": "python",
   "nbconvert_exporter": "python",
   "pygments_lexer": "ipython3",
   "version": "3.8.12"
  }
 },
 "nbformat": 4,
 "nbformat_minor": 5
}
