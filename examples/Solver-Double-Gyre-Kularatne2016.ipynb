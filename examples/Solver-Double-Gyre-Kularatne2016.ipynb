{
 "cells": [
  {
   "cell_type": "markdown",
   "id": "c2593e83",
   "metadata": {},
   "source": [
    "# Time-optimal path planning\n",
    "This notebook handles standard code for the computation of time-optimal paths in windfields"
   ]
  },
  {
   "cell_type": "code",
   "execution_count": 1,
   "id": "a3723eb5",
   "metadata": {},
   "outputs": [],
   "source": [
    "import os\n",
    "import sys\n",
    "import time\n",
    "import numpy as np\n",
    "from math import atan, cos, sin\n",
    "sys.path.extend(['/home/bastien/Documents/work/mermoz', \n",
    "                 '/home/bastien/Documents/work/mermoz/src',\n",
    "                 '/home/bastien/Documents/work/mdisplay',\n",
    "                 '/home/bastien/Documents/work/mdisplay/src'])\n",
    "\n",
    "from mermoz.feedback import TargetFB\n",
    "from mermoz.mdf_manager import MDFmanager\n",
    "from mermoz.params_summary import ParamsSummary\n",
    "from mermoz.problem import MermozProblem\n",
    "from mermoz.model import ZermeloGeneralModel\n",
    "from mermoz.solver import Solver\n",
    "from mermoz.stoppingcond import TimedSC, DistanceSC\n",
    "from mermoz.wind import DiscreteWind\n",
    "from mermoz.misc import *\n",
    "from mdisplay.geodata import GeoData\n",
    "\n",
    "from solver_utils import select_wind\n",
    "\n",
    "%load_ext autoreload\n",
    "%autoreload"
   ]
  },
  {
   "cell_type": "markdown",
   "id": "cbeb456b",
   "metadata": {},
   "source": [
    "### Problem definition"
   ]
  },
  {
   "cell_type": "markdown",
   "id": "840ecda7",
   "metadata": {},
   "source": [
    "Initial point, target, UAV airspeed"
   ]
  },
  {
   "cell_type": "code",
   "execution_count": 2,
   "id": "16dfd013",
   "metadata": {},
   "outputs": [],
   "source": [
    "# Scale factor\n",
    "sf = 1.\n",
    "\n",
    "# Initial point\n",
    "x_init = sf * np.array((0.6, 0.6))\n",
    "\n",
    "# Target\n",
    "x_target = sf * np.array((2.4, 2.4))\n",
    "\n",
    "# Windfield boundaries\n",
    "bl = sf * np.array((0.5, 0.5))\n",
    "tr = sf * np.array((2.5, 2.5))\n",
    "\n",
    "# UAV airspeed in m/s\n",
    "v_a = 0.05\n",
    "\n",
    "case_name = 'double-gyre-kularatne2016'"
   ]
  },
  {
   "cell_type": "markdown",
   "id": "0642a997",
   "metadata": {},
   "source": [
    "Set up the problem"
   ]
  },
  {
   "cell_type": "code",
   "execution_count": 3,
   "id": "8cebb9c2",
   "metadata": {},
   "outputs": [],
   "source": [
    "# Prepare output directory\n",
    "output_dir = f'/home/bastien/Documents/work/mermoz/output/example_solver_{case_name}'\n",
    "if not os.path.exists(output_dir):\n",
    "    os.mkdir(output_dir)\n",
    "\n",
    "# Create a file manager to dump problem data\n",
    "mdfm = MDFmanager()\n",
    "mdfm.set_output_dir(output_dir)\n",
    "\n",
    "# Problem coordinates\n",
    "# coords = COORD_GCS\n",
    "coords = COORD_CARTESIAN\n",
    "\n",
    "# Problem wind data\n",
    "from mermoz.wind import DoubleGyreWind\n",
    "total_wind = DoubleGyreWind(0.5, 0.5, 2., 2., pi * 0.02)\n",
    "def domain(x):\n",
    "    return bl[0] < x[0] < tr[0] and bl[1] < x[1] < tr[1]\n",
    "\n",
    "# Time window upper bound\n",
    "# Estimated through great circle distance + 20 percent\n",
    "T = 40.\n",
    "\n",
    "# Creates the cinematic model\n",
    "zermelo_model = ZermeloGeneralModel(v_a, coords=coords)\n",
    "zermelo_model.update_wind(total_wind)\n",
    "\n",
    "# Creates the navigation problem on top of the previous model\n",
    "mp = MermozProblem(zermelo_model, T=T, coords=coords, autodomain=False, domain=domain)"
   ]
  },
  {
   "cell_type": "markdown",
   "id": "85210b3d",
   "metadata": {},
   "source": [
    "### Solver parameters"
   ]
  },
  {
   "cell_type": "code",
   "execution_count": 4,
   "id": "6f1c9092",
   "metadata": {},
   "outputs": [],
   "source": [
    "u_min = DEG_TO_RAD * 83.\n",
    "u_max = DEG_TO_RAD * 90.\n",
    "\n",
    "nt_pmp = 1000\n",
    "opti_ceil = 0.05\n",
    "N_dirs = 10\n",
    "neighb_ceil = 0.9*opti_ceil\n",
    "\n",
    "solver = Solver(mp,\n",
    "                x_init,\n",
    "                x_target,\n",
    "                T,\n",
    "                u_min,\n",
    "                u_max,\n",
    "                output_dir,\n",
    "                N_disc_init=N_dirs,\n",
    "                opti_ceil=opti_ceil,\n",
    "                neighb_ceil=neighb_ceil,\n",
    "                n_min_opti=1,\n",
    "                adaptive_int_step=False,\n",
    "                N_iter=nt_pmp)\n",
    "\n",
    "solver.log_config()\n",
    "solver.setup()"
   ]
  },
  {
   "cell_type": "markdown",
   "id": "0e63d855",
   "metadata": {},
   "source": [
    "Solve problem"
   ]
  },
  {
   "cell_type": "code",
   "execution_count": 5,
   "id": "cced6d67",
   "metadata": {
    "scrolled": true
   },
   "outputs": [
    {
     "name": "stdout",
     "output_type": "stream",
     "text": [
      "Shooting 83.0\n",
      "Shooting 83.8\n",
      "Shooting 84.6\n",
      "Shooting 85.3\n",
      "Shooting 86.1\n",
      "Shooting 86.9\n",
      "Shooting 87.7\n",
      "Shooting 88.4\n",
      "Shooting 89.2\n",
      "Shooting 90.0\n",
      "0.29008, 84.17\n",
      "0.61177, 83.39\n",
      "0.46702, 84.94\n",
      "0.99121, 85.72\n",
      "1.14922, 86.50\n",
      "1.23508, 87.28\n",
      "1.29566, 88.06\n",
      "1.34327, 88.83\n",
      "1.38374, 89.61\n",
      "Iteration 1 - Shooting 84.2 - Depth 1 - Branching LU\n",
      "Iteration 2 - Shooting 84.4 - Depth 2 - Branching LU\n",
      "Iteration 3 - Shooting 84.5 - Depth 3 - Branching LU\n",
      "Iteration 4 - Shooting 84.5 - Depth 4 - Branching LU\n",
      "Iteration 5 - Shooting 84.5 - Depth 5 - Branching LU\n",
      "Iteration 6 - Shooting 84.5 - Depth 6 - No branching\n",
      "Iteration 7 - Shooting 84.5 - Depth 6 - No branching\n",
      "Iteration 8 - Shooting 84.5 - Depth 5 - Branching LU\n",
      "Iteration 9 - Shooting 84.5 - Depth 6 - No branching\n",
      "Iteration 10 - Shooting 84.5 - Depth 6 - No branching\n",
      "Iteration 11 - Shooting 84.4 - Depth 4 - Branching LU\n",
      "Iteration 12 - Shooting 84.4 - Depth 5 - Branching LU\n",
      "Iteration 13 - Shooting 84.4 - Depth 6 - No branching\n",
      "Iteration 14 - Shooting 84.4 - Depth 6 - No branching\n",
      "Iteration 15 - Shooting 84.4 - Depth 5 - Branching LU\n",
      "Iteration 16 - Shooting 84.4 - Depth 6 - No branching\n",
      "Iteration 17 - Shooting 84.4 - Depth 6 - Branching LU\n",
      "Iteration 18 - Shooting 84.4 - Depth 7 - No branching\n",
      "Iteration 19 - Shooting 84.4 - Depth 7 - No branching\n",
      "Iteration 20 - Shooting 84.3 - Depth 3 - Branching U\n",
      "Iteration 21 - Shooting 84.3 - Depth 4 - Branching LU\n",
      "Iteration 22 - Shooting 84.3 - Depth 5 - Branching LU\n",
      "Iteration 23 - Shooting 84.3 - Depth 6 - Branching LU\n",
      "Iteration 24 - Shooting 84.4 - Depth 7 - No branching\n",
      "Iteration 25 - Shooting 84.3 - Depth 7 - Branching L\n",
      "Iteration 26 - Shooting 84.3 - Depth 8 - No branching\n",
      "Iteration 27 - Shooting 84.3 - Depth 6 - Branching LU\n",
      "Iteration 28 - Shooting 84.3 - Depth 7 - Branching LU\n",
      "Iteration 29 - Shooting 84.3 - Depth 8 - Branching L\n",
      "Iteration 30 - Shooting 84.3 - Depth 9 - No branching\n",
      "Iteration 31 - Shooting 84.3 - Depth 8 - Branching U\n",
      "Iteration 32 - Shooting 84.3 - Depth 9 - Branching L\n",
      "Iteration 33 - Shooting 84.3 - Depth 10 - Max depth (10) reached, no branching\n",
      "Iteration 34 - Shooting 84.3 - Depth 7 - Branching LU\n",
      "Iteration 35 - Shooting 84.3 - Depth 8 - No branching\n",
      "Iteration 36 - Shooting 84.3 - Depth 8 - No branching\n",
      "Iteration 37 - Shooting 84.3 - Depth 5 - Branching LU\n",
      "Iteration 38 - Shooting 84.3 - Depth 6 - Branching LU\n",
      "Iteration 39 - Shooting 84.3 - Depth 7 - No branching\n",
      "Iteration 40 - Shooting 84.3 - Depth 7 - No branching\n",
      "Iteration 41 - Shooting 84.3 - Depth 6 - Branching LU\n",
      "Iteration 42 - Shooting 84.3 - Depth 7 - No branching\n",
      "Iteration 43 - Shooting 84.3 - Depth 7 - No branching\n",
      "Iteration 44 - Shooting 84.0 - Depth 2 - Branching LU\n",
      "Iteration 45 - Shooting 84.1 - Depth 3 - Branching LU\n",
      "Iteration 46 - Shooting 84.1 - Depth 4 - Branching LU\n",
      "Iteration 47 - Shooting 84.1 - Depth 5 - Branching LU\n",
      "Iteration 48 - Shooting 84.2 - Depth 6 - Branching U\n",
      "Iteration 49 - Shooting 84.2 - Depth 7 - Branching U\n",
      "Iteration 50 - Shooting 84.2 - Depth 8 - Branching U\n",
      "Iteration 51 - Shooting 84.2 - Depth 9 - Branching U\n",
      "Iteration 52 - Shooting 84.2 - Depth 10 - Max depth (10) reached, no branching\n",
      "Iteration 53 - Shooting 84.1 - Depth 6 - No branching\n",
      "Iteration 54 - Shooting 84.1 - Depth 5 - Branching LU\n",
      "Iteration 55 - Shooting 84.1 - Depth 6 - No branching\n",
      "Iteration 56 - Shooting 84.1 - Depth 6 - No branching\n",
      "Iteration 57 - Shooting 84.0 - Depth 4 - Branching LU\n",
      "Iteration 58 - Shooting 84.0 - Depth 5 - Branching LU\n",
      "Iteration 59 - Shooting 84.1 - Depth 6 - No branching\n",
      "Iteration 60 - Shooting 84.0 - Depth 6 - No branching\n",
      "Iteration 61 - Shooting 84.0 - Depth 5 - Branching LU\n",
      "Iteration 62 - Shooting 84.0 - Depth 6 - No branching\n",
      "Iteration 63 - Shooting 84.0 - Depth 6 - No branching\n",
      "Iteration 64 - Shooting 84.9 - Depth 1 - Branching LU\n",
      "Iteration 65 - Shooting 84.8 - Depth 2 - Branching LU\n",
      "Iteration 66 - Shooting 84.7 - Depth 3 - Branching LU\n",
      "Iteration 67 - Shooting 84.6 - Depth 4 - Optimum found\n",
      "    * Pre-processing :  0.496 s\n",
      "    * Processing      :  4.002 s\n",
      "    * Total           :  4.498 s\n",
      "         Optimal time : 29.639999999999546\n",
      "Optimal init. heading : 84.60416666666667\n"
     ]
    }
   ],
   "source": [
    "t_start = time.time()\n",
    "solver.solve_fancy()\n",
    "t_end = time.time()\n",
    "time_pmp = t_end - t_start"
   ]
  },
  {
   "cell_type": "code",
   "execution_count": 5,
   "id": "8ca058a9",
   "metadata": {
    "scrolled": true
   },
   "outputs": [
    {
     "name": "stdout",
     "output_type": "stream",
     "text": [
      "    * Pre-processing :  0.000 s\n",
      "    * Processing      :  4.850 s\n",
      "    * Total           :  4.850 s\n"
     ]
    }
   ],
   "source": [
    "t_start = time.time()\n",
    "solver.solve_global()\n",
    "t_end = time.time()\n",
    "time_pmp = t_end - t_start"
   ]
  },
  {
   "cell_type": "code",
   "execution_count": 17,
   "id": "3b791f6b",
   "metadata": {},
   "outputs": [],
   "source": [
    "from mermoz.shooting import Shooting\n",
    "shoot = Shooting(mp.model.dyn, x_init, T,\n",
    "                             N_iter=nt_pmp, domain=mp.domain, fail_on_maxiter=True, coords=mp.coords)\n",
    "shoot.set_adjoint(solver.adj_from_dir(1.43309583).reshape((2,)))\n",
    "traj = shoot.integrate()\n",
    "mp.trajs = [traj]"
   ]
  },
  {
   "cell_type": "markdown",
   "id": "33b674c3",
   "metadata": {},
   "source": [
    "### Explicit control laws"
   ]
  },
  {
   "cell_type": "code",
   "execution_count": 6,
   "id": "9c50e936",
   "metadata": {},
   "outputs": [],
   "source": [
    "sc = DistanceSC(lambda x: np.linalg.norm(x - x_target), opti_ceil)\n",
    "sc = TimedSC(T)\n",
    "from mermoz.feedback import FixedHeadingFB, ConstantFB\n",
    "\n",
    "mp.load_feedback(FixedHeadingFB(mp.model.wind, v_a, 0., mp.coords))\n",
    "mp.integrate_trajectory(x_init, sc, int_step=T / (nt_pmp - 1))\n",
    "\n",
    "mp.load_feedback(ConstantFB(0.))\n",
    "mp.integrate_trajectory(x_init, sc, int_step=T / (nt_pmp - 1))"
   ]
  },
  {
   "cell_type": "markdown",
   "id": "17f3fdd9",
   "metadata": {},
   "source": [
    "Dump everything to output directory"
   ]
  },
  {
   "cell_type": "code",
   "execution_count": 6,
   "id": "2bff991f",
   "metadata": {},
   "outputs": [],
   "source": [
    "nx = 51\n",
    "ny = 51\n",
    "mdfm.dump_wind(total_wind, nx=nx, ny=ny, bl=bl, tr=tr)\n",
    "mdfm.dump_trajs(mp.trajs)\n",
    "ps = ParamsSummary({}, output_dir)\n",
    "ps.load_from_solver(solver)\n",
    "ps.add_param('bl_wind', tuple(bl))\n",
    "ps.add_param('tr_wind', tuple(tr))\n",
    "#ps.add_param('nx_wind', nx)\n",
    "#ps.add_param('ny_wind', ny)\n",
    "ps.add_param('nt_pmp', nt_pmp)\n",
    "ps.add_param('pmp_time', time_pmp)\n",
    "ps.dump()"
   ]
  }
 ],
 "metadata": {
  "kernelspec": {
   "display_name": "Python 3 (ipykernel)",
   "language": "python",
   "name": "python3"
  },
  "language_info": {
   "codemirror_mode": {
    "name": "ipython",
    "version": 3
   },
   "file_extension": ".py",
   "mimetype": "text/x-python",
   "name": "python",
   "nbconvert_exporter": "python",
   "pygments_lexer": "ipython3",
   "version": "3.8.12"
  }
 },
 "nbformat": 4,
 "nbformat_minor": 5
}
